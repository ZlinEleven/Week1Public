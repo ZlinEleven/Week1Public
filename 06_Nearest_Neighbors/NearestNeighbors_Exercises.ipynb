{
 "cells": [
  {
   "cell_type": "markdown",
   "source": "# Nearest Neighbors Exercises",
   "metadata": {
    "colab_type": "text",
    "id": "3hHvV20eD58o",
    "cell_id": "00000-c2e7636f-01eb-4539-9615-f462e6f2f682",
    "deepnote_cell_type": "markdown"
   }
  },
  {
   "cell_type": "code",
   "metadata": {
    "colab_type": "code",
    "id": "z1h_AAj_D4kX",
    "colab": {},
    "cell_id": "00001-f904f2ff-f49d-4cf5-a2bf-8f8d4d09a9f4",
    "deepnote_to_be_reexecuted": false,
    "source_hash": "ab7040a7",
    "execution_start": 1625682771418,
    "execution_millis": 2412,
    "deepnote_cell_type": "code"
   },
   "source": "import numpy as np\nimport pandas as po\nimport matplotlib.pyplot as plt\n\nfrom sklearn.model_selection import train_test_split\nfrom sklearn.neighbors import KNeighborsClassifier\nfrom sklearn.metrics import accuracy_score",
   "outputs": [],
   "execution_count": null
  },
  {
   "cell_type": "markdown",
   "source": "## Problem 1\n\nConsider the following simple data-set:\n\n<img src=\"https://github.com/BeaverWorksMedlytics2020/Data_Public/raw/master/Images/Week1/knn_notebook_example_table.png\" alt=\"Example Table\" width=\"600\">\n\nNow consider the Sample:\n    $$X= 4, Y = 4, Z = 2$$",
   "metadata": {
    "id": "87tmgzNMb9tV",
    "colab_type": "text",
    "cell_id": "00002-2beb2222-d4f3-4315-93f0-65c78469f97c",
    "deepnote_cell_type": "markdown"
   }
  },
  {
   "cell_type": "markdown",
   "source": "Using kNN, what is the class for this sample for $k = 1$ and $k = 3?$ Use the Eucledian metric.\n\nk = 1, class = 1 \n\nk = 3, class = 2\n",
   "metadata": {
    "colab_type": "text",
    "id": "gqjait37Qws0",
    "cell_id": "00003-18cde72a-8ca0-4c0d-b013-47e1989dbbb6",
    "deepnote_cell_type": "markdown"
   }
  },
  {
   "cell_type": "markdown",
   "source": "## Problem 2\nEarlier in the tutorial we were told that kNN depends on several factors, one of them being $k$. Consider the following datasets below, find the optimal value of $k$ that gives the highest accuracy. Visualize your data! Can you come up with some rule for getting a good idea of what $k$ is? \n\nHINT: look for a pattern/bound! Answer should be in terms of the size of the dataset $n$. ",
   "metadata": {
    "colab_type": "text",
    "id": "MtE0uiKuTWsI",
    "cell_id": "00004-1e5b3c66-acca-4989-9b28-d291cabf73b5",
    "deepnote_cell_type": "markdown"
   }
  },
  {
   "cell_type": "code",
   "metadata": {
    "id": "aapncOgUo_5r",
    "colab_type": "code",
    "colab": {},
    "cell_id": "00005-5ace4d9e-53cb-4a41-984a-68dc97516054",
    "deepnote_to_be_reexecuted": false,
    "source_hash": "4a5b7a34",
    "execution_start": 1625682773837,
    "execution_millis": 133,
    "deepnote_cell_type": "code"
   },
   "source": "# Solve this problem for each of these datasets\nfrom sklearn.datasets import load_iris \nfrom sklearn.datasets import load_breast_cancer\nfrom sklearn.datasets import load_wine \n\n# Load those datasets into some easily accessible variables\n# The datasets are already normalized, so that saves us some steps!\niris = load_iris()                    #iris dataset: size = 150\nbreast_cancer = load_breast_cancer()  #diabetes dataset: size = 569\nwine = load_wine()                    #wine dataset: size 178\n\n# This function will perfom KNN classification for a specified k\ndef split_train_test_dataset(dataset, k, test_size=0.2):\n    \"\"\"Loads and performs KNN classification on the provided dataset\"\"\"\n    # Grab and split the dataset\n    X_train, X_val, y_train, y_val = train_test_split(\n        dataset.data, dataset.target, test_size=test_size, random_state=0)\n\n    # Build a KNN classifier, fit it and test its predictions\n    knn = KNeighborsClassifier(n_neighbors=k)\n    knn.fit(X_train, y_train)\n    print(\"Validation Accuracy is {:5.1%}\".format(\n        accuracy_score(y_val, knn.predict(X_val))))\n",
   "outputs": [],
   "execution_count": null
  },
  {
   "cell_type": "code",
   "metadata": {
    "id": "lQk-b90Kgz-S",
    "colab_type": "code",
    "colab": {},
    "cell_id": "00006-e64c614d-ef64-4987-be50-dc0a108ff803",
    "deepnote_to_be_reexecuted": false,
    "source_hash": "74118c0e",
    "execution_start": 1625682773993,
    "execution_millis": 29,
    "deepnote_cell_type": "code"
   },
   "source": "# YOUR CODE HERE\nsplit_train_test_dataset(iris, k = 12)\nsplit_train_test_dataset(breast_cancer, 24)\nsplit_train_test_dataset(wine, k = 5)\n",
   "outputs": [
    {
     "name": "stdout",
     "text": "Validation Accuracy is 100.0%\nValidation Accuracy is 96.5%\nValidation Accuracy is 80.6%\n",
     "output_type": "stream"
    }
   ],
   "execution_count": null
  },
  {
   "cell_type": "markdown",
   "source": "Write a single mathematical expression describing the relationship you found between $n$ (the size of the dataset) and $k$ (the number of datapoints used to classify each validation datum).",
   "metadata": {
    "id": "n1_EbFlqzjAT",
    "colab_type": "text",
    "cell_id": "00007-9e31e134-f849-45d6-980b-81094c4e074f",
    "deepnote_cell_type": "markdown"
   }
  },
  {
   "cell_type": "markdown",
   "source": "k = sqrt(n)",
   "metadata": {
    "id": "PbbrX6rGq6CV",
    "colab_type": "text",
    "cell_id": "00008-01630e1e-58e1-480d-b182-928216e4dc1d",
    "deepnote_cell_type": "markdown"
   }
  },
  {
   "cell_type": "markdown",
   "source": "## Problem 3\nNow, we will **be writing our k-NNA**. Recall that we said a kNN is comprised of a predictions and using those predictions to classify the data. Here we will try to mimic sklearn's kNN methods. We will be using the Pima diabetes dataset. ",
   "metadata": {
    "colab_type": "text",
    "id": "-vDZy0F3eyeH",
    "cell_id": "00009-6b713464-0106-4edd-946f-132b72febf84",
    "deepnote_cell_type": "markdown"
   }
  },
  {
   "cell_type": "markdown",
   "source": "### Loading and splitting data",
   "metadata": {
    "id": "8YFfjG9G3lVO",
    "colab_type": "text",
    "cell_id": "00010-84a30058-7b6a-4895-b6d3-3c2289005067",
    "deepnote_cell_type": "markdown"
   }
  },
  {
   "cell_type": "code",
   "metadata": {
    "colab_type": "code",
    "id": "zbs8WICFgITd",
    "colab": {},
    "cell_id": "00011-1c057c97-58b6-4874-80b7-10c7451fa29c",
    "deepnote_to_be_reexecuted": false,
    "source_hash": "f7125d13",
    "execution_start": 1625682774027,
    "execution_millis": 307,
    "deepnote_cell_type": "code"
   },
   "source": "url = \"https://github.com/BeaverWorksMedlytics2020/Data_Public/raw/master/NotebookExampleData/Week1/diabetes.csv\"\nnames = ['preg', 'plas', 'pres', 'skin', 'test', 'mass', 'pedi', 'age', 'class']\ndata = po.read_csv(url, names=names)\n\n# Dropping NaN rows\ninvalid = ['plas', 'pres', 'skin', 'test', 'mass']\n\nfor i in invalid:\n    data[i].replace(to_replace=0, value=np.nan, inplace=True)\n    \ndata = data.dropna(axis=0).reset_index(drop=True)\ndata",
   "outputs": [
    {
     "output_type": "execute_result",
     "execution_count": 4,
     "data": {
      "application/vnd.deepnote.dataframe.v2+json": {
       "row_count": 392,
       "column_count": 9,
       "columns": [
        {
         "name": "preg",
         "dtype": "int64",
         "stats": {
          "unique_count": 17,
          "nan_count": 0,
          "min": "0",
          "max": "17",
          "histogram": [
           {
            "bin_start": 0,
            "bin_end": 1.7,
            "count": 149
           },
           {
            "bin_start": 1.7,
            "bin_end": 3.4,
            "count": 109
           },
           {
            "bin_start": 3.4,
            "bin_end": 5.1,
            "count": 48
           },
           {
            "bin_start": 5.1,
            "bin_end": 6.8,
            "count": 19
           },
           {
            "bin_start": 6.8,
            "bin_end": 8.5,
            "count": 34
           },
           {
            "bin_start": 8.5,
            "bin_end": 10.2,
            "count": 17
           },
           {
            "bin_start": 10.2,
            "bin_end": 11.9,
            "count": 5
           },
           {
            "bin_start": 11.9,
            "bin_end": 13.6,
            "count": 8
           },
           {
            "bin_start": 13.6,
            "bin_end": 15.299999999999999,
            "count": 2
           },
           {
            "bin_start": 15.299999999999999,
            "bin_end": 17,
            "count": 1
           }
          ]
         }
        },
        {
         "name": "plas",
         "dtype": "float64",
         "stats": {
          "unique_count": 117,
          "nan_count": 0,
          "min": "56.0",
          "max": "198.0",
          "histogram": [
           {
            "bin_start": 56,
            "bin_end": 70.2,
            "count": 4
           },
           {
            "bin_start": 70.2,
            "bin_end": 84.4,
            "count": 31
           },
           {
            "bin_start": 84.4,
            "bin_end": 98.6,
            "count": 57
           },
           {
            "bin_start": 98.6,
            "bin_end": 112.8,
            "count": 81
           },
           {
            "bin_start": 112.8,
            "bin_end": 127,
            "count": 64
           },
           {
            "bin_start": 127,
            "bin_end": 141.2,
            "count": 51
           },
           {
            "bin_start": 141.2,
            "bin_end": 155.39999999999998,
            "count": 42
           },
           {
            "bin_start": 155.39999999999998,
            "bin_end": 169.6,
            "count": 21
           },
           {
            "bin_start": 169.6,
            "bin_end": 183.8,
            "count": 24
           },
           {
            "bin_start": 183.8,
            "bin_end": 198,
            "count": 17
           }
          ]
         }
        },
        {
         "name": "pres",
         "dtype": "float64",
         "stats": {
          "unique_count": 37,
          "nan_count": 0,
          "min": "24.0",
          "max": "110.0",
          "histogram": [
           {
            "bin_start": 24,
            "bin_end": 32.6,
            "count": 3
           },
           {
            "bin_start": 32.6,
            "bin_end": 41.2,
            "count": 2
           },
           {
            "bin_start": 41.2,
            "bin_end": 49.8,
            "count": 8
           },
           {
            "bin_start": 49.8,
            "bin_end": 58.4,
            "count": 50
           },
           {
            "bin_start": 58.4,
            "bin_end": 67,
            "count": 83
           },
           {
            "bin_start": 67,
            "bin_end": 75.6,
            "count": 108
           },
           {
            "bin_start": 75.6,
            "bin_end": 84.19999999999999,
            "count": 88
           },
           {
            "bin_start": 84.19999999999999,
            "bin_end": 92.8,
            "count": 40
           },
           {
            "bin_start": 92.8,
            "bin_end": 101.39999999999999,
            "count": 5
           },
           {
            "bin_start": 101.39999999999999,
            "bin_end": 110,
            "count": 5
           }
          ]
         }
        },
        {
         "name": "skin",
         "dtype": "float64",
         "stats": {
          "unique_count": 48,
          "nan_count": 0,
          "min": "7.0",
          "max": "63.0",
          "histogram": [
           {
            "bin_start": 7,
            "bin_end": 12.6,
            "count": 17
           },
           {
            "bin_start": 12.6,
            "bin_end": 18.2,
            "count": 58
           },
           {
            "bin_start": 18.2,
            "bin_end": 23.799999999999997,
            "count": 52
           },
           {
            "bin_start": 23.799999999999997,
            "bin_end": 29.4,
            "count": 75
           },
           {
            "bin_start": 29.4,
            "bin_end": 35,
            "count": 71
           },
           {
            "bin_start": 35,
            "bin_end": 40.599999999999994,
            "count": 56
           },
           {
            "bin_start": 40.599999999999994,
            "bin_end": 46.199999999999996,
            "count": 43
           },
           {
            "bin_start": 46.199999999999996,
            "bin_end": 51.8,
            "count": 15
           },
           {
            "bin_start": 51.8,
            "bin_end": 57.4,
            "count": 3
           },
           {
            "bin_start": 57.4,
            "bin_end": 63,
            "count": 2
           }
          ]
         }
        },
        {
         "name": "test",
         "dtype": "float64",
         "stats": {
          "unique_count": 184,
          "nan_count": 0,
          "min": "14.0",
          "max": "846.0",
          "histogram": [
           {
            "bin_start": 14,
            "bin_end": 97.2,
            "count": 140
           },
           {
            "bin_start": 97.2,
            "bin_end": 180.4,
            "count": 143
           },
           {
            "bin_start": 180.4,
            "bin_end": 263.6,
            "count": 55
           },
           {
            "bin_start": 263.6,
            "bin_end": 346.8,
            "count": 29
           },
           {
            "bin_start": 346.8,
            "bin_end": 430,
            "count": 7
           },
           {
            "bin_start": 430,
            "bin_end": 513.2,
            "count": 10
           },
           {
            "bin_start": 513.2,
            "bin_end": 596.4,
            "count": 4
           },
           {
            "bin_start": 596.4,
            "bin_end": 679.6,
            "count": 1
           },
           {
            "bin_start": 679.6,
            "bin_end": 762.8000000000001,
            "count": 2
           },
           {
            "bin_start": 762.8000000000001,
            "bin_end": 846,
            "count": 1
           }
          ]
         }
        },
        {
         "name": "mass",
         "dtype": "float64",
         "stats": {
          "unique_count": 194,
          "nan_count": 0,
          "min": "18.2",
          "max": "67.1",
          "histogram": [
           {
            "bin_start": 18.2,
            "bin_end": 23.089999999999996,
            "count": 22
           },
           {
            "bin_start": 23.089999999999996,
            "bin_end": 27.979999999999997,
            "count": 72
           },
           {
            "bin_start": 27.979999999999997,
            "bin_end": 32.87,
            "count": 93
           },
           {
            "bin_start": 32.87,
            "bin_end": 37.75999999999999,
            "count": 119
           },
           {
            "bin_start": 37.75999999999999,
            "bin_end": 42.64999999999999,
            "count": 52
           },
           {
            "bin_start": 42.64999999999999,
            "bin_end": 47.53999999999999,
            "count": 26
           },
           {
            "bin_start": 47.53999999999999,
            "bin_end": 52.42999999999999,
            "count": 3
           },
           {
            "bin_start": 52.42999999999999,
            "bin_end": 57.31999999999999,
            "count": 3
           },
           {
            "bin_start": 57.31999999999999,
            "bin_end": 62.209999999999994,
            "count": 1
           },
           {
            "bin_start": 62.209999999999994,
            "bin_end": 67.1,
            "count": 1
           }
          ]
         }
        },
        {
         "name": "pedi",
         "dtype": "float64",
         "stats": {
          "unique_count": 331,
          "nan_count": 0,
          "min": "0.085",
          "max": "2.42",
          "histogram": [
           {
            "bin_start": 0.085,
            "bin_end": 0.3185,
            "count": 126
           },
           {
            "bin_start": 0.3185,
            "bin_end": 0.5519999999999999,
            "count": 123
           },
           {
            "bin_start": 0.5519999999999999,
            "bin_end": 0.7854999999999999,
            "count": 78
           },
           {
            "bin_start": 0.7854999999999999,
            "bin_end": 1.019,
            "count": 36
           },
           {
            "bin_start": 1.019,
            "bin_end": 1.2525,
            "count": 14
           },
           {
            "bin_start": 1.2525,
            "bin_end": 1.4859999999999998,
            "count": 9
           },
           {
            "bin_start": 1.4859999999999998,
            "bin_end": 1.7194999999999998,
            "count": 2
           },
           {
            "bin_start": 1.7194999999999998,
            "bin_end": 1.9529999999999998,
            "count": 0
           },
           {
            "bin_start": 1.9529999999999998,
            "bin_end": 2.1864999999999997,
            "count": 1
           },
           {
            "bin_start": 2.1864999999999997,
            "bin_end": 2.42,
            "count": 3
           }
          ]
         }
        },
        {
         "name": "age",
         "dtype": "int64",
         "stats": {
          "unique_count": 43,
          "nan_count": 0,
          "min": "21",
          "max": "81",
          "histogram": [
           {
            "bin_start": 21,
            "bin_end": 27,
            "count": 189
           },
           {
            "bin_start": 27,
            "bin_end": 33,
            "count": 77
           },
           {
            "bin_start": 33,
            "bin_end": 39,
            "count": 43
           },
           {
            "bin_start": 39,
            "bin_end": 45,
            "count": 35
           },
           {
            "bin_start": 45,
            "bin_end": 51,
            "count": 20
           },
           {
            "bin_start": 51,
            "bin_end": 57,
            "count": 16
           },
           {
            "bin_start": 57,
            "bin_end": 63,
            "count": 10
           },
           {
            "bin_start": 63,
            "bin_end": 69,
            "count": 1
           },
           {
            "bin_start": 69,
            "bin_end": 75,
            "count": 0
           },
           {
            "bin_start": 75,
            "bin_end": 81,
            "count": 1
           }
          ]
         }
        },
        {
         "name": "class",
         "dtype": "int64",
         "stats": {
          "unique_count": 2,
          "nan_count": 0,
          "min": "0",
          "max": "1",
          "histogram": [
           {
            "bin_start": 0,
            "bin_end": 0.1,
            "count": 262
           },
           {
            "bin_start": 0.1,
            "bin_end": 0.2,
            "count": 0
           },
           {
            "bin_start": 0.2,
            "bin_end": 0.30000000000000004,
            "count": 0
           },
           {
            "bin_start": 0.30000000000000004,
            "bin_end": 0.4,
            "count": 0
           },
           {
            "bin_start": 0.4,
            "bin_end": 0.5,
            "count": 0
           },
           {
            "bin_start": 0.5,
            "bin_end": 0.6000000000000001,
            "count": 0
           },
           {
            "bin_start": 0.6000000000000001,
            "bin_end": 0.7000000000000001,
            "count": 0
           },
           {
            "bin_start": 0.7000000000000001,
            "bin_end": 0.8,
            "count": 0
           },
           {
            "bin_start": 0.8,
            "bin_end": 0.9,
            "count": 0
           },
           {
            "bin_start": 0.9,
            "bin_end": 1,
            "count": 130
           }
          ]
         }
        },
        {
         "name": "_deepnote_index_column",
         "dtype": "int64"
        }
       ],
       "rows_top": [
        {
         "preg": 1,
         "plas": 89,
         "pres": 66,
         "skin": 23,
         "test": 94,
         "mass": 28.1,
         "pedi": 0.167,
         "age": 21,
         "class": 0,
         "_deepnote_index_column": 0
        },
        {
         "preg": 0,
         "plas": 137,
         "pres": 40,
         "skin": 35,
         "test": 168,
         "mass": 43.1,
         "pedi": 2.288,
         "age": 33,
         "class": 1,
         "_deepnote_index_column": 1
        },
        {
         "preg": 3,
         "plas": 78,
         "pres": 50,
         "skin": 32,
         "test": 88,
         "mass": 31,
         "pedi": 0.248,
         "age": 26,
         "class": 1,
         "_deepnote_index_column": 2
        },
        {
         "preg": 2,
         "plas": 197,
         "pres": 70,
         "skin": 45,
         "test": 543,
         "mass": 30.5,
         "pedi": 0.158,
         "age": 53,
         "class": 1,
         "_deepnote_index_column": 3
        },
        {
         "preg": 1,
         "plas": 189,
         "pres": 60,
         "skin": 23,
         "test": 846,
         "mass": 30.1,
         "pedi": 0.398,
         "age": 59,
         "class": 1,
         "_deepnote_index_column": 4
        },
        {
         "preg": 5,
         "plas": 166,
         "pres": 72,
         "skin": 19,
         "test": 175,
         "mass": 25.8,
         "pedi": 0.587,
         "age": 51,
         "class": 1,
         "_deepnote_index_column": 5
        },
        {
         "preg": 0,
         "plas": 118,
         "pres": 84,
         "skin": 47,
         "test": 230,
         "mass": 45.8,
         "pedi": 0.551,
         "age": 31,
         "class": 1,
         "_deepnote_index_column": 6
        },
        {
         "preg": 1,
         "plas": 103,
         "pres": 30,
         "skin": 38,
         "test": 83,
         "mass": 43.3,
         "pedi": 0.183,
         "age": 33,
         "class": 0,
         "_deepnote_index_column": 7
        },
        {
         "preg": 1,
         "plas": 115,
         "pres": 70,
         "skin": 30,
         "test": 96,
         "mass": 34.6,
         "pedi": 0.529,
         "age": 32,
         "class": 1,
         "_deepnote_index_column": 8
        },
        {
         "preg": 3,
         "plas": 126,
         "pres": 88,
         "skin": 41,
         "test": 235,
         "mass": 39.3,
         "pedi": 0.704,
         "age": 27,
         "class": 0,
         "_deepnote_index_column": 9
        },
        {
         "preg": 11,
         "plas": 143,
         "pres": 94,
         "skin": 33,
         "test": 146,
         "mass": 36.6,
         "pedi": 0.254,
         "age": 51,
         "class": 1,
         "_deepnote_index_column": 10
        },
        {
         "preg": 10,
         "plas": 125,
         "pres": 70,
         "skin": 26,
         "test": 115,
         "mass": 31.1,
         "pedi": 0.205,
         "age": 41,
         "class": 1,
         "_deepnote_index_column": 11
        },
        {
         "preg": 1,
         "plas": 97,
         "pres": 66,
         "skin": 15,
         "test": 140,
         "mass": 23.2,
         "pedi": 0.487,
         "age": 22,
         "class": 0,
         "_deepnote_index_column": 12
        },
        {
         "preg": 13,
         "plas": 145,
         "pres": 82,
         "skin": 19,
         "test": 110,
         "mass": 22.2,
         "pedi": 0.245,
         "age": 57,
         "class": 0,
         "_deepnote_index_column": 13
        },
        {
         "preg": 3,
         "plas": 158,
         "pres": 76,
         "skin": 36,
         "test": 245,
         "mass": 31.6,
         "pedi": 0.851,
         "age": 28,
         "class": 1,
         "_deepnote_index_column": 14
        },
        {
         "preg": 3,
         "plas": 88,
         "pres": 58,
         "skin": 11,
         "test": 54,
         "mass": 24.8,
         "pedi": 0.267,
         "age": 22,
         "class": 0,
         "_deepnote_index_column": 15
        },
        {
         "preg": 4,
         "plas": 103,
         "pres": 60,
         "skin": 33,
         "test": 192,
         "mass": 24,
         "pedi": 0.966,
         "age": 33,
         "class": 0,
         "_deepnote_index_column": 16
        },
        {
         "preg": 4,
         "plas": 111,
         "pres": 72,
         "skin": 47,
         "test": 207,
         "mass": 37.1,
         "pedi": 1.39,
         "age": 56,
         "class": 1,
         "_deepnote_index_column": 17
        },
        {
         "preg": 3,
         "plas": 180,
         "pres": 64,
         "skin": 25,
         "test": 70,
         "mass": 34,
         "pedi": 0.271,
         "age": 26,
         "class": 0,
         "_deepnote_index_column": 18
        },
        {
         "preg": 9,
         "plas": 171,
         "pres": 110,
         "skin": 24,
         "test": 240,
         "mass": 45.4,
         "pedi": 0.721,
         "age": 54,
         "class": 1,
         "_deepnote_index_column": 19
        },
        {
         "preg": 1,
         "plas": 103,
         "pres": 80,
         "skin": 11,
         "test": 82,
         "mass": 19.4,
         "pedi": 0.491,
         "age": 22,
         "class": 0,
         "_deepnote_index_column": 20
        },
        {
         "preg": 1,
         "plas": 101,
         "pres": 50,
         "skin": 15,
         "test": 36,
         "mass": 24.2,
         "pedi": 0.526,
         "age": 26,
         "class": 0,
         "_deepnote_index_column": 21
        },
        {
         "preg": 5,
         "plas": 88,
         "pres": 66,
         "skin": 21,
         "test": 23,
         "mass": 24.4,
         "pedi": 0.342,
         "age": 30,
         "class": 0,
         "_deepnote_index_column": 22
        },
        {
         "preg": 8,
         "plas": 176,
         "pres": 90,
         "skin": 34,
         "test": 300,
         "mass": 33.7,
         "pedi": 0.467,
         "age": 58,
         "class": 1,
         "_deepnote_index_column": 23
        },
        {
         "preg": 7,
         "plas": 150,
         "pres": 66,
         "skin": 42,
         "test": 342,
         "mass": 34.7,
         "pedi": 0.718,
         "age": 42,
         "class": 0,
         "_deepnote_index_column": 24
        },
        {
         "preg": 7,
         "plas": 187,
         "pres": 68,
         "skin": 39,
         "test": 304,
         "mass": 37.7,
         "pedi": 0.254,
         "age": 41,
         "class": 1,
         "_deepnote_index_column": 25
        },
        {
         "preg": 0,
         "plas": 100,
         "pres": 88,
         "skin": 60,
         "test": 110,
         "mass": 46.8,
         "pedi": 0.962,
         "age": 31,
         "class": 0,
         "_deepnote_index_column": 26
        },
        {
         "preg": 0,
         "plas": 105,
         "pres": 64,
         "skin": 41,
         "test": 142,
         "mass": 41.5,
         "pedi": 0.173,
         "age": 22,
         "class": 0,
         "_deepnote_index_column": 27
        },
        {
         "preg": 2,
         "plas": 141,
         "pres": 58,
         "skin": 34,
         "test": 128,
         "mass": 25.4,
         "pedi": 0.699,
         "age": 24,
         "class": 0,
         "_deepnote_index_column": 28
        },
        {
         "preg": 1,
         "plas": 95,
         "pres": 66,
         "skin": 13,
         "test": 38,
         "mass": 19.6,
         "pedi": 0.334,
         "age": 25,
         "class": 0,
         "_deepnote_index_column": 29
        },
        {
         "preg": 4,
         "plas": 146,
         "pres": 85,
         "skin": 27,
         "test": 100,
         "mass": 28.9,
         "pedi": 0.189,
         "age": 27,
         "class": 0,
         "_deepnote_index_column": 30
        },
        {
         "preg": 2,
         "plas": 100,
         "pres": 66,
         "skin": 20,
         "test": 90,
         "mass": 32.9,
         "pedi": 0.867,
         "age": 28,
         "class": 1,
         "_deepnote_index_column": 31
        },
        {
         "preg": 5,
         "plas": 139,
         "pres": 64,
         "skin": 35,
         "test": 140,
         "mass": 28.6,
         "pedi": 0.411,
         "age": 26,
         "class": 0,
         "_deepnote_index_column": 32
        },
        {
         "preg": 4,
         "plas": 129,
         "pres": 86,
         "skin": 20,
         "test": 270,
         "mass": 35.1,
         "pedi": 0.231,
         "age": 23,
         "class": 0,
         "_deepnote_index_column": 33
        },
        {
         "preg": 7,
         "plas": 83,
         "pres": 78,
         "skin": 26,
         "test": 71,
         "mass": 29.3,
         "pedi": 0.767,
         "age": 36,
         "class": 0,
         "_deepnote_index_column": 34
        },
        {
         "preg": 2,
         "plas": 110,
         "pres": 74,
         "skin": 29,
         "test": 125,
         "mass": 32.4,
         "pedi": 0.698,
         "age": 27,
         "class": 0,
         "_deepnote_index_column": 35
        },
        {
         "preg": 2,
         "plas": 100,
         "pres": 68,
         "skin": 25,
         "test": 71,
         "mass": 38.5,
         "pedi": 0.324,
         "age": 26,
         "class": 0,
         "_deepnote_index_column": 36
        },
        {
         "preg": 15,
         "plas": 136,
         "pres": 70,
         "skin": 32,
         "test": 110,
         "mass": 37.1,
         "pedi": 0.153,
         "age": 43,
         "class": 1,
         "_deepnote_index_column": 37
        },
        {
         "preg": 4,
         "plas": 123,
         "pres": 80,
         "skin": 15,
         "test": 176,
         "mass": 32,
         "pedi": 0.443,
         "age": 34,
         "class": 0,
         "_deepnote_index_column": 38
        },
        {
         "preg": 7,
         "plas": 81,
         "pres": 78,
         "skin": 40,
         "test": 48,
         "mass": 46.7,
         "pedi": 0.261,
         "age": 42,
         "class": 0,
         "_deepnote_index_column": 39
        },
        {
         "preg": 2,
         "plas": 142,
         "pres": 82,
         "skin": 18,
         "test": 64,
         "mass": 24.7,
         "pedi": 0.761,
         "age": 21,
         "class": 0,
         "_deepnote_index_column": 40
        },
        {
         "preg": 6,
         "plas": 144,
         "pres": 72,
         "skin": 27,
         "test": 228,
         "mass": 33.9,
         "pedi": 0.255,
         "age": 40,
         "class": 0,
         "_deepnote_index_column": 41
        },
        {
         "preg": 1,
         "plas": 71,
         "pres": 48,
         "skin": 18,
         "test": 76,
         "mass": 20.4,
         "pedi": 0.323,
         "age": 22,
         "class": 0,
         "_deepnote_index_column": 42
        },
        {
         "preg": 6,
         "plas": 93,
         "pres": 50,
         "skin": 30,
         "test": 64,
         "mass": 28.7,
         "pedi": 0.356,
         "age": 23,
         "class": 0,
         "_deepnote_index_column": 43
        },
        {
         "preg": 1,
         "plas": 122,
         "pres": 90,
         "skin": 51,
         "test": 220,
         "mass": 49.7,
         "pedi": 0.325,
         "age": 31,
         "class": 1,
         "_deepnote_index_column": 44
        },
        {
         "preg": 1,
         "plas": 81,
         "pres": 72,
         "skin": 18,
         "test": 40,
         "mass": 26.6,
         "pedi": 0.283,
         "age": 24,
         "class": 0,
         "_deepnote_index_column": 45
        },
        {
         "preg": 1,
         "plas": 126,
         "pres": 56,
         "skin": 29,
         "test": 152,
         "mass": 28.7,
         "pedi": 0.801,
         "age": 21,
         "class": 0,
         "_deepnote_index_column": 46
        },
        {
         "preg": 4,
         "plas": 144,
         "pres": 58,
         "skin": 28,
         "test": 140,
         "mass": 29.5,
         "pedi": 0.287,
         "age": 37,
         "class": 0,
         "_deepnote_index_column": 47
        },
        {
         "preg": 3,
         "plas": 83,
         "pres": 58,
         "skin": 31,
         "test": 18,
         "mass": 34.3,
         "pedi": 0.336,
         "age": 25,
         "class": 0,
         "_deepnote_index_column": 48
        },
        {
         "preg": 0,
         "plas": 95,
         "pres": 85,
         "skin": 25,
         "test": 36,
         "mass": 37.4,
         "pedi": 0.247,
         "age": 24,
         "class": 1,
         "_deepnote_index_column": 49
        },
        {
         "preg": 3,
         "plas": 171,
         "pres": 72,
         "skin": 33,
         "test": 135,
         "mass": 33.3,
         "pedi": 0.199,
         "age": 24,
         "class": 1,
         "_deepnote_index_column": 50
        },
        {
         "preg": 8,
         "plas": 155,
         "pres": 62,
         "skin": 26,
         "test": 495,
         "mass": 34,
         "pedi": 0.543,
         "age": 46,
         "class": 1,
         "_deepnote_index_column": 51
        },
        {
         "preg": 1,
         "plas": 89,
         "pres": 76,
         "skin": 34,
         "test": 37,
         "mass": 31.2,
         "pedi": 0.192,
         "age": 23,
         "class": 0,
         "_deepnote_index_column": 52
        },
        {
         "preg": 7,
         "plas": 160,
         "pres": 54,
         "skin": 32,
         "test": 175,
         "mass": 30.5,
         "pedi": 0.588,
         "age": 39,
         "class": 1,
         "_deepnote_index_column": 53
        },
        {
         "preg": 4,
         "plas": 99,
         "pres": 76,
         "skin": 15,
         "test": 51,
         "mass": 23.2,
         "pedi": 0.223,
         "age": 21,
         "class": 0,
         "_deepnote_index_column": 54
        }
       ],
       "rows_bottom": [
        {
         "preg": 1,
         "plas": 106,
         "pres": 70,
         "skin": 28,
         "test": 135,
         "mass": 34.2,
         "pedi": 0.142,
         "age": 22,
         "class": 0,
         "_deepnote_index_column": 336
        },
        {
         "preg": 2,
         "plas": 155,
         "pres": 52,
         "skin": 27,
         "test": 540,
         "mass": 38.7,
         "pedi": 0.24,
         "age": 25,
         "class": 1,
         "_deepnote_index_column": 337
        },
        {
         "preg": 2,
         "plas": 101,
         "pres": 58,
         "skin": 35,
         "test": 90,
         "mass": 21.8,
         "pedi": 0.155,
         "age": 22,
         "class": 0,
         "_deepnote_index_column": 338
        },
        {
         "preg": 1,
         "plas": 120,
         "pres": 80,
         "skin": 48,
         "test": 200,
         "mass": 38.9,
         "pedi": 1.162,
         "age": 41,
         "class": 0,
         "_deepnote_index_column": 339
        },
        {
         "preg": 3,
         "plas": 80,
         "pres": 82,
         "skin": 31,
         "test": 70,
         "mass": 34.2,
         "pedi": 1.292,
         "age": 27,
         "class": 1,
         "_deepnote_index_column": 340
        },
        {
         "preg": 8,
         "plas": 167,
         "pres": 106,
         "skin": 46,
         "test": 231,
         "mass": 37.6,
         "pedi": 0.165,
         "age": 43,
         "class": 1,
         "_deepnote_index_column": 341
        },
        {
         "preg": 9,
         "plas": 145,
         "pres": 80,
         "skin": 46,
         "test": 130,
         "mass": 37.9,
         "pedi": 0.637,
         "age": 40,
         "class": 1,
         "_deepnote_index_column": 342
        },
        {
         "preg": 1,
         "plas": 112,
         "pres": 80,
         "skin": 45,
         "test": 132,
         "mass": 34.8,
         "pedi": 0.217,
         "age": 24,
         "class": 0,
         "_deepnote_index_column": 343
        },
        {
         "preg": 6,
         "plas": 98,
         "pres": 58,
         "skin": 33,
         "test": 190,
         "mass": 34,
         "pedi": 0.43,
         "age": 43,
         "class": 0,
         "_deepnote_index_column": 344
        },
        {
         "preg": 9,
         "plas": 154,
         "pres": 78,
         "skin": 30,
         "test": 100,
         "mass": 30.9,
         "pedi": 0.164,
         "age": 45,
         "class": 0,
         "_deepnote_index_column": 345
        },
        {
         "preg": 6,
         "plas": 165,
         "pres": 68,
         "skin": 26,
         "test": 168,
         "mass": 33.6,
         "pedi": 0.631,
         "age": 49,
         "class": 0,
         "_deepnote_index_column": 346
        },
        {
         "preg": 10,
         "plas": 68,
         "pres": 106,
         "skin": 23,
         "test": 49,
         "mass": 35.5,
         "pedi": 0.285,
         "age": 47,
         "class": 0,
         "_deepnote_index_column": 347
        },
        {
         "preg": 3,
         "plas": 123,
         "pres": 100,
         "skin": 35,
         "test": 240,
         "mass": 57.3,
         "pedi": 0.88,
         "age": 22,
         "class": 0,
         "_deepnote_index_column": 348
        },
        {
         "preg": 2,
         "plas": 101,
         "pres": 58,
         "skin": 17,
         "test": 265,
         "mass": 24.2,
         "pedi": 0.614,
         "age": 23,
         "class": 0,
         "_deepnote_index_column": 349
        },
        {
         "preg": 2,
         "plas": 56,
         "pres": 56,
         "skin": 28,
         "test": 45,
         "mass": 24.2,
         "pedi": 0.332,
         "age": 22,
         "class": 0,
         "_deepnote_index_column": 350
        },
        {
         "preg": 0,
         "plas": 95,
         "pres": 64,
         "skin": 39,
         "test": 105,
         "mass": 44.6,
         "pedi": 0.366,
         "age": 22,
         "class": 0,
         "_deepnote_index_column": 351
        },
        {
         "preg": 2,
         "plas": 129,
         "pres": 74,
         "skin": 26,
         "test": 205,
         "mass": 33.2,
         "pedi": 0.591,
         "age": 25,
         "class": 0,
         "_deepnote_index_column": 352
        },
        {
         "preg": 1,
         "plas": 140,
         "pres": 74,
         "skin": 26,
         "test": 180,
         "mass": 24.1,
         "pedi": 0.828,
         "age": 23,
         "class": 0,
         "_deepnote_index_column": 353
        },
        {
         "preg": 1,
         "plas": 144,
         "pres": 82,
         "skin": 46,
         "test": 180,
         "mass": 46.1,
         "pedi": 0.335,
         "age": 46,
         "class": 1,
         "_deepnote_index_column": 354
        },
        {
         "preg": 2,
         "plas": 121,
         "pres": 70,
         "skin": 32,
         "test": 95,
         "mass": 39.1,
         "pedi": 0.886,
         "age": 23,
         "class": 0,
         "_deepnote_index_column": 355
        },
        {
         "preg": 7,
         "plas": 129,
         "pres": 68,
         "skin": 49,
         "test": 125,
         "mass": 38.5,
         "pedi": 0.439,
         "age": 43,
         "class": 1,
         "_deepnote_index_column": 356
        },
        {
         "preg": 7,
         "plas": 142,
         "pres": 90,
         "skin": 24,
         "test": 480,
         "mass": 30.4,
         "pedi": 0.128,
         "age": 43,
         "class": 1,
         "_deepnote_index_column": 357
        },
        {
         "preg": 3,
         "plas": 169,
         "pres": 74,
         "skin": 19,
         "test": 125,
         "mass": 29.9,
         "pedi": 0.268,
         "age": 31,
         "class": 1,
         "_deepnote_index_column": 358
        },
        {
         "preg": 4,
         "plas": 127,
         "pres": 88,
         "skin": 11,
         "test": 155,
         "mass": 34.5,
         "pedi": 0.598,
         "age": 28,
         "class": 0,
         "_deepnote_index_column": 359
        },
        {
         "preg": 2,
         "plas": 122,
         "pres": 76,
         "skin": 27,
         "test": 200,
         "mass": 35.9,
         "pedi": 0.483,
         "age": 26,
         "class": 0,
         "_deepnote_index_column": 360
        },
        {
         "preg": 4,
         "plas": 110,
         "pres": 76,
         "skin": 20,
         "test": 100,
         "mass": 28.4,
         "pedi": 0.118,
         "age": 27,
         "class": 0,
         "_deepnote_index_column": 361
        },
        {
         "preg": 2,
         "plas": 127,
         "pres": 46,
         "skin": 21,
         "test": 335,
         "mass": 34.4,
         "pedi": 0.176,
         "age": 22,
         "class": 0,
         "_deepnote_index_column": 362
        },
        {
         "preg": 2,
         "plas": 93,
         "pres": 64,
         "skin": 32,
         "test": 160,
         "mass": 38,
         "pedi": 0.674,
         "age": 23,
         "class": 1,
         "_deepnote_index_column": 363
        },
        {
         "preg": 3,
         "plas": 158,
         "pres": 64,
         "skin": 13,
         "test": 387,
         "mass": 31.2,
         "pedi": 0.295,
         "age": 24,
         "class": 0,
         "_deepnote_index_column": 364
        },
        {
         "preg": 5,
         "plas": 126,
         "pres": 78,
         "skin": 27,
         "test": 22,
         "mass": 29.6,
         "pedi": 0.439,
         "age": 40,
         "class": 0,
         "_deepnote_index_column": 365
        },
        {
         "preg": 0,
         "plas": 134,
         "pres": 58,
         "skin": 20,
         "test": 291,
         "mass": 26.4,
         "pedi": 0.352,
         "age": 21,
         "class": 0,
         "_deepnote_index_column": 366
        },
        {
         "preg": 7,
         "plas": 187,
         "pres": 50,
         "skin": 33,
         "test": 392,
         "mass": 33.9,
         "pedi": 0.826,
         "age": 34,
         "class": 1,
         "_deepnote_index_column": 367
        },
        {
         "preg": 3,
         "plas": 173,
         "pres": 78,
         "skin": 39,
         "test": 185,
         "mass": 33.8,
         "pedi": 0.97,
         "age": 31,
         "class": 1,
         "_deepnote_index_column": 368
        },
        {
         "preg": 1,
         "plas": 108,
         "pres": 60,
         "skin": 46,
         "test": 178,
         "mass": 35.5,
         "pedi": 0.415,
         "age": 24,
         "class": 0,
         "_deepnote_index_column": 369
        },
        {
         "preg": 1,
         "plas": 114,
         "pres": 66,
         "skin": 36,
         "test": 200,
         "mass": 38.1,
         "pedi": 0.289,
         "age": 21,
         "class": 0,
         "_deepnote_index_column": 370
        },
        {
         "preg": 1,
         "plas": 149,
         "pres": 68,
         "skin": 29,
         "test": 127,
         "mass": 29.3,
         "pedi": 0.349,
         "age": 42,
         "class": 1,
         "_deepnote_index_column": 371
        },
        {
         "preg": 5,
         "plas": 117,
         "pres": 86,
         "skin": 30,
         "test": 105,
         "mass": 39.1,
         "pedi": 0.251,
         "age": 42,
         "class": 0,
         "_deepnote_index_column": 372
        },
        {
         "preg": 1,
         "plas": 116,
         "pres": 78,
         "skin": 29,
         "test": 180,
         "mass": 36.1,
         "pedi": 0.496,
         "age": 25,
         "class": 0,
         "_deepnote_index_column": 373
        },
        {
         "preg": 3,
         "plas": 130,
         "pres": 78,
         "skin": 23,
         "test": 79,
         "mass": 28.4,
         "pedi": 0.323,
         "age": 34,
         "class": 1,
         "_deepnote_index_column": 374
        },
        {
         "preg": 2,
         "plas": 174,
         "pres": 88,
         "skin": 37,
         "test": 120,
         "mass": 44.5,
         "pedi": 0.646,
         "age": 24,
         "class": 1,
         "_deepnote_index_column": 375
        },
        {
         "preg": 2,
         "plas": 106,
         "pres": 56,
         "skin": 27,
         "test": 165,
         "mass": 29,
         "pedi": 0.426,
         "age": 22,
         "class": 0,
         "_deepnote_index_column": 376
        },
        {
         "preg": 0,
         "plas": 126,
         "pres": 86,
         "skin": 27,
         "test": 120,
         "mass": 27.4,
         "pedi": 0.515,
         "age": 21,
         "class": 0,
         "_deepnote_index_column": 377
        },
        {
         "preg": 2,
         "plas": 99,
         "pres": 60,
         "skin": 17,
         "test": 160,
         "mass": 36.6,
         "pedi": 0.453,
         "age": 21,
         "class": 0,
         "_deepnote_index_column": 378
        },
        {
         "preg": 11,
         "plas": 120,
         "pres": 80,
         "skin": 37,
         "test": 150,
         "mass": 42.3,
         "pedi": 0.785,
         "age": 48,
         "class": 1,
         "_deepnote_index_column": 379
        },
        {
         "preg": 3,
         "plas": 102,
         "pres": 44,
         "skin": 20,
         "test": 94,
         "mass": 30.8,
         "pedi": 0.4,
         "age": 26,
         "class": 0,
         "_deepnote_index_column": 380
        },
        {
         "preg": 1,
         "plas": 109,
         "pres": 58,
         "skin": 18,
         "test": 116,
         "mass": 28.5,
         "pedi": 0.219,
         "age": 22,
         "class": 0,
         "_deepnote_index_column": 381
        },
        {
         "preg": 13,
         "plas": 153,
         "pres": 88,
         "skin": 37,
         "test": 140,
         "mass": 40.6,
         "pedi": 1.174,
         "age": 39,
         "class": 0,
         "_deepnote_index_column": 382
        },
        {
         "preg": 12,
         "plas": 100,
         "pres": 84,
         "skin": 33,
         "test": 105,
         "mass": 30,
         "pedi": 0.488,
         "age": 46,
         "class": 0,
         "_deepnote_index_column": 383
        },
        {
         "preg": 1,
         "plas": 81,
         "pres": 74,
         "skin": 41,
         "test": 57,
         "mass": 46.3,
         "pedi": 1.096,
         "age": 32,
         "class": 0,
         "_deepnote_index_column": 384
        },
        {
         "preg": 3,
         "plas": 187,
         "pres": 70,
         "skin": 22,
         "test": 200,
         "mass": 36.4,
         "pedi": 0.408,
         "age": 36,
         "class": 1,
         "_deepnote_index_column": 385
        },
        {
         "preg": 1,
         "plas": 121,
         "pres": 78,
         "skin": 39,
         "test": 74,
         "mass": 39,
         "pedi": 0.261,
         "age": 28,
         "class": 0,
         "_deepnote_index_column": 386
        },
        {
         "preg": 0,
         "plas": 181,
         "pres": 88,
         "skin": 44,
         "test": 510,
         "mass": 43.3,
         "pedi": 0.222,
         "age": 26,
         "class": 1,
         "_deepnote_index_column": 387
        },
        {
         "preg": 1,
         "plas": 128,
         "pres": 88,
         "skin": 39,
         "test": 110,
         "mass": 36.5,
         "pedi": 1.057,
         "age": 37,
         "class": 1,
         "_deepnote_index_column": 388
        },
        {
         "preg": 2,
         "plas": 88,
         "pres": 58,
         "skin": 26,
         "test": 16,
         "mass": 28.4,
         "pedi": 0.766,
         "age": 22,
         "class": 0,
         "_deepnote_index_column": 389
        },
        {
         "preg": 10,
         "plas": 101,
         "pres": 76,
         "skin": 48,
         "test": 180,
         "mass": 32.9,
         "pedi": 0.171,
         "age": 63,
         "class": 0,
         "_deepnote_index_column": 390
        },
        {
         "preg": 5,
         "plas": 121,
         "pres": 72,
         "skin": 23,
         "test": 112,
         "mass": 26.2,
         "pedi": 0.245,
         "age": 30,
         "class": 0,
         "_deepnote_index_column": 391
        }
       ]
      },
      "text/plain": "     preg   plas  pres  skin   test  mass   pedi  age  class\n0       1   89.0  66.0  23.0   94.0  28.1  0.167   21      0\n1       0  137.0  40.0  35.0  168.0  43.1  2.288   33      1\n2       3   78.0  50.0  32.0   88.0  31.0  0.248   26      1\n3       2  197.0  70.0  45.0  543.0  30.5  0.158   53      1\n4       1  189.0  60.0  23.0  846.0  30.1  0.398   59      1\n..    ...    ...   ...   ...    ...   ...    ...  ...    ...\n387     0  181.0  88.0  44.0  510.0  43.3  0.222   26      1\n388     1  128.0  88.0  39.0  110.0  36.5  1.057   37      1\n389     2   88.0  58.0  26.0   16.0  28.4  0.766   22      0\n390    10  101.0  76.0  48.0  180.0  32.9  0.171   63      0\n391     5  121.0  72.0  23.0  112.0  26.2  0.245   30      0\n\n[392 rows x 9 columns]",
      "text/html": "<div>\n<style scoped>\n    .dataframe tbody tr th:only-of-type {\n        vertical-align: middle;\n    }\n\n    .dataframe tbody tr th {\n        vertical-align: top;\n    }\n\n    .dataframe thead th {\n        text-align: right;\n    }\n</style>\n<table border=\"1\" class=\"dataframe\">\n  <thead>\n    <tr style=\"text-align: right;\">\n      <th></th>\n      <th>preg</th>\n      <th>plas</th>\n      <th>pres</th>\n      <th>skin</th>\n      <th>test</th>\n      <th>mass</th>\n      <th>pedi</th>\n      <th>age</th>\n      <th>class</th>\n    </tr>\n  </thead>\n  <tbody>\n    <tr>\n      <th>0</th>\n      <td>1</td>\n      <td>89.0</td>\n      <td>66.0</td>\n      <td>23.0</td>\n      <td>94.0</td>\n      <td>28.1</td>\n      <td>0.167</td>\n      <td>21</td>\n      <td>0</td>\n    </tr>\n    <tr>\n      <th>1</th>\n      <td>0</td>\n      <td>137.0</td>\n      <td>40.0</td>\n      <td>35.0</td>\n      <td>168.0</td>\n      <td>43.1</td>\n      <td>2.288</td>\n      <td>33</td>\n      <td>1</td>\n    </tr>\n    <tr>\n      <th>2</th>\n      <td>3</td>\n      <td>78.0</td>\n      <td>50.0</td>\n      <td>32.0</td>\n      <td>88.0</td>\n      <td>31.0</td>\n      <td>0.248</td>\n      <td>26</td>\n      <td>1</td>\n    </tr>\n    <tr>\n      <th>3</th>\n      <td>2</td>\n      <td>197.0</td>\n      <td>70.0</td>\n      <td>45.0</td>\n      <td>543.0</td>\n      <td>30.5</td>\n      <td>0.158</td>\n      <td>53</td>\n      <td>1</td>\n    </tr>\n    <tr>\n      <th>4</th>\n      <td>1</td>\n      <td>189.0</td>\n      <td>60.0</td>\n      <td>23.0</td>\n      <td>846.0</td>\n      <td>30.1</td>\n      <td>0.398</td>\n      <td>59</td>\n      <td>1</td>\n    </tr>\n    <tr>\n      <th>...</th>\n      <td>...</td>\n      <td>...</td>\n      <td>...</td>\n      <td>...</td>\n      <td>...</td>\n      <td>...</td>\n      <td>...</td>\n      <td>...</td>\n      <td>...</td>\n    </tr>\n    <tr>\n      <th>387</th>\n      <td>0</td>\n      <td>181.0</td>\n      <td>88.0</td>\n      <td>44.0</td>\n      <td>510.0</td>\n      <td>43.3</td>\n      <td>0.222</td>\n      <td>26</td>\n      <td>1</td>\n    </tr>\n    <tr>\n      <th>388</th>\n      <td>1</td>\n      <td>128.0</td>\n      <td>88.0</td>\n      <td>39.0</td>\n      <td>110.0</td>\n      <td>36.5</td>\n      <td>1.057</td>\n      <td>37</td>\n      <td>1</td>\n    </tr>\n    <tr>\n      <th>389</th>\n      <td>2</td>\n      <td>88.0</td>\n      <td>58.0</td>\n      <td>26.0</td>\n      <td>16.0</td>\n      <td>28.4</td>\n      <td>0.766</td>\n      <td>22</td>\n      <td>0</td>\n    </tr>\n    <tr>\n      <th>390</th>\n      <td>10</td>\n      <td>101.0</td>\n      <td>76.0</td>\n      <td>48.0</td>\n      <td>180.0</td>\n      <td>32.9</td>\n      <td>0.171</td>\n      <td>63</td>\n      <td>0</td>\n    </tr>\n    <tr>\n      <th>391</th>\n      <td>5</td>\n      <td>121.0</td>\n      <td>72.0</td>\n      <td>23.0</td>\n      <td>112.0</td>\n      <td>26.2</td>\n      <td>0.245</td>\n      <td>30</td>\n      <td>0</td>\n    </tr>\n  </tbody>\n</table>\n<p>392 rows × 9 columns</p>\n</div>"
     },
     "metadata": {}
    }
   ],
   "execution_count": null
  },
  {
   "cell_type": "markdown",
   "source": "Now, let's clearly define which columns will act as explanatory variables, and which column will be the target value, and split the dataset between your training data and testing data. Let's try an 80-20 split and use sklearn's [train_test_split](http://scikit-learn.org/stable/modules/generated/sklearn.model_selection.train_test_split.html) method (set random_state = 0 so we get the same output each time).",
   "metadata": {
    "id": "aSUwHL6-4P2F",
    "colab_type": "text",
    "cell_id": "00012-edbb2bcc-a36e-4f35-82dc-f76f34842e05",
    "deepnote_cell_type": "markdown"
   }
  },
  {
   "cell_type": "code",
   "metadata": {
    "colab_type": "code",
    "id": "9MXZjxRcgy78",
    "colab": {
     "base_uri": "https://localhost:8080/",
     "height": 68
    },
    "outputId": "91bb35f5-9c29-4c6b-dbba-7a0644a3e2ca",
    "cell_id": "00013-92ad0b5c-3054-4097-b3ae-6285d5b03669",
    "deepnote_to_be_reexecuted": false,
    "source_hash": "d98a6cd6",
    "execution_start": 1625682774337,
    "execution_millis": 24,
    "deepnote_cell_type": "code"
   },
   "source": "# Columns we will use to make predictions with (features!) feel free to play around with these\nX_cols = ['preg', 'plas', 'pres', 'skin', 'test', 'mass', 'pedi', 'age']\n\n# Column that we want to predict (the labels)\ny_col = 'class'\n\n# 80-20 train-test split of datset\ntest_size = 0.2\nX_train, X_test, y_train, y_test = train_test_split(data[X_cols], data[y_col], test_size=test_size, random_state=0)\n\n# Further split X and y of training into training and validation sets\nX_train, X_val, y_train, y_val = train_test_split(X_train, y_train, test_size=test_size, random_state=0)\n\nprint('There are {} training samples with {} features and {} associated classification labels'.format(*X_train.shape, *y_train.shape))\nprint('There are {} validation samples with {} features and {} associated classification labels'.format(*X_val.shape, *y_val.shape))\nprint('There are {} test samples with {} features and {} associated classification labels'.format(*X_test.shape, *y_test.shape))",
   "outputs": [
    {
     "name": "stdout",
     "text": "There are 250 training samples with 8 features and 250 associated classification labels\nThere are 63 validation samples with 8 features and 63 associated classification labels\nThere are 79 test samples with 8 features and 79 associated classification labels\n",
     "output_type": "stream"
    }
   ],
   "execution_count": null
  },
  {
   "cell_type": "markdown",
   "source": "### Normalizing Data\n\nLet's not forget to normalize the data! We'll use sklearn's StandardScaler normalization like we did before to normalize the training **and** validation/data.",
   "metadata": {
    "colab_type": "text",
    "id": "De_EJnYKgz_6",
    "cell_id": "00014-d3d19f71-9aab-4cb2-a5bc-bd51c048aaab",
    "deepnote_cell_type": "markdown"
   }
  },
  {
   "cell_type": "code",
   "metadata": {
    "colab_type": "code",
    "id": "6PD6-ibriBJO",
    "colab": {},
    "cell_id": "00015-3c4b33fb-bf48-4a47-888f-26f963243ca1",
    "deepnote_to_be_reexecuted": false,
    "source_hash": "844e8ff7",
    "execution_start": 1625682774370,
    "execution_millis": 18,
    "deepnote_cell_type": "code"
   },
   "source": "from sklearn.preprocessing import StandardScaler\n\nscaler = StandardScaler()\n\nfor i in list(X_train):\n    feature_data_train = X_train[i].values.reshape(-1, 1)\n    scaler.fit(feature_data_train)\n    X_train[i] = scaler.transform(feature_data_train)\n\nfor j in list(X_test):\n    feature_data_test = X_test[j].values.reshape(-1, 1)\n    scaler.fit(feature_data_test)\n    X_test[j] = scaler.transform(feature_data_test)\n    \nfor k in list(X_val):\n    feature_data_val = X_val[k].values.reshape(-1, 1)\n    scaler.fit(feature_data_val)\n    X_val[k] = scaler.transform(feature_data_val)",
   "outputs": [],
   "execution_count": null
  },
  {
   "cell_type": "markdown",
   "source": "### Writing your kNN\n\nNow for the fun part! Fill in the 3 following methods, euclidean_dist(), predict(), and knn().\n\nThe predict method that we'll make below needs to: \n1. Compute the euclidean distance between the “new” observation and all the data points in the training set. \n2. Assign the corresponding label to the observation\n3. Select the k nearest ones and perform a \"majority vote\"",
   "metadata": {
    "colab_type": "text",
    "id": "hnv61aiiitxU",
    "cell_id": "00016-936a23e0-5940-4cd3-bfbf-f65294228af4",
    "deepnote_cell_type": "markdown"
   }
  },
  {
   "cell_type": "code",
   "metadata": {
    "id": "xXkIw6zN3lVb",
    "colab_type": "code",
    "colab": {},
    "cell_id": "00017-14b68561-0190-4b35-9b04-3b33196a69b9",
    "deepnote_to_be_reexecuted": false,
    "source_hash": "9c4668ff",
    "execution_start": 1625682774429,
    "execution_millis": 1,
    "deepnote_cell_type": "code"
   },
   "source": "# Euclidean distance function from tutorial\ndef euclidean_dist(datum1, datum2):\n    inner_val = 0.0\n    \n    for g in range(datum1.shape[0]):\n        inner_val += (datum1[g]- datum2[g]) ** 2\n    \n    distance = np.sqrt(inner_val)\n    return(distance)",
   "outputs": [],
   "execution_count": null
  },
  {
   "cell_type": "code",
   "metadata": {
    "colab_type": "code",
    "id": "FqJkm_ytjFgM",
    "colab": {},
    "cell_id": "00018-7a3be6d5-55b3-4735-9047-9e5f47a66054",
    "deepnote_to_be_reexecuted": false,
    "source_hash": "ded30d10",
    "execution_start": 1625683062586,
    "execution_millis": 0,
    "deepnote_cell_type": "code"
   },
   "source": "from collections import Counter\n\ndef predict(x_training, y_training, x_test_sample, k):\n    \n    # Create list for distances and targets\n    distances = []\n    targets = []\n    \n    # YOUR CODE HERE\n    for i in list(x_training.index):\n        dist = euclidean_dist(x_test_sample, x_training.loc[i])\n        distances.append([dist, i])\n    \n    distances = sorted(distances)\n\n    for i in range(k):\n        index = distances[i][1]\n        targets.append(y_training.loc[index])\n\n    counter = Counter(targets)\n    return counter.most_common()[0][0]\n",
   "outputs": [],
   "execution_count": null
  },
  {
   "cell_type": "code",
   "metadata": {
    "id": "BguZLcRa3lVh",
    "colab_type": "code",
    "colab": {},
    "cell_id": "00019-0630ca1e-0300-4f0e-8a92-1b703be12bbe",
    "deepnote_to_be_reexecuted": false,
    "source_hash": "2ab2701",
    "execution_start": 1625682774431,
    "execution_millis": 0,
    "deepnote_cell_type": "code"
   },
   "source": "def knn(x_training, y_training, x_testing, k):\n    result = np.empty([x_testing.shape[0],])\n    result_index = 0\n\n    for i in list(x_testing.index):\n        result[result_index] = predict(x_training, y_training, x_testing.loc[i], k)\n        #result.append(prediction)\n        result_index += 1\n    \n    return result.astype(int)\n\n# print(type(result))",
   "outputs": [],
   "execution_count": null
  },
  {
   "cell_type": "markdown",
   "source": "When done, test your code by running the methods here!",
   "metadata": {
    "colab_type": "text",
    "id": "4uhQZPIpjdo9",
    "cell_id": "00020-cfffd903-553f-4ecc-8220-5636a082d81a",
    "deepnote_cell_type": "markdown"
   }
  },
  {
   "cell_type": "code",
   "metadata": {
    "colab_type": "code",
    "id": "AHRJXVr7jcao",
    "colab": {},
    "cell_id": "00021-89b4af94-0959-47b8-ac7a-1c2f48e40679",
    "deepnote_to_be_reexecuted": false,
    "source_hash": "bb9a4e8c",
    "execution_start": 1625683267428,
    "execution_millis": 6537,
    "deepnote_cell_type": "code"
   },
   "source": "from sklearn.metrics import accuracy_score\nimport time\n\nstart = time.time()\npredictions_slow = knn(X_train, y_train, X_val, k=5)\n\n\nprint('Took {} seconds'.format(time.time() - start))\nprint(\"Validation Accuracy is \", accuracy_score(y_val,predictions_slow)*100)",
   "outputs": [
    {
     "name": "stdout",
     "text": "<class 'numpy.ndarray'>\nTook 6.543851137161255 seconds\nValidation Accuracy is  80.95238095238095\n",
     "output_type": "stream"
    }
   ],
   "execution_count": null
  },
  {
   "cell_type": "markdown",
   "source": "Check sklearn's predictions on validation data from the tutorial notebook and make sure they match yours. Sklearn is faster, but you should get the same answers.",
   "metadata": {
    "id": "2a51RcbJ3lVq",
    "colab_type": "text",
    "cell_id": "00022-4a85eefc-cd74-4a60-894d-aa845d36111f",
    "deepnote_cell_type": "markdown"
   }
  },
  {
   "cell_type": "markdown",
   "source": "<a style='text-decoration:none;line-height:16px;display:flex;color:#5B5B62;padding:10px;justify-content:end;' href='https://deepnote.com?utm_source=created-in-deepnote-cell&projectId=867a077d-cc4a-444a-b148-d2ffaf2ad44b' target=\"_blank\">\n<img alt='Created in deepnote.com' style='display:inline;max-height:16px;margin:0px;margin-right:7.5px;' src='data:image/svg+xml;base64,PD94bWwgdmVyc2lvbj0iMS4wIiBlbmNvZGluZz0iVVRGLTgiPz4KPHN2ZyB3aWR0aD0iODBweCIgaGVpZ2h0PSI4MHB4IiB2aWV3Qm94PSIwIDAgODAgODAiIHZlcnNpb249IjEuMSIgeG1sbnM9Imh0dHA6Ly93d3cudzMub3JnLzIwMDAvc3ZnIiB4bWxuczp4bGluaz0iaHR0cDovL3d3dy53My5vcmcvMTk5OS94bGluayI+CiAgICA8IS0tIEdlbmVyYXRvcjogU2tldGNoIDU0LjEgKDc2NDkwKSAtIGh0dHBzOi8vc2tldGNoYXBwLmNvbSAtLT4KICAgIDx0aXRsZT5Hcm91cCAzPC90aXRsZT4KICAgIDxkZXNjPkNyZWF0ZWQgd2l0aCBTa2V0Y2guPC9kZXNjPgogICAgPGcgaWQ9IkxhbmRpbmciIHN0cm9rZT0ibm9uZSIgc3Ryb2tlLXdpZHRoPSIxIiBmaWxsPSJub25lIiBmaWxsLXJ1bGU9ImV2ZW5vZGQiPgogICAgICAgIDxnIGlkPSJBcnRib2FyZCIgdHJhbnNmb3JtPSJ0cmFuc2xhdGUoLTEyMzUuMDAwMDAwLCAtNzkuMDAwMDAwKSI+CiAgICAgICAgICAgIDxnIGlkPSJHcm91cC0zIiB0cmFuc2Zvcm09InRyYW5zbGF0ZSgxMjM1LjAwMDAwMCwgNzkuMDAwMDAwKSI+CiAgICAgICAgICAgICAgICA8cG9seWdvbiBpZD0iUGF0aC0yMCIgZmlsbD0iIzAyNjVCNCIgcG9pbnRzPSIyLjM3NjIzNzYyIDgwIDM4LjA0NzY2NjcgODAgNTcuODIxNzgyMiA3My44MDU3NTkyIDU3LjgyMTc4MjIgMzIuNzU5MjczOSAzOS4xNDAyMjc4IDMxLjY4MzE2ODMiPjwvcG9seWdvbj4KICAgICAgICAgICAgICAgIDxwYXRoIGQ9Ik0zNS4wMDc3MTgsODAgQzQyLjkwNjIwMDcsNzYuNDU0OTM1OCA0Ny41NjQ5MTY3LDcxLjU0MjI2NzEgNDguOTgzODY2LDY1LjI2MTk5MzkgQzUxLjExMjI4OTksNTUuODQxNTg0MiA0MS42NzcxNzk1LDQ5LjIxMjIyODQgMjUuNjIzOTg0Niw0OS4yMTIyMjg0IEMyNS40ODQ5Mjg5LDQ5LjEyNjg0NDggMjkuODI2MTI5Niw0My4yODM4MjQ4IDM4LjY0NzU4NjksMzEuNjgzMTY4MyBMNzIuODcxMjg3MSwzMi41NTQ0MjUgTDY1LjI4MDk3Myw2Ny42NzYzNDIxIEw1MS4xMTIyODk5LDc3LjM3NjE0NCBMMzUuMDA3NzE4LDgwIFoiIGlkPSJQYXRoLTIyIiBmaWxsPSIjMDAyODY4Ij48L3BhdGg+CiAgICAgICAgICAgICAgICA8cGF0aCBkPSJNMCwzNy43MzA0NDA1IEwyNy4xMTQ1MzcsMC4yNTcxMTE0MzYgQzYyLjM3MTUxMjMsLTEuOTkwNzE3MDEgODAsMTAuNTAwMzkyNyA4MCwzNy43MzA0NDA1IEM4MCw2NC45NjA0ODgyIDY0Ljc3NjUwMzgsNzkuMDUwMzQxNCAzNC4zMjk1MTEzLDgwIEM0Ny4wNTUzNDg5LDc3LjU2NzA4MDggNTMuNDE4MjY3Nyw3MC4zMTM2MTAzIDUzLjQxODI2NzcsNTguMjM5NTg4NSBDNTMuNDE4MjY3Nyw0MC4xMjg1NTU3IDM2LjMwMzk1NDQsMzcuNzMwNDQwNSAyNS4yMjc0MTcsMzcuNzMwNDQwNSBDMTcuODQzMDU4NiwzNy43MzA0NDA1IDkuNDMzOTE5NjYsMzcuNzMwNDQwNSAwLDM3LjczMDQ0MDUgWiIgaWQ9IlBhdGgtMTkiIGZpbGw9IiMzNzkzRUYiPjwvcGF0aD4KICAgICAgICAgICAgPC9nPgogICAgICAgIDwvZz4KICAgIDwvZz4KPC9zdmc+' > </img>\nCreated in <span style='font-weight:600;margin-left:4px;'>Deepnote</span></a>",
   "metadata": {
    "tags": [],
    "created_in_deepnote_cell": true,
    "deepnote_cell_type": "markdown"
   }
  }
 ],
 "nbformat": 4,
 "nbformat_minor": 0,
 "metadata": {
  "colab": {
   "name": "NearestNeighbors_Exercises",
   "provenance": [],
   "collapsed_sections": []
  },
  "kernelspec": {
   "display_name": "Python 3",
   "language": "python",
   "name": "python3"
  },
  "language_info": {
   "codemirror_mode": {
    "name": "ipython",
    "version": 3
   },
   "file_extension": ".py",
   "mimetype": "text/x-python",
   "name": "python",
   "nbconvert_exporter": "python",
   "pygments_lexer": "ipython3",
   "version": "3.7.3"
  },
  "deepnote_notebook_id": "9b6a0168-bffb-4750-b7a9-565c6addf8e5",
  "deepnote": {},
  "deepnote_execution_queue": []
 }
}