{
 "cells": [
  {
   "cell_type": "markdown",
   "source": "# Pandas Exercises",
   "metadata": {
    "colab_type": "text",
    "id": "bSU6eKZTdMXZ",
    "cell_id": "00000-b46ef730-0e5a-4728-89de-884bc8e0fffd",
    "deepnote_cell_type": "markdown"
   }
  },
  {
   "cell_type": "code",
   "metadata": {
    "colab_type": "code",
    "id": "c5ewTg7vdQFm",
    "colab": {},
    "deepnote_to_be_reexecuted": false,
    "source_hash": "73161b4",
    "execution_start": 1625628246550,
    "execution_millis": 3,
    "cell_id": "00001-0bed9f3e-4ee4-4133-963c-1d8dcb3b34a1",
    "deepnote_cell_type": "code"
   },
   "source": "import pandas as pd\n\nurl = \"https://raw.githubusercontent.com/BeaverWorksMedlytics2020/Data_Public/master/NotebookExampleData/Week1/diabetes.csv\"\nnames = ['preg', 'plas', 'pres', 'skin', 'test', 'mass', 'pedi', 'age', 'class']",
   "execution_count": null,
   "outputs": []
  },
  {
   "cell_type": "markdown",
   "source": "Read in csv above to a pandas dataframe",
   "metadata": {
    "colab_type": "text",
    "id": "QOLgFaSKeShR",
    "cell_id": "00002-02c6dec8-f183-410a-b768-e2d612b23f5e",
    "deepnote_cell_type": "markdown"
   }
  },
  {
   "cell_type": "code",
   "metadata": {
    "colab_type": "code",
    "id": "Okcb8dnXeX2C",
    "colab": {},
    "deepnote_to_be_reexecuted": false,
    "source_hash": "7d084765",
    "execution_start": 1625628246562,
    "execution_millis": 230,
    "cell_id": "00003-a694c120-efd6-41ca-a0a6-7cd28abae34b",
    "deepnote_cell_type": "code"
   },
   "source": "# YOUR CODE HERE\ndf = pd.read_csv(url, names=names)\ndf",
   "execution_count": null,
   "outputs": [
    {
     "output_type": "execute_result",
     "execution_count": 2,
     "data": {
      "application/vnd.deepnote.dataframe.v2+json": {
       "row_count": 768,
       "column_count": 9,
       "columns": [
        {
         "name": "preg",
         "dtype": "int64",
         "stats": {
          "unique_count": 17,
          "nan_count": 0,
          "min": "0",
          "max": "17",
          "histogram": [
           {
            "bin_start": 0,
            "bin_end": 1.7,
            "count": 246
           },
           {
            "bin_start": 1.7,
            "bin_end": 3.4,
            "count": 178
           },
           {
            "bin_start": 3.4,
            "bin_end": 5.1,
            "count": 125
           },
           {
            "bin_start": 5.1,
            "bin_end": 6.8,
            "count": 50
           },
           {
            "bin_start": 6.8,
            "bin_end": 8.5,
            "count": 83
           },
           {
            "bin_start": 8.5,
            "bin_end": 10.2,
            "count": 52
           },
           {
            "bin_start": 10.2,
            "bin_end": 11.9,
            "count": 11
           },
           {
            "bin_start": 11.9,
            "bin_end": 13.6,
            "count": 19
           },
           {
            "bin_start": 13.6,
            "bin_end": 15.299999999999999,
            "count": 3
           },
           {
            "bin_start": 15.299999999999999,
            "bin_end": 17,
            "count": 1
           }
          ]
         }
        },
        {
         "name": "plas",
         "dtype": "int64",
         "stats": {
          "unique_count": 136,
          "nan_count": 0,
          "min": "0",
          "max": "199",
          "histogram": [
           {
            "bin_start": 0,
            "bin_end": 19.9,
            "count": 5
           },
           {
            "bin_start": 19.9,
            "bin_end": 39.8,
            "count": 0
           },
           {
            "bin_start": 39.8,
            "bin_end": 59.699999999999996,
            "count": 4
           },
           {
            "bin_start": 59.699999999999996,
            "bin_end": 79.6,
            "count": 32
           },
           {
            "bin_start": 79.6,
            "bin_end": 99.5,
            "count": 156
           },
           {
            "bin_start": 99.5,
            "bin_end": 119.39999999999999,
            "count": 211
           },
           {
            "bin_start": 119.39999999999999,
            "bin_end": 139.29999999999998,
            "count": 163
           },
           {
            "bin_start": 139.29999999999998,
            "bin_end": 159.2,
            "count": 95
           },
           {
            "bin_start": 159.2,
            "bin_end": 179.1,
            "count": 56
           },
           {
            "bin_start": 179.1,
            "bin_end": 199,
            "count": 46
           }
          ]
         }
        },
        {
         "name": "pres",
         "dtype": "int64",
         "stats": {
          "unique_count": 47,
          "nan_count": 0,
          "min": "0",
          "max": "122",
          "histogram": [
           {
            "bin_start": 0,
            "bin_end": 12.2,
            "count": 35
           },
           {
            "bin_start": 12.2,
            "bin_end": 24.4,
            "count": 1
           },
           {
            "bin_start": 24.4,
            "bin_end": 36.599999999999994,
            "count": 2
           },
           {
            "bin_start": 36.599999999999994,
            "bin_end": 48.8,
            "count": 13
           },
           {
            "bin_start": 48.8,
            "bin_end": 61,
            "count": 107
           },
           {
            "bin_start": 61,
            "bin_end": 73.19999999999999,
            "count": 261
           },
           {
            "bin_start": 73.19999999999999,
            "bin_end": 85.39999999999999,
            "count": 243
           },
           {
            "bin_start": 85.39999999999999,
            "bin_end": 97.6,
            "count": 87
           },
           {
            "bin_start": 97.6,
            "bin_end": 109.8,
            "count": 14
           },
           {
            "bin_start": 109.8,
            "bin_end": 122,
            "count": 5
           }
          ]
         }
        },
        {
         "name": "skin",
         "dtype": "int64",
         "stats": {
          "unique_count": 51,
          "nan_count": 0,
          "min": "0",
          "max": "99",
          "histogram": [
           {
            "bin_start": 0,
            "bin_end": 9.9,
            "count": 231
           },
           {
            "bin_start": 9.9,
            "bin_end": 19.8,
            "count": 107
           },
           {
            "bin_start": 19.8,
            "bin_end": 29.700000000000003,
            "count": 165
           },
           {
            "bin_start": 29.700000000000003,
            "bin_end": 39.6,
            "count": 175
           },
           {
            "bin_start": 39.6,
            "bin_end": 49.5,
            "count": 78
           },
           {
            "bin_start": 49.5,
            "bin_end": 59.400000000000006,
            "count": 9
           },
           {
            "bin_start": 59.400000000000006,
            "bin_end": 69.3,
            "count": 2
           },
           {
            "bin_start": 69.3,
            "bin_end": 79.2,
            "count": 0
           },
           {
            "bin_start": 79.2,
            "bin_end": 89.10000000000001,
            "count": 0
           },
           {
            "bin_start": 89.10000000000001,
            "bin_end": 99,
            "count": 1
           }
          ]
         }
        },
        {
         "name": "test",
         "dtype": "int64",
         "stats": {
          "unique_count": 186,
          "nan_count": 0,
          "min": "0",
          "max": "846",
          "histogram": [
           {
            "bin_start": 0,
            "bin_end": 84.6,
            "count": 487
           },
           {
            "bin_start": 84.6,
            "bin_end": 169.2,
            "count": 155
           },
           {
            "bin_start": 169.2,
            "bin_end": 253.79999999999998,
            "count": 70
           },
           {
            "bin_start": 253.79999999999998,
            "bin_end": 338.4,
            "count": 30
           },
           {
            "bin_start": 338.4,
            "bin_end": 423,
            "count": 8
           },
           {
            "bin_start": 423,
            "bin_end": 507.59999999999997,
            "count": 9
           },
           {
            "bin_start": 507.59999999999997,
            "bin_end": 592.1999999999999,
            "count": 5
           },
           {
            "bin_start": 592.1999999999999,
            "bin_end": 676.8,
            "count": 1
           },
           {
            "bin_start": 676.8,
            "bin_end": 761.4,
            "count": 2
           },
           {
            "bin_start": 761.4,
            "bin_end": 846,
            "count": 1
           }
          ]
         }
        },
        {
         "name": "mass",
         "dtype": "float64",
         "stats": {
          "unique_count": 248,
          "nan_count": 0,
          "min": "0.0",
          "max": "67.1",
          "histogram": [
           {
            "bin_start": 0,
            "bin_end": 6.709999999999999,
            "count": 11
           },
           {
            "bin_start": 6.709999999999999,
            "bin_end": 13.419999999999998,
            "count": 0
           },
           {
            "bin_start": 13.419999999999998,
            "bin_end": 20.129999999999995,
            "count": 15
           },
           {
            "bin_start": 20.129999999999995,
            "bin_end": 26.839999999999996,
            "count": 156
           },
           {
            "bin_start": 26.839999999999996,
            "bin_end": 33.55,
            "count": 268
           },
           {
            "bin_start": 33.55,
            "bin_end": 40.25999999999999,
            "count": 224
           },
           {
            "bin_start": 40.25999999999999,
            "bin_end": 46.96999999999999,
            "count": 78
           },
           {
            "bin_start": 46.96999999999999,
            "bin_end": 53.67999999999999,
            "count": 12
           },
           {
            "bin_start": 53.67999999999999,
            "bin_end": 60.38999999999999,
            "count": 3
           },
           {
            "bin_start": 60.38999999999999,
            "bin_end": 67.1,
            "count": 1
           }
          ]
         }
        },
        {
         "name": "pedi",
         "dtype": "float64",
         "stats": {
          "unique_count": 517,
          "nan_count": 0,
          "min": "0.078",
          "max": "2.42",
          "histogram": [
           {
            "bin_start": 0.078,
            "bin_end": 0.31220000000000003,
            "count": 318
           },
           {
            "bin_start": 0.31220000000000003,
            "bin_end": 0.5464,
            "count": 206
           },
           {
            "bin_start": 0.5464,
            "bin_end": 0.7806000000000001,
            "count": 136
           },
           {
            "bin_start": 0.7806000000000001,
            "bin_end": 1.0148000000000001,
            "count": 58
           },
           {
            "bin_start": 1.0148000000000001,
            "bin_end": 1.249,
            "count": 25
           },
           {
            "bin_start": 1.249,
            "bin_end": 1.4832000000000003,
            "count": 15
           },
           {
            "bin_start": 1.4832000000000003,
            "bin_end": 1.7174000000000003,
            "count": 3
           },
           {
            "bin_start": 1.7174000000000003,
            "bin_end": 1.9516000000000002,
            "count": 3
           },
           {
            "bin_start": 1.9516000000000002,
            "bin_end": 2.1858,
            "count": 1
           },
           {
            "bin_start": 2.1858,
            "bin_end": 2.42,
            "count": 3
           }
          ]
         }
        },
        {
         "name": "age",
         "dtype": "int64",
         "stats": {
          "unique_count": 52,
          "nan_count": 0,
          "min": "21",
          "max": "81",
          "histogram": [
           {
            "bin_start": 21,
            "bin_end": 27,
            "count": 300
           },
           {
            "bin_start": 27,
            "bin_end": 33,
            "count": 157
           },
           {
            "bin_start": 33,
            "bin_end": 39,
            "count": 92
           },
           {
            "bin_start": 39,
            "bin_end": 45,
            "count": 86
           },
           {
            "bin_start": 45,
            "bin_end": 51,
            "count": 52
           },
           {
            "bin_start": 51,
            "bin_end": 57,
            "count": 34
           },
           {
            "bin_start": 57,
            "bin_end": 63,
            "count": 26
           },
           {
            "bin_start": 63,
            "bin_end": 69,
            "count": 16
           },
           {
            "bin_start": 69,
            "bin_end": 75,
            "count": 4
           },
           {
            "bin_start": 75,
            "bin_end": 81,
            "count": 1
           }
          ]
         }
        },
        {
         "name": "class",
         "dtype": "int64",
         "stats": {
          "unique_count": 2,
          "nan_count": 0,
          "min": "0",
          "max": "1",
          "histogram": [
           {
            "bin_start": 0,
            "bin_end": 0.1,
            "count": 500
           },
           {
            "bin_start": 0.1,
            "bin_end": 0.2,
            "count": 0
           },
           {
            "bin_start": 0.2,
            "bin_end": 0.30000000000000004,
            "count": 0
           },
           {
            "bin_start": 0.30000000000000004,
            "bin_end": 0.4,
            "count": 0
           },
           {
            "bin_start": 0.4,
            "bin_end": 0.5,
            "count": 0
           },
           {
            "bin_start": 0.5,
            "bin_end": 0.6000000000000001,
            "count": 0
           },
           {
            "bin_start": 0.6000000000000001,
            "bin_end": 0.7000000000000001,
            "count": 0
           },
           {
            "bin_start": 0.7000000000000001,
            "bin_end": 0.8,
            "count": 0
           },
           {
            "bin_start": 0.8,
            "bin_end": 0.9,
            "count": 0
           },
           {
            "bin_start": 0.9,
            "bin_end": 1,
            "count": 268
           }
          ]
         }
        },
        {
         "name": "_deepnote_index_column",
         "dtype": "int64"
        }
       ],
       "rows_top": [
        {
         "preg": 6,
         "plas": 148,
         "pres": 72,
         "skin": 35,
         "test": 0,
         "mass": 33.6,
         "pedi": 0.627,
         "age": 50,
         "class": 1,
         "_deepnote_index_column": 0
        },
        {
         "preg": 1,
         "plas": 85,
         "pres": 66,
         "skin": 29,
         "test": 0,
         "mass": 26.6,
         "pedi": 0.351,
         "age": 31,
         "class": 0,
         "_deepnote_index_column": 1
        },
        {
         "preg": 8,
         "plas": 183,
         "pres": 64,
         "skin": 0,
         "test": 0,
         "mass": 23.3,
         "pedi": 0.672,
         "age": 32,
         "class": 1,
         "_deepnote_index_column": 2
        },
        {
         "preg": 1,
         "plas": 89,
         "pres": 66,
         "skin": 23,
         "test": 94,
         "mass": 28.1,
         "pedi": 0.167,
         "age": 21,
         "class": 0,
         "_deepnote_index_column": 3
        },
        {
         "preg": 0,
         "plas": 137,
         "pres": 40,
         "skin": 35,
         "test": 168,
         "mass": 43.1,
         "pedi": 2.288,
         "age": 33,
         "class": 1,
         "_deepnote_index_column": 4
        },
        {
         "preg": 5,
         "plas": 116,
         "pres": 74,
         "skin": 0,
         "test": 0,
         "mass": 25.6,
         "pedi": 0.201,
         "age": 30,
         "class": 0,
         "_deepnote_index_column": 5
        },
        {
         "preg": 3,
         "plas": 78,
         "pres": 50,
         "skin": 32,
         "test": 88,
         "mass": 31,
         "pedi": 0.248,
         "age": 26,
         "class": 1,
         "_deepnote_index_column": 6
        },
        {
         "preg": 10,
         "plas": 115,
         "pres": 0,
         "skin": 0,
         "test": 0,
         "mass": 35.3,
         "pedi": 0.134,
         "age": 29,
         "class": 0,
         "_deepnote_index_column": 7
        },
        {
         "preg": 2,
         "plas": 197,
         "pres": 70,
         "skin": 45,
         "test": 543,
         "mass": 30.5,
         "pedi": 0.158,
         "age": 53,
         "class": 1,
         "_deepnote_index_column": 8
        },
        {
         "preg": 8,
         "plas": 125,
         "pres": 96,
         "skin": 0,
         "test": 0,
         "mass": 0,
         "pedi": 0.232,
         "age": 54,
         "class": 1,
         "_deepnote_index_column": 9
        },
        {
         "preg": 4,
         "plas": 110,
         "pres": 92,
         "skin": 0,
         "test": 0,
         "mass": 37.6,
         "pedi": 0.191,
         "age": 30,
         "class": 0,
         "_deepnote_index_column": 10
        },
        {
         "preg": 10,
         "plas": 168,
         "pres": 74,
         "skin": 0,
         "test": 0,
         "mass": 38,
         "pedi": 0.537,
         "age": 34,
         "class": 1,
         "_deepnote_index_column": 11
        },
        {
         "preg": 10,
         "plas": 139,
         "pres": 80,
         "skin": 0,
         "test": 0,
         "mass": 27.1,
         "pedi": 1.441,
         "age": 57,
         "class": 0,
         "_deepnote_index_column": 12
        },
        {
         "preg": 1,
         "plas": 189,
         "pres": 60,
         "skin": 23,
         "test": 846,
         "mass": 30.1,
         "pedi": 0.398,
         "age": 59,
         "class": 1,
         "_deepnote_index_column": 13
        },
        {
         "preg": 5,
         "plas": 166,
         "pres": 72,
         "skin": 19,
         "test": 175,
         "mass": 25.8,
         "pedi": 0.587,
         "age": 51,
         "class": 1,
         "_deepnote_index_column": 14
        },
        {
         "preg": 7,
         "plas": 100,
         "pres": 0,
         "skin": 0,
         "test": 0,
         "mass": 30,
         "pedi": 0.484,
         "age": 32,
         "class": 1,
         "_deepnote_index_column": 15
        },
        {
         "preg": 0,
         "plas": 118,
         "pres": 84,
         "skin": 47,
         "test": 230,
         "mass": 45.8,
         "pedi": 0.551,
         "age": 31,
         "class": 1,
         "_deepnote_index_column": 16
        },
        {
         "preg": 7,
         "plas": 107,
         "pres": 74,
         "skin": 0,
         "test": 0,
         "mass": 29.6,
         "pedi": 0.254,
         "age": 31,
         "class": 1,
         "_deepnote_index_column": 17
        },
        {
         "preg": 1,
         "plas": 103,
         "pres": 30,
         "skin": 38,
         "test": 83,
         "mass": 43.3,
         "pedi": 0.183,
         "age": 33,
         "class": 0,
         "_deepnote_index_column": 18
        },
        {
         "preg": 1,
         "plas": 115,
         "pres": 70,
         "skin": 30,
         "test": 96,
         "mass": 34.6,
         "pedi": 0.529,
         "age": 32,
         "class": 1,
         "_deepnote_index_column": 19
        },
        {
         "preg": 3,
         "plas": 126,
         "pres": 88,
         "skin": 41,
         "test": 235,
         "mass": 39.3,
         "pedi": 0.704,
         "age": 27,
         "class": 0,
         "_deepnote_index_column": 20
        },
        {
         "preg": 8,
         "plas": 99,
         "pres": 84,
         "skin": 0,
         "test": 0,
         "mass": 35.4,
         "pedi": 0.388,
         "age": 50,
         "class": 0,
         "_deepnote_index_column": 21
        },
        {
         "preg": 7,
         "plas": 196,
         "pres": 90,
         "skin": 0,
         "test": 0,
         "mass": 39.8,
         "pedi": 0.451,
         "age": 41,
         "class": 1,
         "_deepnote_index_column": 22
        },
        {
         "preg": 9,
         "plas": 119,
         "pres": 80,
         "skin": 35,
         "test": 0,
         "mass": 29,
         "pedi": 0.263,
         "age": 29,
         "class": 1,
         "_deepnote_index_column": 23
        },
        {
         "preg": 11,
         "plas": 143,
         "pres": 94,
         "skin": 33,
         "test": 146,
         "mass": 36.6,
         "pedi": 0.254,
         "age": 51,
         "class": 1,
         "_deepnote_index_column": 24
        },
        {
         "preg": 10,
         "plas": 125,
         "pres": 70,
         "skin": 26,
         "test": 115,
         "mass": 31.1,
         "pedi": 0.205,
         "age": 41,
         "class": 1,
         "_deepnote_index_column": 25
        },
        {
         "preg": 7,
         "plas": 147,
         "pres": 76,
         "skin": 0,
         "test": 0,
         "mass": 39.4,
         "pedi": 0.257,
         "age": 43,
         "class": 1,
         "_deepnote_index_column": 26
        },
        {
         "preg": 1,
         "plas": 97,
         "pres": 66,
         "skin": 15,
         "test": 140,
         "mass": 23.2,
         "pedi": 0.487,
         "age": 22,
         "class": 0,
         "_deepnote_index_column": 27
        },
        {
         "preg": 13,
         "plas": 145,
         "pres": 82,
         "skin": 19,
         "test": 110,
         "mass": 22.2,
         "pedi": 0.245,
         "age": 57,
         "class": 0,
         "_deepnote_index_column": 28
        },
        {
         "preg": 5,
         "plas": 117,
         "pres": 92,
         "skin": 0,
         "test": 0,
         "mass": 34.1,
         "pedi": 0.337,
         "age": 38,
         "class": 0,
         "_deepnote_index_column": 29
        },
        {
         "preg": 5,
         "plas": 109,
         "pres": 75,
         "skin": 26,
         "test": 0,
         "mass": 36,
         "pedi": 0.546,
         "age": 60,
         "class": 0,
         "_deepnote_index_column": 30
        },
        {
         "preg": 3,
         "plas": 158,
         "pres": 76,
         "skin": 36,
         "test": 245,
         "mass": 31.6,
         "pedi": 0.851,
         "age": 28,
         "class": 1,
         "_deepnote_index_column": 31
        },
        {
         "preg": 3,
         "plas": 88,
         "pres": 58,
         "skin": 11,
         "test": 54,
         "mass": 24.8,
         "pedi": 0.267,
         "age": 22,
         "class": 0,
         "_deepnote_index_column": 32
        },
        {
         "preg": 6,
         "plas": 92,
         "pres": 92,
         "skin": 0,
         "test": 0,
         "mass": 19.9,
         "pedi": 0.188,
         "age": 28,
         "class": 0,
         "_deepnote_index_column": 33
        },
        {
         "preg": 10,
         "plas": 122,
         "pres": 78,
         "skin": 31,
         "test": 0,
         "mass": 27.6,
         "pedi": 0.512,
         "age": 45,
         "class": 0,
         "_deepnote_index_column": 34
        },
        {
         "preg": 4,
         "plas": 103,
         "pres": 60,
         "skin": 33,
         "test": 192,
         "mass": 24,
         "pedi": 0.966,
         "age": 33,
         "class": 0,
         "_deepnote_index_column": 35
        },
        {
         "preg": 11,
         "plas": 138,
         "pres": 76,
         "skin": 0,
         "test": 0,
         "mass": 33.2,
         "pedi": 0.42,
         "age": 35,
         "class": 0,
         "_deepnote_index_column": 36
        },
        {
         "preg": 9,
         "plas": 102,
         "pres": 76,
         "skin": 37,
         "test": 0,
         "mass": 32.9,
         "pedi": 0.665,
         "age": 46,
         "class": 1,
         "_deepnote_index_column": 37
        },
        {
         "preg": 2,
         "plas": 90,
         "pres": 68,
         "skin": 42,
         "test": 0,
         "mass": 38.2,
         "pedi": 0.503,
         "age": 27,
         "class": 1,
         "_deepnote_index_column": 38
        },
        {
         "preg": 4,
         "plas": 111,
         "pres": 72,
         "skin": 47,
         "test": 207,
         "mass": 37.1,
         "pedi": 1.39,
         "age": 56,
         "class": 1,
         "_deepnote_index_column": 39
        },
        {
         "preg": 3,
         "plas": 180,
         "pres": 64,
         "skin": 25,
         "test": 70,
         "mass": 34,
         "pedi": 0.271,
         "age": 26,
         "class": 0,
         "_deepnote_index_column": 40
        },
        {
         "preg": 7,
         "plas": 133,
         "pres": 84,
         "skin": 0,
         "test": 0,
         "mass": 40.2,
         "pedi": 0.696,
         "age": 37,
         "class": 0,
         "_deepnote_index_column": 41
        },
        {
         "preg": 7,
         "plas": 106,
         "pres": 92,
         "skin": 18,
         "test": 0,
         "mass": 22.7,
         "pedi": 0.235,
         "age": 48,
         "class": 0,
         "_deepnote_index_column": 42
        },
        {
         "preg": 9,
         "plas": 171,
         "pres": 110,
         "skin": 24,
         "test": 240,
         "mass": 45.4,
         "pedi": 0.721,
         "age": 54,
         "class": 1,
         "_deepnote_index_column": 43
        },
        {
         "preg": 7,
         "plas": 159,
         "pres": 64,
         "skin": 0,
         "test": 0,
         "mass": 27.4,
         "pedi": 0.294,
         "age": 40,
         "class": 0,
         "_deepnote_index_column": 44
        },
        {
         "preg": 0,
         "plas": 180,
         "pres": 66,
         "skin": 39,
         "test": 0,
         "mass": 42,
         "pedi": 1.893,
         "age": 25,
         "class": 1,
         "_deepnote_index_column": 45
        },
        {
         "preg": 1,
         "plas": 146,
         "pres": 56,
         "skin": 0,
         "test": 0,
         "mass": 29.7,
         "pedi": 0.564,
         "age": 29,
         "class": 0,
         "_deepnote_index_column": 46
        },
        {
         "preg": 2,
         "plas": 71,
         "pres": 70,
         "skin": 27,
         "test": 0,
         "mass": 28,
         "pedi": 0.586,
         "age": 22,
         "class": 0,
         "_deepnote_index_column": 47
        },
        {
         "preg": 7,
         "plas": 103,
         "pres": 66,
         "skin": 32,
         "test": 0,
         "mass": 39.1,
         "pedi": 0.344,
         "age": 31,
         "class": 1,
         "_deepnote_index_column": 48
        },
        {
         "preg": 7,
         "plas": 105,
         "pres": 0,
         "skin": 0,
         "test": 0,
         "mass": 0,
         "pedi": 0.305,
         "age": 24,
         "class": 0,
         "_deepnote_index_column": 49
        },
        {
         "preg": 1,
         "plas": 103,
         "pres": 80,
         "skin": 11,
         "test": 82,
         "mass": 19.4,
         "pedi": 0.491,
         "age": 22,
         "class": 0,
         "_deepnote_index_column": 50
        },
        {
         "preg": 1,
         "plas": 101,
         "pres": 50,
         "skin": 15,
         "test": 36,
         "mass": 24.2,
         "pedi": 0.526,
         "age": 26,
         "class": 0,
         "_deepnote_index_column": 51
        },
        {
         "preg": 5,
         "plas": 88,
         "pres": 66,
         "skin": 21,
         "test": 23,
         "mass": 24.4,
         "pedi": 0.342,
         "age": 30,
         "class": 0,
         "_deepnote_index_column": 52
        },
        {
         "preg": 8,
         "plas": 176,
         "pres": 90,
         "skin": 34,
         "test": 300,
         "mass": 33.7,
         "pedi": 0.467,
         "age": 58,
         "class": 1,
         "_deepnote_index_column": 53
        },
        {
         "preg": 7,
         "plas": 150,
         "pres": 66,
         "skin": 42,
         "test": 342,
         "mass": 34.7,
         "pedi": 0.718,
         "age": 42,
         "class": 0,
         "_deepnote_index_column": 54
        }
       ],
       "rows_bottom": [
        {
         "preg": 10,
         "plas": 129,
         "pres": 62,
         "skin": 36,
         "test": 0,
         "mass": 41.2,
         "pedi": 0.441,
         "age": 38,
         "class": 1,
         "_deepnote_index_column": 712
        },
        {
         "preg": 0,
         "plas": 134,
         "pres": 58,
         "skin": 20,
         "test": 291,
         "mass": 26.4,
         "pedi": 0.352,
         "age": 21,
         "class": 0,
         "_deepnote_index_column": 713
        },
        {
         "preg": 3,
         "plas": 102,
         "pres": 74,
         "skin": 0,
         "test": 0,
         "mass": 29.5,
         "pedi": 0.121,
         "age": 32,
         "class": 0,
         "_deepnote_index_column": 714
        },
        {
         "preg": 7,
         "plas": 187,
         "pres": 50,
         "skin": 33,
         "test": 392,
         "mass": 33.9,
         "pedi": 0.826,
         "age": 34,
         "class": 1,
         "_deepnote_index_column": 715
        },
        {
         "preg": 3,
         "plas": 173,
         "pres": 78,
         "skin": 39,
         "test": 185,
         "mass": 33.8,
         "pedi": 0.97,
         "age": 31,
         "class": 1,
         "_deepnote_index_column": 716
        },
        {
         "preg": 10,
         "plas": 94,
         "pres": 72,
         "skin": 18,
         "test": 0,
         "mass": 23.1,
         "pedi": 0.595,
         "age": 56,
         "class": 0,
         "_deepnote_index_column": 717
        },
        {
         "preg": 1,
         "plas": 108,
         "pres": 60,
         "skin": 46,
         "test": 178,
         "mass": 35.5,
         "pedi": 0.415,
         "age": 24,
         "class": 0,
         "_deepnote_index_column": 718
        },
        {
         "preg": 5,
         "plas": 97,
         "pres": 76,
         "skin": 27,
         "test": 0,
         "mass": 35.6,
         "pedi": 0.378,
         "age": 52,
         "class": 1,
         "_deepnote_index_column": 719
        },
        {
         "preg": 4,
         "plas": 83,
         "pres": 86,
         "skin": 19,
         "test": 0,
         "mass": 29.3,
         "pedi": 0.317,
         "age": 34,
         "class": 0,
         "_deepnote_index_column": 720
        },
        {
         "preg": 1,
         "plas": 114,
         "pres": 66,
         "skin": 36,
         "test": 200,
         "mass": 38.1,
         "pedi": 0.289,
         "age": 21,
         "class": 0,
         "_deepnote_index_column": 721
        },
        {
         "preg": 1,
         "plas": 149,
         "pres": 68,
         "skin": 29,
         "test": 127,
         "mass": 29.3,
         "pedi": 0.349,
         "age": 42,
         "class": 1,
         "_deepnote_index_column": 722
        },
        {
         "preg": 5,
         "plas": 117,
         "pres": 86,
         "skin": 30,
         "test": 105,
         "mass": 39.1,
         "pedi": 0.251,
         "age": 42,
         "class": 0,
         "_deepnote_index_column": 723
        },
        {
         "preg": 1,
         "plas": 111,
         "pres": 94,
         "skin": 0,
         "test": 0,
         "mass": 32.8,
         "pedi": 0.265,
         "age": 45,
         "class": 0,
         "_deepnote_index_column": 724
        },
        {
         "preg": 4,
         "plas": 112,
         "pres": 78,
         "skin": 40,
         "test": 0,
         "mass": 39.4,
         "pedi": 0.236,
         "age": 38,
         "class": 0,
         "_deepnote_index_column": 725
        },
        {
         "preg": 1,
         "plas": 116,
         "pres": 78,
         "skin": 29,
         "test": 180,
         "mass": 36.1,
         "pedi": 0.496,
         "age": 25,
         "class": 0,
         "_deepnote_index_column": 726
        },
        {
         "preg": 0,
         "plas": 141,
         "pres": 84,
         "skin": 26,
         "test": 0,
         "mass": 32.4,
         "pedi": 0.433,
         "age": 22,
         "class": 0,
         "_deepnote_index_column": 727
        },
        {
         "preg": 2,
         "plas": 175,
         "pres": 88,
         "skin": 0,
         "test": 0,
         "mass": 22.9,
         "pedi": 0.326,
         "age": 22,
         "class": 0,
         "_deepnote_index_column": 728
        },
        {
         "preg": 2,
         "plas": 92,
         "pres": 52,
         "skin": 0,
         "test": 0,
         "mass": 30.1,
         "pedi": 0.141,
         "age": 22,
         "class": 0,
         "_deepnote_index_column": 729
        },
        {
         "preg": 3,
         "plas": 130,
         "pres": 78,
         "skin": 23,
         "test": 79,
         "mass": 28.4,
         "pedi": 0.323,
         "age": 34,
         "class": 1,
         "_deepnote_index_column": 730
        },
        {
         "preg": 8,
         "plas": 120,
         "pres": 86,
         "skin": 0,
         "test": 0,
         "mass": 28.4,
         "pedi": 0.259,
         "age": 22,
         "class": 1,
         "_deepnote_index_column": 731
        },
        {
         "preg": 2,
         "plas": 174,
         "pres": 88,
         "skin": 37,
         "test": 120,
         "mass": 44.5,
         "pedi": 0.646,
         "age": 24,
         "class": 1,
         "_deepnote_index_column": 732
        },
        {
         "preg": 2,
         "plas": 106,
         "pres": 56,
         "skin": 27,
         "test": 165,
         "mass": 29,
         "pedi": 0.426,
         "age": 22,
         "class": 0,
         "_deepnote_index_column": 733
        },
        {
         "preg": 2,
         "plas": 105,
         "pres": 75,
         "skin": 0,
         "test": 0,
         "mass": 23.3,
         "pedi": 0.56,
         "age": 53,
         "class": 0,
         "_deepnote_index_column": 734
        },
        {
         "preg": 4,
         "plas": 95,
         "pres": 60,
         "skin": 32,
         "test": 0,
         "mass": 35.4,
         "pedi": 0.284,
         "age": 28,
         "class": 0,
         "_deepnote_index_column": 735
        },
        {
         "preg": 0,
         "plas": 126,
         "pres": 86,
         "skin": 27,
         "test": 120,
         "mass": 27.4,
         "pedi": 0.515,
         "age": 21,
         "class": 0,
         "_deepnote_index_column": 736
        },
        {
         "preg": 8,
         "plas": 65,
         "pres": 72,
         "skin": 23,
         "test": 0,
         "mass": 32,
         "pedi": 0.6,
         "age": 42,
         "class": 0,
         "_deepnote_index_column": 737
        },
        {
         "preg": 2,
         "plas": 99,
         "pres": 60,
         "skin": 17,
         "test": 160,
         "mass": 36.6,
         "pedi": 0.453,
         "age": 21,
         "class": 0,
         "_deepnote_index_column": 738
        },
        {
         "preg": 1,
         "plas": 102,
         "pres": 74,
         "skin": 0,
         "test": 0,
         "mass": 39.5,
         "pedi": 0.293,
         "age": 42,
         "class": 1,
         "_deepnote_index_column": 739
        },
        {
         "preg": 11,
         "plas": 120,
         "pres": 80,
         "skin": 37,
         "test": 150,
         "mass": 42.3,
         "pedi": 0.785,
         "age": 48,
         "class": 1,
         "_deepnote_index_column": 740
        },
        {
         "preg": 3,
         "plas": 102,
         "pres": 44,
         "skin": 20,
         "test": 94,
         "mass": 30.8,
         "pedi": 0.4,
         "age": 26,
         "class": 0,
         "_deepnote_index_column": 741
        },
        {
         "preg": 1,
         "plas": 109,
         "pres": 58,
         "skin": 18,
         "test": 116,
         "mass": 28.5,
         "pedi": 0.219,
         "age": 22,
         "class": 0,
         "_deepnote_index_column": 742
        },
        {
         "preg": 9,
         "plas": 140,
         "pres": 94,
         "skin": 0,
         "test": 0,
         "mass": 32.7,
         "pedi": 0.734,
         "age": 45,
         "class": 1,
         "_deepnote_index_column": 743
        },
        {
         "preg": 13,
         "plas": 153,
         "pres": 88,
         "skin": 37,
         "test": 140,
         "mass": 40.6,
         "pedi": 1.174,
         "age": 39,
         "class": 0,
         "_deepnote_index_column": 744
        },
        {
         "preg": 12,
         "plas": 100,
         "pres": 84,
         "skin": 33,
         "test": 105,
         "mass": 30,
         "pedi": 0.488,
         "age": 46,
         "class": 0,
         "_deepnote_index_column": 745
        },
        {
         "preg": 1,
         "plas": 147,
         "pres": 94,
         "skin": 41,
         "test": 0,
         "mass": 49.3,
         "pedi": 0.358,
         "age": 27,
         "class": 1,
         "_deepnote_index_column": 746
        },
        {
         "preg": 1,
         "plas": 81,
         "pres": 74,
         "skin": 41,
         "test": 57,
         "mass": 46.3,
         "pedi": 1.096,
         "age": 32,
         "class": 0,
         "_deepnote_index_column": 747
        },
        {
         "preg": 3,
         "plas": 187,
         "pres": 70,
         "skin": 22,
         "test": 200,
         "mass": 36.4,
         "pedi": 0.408,
         "age": 36,
         "class": 1,
         "_deepnote_index_column": 748
        },
        {
         "preg": 6,
         "plas": 162,
         "pres": 62,
         "skin": 0,
         "test": 0,
         "mass": 24.3,
         "pedi": 0.178,
         "age": 50,
         "class": 1,
         "_deepnote_index_column": 749
        },
        {
         "preg": 4,
         "plas": 136,
         "pres": 70,
         "skin": 0,
         "test": 0,
         "mass": 31.2,
         "pedi": 1.182,
         "age": 22,
         "class": 1,
         "_deepnote_index_column": 750
        },
        {
         "preg": 1,
         "plas": 121,
         "pres": 78,
         "skin": 39,
         "test": 74,
         "mass": 39,
         "pedi": 0.261,
         "age": 28,
         "class": 0,
         "_deepnote_index_column": 751
        },
        {
         "preg": 3,
         "plas": 108,
         "pres": 62,
         "skin": 24,
         "test": 0,
         "mass": 26,
         "pedi": 0.223,
         "age": 25,
         "class": 0,
         "_deepnote_index_column": 752
        },
        {
         "preg": 0,
         "plas": 181,
         "pres": 88,
         "skin": 44,
         "test": 510,
         "mass": 43.3,
         "pedi": 0.222,
         "age": 26,
         "class": 1,
         "_deepnote_index_column": 753
        },
        {
         "preg": 8,
         "plas": 154,
         "pres": 78,
         "skin": 32,
         "test": 0,
         "mass": 32.4,
         "pedi": 0.443,
         "age": 45,
         "class": 1,
         "_deepnote_index_column": 754
        },
        {
         "preg": 1,
         "plas": 128,
         "pres": 88,
         "skin": 39,
         "test": 110,
         "mass": 36.5,
         "pedi": 1.057,
         "age": 37,
         "class": 1,
         "_deepnote_index_column": 755
        },
        {
         "preg": 7,
         "plas": 137,
         "pres": 90,
         "skin": 41,
         "test": 0,
         "mass": 32,
         "pedi": 0.391,
         "age": 39,
         "class": 0,
         "_deepnote_index_column": 756
        },
        {
         "preg": 0,
         "plas": 123,
         "pres": 72,
         "skin": 0,
         "test": 0,
         "mass": 36.3,
         "pedi": 0.258,
         "age": 52,
         "class": 1,
         "_deepnote_index_column": 757
        },
        {
         "preg": 1,
         "plas": 106,
         "pres": 76,
         "skin": 0,
         "test": 0,
         "mass": 37.5,
         "pedi": 0.197,
         "age": 26,
         "class": 0,
         "_deepnote_index_column": 758
        },
        {
         "preg": 6,
         "plas": 190,
         "pres": 92,
         "skin": 0,
         "test": 0,
         "mass": 35.5,
         "pedi": 0.278,
         "age": 66,
         "class": 1,
         "_deepnote_index_column": 759
        },
        {
         "preg": 2,
         "plas": 88,
         "pres": 58,
         "skin": 26,
         "test": 16,
         "mass": 28.4,
         "pedi": 0.766,
         "age": 22,
         "class": 0,
         "_deepnote_index_column": 760
        },
        {
         "preg": 9,
         "plas": 170,
         "pres": 74,
         "skin": 31,
         "test": 0,
         "mass": 44,
         "pedi": 0.403,
         "age": 43,
         "class": 1,
         "_deepnote_index_column": 761
        },
        {
         "preg": 9,
         "plas": 89,
         "pres": 62,
         "skin": 0,
         "test": 0,
         "mass": 22.5,
         "pedi": 0.142,
         "age": 33,
         "class": 0,
         "_deepnote_index_column": 762
        },
        {
         "preg": 10,
         "plas": 101,
         "pres": 76,
         "skin": 48,
         "test": 180,
         "mass": 32.9,
         "pedi": 0.171,
         "age": 63,
         "class": 0,
         "_deepnote_index_column": 763
        },
        {
         "preg": 2,
         "plas": 122,
         "pres": 70,
         "skin": 27,
         "test": 0,
         "mass": 36.8,
         "pedi": 0.34,
         "age": 27,
         "class": 0,
         "_deepnote_index_column": 764
        },
        {
         "preg": 5,
         "plas": 121,
         "pres": 72,
         "skin": 23,
         "test": 112,
         "mass": 26.2,
         "pedi": 0.245,
         "age": 30,
         "class": 0,
         "_deepnote_index_column": 765
        },
        {
         "preg": 1,
         "plas": 126,
         "pres": 60,
         "skin": 0,
         "test": 0,
         "mass": 30.1,
         "pedi": 0.349,
         "age": 47,
         "class": 1,
         "_deepnote_index_column": 766
        },
        {
         "preg": 1,
         "plas": 93,
         "pres": 70,
         "skin": 31,
         "test": 0,
         "mass": 30.4,
         "pedi": 0.315,
         "age": 23,
         "class": 0,
         "_deepnote_index_column": 767
        }
       ]
      },
      "text/plain": "     preg  plas  pres  skin  test  mass   pedi  age  class\n0       6   148    72    35     0  33.6  0.627   50      1\n1       1    85    66    29     0  26.6  0.351   31      0\n2       8   183    64     0     0  23.3  0.672   32      1\n3       1    89    66    23    94  28.1  0.167   21      0\n4       0   137    40    35   168  43.1  2.288   33      1\n..    ...   ...   ...   ...   ...   ...    ...  ...    ...\n763    10   101    76    48   180  32.9  0.171   63      0\n764     2   122    70    27     0  36.8  0.340   27      0\n765     5   121    72    23   112  26.2  0.245   30      0\n766     1   126    60     0     0  30.1  0.349   47      1\n767     1    93    70    31     0  30.4  0.315   23      0\n\n[768 rows x 9 columns]",
      "text/html": "<div>\n<style scoped>\n    .dataframe tbody tr th:only-of-type {\n        vertical-align: middle;\n    }\n\n    .dataframe tbody tr th {\n        vertical-align: top;\n    }\n\n    .dataframe thead th {\n        text-align: right;\n    }\n</style>\n<table border=\"1\" class=\"dataframe\">\n  <thead>\n    <tr style=\"text-align: right;\">\n      <th></th>\n      <th>preg</th>\n      <th>plas</th>\n      <th>pres</th>\n      <th>skin</th>\n      <th>test</th>\n      <th>mass</th>\n      <th>pedi</th>\n      <th>age</th>\n      <th>class</th>\n    </tr>\n  </thead>\n  <tbody>\n    <tr>\n      <th>0</th>\n      <td>6</td>\n      <td>148</td>\n      <td>72</td>\n      <td>35</td>\n      <td>0</td>\n      <td>33.6</td>\n      <td>0.627</td>\n      <td>50</td>\n      <td>1</td>\n    </tr>\n    <tr>\n      <th>1</th>\n      <td>1</td>\n      <td>85</td>\n      <td>66</td>\n      <td>29</td>\n      <td>0</td>\n      <td>26.6</td>\n      <td>0.351</td>\n      <td>31</td>\n      <td>0</td>\n    </tr>\n    <tr>\n      <th>2</th>\n      <td>8</td>\n      <td>183</td>\n      <td>64</td>\n      <td>0</td>\n      <td>0</td>\n      <td>23.3</td>\n      <td>0.672</td>\n      <td>32</td>\n      <td>1</td>\n    </tr>\n    <tr>\n      <th>3</th>\n      <td>1</td>\n      <td>89</td>\n      <td>66</td>\n      <td>23</td>\n      <td>94</td>\n      <td>28.1</td>\n      <td>0.167</td>\n      <td>21</td>\n      <td>0</td>\n    </tr>\n    <tr>\n      <th>4</th>\n      <td>0</td>\n      <td>137</td>\n      <td>40</td>\n      <td>35</td>\n      <td>168</td>\n      <td>43.1</td>\n      <td>2.288</td>\n      <td>33</td>\n      <td>1</td>\n    </tr>\n    <tr>\n      <th>...</th>\n      <td>...</td>\n      <td>...</td>\n      <td>...</td>\n      <td>...</td>\n      <td>...</td>\n      <td>...</td>\n      <td>...</td>\n      <td>...</td>\n      <td>...</td>\n    </tr>\n    <tr>\n      <th>763</th>\n      <td>10</td>\n      <td>101</td>\n      <td>76</td>\n      <td>48</td>\n      <td>180</td>\n      <td>32.9</td>\n      <td>0.171</td>\n      <td>63</td>\n      <td>0</td>\n    </tr>\n    <tr>\n      <th>764</th>\n      <td>2</td>\n      <td>122</td>\n      <td>70</td>\n      <td>27</td>\n      <td>0</td>\n      <td>36.8</td>\n      <td>0.340</td>\n      <td>27</td>\n      <td>0</td>\n    </tr>\n    <tr>\n      <th>765</th>\n      <td>5</td>\n      <td>121</td>\n      <td>72</td>\n      <td>23</td>\n      <td>112</td>\n      <td>26.2</td>\n      <td>0.245</td>\n      <td>30</td>\n      <td>0</td>\n    </tr>\n    <tr>\n      <th>766</th>\n      <td>1</td>\n      <td>126</td>\n      <td>60</td>\n      <td>0</td>\n      <td>0</td>\n      <td>30.1</td>\n      <td>0.349</td>\n      <td>47</td>\n      <td>1</td>\n    </tr>\n    <tr>\n      <th>767</th>\n      <td>1</td>\n      <td>93</td>\n      <td>70</td>\n      <td>31</td>\n      <td>0</td>\n      <td>30.4</td>\n      <td>0.315</td>\n      <td>23</td>\n      <td>0</td>\n    </tr>\n  </tbody>\n</table>\n<p>768 rows × 9 columns</p>\n</div>"
     },
     "metadata": {}
    }
   ]
  },
  {
   "cell_type": "markdown",
   "source": "Print out the age and class of the 100th patient",
   "metadata": {
    "colab_type": "text",
    "id": "d4DyOsuoewE2",
    "cell_id": "00004-6ff9eb52-87a7-49cc-b4d4-f254bcda1d8b",
    "deepnote_cell_type": "markdown"
   }
  },
  {
   "cell_type": "code",
   "metadata": {
    "colab_type": "code",
    "id": "xZqBsg39eY8_",
    "colab": {},
    "deepnote_to_be_reexecuted": false,
    "source_hash": "7c8b692c",
    "execution_start": 1625628246834,
    "execution_millis": 6,
    "cell_id": "00005-81a844fa-131b-4e2c-9df0-28b697759021",
    "deepnote_cell_type": "code"
   },
   "source": "# YOUR CODE HERE\nrow = df.iloc[99]\nrow",
   "execution_count": null,
   "outputs": [
    {
     "output_type": "execute_result",
     "execution_count": 3,
     "data": {
      "text/plain": "preg       1.000\nplas     122.000\npres      90.000\nskin      51.000\ntest     220.000\nmass      49.700\npedi       0.325\nage       31.000\nclass      1.000\nName: 99, dtype: float64"
     },
     "metadata": {}
    }
   ]
  },
  {
   "cell_type": "markdown",
   "source": "Write code to figure out how many people are classified as not having diabetes, class is 0",
   "metadata": {
    "colab_type": "text",
    "id": "j8L2EM-5iOWc",
    "cell_id": "00006-771bc00b-8ba4-4de8-a271-f4c568c9d288",
    "deepnote_cell_type": "markdown"
   }
  },
  {
   "cell_type": "code",
   "metadata": {
    "colab_type": "code",
    "id": "vohzS51WiWvD",
    "colab": {},
    "deepnote_to_be_reexecuted": false,
    "source_hash": "b59f10ed",
    "execution_start": 1625628260004,
    "execution_millis": 67,
    "cell_id": "00007-da344bda-f4f7-41f0-a3f8-fc0e7124a7f4",
    "deepnote_cell_type": "code"
   },
   "source": "# YOUR CODE HERE\nnot_diabetic = df['class'] == 0\ndf[not_diabetic]",
   "execution_count": null,
   "outputs": [
    {
     "output_type": "execute_result",
     "execution_count": 16,
     "data": {
      "application/vnd.deepnote.dataframe.v2+json": {
       "row_count": 500,
       "column_count": 9,
       "columns": [
        {
         "name": "preg",
         "dtype": "int64",
         "stats": {
          "unique_count": 14,
          "nan_count": 0,
          "min": "0",
          "max": "13",
          "histogram": [
           {
            "bin_start": 0,
            "bin_end": 1.3,
            "count": 179
           },
           {
            "bin_start": 1.3,
            "bin_end": 2.6,
            "count": 84
           },
           {
            "bin_start": 2.6,
            "bin_end": 3.9000000000000004,
            "count": 48
           },
           {
            "bin_start": 3.9000000000000004,
            "bin_end": 5.2,
            "count": 81
           },
           {
            "bin_start": 5.2,
            "bin_end": 6.5,
            "count": 34
           },
           {
            "bin_start": 6.5,
            "bin_end": 7.800000000000001,
            "count": 20
           },
           {
            "bin_start": 7.800000000000001,
            "bin_end": 9.1,
            "count": 26
           },
           {
            "bin_start": 9.1,
            "bin_end": 10.4,
            "count": 14
           },
           {
            "bin_start": 10.4,
            "bin_end": 11.700000000000001,
            "count": 4
           },
           {
            "bin_start": 11.700000000000001,
            "bin_end": 13,
            "count": 10
           }
          ]
         }
        },
        {
         "name": "plas",
         "dtype": "int64",
         "stats": {
          "unique_count": 111,
          "nan_count": 0,
          "min": "0",
          "max": "197",
          "histogram": [
           {
            "bin_start": 0,
            "bin_end": 19.7,
            "count": 3
           },
           {
            "bin_start": 19.7,
            "bin_end": 39.4,
            "count": 0
           },
           {
            "bin_start": 39.4,
            "bin_end": 59.099999999999994,
            "count": 4
           },
           {
            "bin_start": 59.099999999999994,
            "bin_end": 78.8,
            "count": 28
           },
           {
            "bin_start": 78.8,
            "bin_end": 98.5,
            "count": 129
           },
           {
            "bin_start": 98.5,
            "bin_end": 118.19999999999999,
            "count": 167
           },
           {
            "bin_start": 118.19999999999999,
            "bin_end": 137.9,
            "count": 99
           },
           {
            "bin_start": 137.9,
            "bin_end": 157.6,
            "count": 49
           },
           {
            "bin_start": 157.6,
            "bin_end": 177.29999999999998,
            "count": 12
           },
           {
            "bin_start": 177.29999999999998,
            "bin_end": 197,
            "count": 9
           }
          ]
         }
        },
        {
         "name": "pres",
         "dtype": "int64",
         "stats": {
          "unique_count": 43,
          "nan_count": 0,
          "min": "0",
          "max": "122",
          "histogram": [
           {
            "bin_start": 0,
            "bin_end": 12.2,
            "count": 19
           },
           {
            "bin_start": 12.2,
            "bin_end": 24.4,
            "count": 1
           },
           {
            "bin_start": 24.4,
            "bin_end": 36.599999999999994,
            "count": 1
           },
           {
            "bin_start": 36.599999999999994,
            "bin_end": 48.8,
            "count": 11
           },
           {
            "bin_start": 48.8,
            "bin_end": 61,
            "count": 87
           },
           {
            "bin_start": 61,
            "bin_end": 73.19999999999999,
            "count": 175
           },
           {
            "bin_start": 73.19999999999999,
            "bin_end": 85.39999999999999,
            "count": 149
           },
           {
            "bin_start": 85.39999999999999,
            "bin_end": 97.6,
            "count": 49
           },
           {
            "bin_start": 97.6,
            "bin_end": 109.8,
            "count": 6
           },
           {
            "bin_start": 109.8,
            "bin_end": 122,
            "count": 2
           }
          ]
         }
        },
        {
         "name": "skin",
         "dtype": "int64",
         "stats": {
          "unique_count": 46,
          "nan_count": 0,
          "min": "0",
          "max": "60",
          "histogram": [
           {
            "bin_start": 0,
            "bin_end": 6,
            "count": 139
           },
           {
            "bin_start": 6,
            "bin_end": 12,
            "count": 14
           },
           {
            "bin_start": 12,
            "bin_end": 18,
            "count": 51
           },
           {
            "bin_start": 18,
            "bin_end": 24,
            "count": 80
           },
           {
            "bin_start": 24,
            "bin_end": 30,
            "count": 68
           },
           {
            "bin_start": 30,
            "bin_end": 36,
            "count": 71
           },
           {
            "bin_start": 36,
            "bin_end": 42,
            "count": 48
           },
           {
            "bin_start": 42,
            "bin_end": 48,
            "count": 19
           },
           {
            "bin_start": 48,
            "bin_end": 54,
            "count": 7
           },
           {
            "bin_start": 54,
            "bin_end": 60,
            "count": 3
           }
          ]
         }
        },
        {
         "name": "test",
         "dtype": "int64",
         "stats": {
          "unique_count": 137,
          "nan_count": 0,
          "min": "0",
          "max": "744",
          "histogram": [
           {
            "bin_start": 0,
            "bin_end": 74.4,
            "count": 319
           },
           {
            "bin_start": 74.4,
            "bin_end": 148.8,
            "count": 107
           },
           {
            "bin_start": 148.8,
            "bin_end": 223.20000000000002,
            "count": 42
           },
           {
            "bin_start": 223.20000000000002,
            "bin_end": 297.6,
            "count": 16
           },
           {
            "bin_start": 297.6,
            "bin_end": 372,
            "count": 6
           },
           {
            "bin_start": 372,
            "bin_end": 446.40000000000003,
            "count": 5
           },
           {
            "bin_start": 446.40000000000003,
            "bin_end": 520.8000000000001,
            "count": 2
           },
           {
            "bin_start": 520.8000000000001,
            "bin_end": 595.2,
            "count": 1
           },
           {
            "bin_start": 595.2,
            "bin_end": 669.6,
            "count": 0
           },
           {
            "bin_start": 669.6,
            "bin_end": 744,
            "count": 2
           }
          ]
         }
        },
        {
         "name": "mass",
         "dtype": "float64",
         "stats": {
          "unique_count": 210,
          "nan_count": 0,
          "min": "0.0",
          "max": "57.3",
          "histogram": [
           {
            "bin_start": 0,
            "bin_end": 5.7299999999999995,
            "count": 9
           },
           {
            "bin_start": 5.7299999999999995,
            "bin_end": 11.459999999999999,
            "count": 0
           },
           {
            "bin_start": 11.459999999999999,
            "bin_end": 17.189999999999998,
            "count": 0
           },
           {
            "bin_start": 17.189999999999998,
            "bin_end": 22.919999999999998,
            "count": 49
           },
           {
            "bin_start": 22.919999999999998,
            "bin_end": 28.65,
            "count": 152
           },
           {
            "bin_start": 28.65,
            "bin_end": 34.379999999999995,
            "count": 146
           },
           {
            "bin_start": 34.379999999999995,
            "bin_end": 40.11,
            "count": 103
           },
           {
            "bin_start": 40.11,
            "bin_end": 45.839999999999996,
            "count": 32
           },
           {
            "bin_start": 45.839999999999996,
            "bin_end": 51.56999999999999,
            "count": 7
           },
           {
            "bin_start": 51.56999999999999,
            "bin_end": 57.3,
            "count": 2
           }
          ]
         }
        },
        {
         "name": "pedi",
         "dtype": "float64",
         "stats": {
          "unique_count": 372,
          "nan_count": 0,
          "min": "0.078",
          "max": "2.329",
          "histogram": [
           {
            "bin_start": 0.078,
            "bin_end": 0.30310000000000004,
            "count": 224
           },
           {
            "bin_start": 0.30310000000000004,
            "bin_end": 0.5282,
            "count": 138
           },
           {
            "bin_start": 0.5282,
            "bin_end": 0.7533,
            "count": 82
           },
           {
            "bin_start": 0.7533,
            "bin_end": 0.9784,
            "count": 33
           },
           {
            "bin_start": 0.9784,
            "bin_end": 1.2035000000000002,
            "count": 11
           },
           {
            "bin_start": 1.2035000000000002,
            "bin_end": 1.4286,
            "count": 3
           },
           {
            "bin_start": 1.4286,
            "bin_end": 1.6537000000000002,
            "count": 4
           },
           {
            "bin_start": 1.6537000000000002,
            "bin_end": 1.8788000000000002,
            "count": 4
           },
           {
            "bin_start": 1.8788000000000002,
            "bin_end": 2.1039,
            "count": 0
           },
           {
            "bin_start": 2.1039,
            "bin_end": 2.329,
            "count": 1
           }
          ]
         }
        },
        {
         "name": "age",
         "dtype": "int64",
         "stats": {
          "unique_count": 51,
          "nan_count": 0,
          "min": "21",
          "max": "81",
          "histogram": [
           {
            "bin_start": 21,
            "bin_end": 27,
            "count": 247
           },
           {
            "bin_start": 27,
            "bin_end": 33,
            "count": 98
           },
           {
            "bin_start": 33,
            "bin_end": 39,
            "count": 47
           },
           {
            "bin_start": 39,
            "bin_end": 45,
            "count": 41
           },
           {
            "bin_start": 45,
            "bin_end": 51,
            "count": 24
           },
           {
            "bin_start": 51,
            "bin_end": 57,
            "count": 11
           },
           {
            "bin_start": 57,
            "bin_end": 63,
            "count": 15
           },
           {
            "bin_start": 63,
            "bin_end": 69,
            "count": 13
           },
           {
            "bin_start": 69,
            "bin_end": 75,
            "count": 3
           },
           {
            "bin_start": 75,
            "bin_end": 81,
            "count": 1
           }
          ]
         }
        },
        {
         "name": "class",
         "dtype": "int64",
         "stats": {
          "unique_count": 1,
          "nan_count": 0,
          "min": "0",
          "max": "0",
          "histogram": [
           {
            "bin_start": -0.5,
            "bin_end": -0.4,
            "count": 0
           },
           {
            "bin_start": -0.4,
            "bin_end": -0.3,
            "count": 0
           },
           {
            "bin_start": -0.3,
            "bin_end": -0.19999999999999996,
            "count": 0
           },
           {
            "bin_start": -0.19999999999999996,
            "bin_end": -0.09999999999999998,
            "count": 0
           },
           {
            "bin_start": -0.09999999999999998,
            "bin_end": 0,
            "count": 0
           },
           {
            "bin_start": 0,
            "bin_end": 0.10000000000000009,
            "count": 500
           },
           {
            "bin_start": 0.10000000000000009,
            "bin_end": 0.20000000000000007,
            "count": 0
           },
           {
            "bin_start": 0.20000000000000007,
            "bin_end": 0.30000000000000004,
            "count": 0
           },
           {
            "bin_start": 0.30000000000000004,
            "bin_end": 0.4,
            "count": 0
           },
           {
            "bin_start": 0.4,
            "bin_end": 0.5,
            "count": 0
           }
          ]
         }
        },
        {
         "name": "_deepnote_index_column",
         "dtype": "int64"
        }
       ],
       "rows_top": [
        {
         "preg": 1,
         "plas": 85,
         "pres": 66,
         "skin": 29,
         "test": 0,
         "mass": 26.6,
         "pedi": 0.351,
         "age": 31,
         "class": 0,
         "_deepnote_index_column": 1
        },
        {
         "preg": 1,
         "plas": 89,
         "pres": 66,
         "skin": 23,
         "test": 94,
         "mass": 28.1,
         "pedi": 0.167,
         "age": 21,
         "class": 0,
         "_deepnote_index_column": 3
        },
        {
         "preg": 5,
         "plas": 116,
         "pres": 74,
         "skin": 0,
         "test": 0,
         "mass": 25.6,
         "pedi": 0.201,
         "age": 30,
         "class": 0,
         "_deepnote_index_column": 5
        },
        {
         "preg": 10,
         "plas": 115,
         "pres": 0,
         "skin": 0,
         "test": 0,
         "mass": 35.3,
         "pedi": 0.134,
         "age": 29,
         "class": 0,
         "_deepnote_index_column": 7
        },
        {
         "preg": 4,
         "plas": 110,
         "pres": 92,
         "skin": 0,
         "test": 0,
         "mass": 37.6,
         "pedi": 0.191,
         "age": 30,
         "class": 0,
         "_deepnote_index_column": 10
        },
        {
         "preg": 10,
         "plas": 139,
         "pres": 80,
         "skin": 0,
         "test": 0,
         "mass": 27.1,
         "pedi": 1.441,
         "age": 57,
         "class": 0,
         "_deepnote_index_column": 12
        },
        {
         "preg": 1,
         "plas": 103,
         "pres": 30,
         "skin": 38,
         "test": 83,
         "mass": 43.3,
         "pedi": 0.183,
         "age": 33,
         "class": 0,
         "_deepnote_index_column": 18
        },
        {
         "preg": 3,
         "plas": 126,
         "pres": 88,
         "skin": 41,
         "test": 235,
         "mass": 39.3,
         "pedi": 0.704,
         "age": 27,
         "class": 0,
         "_deepnote_index_column": 20
        },
        {
         "preg": 8,
         "plas": 99,
         "pres": 84,
         "skin": 0,
         "test": 0,
         "mass": 35.4,
         "pedi": 0.388,
         "age": 50,
         "class": 0,
         "_deepnote_index_column": 21
        },
        {
         "preg": 1,
         "plas": 97,
         "pres": 66,
         "skin": 15,
         "test": 140,
         "mass": 23.2,
         "pedi": 0.487,
         "age": 22,
         "class": 0,
         "_deepnote_index_column": 27
        },
        {
         "preg": 13,
         "plas": 145,
         "pres": 82,
         "skin": 19,
         "test": 110,
         "mass": 22.2,
         "pedi": 0.245,
         "age": 57,
         "class": 0,
         "_deepnote_index_column": 28
        },
        {
         "preg": 5,
         "plas": 117,
         "pres": 92,
         "skin": 0,
         "test": 0,
         "mass": 34.1,
         "pedi": 0.337,
         "age": 38,
         "class": 0,
         "_deepnote_index_column": 29
        },
        {
         "preg": 5,
         "plas": 109,
         "pres": 75,
         "skin": 26,
         "test": 0,
         "mass": 36,
         "pedi": 0.546,
         "age": 60,
         "class": 0,
         "_deepnote_index_column": 30
        },
        {
         "preg": 3,
         "plas": 88,
         "pres": 58,
         "skin": 11,
         "test": 54,
         "mass": 24.8,
         "pedi": 0.267,
         "age": 22,
         "class": 0,
         "_deepnote_index_column": 32
        },
        {
         "preg": 6,
         "plas": 92,
         "pres": 92,
         "skin": 0,
         "test": 0,
         "mass": 19.9,
         "pedi": 0.188,
         "age": 28,
         "class": 0,
         "_deepnote_index_column": 33
        },
        {
         "preg": 10,
         "plas": 122,
         "pres": 78,
         "skin": 31,
         "test": 0,
         "mass": 27.6,
         "pedi": 0.512,
         "age": 45,
         "class": 0,
         "_deepnote_index_column": 34
        },
        {
         "preg": 4,
         "plas": 103,
         "pres": 60,
         "skin": 33,
         "test": 192,
         "mass": 24,
         "pedi": 0.966,
         "age": 33,
         "class": 0,
         "_deepnote_index_column": 35
        },
        {
         "preg": 11,
         "plas": 138,
         "pres": 76,
         "skin": 0,
         "test": 0,
         "mass": 33.2,
         "pedi": 0.42,
         "age": 35,
         "class": 0,
         "_deepnote_index_column": 36
        },
        {
         "preg": 3,
         "plas": 180,
         "pres": 64,
         "skin": 25,
         "test": 70,
         "mass": 34,
         "pedi": 0.271,
         "age": 26,
         "class": 0,
         "_deepnote_index_column": 40
        },
        {
         "preg": 7,
         "plas": 133,
         "pres": 84,
         "skin": 0,
         "test": 0,
         "mass": 40.2,
         "pedi": 0.696,
         "age": 37,
         "class": 0,
         "_deepnote_index_column": 41
        },
        {
         "preg": 7,
         "plas": 106,
         "pres": 92,
         "skin": 18,
         "test": 0,
         "mass": 22.7,
         "pedi": 0.235,
         "age": 48,
         "class": 0,
         "_deepnote_index_column": 42
        },
        {
         "preg": 7,
         "plas": 159,
         "pres": 64,
         "skin": 0,
         "test": 0,
         "mass": 27.4,
         "pedi": 0.294,
         "age": 40,
         "class": 0,
         "_deepnote_index_column": 44
        },
        {
         "preg": 1,
         "plas": 146,
         "pres": 56,
         "skin": 0,
         "test": 0,
         "mass": 29.7,
         "pedi": 0.564,
         "age": 29,
         "class": 0,
         "_deepnote_index_column": 46
        },
        {
         "preg": 2,
         "plas": 71,
         "pres": 70,
         "skin": 27,
         "test": 0,
         "mass": 28,
         "pedi": 0.586,
         "age": 22,
         "class": 0,
         "_deepnote_index_column": 47
        },
        {
         "preg": 7,
         "plas": 105,
         "pres": 0,
         "skin": 0,
         "test": 0,
         "mass": 0,
         "pedi": 0.305,
         "age": 24,
         "class": 0,
         "_deepnote_index_column": 49
        },
        {
         "preg": 1,
         "plas": 103,
         "pres": 80,
         "skin": 11,
         "test": 82,
         "mass": 19.4,
         "pedi": 0.491,
         "age": 22,
         "class": 0,
         "_deepnote_index_column": 50
        },
        {
         "preg": 1,
         "plas": 101,
         "pres": 50,
         "skin": 15,
         "test": 36,
         "mass": 24.2,
         "pedi": 0.526,
         "age": 26,
         "class": 0,
         "_deepnote_index_column": 51
        },
        {
         "preg": 5,
         "plas": 88,
         "pres": 66,
         "skin": 21,
         "test": 23,
         "mass": 24.4,
         "pedi": 0.342,
         "age": 30,
         "class": 0,
         "_deepnote_index_column": 52
        },
        {
         "preg": 7,
         "plas": 150,
         "pres": 66,
         "skin": 42,
         "test": 342,
         "mass": 34.7,
         "pedi": 0.718,
         "age": 42,
         "class": 0,
         "_deepnote_index_column": 54
        },
        {
         "preg": 1,
         "plas": 73,
         "pres": 50,
         "skin": 10,
         "test": 0,
         "mass": 23,
         "pedi": 0.248,
         "age": 21,
         "class": 0,
         "_deepnote_index_column": 55
        },
        {
         "preg": 0,
         "plas": 100,
         "pres": 88,
         "skin": 60,
         "test": 110,
         "mass": 46.8,
         "pedi": 0.962,
         "age": 31,
         "class": 0,
         "_deepnote_index_column": 57
        },
        {
         "preg": 0,
         "plas": 146,
         "pres": 82,
         "skin": 0,
         "test": 0,
         "mass": 40.5,
         "pedi": 1.781,
         "age": 44,
         "class": 0,
         "_deepnote_index_column": 58
        },
        {
         "preg": 0,
         "plas": 105,
         "pres": 64,
         "skin": 41,
         "test": 142,
         "mass": 41.5,
         "pedi": 0.173,
         "age": 22,
         "class": 0,
         "_deepnote_index_column": 59
        },
        {
         "preg": 2,
         "plas": 84,
         "pres": 0,
         "skin": 0,
         "test": 0,
         "mass": 0,
         "pedi": 0.304,
         "age": 21,
         "class": 0,
         "_deepnote_index_column": 60
        },
        {
         "preg": 5,
         "plas": 44,
         "pres": 62,
         "skin": 0,
         "test": 0,
         "mass": 25,
         "pedi": 0.587,
         "age": 36,
         "class": 0,
         "_deepnote_index_column": 62
        },
        {
         "preg": 2,
         "plas": 141,
         "pres": 58,
         "skin": 34,
         "test": 128,
         "mass": 25.4,
         "pedi": 0.699,
         "age": 24,
         "class": 0,
         "_deepnote_index_column": 63
        },
        {
         "preg": 5,
         "plas": 99,
         "pres": 74,
         "skin": 27,
         "test": 0,
         "mass": 29,
         "pedi": 0.203,
         "age": 32,
         "class": 0,
         "_deepnote_index_column": 65
        },
        {
         "preg": 2,
         "plas": 109,
         "pres": 92,
         "skin": 0,
         "test": 0,
         "mass": 42.7,
         "pedi": 0.845,
         "age": 54,
         "class": 0,
         "_deepnote_index_column": 67
        },
        {
         "preg": 1,
         "plas": 95,
         "pres": 66,
         "skin": 13,
         "test": 38,
         "mass": 19.6,
         "pedi": 0.334,
         "age": 25,
         "class": 0,
         "_deepnote_index_column": 68
        },
        {
         "preg": 4,
         "plas": 146,
         "pres": 85,
         "skin": 27,
         "test": 100,
         "mass": 28.9,
         "pedi": 0.189,
         "age": 27,
         "class": 0,
         "_deepnote_index_column": 69
        },
        {
         "preg": 5,
         "plas": 139,
         "pres": 64,
         "skin": 35,
         "test": 140,
         "mass": 28.6,
         "pedi": 0.411,
         "age": 26,
         "class": 0,
         "_deepnote_index_column": 71
        },
        {
         "preg": 4,
         "plas": 129,
         "pres": 86,
         "skin": 20,
         "test": 270,
         "mass": 35.1,
         "pedi": 0.231,
         "age": 23,
         "class": 0,
         "_deepnote_index_column": 73
        },
        {
         "preg": 1,
         "plas": 79,
         "pres": 75,
         "skin": 30,
         "test": 0,
         "mass": 32,
         "pedi": 0.396,
         "age": 22,
         "class": 0,
         "_deepnote_index_column": 74
        },
        {
         "preg": 1,
         "plas": 0,
         "pres": 48,
         "skin": 20,
         "test": 0,
         "mass": 24.7,
         "pedi": 0.14,
         "age": 22,
         "class": 0,
         "_deepnote_index_column": 75
        },
        {
         "preg": 7,
         "plas": 62,
         "pres": 78,
         "skin": 0,
         "test": 0,
         "mass": 32.6,
         "pedi": 0.391,
         "age": 41,
         "class": 0,
         "_deepnote_index_column": 76
        },
        {
         "preg": 5,
         "plas": 95,
         "pres": 72,
         "skin": 33,
         "test": 0,
         "mass": 37.7,
         "pedi": 0.37,
         "age": 27,
         "class": 0,
         "_deepnote_index_column": 77
        },
        {
         "preg": 2,
         "plas": 112,
         "pres": 66,
         "skin": 22,
         "test": 0,
         "mass": 25,
         "pedi": 0.307,
         "age": 24,
         "class": 0,
         "_deepnote_index_column": 79
        },
        {
         "preg": 3,
         "plas": 113,
         "pres": 44,
         "skin": 13,
         "test": 0,
         "mass": 22.4,
         "pedi": 0.14,
         "age": 22,
         "class": 0,
         "_deepnote_index_column": 80
        },
        {
         "preg": 2,
         "plas": 74,
         "pres": 0,
         "skin": 0,
         "test": 0,
         "mass": 0,
         "pedi": 0.102,
         "age": 22,
         "class": 0,
         "_deepnote_index_column": 81
        },
        {
         "preg": 7,
         "plas": 83,
         "pres": 78,
         "skin": 26,
         "test": 71,
         "mass": 29.3,
         "pedi": 0.767,
         "age": 36,
         "class": 0,
         "_deepnote_index_column": 82
        },
        {
         "preg": 0,
         "plas": 101,
         "pres": 65,
         "skin": 28,
         "test": 0,
         "mass": 24.6,
         "pedi": 0.237,
         "age": 22,
         "class": 0,
         "_deepnote_index_column": 83
        },
        {
         "preg": 2,
         "plas": 110,
         "pres": 74,
         "skin": 29,
         "test": 125,
         "mass": 32.4,
         "pedi": 0.698,
         "age": 27,
         "class": 0,
         "_deepnote_index_column": 85
        },
        {
         "preg": 13,
         "plas": 106,
         "pres": 72,
         "skin": 54,
         "test": 0,
         "mass": 36.6,
         "pedi": 0.178,
         "age": 45,
         "class": 0,
         "_deepnote_index_column": 86
        },
        {
         "preg": 2,
         "plas": 100,
         "pres": 68,
         "skin": 25,
         "test": 71,
         "mass": 38.5,
         "pedi": 0.324,
         "age": 26,
         "class": 0,
         "_deepnote_index_column": 87
        },
        {
         "preg": 1,
         "plas": 107,
         "pres": 68,
         "skin": 19,
         "test": 0,
         "mass": 26.5,
         "pedi": 0.165,
         "age": 24,
         "class": 0,
         "_deepnote_index_column": 89
        }
       ],
       "rows_bottom": [
        {
         "preg": 0,
         "plas": 93,
         "pres": 60,
         "skin": 0,
         "test": 0,
         "mass": 35.3,
         "pedi": 0.263,
         "age": 25,
         "class": 0,
         "_deepnote_index_column": 677
        },
        {
         "preg": 2,
         "plas": 101,
         "pres": 58,
         "skin": 17,
         "test": 265,
         "mass": 24.2,
         "pedi": 0.614,
         "age": 23,
         "class": 0,
         "_deepnote_index_column": 679
        },
        {
         "preg": 2,
         "plas": 56,
         "pres": 56,
         "skin": 28,
         "test": 45,
         "mass": 24.2,
         "pedi": 0.332,
         "age": 22,
         "class": 0,
         "_deepnote_index_column": 680
        },
        {
         "preg": 0,
         "plas": 95,
         "pres": 64,
         "skin": 39,
         "test": 105,
         "mass": 44.6,
         "pedi": 0.366,
         "age": 22,
         "class": 0,
         "_deepnote_index_column": 682
        },
        {
         "preg": 5,
         "plas": 136,
         "pres": 82,
         "skin": 0,
         "test": 0,
         "mass": 0,
         "pedi": 0.64,
         "age": 69,
         "class": 0,
         "_deepnote_index_column": 684
        },
        {
         "preg": 2,
         "plas": 129,
         "pres": 74,
         "skin": 26,
         "test": 205,
         "mass": 33.2,
         "pedi": 0.591,
         "age": 25,
         "class": 0,
         "_deepnote_index_column": 685
        },
        {
         "preg": 3,
         "plas": 130,
         "pres": 64,
         "skin": 0,
         "test": 0,
         "mass": 23.1,
         "pedi": 0.314,
         "age": 22,
         "class": 0,
         "_deepnote_index_column": 686
        },
        {
         "preg": 1,
         "plas": 107,
         "pres": 50,
         "skin": 19,
         "test": 0,
         "mass": 28.3,
         "pedi": 0.181,
         "age": 29,
         "class": 0,
         "_deepnote_index_column": 687
        },
        {
         "preg": 1,
         "plas": 140,
         "pres": 74,
         "skin": 26,
         "test": 180,
         "mass": 24.1,
         "pedi": 0.828,
         "age": 23,
         "class": 0,
         "_deepnote_index_column": 688
        },
        {
         "preg": 8,
         "plas": 107,
         "pres": 80,
         "skin": 0,
         "test": 0,
         "mass": 24.6,
         "pedi": 0.856,
         "age": 34,
         "class": 0,
         "_deepnote_index_column": 690
        },
        {
         "preg": 2,
         "plas": 121,
         "pres": 70,
         "skin": 32,
         "test": 95,
         "mass": 39.1,
         "pedi": 0.886,
         "age": 23,
         "class": 0,
         "_deepnote_index_column": 692
        },
        {
         "preg": 2,
         "plas": 90,
         "pres": 60,
         "skin": 0,
         "test": 0,
         "mass": 23.5,
         "pedi": 0.191,
         "age": 25,
         "class": 0,
         "_deepnote_index_column": 694
        },
        {
         "preg": 0,
         "plas": 99,
         "pres": 0,
         "skin": 0,
         "test": 0,
         "mass": 25,
         "pedi": 0.253,
         "age": 22,
         "class": 0,
         "_deepnote_index_column": 697
        },
        {
         "preg": 4,
         "plas": 127,
         "pres": 88,
         "skin": 11,
         "test": 155,
         "mass": 34.5,
         "pedi": 0.598,
         "age": 28,
         "class": 0,
         "_deepnote_index_column": 698
        },
        {
         "preg": 4,
         "plas": 118,
         "pres": 70,
         "skin": 0,
         "test": 0,
         "mass": 44.5,
         "pedi": 0.904,
         "age": 26,
         "class": 0,
         "_deepnote_index_column": 699
        },
        {
         "preg": 2,
         "plas": 122,
         "pres": 76,
         "skin": 27,
         "test": 200,
         "mass": 35.9,
         "pedi": 0.483,
         "age": 26,
         "class": 0,
         "_deepnote_index_column": 700
        },
        {
         "preg": 2,
         "plas": 129,
         "pres": 0,
         "skin": 0,
         "test": 0,
         "mass": 38.5,
         "pedi": 0.304,
         "age": 41,
         "class": 0,
         "_deepnote_index_column": 703
        },
        {
         "preg": 4,
         "plas": 110,
         "pres": 76,
         "skin": 20,
         "test": 100,
         "mass": 28.4,
         "pedi": 0.118,
         "age": 27,
         "class": 0,
         "_deepnote_index_column": 704
        },
        {
         "preg": 6,
         "plas": 80,
         "pres": 80,
         "skin": 36,
         "test": 0,
         "mass": 39.8,
         "pedi": 0.177,
         "age": 28,
         "class": 0,
         "_deepnote_index_column": 705
        },
        {
         "preg": 2,
         "plas": 127,
         "pres": 46,
         "skin": 21,
         "test": 335,
         "mass": 34.4,
         "pedi": 0.176,
         "age": 22,
         "class": 0,
         "_deepnote_index_column": 707
        },
        {
         "preg": 3,
         "plas": 158,
         "pres": 64,
         "skin": 13,
         "test": 387,
         "mass": 31.2,
         "pedi": 0.295,
         "age": 24,
         "class": 0,
         "_deepnote_index_column": 710
        },
        {
         "preg": 5,
         "plas": 126,
         "pres": 78,
         "skin": 27,
         "test": 22,
         "mass": 29.6,
         "pedi": 0.439,
         "age": 40,
         "class": 0,
         "_deepnote_index_column": 711
        },
        {
         "preg": 0,
         "plas": 134,
         "pres": 58,
         "skin": 20,
         "test": 291,
         "mass": 26.4,
         "pedi": 0.352,
         "age": 21,
         "class": 0,
         "_deepnote_index_column": 713
        },
        {
         "preg": 3,
         "plas": 102,
         "pres": 74,
         "skin": 0,
         "test": 0,
         "mass": 29.5,
         "pedi": 0.121,
         "age": 32,
         "class": 0,
         "_deepnote_index_column": 714
        },
        {
         "preg": 10,
         "plas": 94,
         "pres": 72,
         "skin": 18,
         "test": 0,
         "mass": 23.1,
         "pedi": 0.595,
         "age": 56,
         "class": 0,
         "_deepnote_index_column": 717
        },
        {
         "preg": 1,
         "plas": 108,
         "pres": 60,
         "skin": 46,
         "test": 178,
         "mass": 35.5,
         "pedi": 0.415,
         "age": 24,
         "class": 0,
         "_deepnote_index_column": 718
        },
        {
         "preg": 4,
         "plas": 83,
         "pres": 86,
         "skin": 19,
         "test": 0,
         "mass": 29.3,
         "pedi": 0.317,
         "age": 34,
         "class": 0,
         "_deepnote_index_column": 720
        },
        {
         "preg": 1,
         "plas": 114,
         "pres": 66,
         "skin": 36,
         "test": 200,
         "mass": 38.1,
         "pedi": 0.289,
         "age": 21,
         "class": 0,
         "_deepnote_index_column": 721
        },
        {
         "preg": 5,
         "plas": 117,
         "pres": 86,
         "skin": 30,
         "test": 105,
         "mass": 39.1,
         "pedi": 0.251,
         "age": 42,
         "class": 0,
         "_deepnote_index_column": 723
        },
        {
         "preg": 1,
         "plas": 111,
         "pres": 94,
         "skin": 0,
         "test": 0,
         "mass": 32.8,
         "pedi": 0.265,
         "age": 45,
         "class": 0,
         "_deepnote_index_column": 724
        },
        {
         "preg": 4,
         "plas": 112,
         "pres": 78,
         "skin": 40,
         "test": 0,
         "mass": 39.4,
         "pedi": 0.236,
         "age": 38,
         "class": 0,
         "_deepnote_index_column": 725
        },
        {
         "preg": 1,
         "plas": 116,
         "pres": 78,
         "skin": 29,
         "test": 180,
         "mass": 36.1,
         "pedi": 0.496,
         "age": 25,
         "class": 0,
         "_deepnote_index_column": 726
        },
        {
         "preg": 0,
         "plas": 141,
         "pres": 84,
         "skin": 26,
         "test": 0,
         "mass": 32.4,
         "pedi": 0.433,
         "age": 22,
         "class": 0,
         "_deepnote_index_column": 727
        },
        {
         "preg": 2,
         "plas": 175,
         "pres": 88,
         "skin": 0,
         "test": 0,
         "mass": 22.9,
         "pedi": 0.326,
         "age": 22,
         "class": 0,
         "_deepnote_index_column": 728
        },
        {
         "preg": 2,
         "plas": 92,
         "pres": 52,
         "skin": 0,
         "test": 0,
         "mass": 30.1,
         "pedi": 0.141,
         "age": 22,
         "class": 0,
         "_deepnote_index_column": 729
        },
        {
         "preg": 2,
         "plas": 106,
         "pres": 56,
         "skin": 27,
         "test": 165,
         "mass": 29,
         "pedi": 0.426,
         "age": 22,
         "class": 0,
         "_deepnote_index_column": 733
        },
        {
         "preg": 2,
         "plas": 105,
         "pres": 75,
         "skin": 0,
         "test": 0,
         "mass": 23.3,
         "pedi": 0.56,
         "age": 53,
         "class": 0,
         "_deepnote_index_column": 734
        },
        {
         "preg": 4,
         "plas": 95,
         "pres": 60,
         "skin": 32,
         "test": 0,
         "mass": 35.4,
         "pedi": 0.284,
         "age": 28,
         "class": 0,
         "_deepnote_index_column": 735
        },
        {
         "preg": 0,
         "plas": 126,
         "pres": 86,
         "skin": 27,
         "test": 120,
         "mass": 27.4,
         "pedi": 0.515,
         "age": 21,
         "class": 0,
         "_deepnote_index_column": 736
        },
        {
         "preg": 8,
         "plas": 65,
         "pres": 72,
         "skin": 23,
         "test": 0,
         "mass": 32,
         "pedi": 0.6,
         "age": 42,
         "class": 0,
         "_deepnote_index_column": 737
        },
        {
         "preg": 2,
         "plas": 99,
         "pres": 60,
         "skin": 17,
         "test": 160,
         "mass": 36.6,
         "pedi": 0.453,
         "age": 21,
         "class": 0,
         "_deepnote_index_column": 738
        },
        {
         "preg": 3,
         "plas": 102,
         "pres": 44,
         "skin": 20,
         "test": 94,
         "mass": 30.8,
         "pedi": 0.4,
         "age": 26,
         "class": 0,
         "_deepnote_index_column": 741
        },
        {
         "preg": 1,
         "plas": 109,
         "pres": 58,
         "skin": 18,
         "test": 116,
         "mass": 28.5,
         "pedi": 0.219,
         "age": 22,
         "class": 0,
         "_deepnote_index_column": 742
        },
        {
         "preg": 13,
         "plas": 153,
         "pres": 88,
         "skin": 37,
         "test": 140,
         "mass": 40.6,
         "pedi": 1.174,
         "age": 39,
         "class": 0,
         "_deepnote_index_column": 744
        },
        {
         "preg": 12,
         "plas": 100,
         "pres": 84,
         "skin": 33,
         "test": 105,
         "mass": 30,
         "pedi": 0.488,
         "age": 46,
         "class": 0,
         "_deepnote_index_column": 745
        },
        {
         "preg": 1,
         "plas": 81,
         "pres": 74,
         "skin": 41,
         "test": 57,
         "mass": 46.3,
         "pedi": 1.096,
         "age": 32,
         "class": 0,
         "_deepnote_index_column": 747
        },
        {
         "preg": 1,
         "plas": 121,
         "pres": 78,
         "skin": 39,
         "test": 74,
         "mass": 39,
         "pedi": 0.261,
         "age": 28,
         "class": 0,
         "_deepnote_index_column": 751
        },
        {
         "preg": 3,
         "plas": 108,
         "pres": 62,
         "skin": 24,
         "test": 0,
         "mass": 26,
         "pedi": 0.223,
         "age": 25,
         "class": 0,
         "_deepnote_index_column": 752
        },
        {
         "preg": 7,
         "plas": 137,
         "pres": 90,
         "skin": 41,
         "test": 0,
         "mass": 32,
         "pedi": 0.391,
         "age": 39,
         "class": 0,
         "_deepnote_index_column": 756
        },
        {
         "preg": 1,
         "plas": 106,
         "pres": 76,
         "skin": 0,
         "test": 0,
         "mass": 37.5,
         "pedi": 0.197,
         "age": 26,
         "class": 0,
         "_deepnote_index_column": 758
        },
        {
         "preg": 2,
         "plas": 88,
         "pres": 58,
         "skin": 26,
         "test": 16,
         "mass": 28.4,
         "pedi": 0.766,
         "age": 22,
         "class": 0,
         "_deepnote_index_column": 760
        },
        {
         "preg": 9,
         "plas": 89,
         "pres": 62,
         "skin": 0,
         "test": 0,
         "mass": 22.5,
         "pedi": 0.142,
         "age": 33,
         "class": 0,
         "_deepnote_index_column": 762
        },
        {
         "preg": 10,
         "plas": 101,
         "pres": 76,
         "skin": 48,
         "test": 180,
         "mass": 32.9,
         "pedi": 0.171,
         "age": 63,
         "class": 0,
         "_deepnote_index_column": 763
        },
        {
         "preg": 2,
         "plas": 122,
         "pres": 70,
         "skin": 27,
         "test": 0,
         "mass": 36.8,
         "pedi": 0.34,
         "age": 27,
         "class": 0,
         "_deepnote_index_column": 764
        },
        {
         "preg": 5,
         "plas": 121,
         "pres": 72,
         "skin": 23,
         "test": 112,
         "mass": 26.2,
         "pedi": 0.245,
         "age": 30,
         "class": 0,
         "_deepnote_index_column": 765
        },
        {
         "preg": 1,
         "plas": 93,
         "pres": 70,
         "skin": 31,
         "test": 0,
         "mass": 30.4,
         "pedi": 0.315,
         "age": 23,
         "class": 0,
         "_deepnote_index_column": 767
        }
       ]
      },
      "text/plain": "     preg  plas  pres  skin  test  mass   pedi  age  class\n1       1    85    66    29     0  26.6  0.351   31      0\n3       1    89    66    23    94  28.1  0.167   21      0\n5       5   116    74     0     0  25.6  0.201   30      0\n7      10   115     0     0     0  35.3  0.134   29      0\n10      4   110    92     0     0  37.6  0.191   30      0\n..    ...   ...   ...   ...   ...   ...    ...  ...    ...\n762     9    89    62     0     0  22.5  0.142   33      0\n763    10   101    76    48   180  32.9  0.171   63      0\n764     2   122    70    27     0  36.8  0.340   27      0\n765     5   121    72    23   112  26.2  0.245   30      0\n767     1    93    70    31     0  30.4  0.315   23      0\n\n[500 rows x 9 columns]",
      "text/html": "<div>\n<style scoped>\n    .dataframe tbody tr th:only-of-type {\n        vertical-align: middle;\n    }\n\n    .dataframe tbody tr th {\n        vertical-align: top;\n    }\n\n    .dataframe thead th {\n        text-align: right;\n    }\n</style>\n<table border=\"1\" class=\"dataframe\">\n  <thead>\n    <tr style=\"text-align: right;\">\n      <th></th>\n      <th>preg</th>\n      <th>plas</th>\n      <th>pres</th>\n      <th>skin</th>\n      <th>test</th>\n      <th>mass</th>\n      <th>pedi</th>\n      <th>age</th>\n      <th>class</th>\n    </tr>\n  </thead>\n  <tbody>\n    <tr>\n      <th>1</th>\n      <td>1</td>\n      <td>85</td>\n      <td>66</td>\n      <td>29</td>\n      <td>0</td>\n      <td>26.6</td>\n      <td>0.351</td>\n      <td>31</td>\n      <td>0</td>\n    </tr>\n    <tr>\n      <th>3</th>\n      <td>1</td>\n      <td>89</td>\n      <td>66</td>\n      <td>23</td>\n      <td>94</td>\n      <td>28.1</td>\n      <td>0.167</td>\n      <td>21</td>\n      <td>0</td>\n    </tr>\n    <tr>\n      <th>5</th>\n      <td>5</td>\n      <td>116</td>\n      <td>74</td>\n      <td>0</td>\n      <td>0</td>\n      <td>25.6</td>\n      <td>0.201</td>\n      <td>30</td>\n      <td>0</td>\n    </tr>\n    <tr>\n      <th>7</th>\n      <td>10</td>\n      <td>115</td>\n      <td>0</td>\n      <td>0</td>\n      <td>0</td>\n      <td>35.3</td>\n      <td>0.134</td>\n      <td>29</td>\n      <td>0</td>\n    </tr>\n    <tr>\n      <th>10</th>\n      <td>4</td>\n      <td>110</td>\n      <td>92</td>\n      <td>0</td>\n      <td>0</td>\n      <td>37.6</td>\n      <td>0.191</td>\n      <td>30</td>\n      <td>0</td>\n    </tr>\n    <tr>\n      <th>...</th>\n      <td>...</td>\n      <td>...</td>\n      <td>...</td>\n      <td>...</td>\n      <td>...</td>\n      <td>...</td>\n      <td>...</td>\n      <td>...</td>\n      <td>...</td>\n    </tr>\n    <tr>\n      <th>762</th>\n      <td>9</td>\n      <td>89</td>\n      <td>62</td>\n      <td>0</td>\n      <td>0</td>\n      <td>22.5</td>\n      <td>0.142</td>\n      <td>33</td>\n      <td>0</td>\n    </tr>\n    <tr>\n      <th>763</th>\n      <td>10</td>\n      <td>101</td>\n      <td>76</td>\n      <td>48</td>\n      <td>180</td>\n      <td>32.9</td>\n      <td>0.171</td>\n      <td>63</td>\n      <td>0</td>\n    </tr>\n    <tr>\n      <th>764</th>\n      <td>2</td>\n      <td>122</td>\n      <td>70</td>\n      <td>27</td>\n      <td>0</td>\n      <td>36.8</td>\n      <td>0.340</td>\n      <td>27</td>\n      <td>0</td>\n    </tr>\n    <tr>\n      <th>765</th>\n      <td>5</td>\n      <td>121</td>\n      <td>72</td>\n      <td>23</td>\n      <td>112</td>\n      <td>26.2</td>\n      <td>0.245</td>\n      <td>30</td>\n      <td>0</td>\n    </tr>\n    <tr>\n      <th>767</th>\n      <td>1</td>\n      <td>93</td>\n      <td>70</td>\n      <td>31</td>\n      <td>0</td>\n      <td>30.4</td>\n      <td>0.315</td>\n      <td>23</td>\n      <td>0</td>\n    </tr>\n  </tbody>\n</table>\n<p>500 rows × 9 columns</p>\n</div>"
     },
     "metadata": {}
    }
   ]
  },
  {
   "cell_type": "markdown",
   "source": "Write code to figure out how many people are classified as having diabetes, class is 1",
   "metadata": {
    "colab_type": "text",
    "id": "ieGRz4iiiX4E",
    "cell_id": "00008-5091dff9-b30a-4b48-9dcc-3f995e5a4ccc",
    "deepnote_cell_type": "markdown"
   }
  },
  {
   "cell_type": "code",
   "metadata": {
    "colab_type": "code",
    "id": "-jq2O-vriXRT",
    "colab": {},
    "deepnote_to_be_reexecuted": false,
    "source_hash": "91cb202e",
    "execution_start": 1625628246877,
    "execution_millis": 27,
    "cell_id": "00009-09df0a8e-212c-4d02-81d4-b35044d368a7",
    "deepnote_cell_type": "code"
   },
   "source": "# YOUR CODE HERE\ndiabetic = df['class'] == 1\ndf[diabetic]",
   "execution_count": null,
   "outputs": [
    {
     "output_type": "execute_result",
     "execution_count": 5,
     "data": {
      "application/vnd.deepnote.dataframe.v2+json": {
       "row_count": 268,
       "column_count": 9,
       "columns": [
        {
         "name": "preg",
         "dtype": "int64",
         "stats": {
          "unique_count": 17,
          "nan_count": 0,
          "min": "0",
          "max": "17",
          "histogram": [
           {
            "bin_start": 0,
            "bin_end": 1.7,
            "count": 67
           },
           {
            "bin_start": 1.7,
            "bin_end": 3.4,
            "count": 46
           },
           {
            "bin_start": 3.4,
            "bin_end": 5.1,
            "count": 44
           },
           {
            "bin_start": 5.1,
            "bin_end": 6.8,
            "count": 16
           },
           {
            "bin_start": 6.8,
            "bin_end": 8.5,
            "count": 47
           },
           {
            "bin_start": 8.5,
            "bin_end": 10.2,
            "count": 28
           },
           {
            "bin_start": 10.2,
            "bin_end": 11.9,
            "count": 7
           },
           {
            "bin_start": 11.9,
            "bin_end": 13.6,
            "count": 9
           },
           {
            "bin_start": 13.6,
            "bin_end": 15.299999999999999,
            "count": 3
           },
           {
            "bin_start": 15.299999999999999,
            "bin_end": 17,
            "count": 1
           }
          ]
         }
        },
        {
         "name": "plas",
         "dtype": "int64",
         "stats": {
          "unique_count": 104,
          "nan_count": 0,
          "min": "0",
          "max": "199",
          "histogram": [
           {
            "bin_start": 0,
            "bin_end": 19.9,
            "count": 2
           },
           {
            "bin_start": 19.9,
            "bin_end": 39.8,
            "count": 0
           },
           {
            "bin_start": 39.8,
            "bin_end": 59.699999999999996,
            "count": 0
           },
           {
            "bin_start": 59.699999999999996,
            "bin_end": 79.6,
            "count": 1
           },
           {
            "bin_start": 79.6,
            "bin_end": 99.5,
            "count": 13
           },
           {
            "bin_start": 99.5,
            "bin_end": 119.39999999999999,
            "count": 54
           },
           {
            "bin_start": 119.39999999999999,
            "bin_end": 139.29999999999998,
            "count": 63
           },
           {
            "bin_start": 139.29999999999998,
            "bin_end": 159.2,
            "count": 51
           },
           {
            "bin_start": 159.2,
            "bin_end": 179.1,
            "count": 45
           },
           {
            "bin_start": 179.1,
            "bin_end": 199,
            "count": 39
           }
          ]
         }
        },
        {
         "name": "pres",
         "dtype": "int64",
         "stats": {
          "unique_count": 39,
          "nan_count": 0,
          "min": "0",
          "max": "114",
          "histogram": [
           {
            "bin_start": 0,
            "bin_end": 11.4,
            "count": 16
           },
           {
            "bin_start": 11.4,
            "bin_end": 22.8,
            "count": 0
           },
           {
            "bin_start": 22.8,
            "bin_end": 34.2,
            "count": 1
           },
           {
            "bin_start": 34.2,
            "bin_end": 45.6,
            "count": 1
           },
           {
            "bin_start": 45.6,
            "bin_end": 57,
            "count": 12
           },
           {
            "bin_start": 57,
            "bin_end": 68.4,
            "count": 56
           },
           {
            "bin_start": 68.4,
            "bin_end": 79.8,
            "count": 92
           },
           {
            "bin_start": 79.8,
            "bin_end": 91.2,
            "count": 72
           },
           {
            "bin_start": 91.2,
            "bin_end": 102.60000000000001,
            "count": 11
           },
           {
            "bin_start": 102.60000000000001,
            "bin_end": 114,
            "count": 7
           }
          ]
         }
        },
        {
         "name": "skin",
         "dtype": "int64",
         "stats": {
          "unique_count": 43,
          "nan_count": 0,
          "min": "0",
          "max": "99",
          "histogram": [
           {
            "bin_start": 0,
            "bin_end": 9.9,
            "count": 89
           },
           {
            "bin_start": 9.9,
            "bin_end": 19.8,
            "count": 14
           },
           {
            "bin_start": 19.8,
            "bin_end": 29.700000000000003,
            "count": 48
           },
           {
            "bin_start": 29.700000000000003,
            "bin_end": 39.6,
            "count": 75
           },
           {
            "bin_start": 39.6,
            "bin_end": 49.5,
            "count": 38
           },
           {
            "bin_start": 49.5,
            "bin_end": 59.400000000000006,
            "count": 2
           },
           {
            "bin_start": 59.400000000000006,
            "bin_end": 69.3,
            "count": 1
           },
           {
            "bin_start": 69.3,
            "bin_end": 79.2,
            "count": 0
           },
           {
            "bin_start": 79.2,
            "bin_end": 89.10000000000001,
            "count": 0
           },
           {
            "bin_start": 89.10000000000001,
            "bin_end": 99,
            "count": 1
           }
          ]
         }
        },
        {
         "name": "test",
         "dtype": "int64",
         "stats": {
          "unique_count": 93,
          "nan_count": 0,
          "min": "0",
          "max": "846",
          "histogram": [
           {
            "bin_start": 0,
            "bin_end": 84.6,
            "count": 147
           },
           {
            "bin_start": 84.6,
            "bin_end": 169.2,
            "count": 56
           },
           {
            "bin_start": 169.2,
            "bin_end": 253.79999999999998,
            "count": 36
           },
           {
            "bin_start": 253.79999999999998,
            "bin_end": 338.4,
            "count": 14
           },
           {
            "bin_start": 338.4,
            "bin_end": 423,
            "count": 3
           },
           {
            "bin_start": 423,
            "bin_end": 507.59999999999997,
            "count": 6
           },
           {
            "bin_start": 507.59999999999997,
            "bin_end": 592.1999999999999,
            "count": 4
           },
           {
            "bin_start": 592.1999999999999,
            "bin_end": 676.8,
            "count": 1
           },
           {
            "bin_start": 676.8,
            "bin_end": 761.4,
            "count": 0
           },
           {
            "bin_start": 761.4,
            "bin_end": 846,
            "count": 1
           }
          ]
         }
        },
        {
         "name": "mass",
         "dtype": "float64",
         "stats": {
          "unique_count": 148,
          "nan_count": 0,
          "min": "0.0",
          "max": "67.1",
          "histogram": [
           {
            "bin_start": 0,
            "bin_end": 6.709999999999999,
            "count": 2
           },
           {
            "bin_start": 6.709999999999999,
            "bin_end": 13.419999999999998,
            "count": 0
           },
           {
            "bin_start": 13.419999999999998,
            "bin_end": 20.129999999999995,
            "count": 0
           },
           {
            "bin_start": 20.129999999999995,
            "bin_end": 26.839999999999996,
            "count": 16
           },
           {
            "bin_start": 26.839999999999996,
            "bin_end": 33.55,
            "count": 99
           },
           {
            "bin_start": 33.55,
            "bin_end": 40.25999999999999,
            "count": 97
           },
           {
            "bin_start": 40.25999999999999,
            "bin_end": 46.96999999999999,
            "count": 41
           },
           {
            "bin_start": 46.96999999999999,
            "bin_end": 53.67999999999999,
            "count": 10
           },
           {
            "bin_start": 53.67999999999999,
            "bin_end": 60.38999999999999,
            "count": 2
           },
           {
            "bin_start": 60.38999999999999,
            "bin_end": 67.1,
            "count": 1
           }
          ]
         }
        },
        {
         "name": "pedi",
         "dtype": "float64",
         "stats": {
          "unique_count": 231,
          "nan_count": 0,
          "min": "0.088",
          "max": "2.42",
          "histogram": [
           {
            "bin_start": 0.088,
            "bin_end": 0.3212,
            "count": 86
           },
           {
            "bin_start": 0.3212,
            "bin_end": 0.5544,
            "count": 75
           },
           {
            "bin_start": 0.5544,
            "bin_end": 0.7876,
            "count": 53
           },
           {
            "bin_start": 0.7876,
            "bin_end": 1.0208,
            "count": 26
           },
           {
            "bin_start": 1.0208,
            "bin_end": 1.254,
            "count": 15
           },
           {
            "bin_start": 1.254,
            "bin_end": 1.4872,
            "count": 9
           },
           {
            "bin_start": 1.4872,
            "bin_end": 1.7204,
            "count": 0
           },
           {
            "bin_start": 1.7204,
            "bin_end": 1.9536,
            "count": 1
           },
           {
            "bin_start": 1.9536,
            "bin_end": 2.1868,
            "count": 1
           },
           {
            "bin_start": 2.1868,
            "bin_end": 2.42,
            "count": 2
           }
          ]
         }
        },
        {
         "name": "age",
         "dtype": "int64",
         "stats": {
          "unique_count": 45,
          "nan_count": 0,
          "min": "21",
          "max": "70",
          "histogram": [
           {
            "bin_start": 21,
            "bin_end": 25.9,
            "count": 45
           },
           {
            "bin_start": 25.9,
            "bin_end": 30.8,
            "count": 45
           },
           {
            "bin_start": 30.8,
            "bin_end": 35.7,
            "count": 41
           },
           {
            "bin_start": 35.7,
            "bin_end": 40.6,
            "count": 35
           },
           {
            "bin_start": 40.6,
            "bin_end": 45.5,
            "count": 44
           },
           {
            "bin_start": 45.5,
            "bin_end": 50.400000000000006,
            "count": 20
           },
           {
            "bin_start": 50.400000000000006,
            "bin_end": 55.300000000000004,
            "count": 21
           },
           {
            "bin_start": 55.300000000000004,
            "bin_end": 60.2,
            "count": 10
           },
           {
            "bin_start": 60.2,
            "bin_end": 65.1,
            "count": 3
           },
           {
            "bin_start": 65.1,
            "bin_end": 70,
            "count": 4
           }
          ]
         }
        },
        {
         "name": "class",
         "dtype": "int64",
         "stats": {
          "unique_count": 1,
          "nan_count": 0,
          "min": "1",
          "max": "1",
          "histogram": [
           {
            "bin_start": 0.5,
            "bin_end": 0.6,
            "count": 0
           },
           {
            "bin_start": 0.6,
            "bin_end": 0.7,
            "count": 0
           },
           {
            "bin_start": 0.7,
            "bin_end": 0.8,
            "count": 0
           },
           {
            "bin_start": 0.8,
            "bin_end": 0.9,
            "count": 0
           },
           {
            "bin_start": 0.9,
            "bin_end": 1,
            "count": 0
           },
           {
            "bin_start": 1,
            "bin_end": 1.1,
            "count": 268
           },
           {
            "bin_start": 1.1,
            "bin_end": 1.2000000000000002,
            "count": 0
           },
           {
            "bin_start": 1.2000000000000002,
            "bin_end": 1.3,
            "count": 0
           },
           {
            "bin_start": 1.3,
            "bin_end": 1.4,
            "count": 0
           },
           {
            "bin_start": 1.4,
            "bin_end": 1.5,
            "count": 0
           }
          ]
         }
        },
        {
         "name": "_deepnote_index_column",
         "dtype": "int64"
        }
       ],
       "rows_top": [
        {
         "preg": 6,
         "plas": 148,
         "pres": 72,
         "skin": 35,
         "test": 0,
         "mass": 33.6,
         "pedi": 0.627,
         "age": 50,
         "class": 1,
         "_deepnote_index_column": 0
        },
        {
         "preg": 8,
         "plas": 183,
         "pres": 64,
         "skin": 0,
         "test": 0,
         "mass": 23.3,
         "pedi": 0.672,
         "age": 32,
         "class": 1,
         "_deepnote_index_column": 2
        },
        {
         "preg": 0,
         "plas": 137,
         "pres": 40,
         "skin": 35,
         "test": 168,
         "mass": 43.1,
         "pedi": 2.288,
         "age": 33,
         "class": 1,
         "_deepnote_index_column": 4
        },
        {
         "preg": 3,
         "plas": 78,
         "pres": 50,
         "skin": 32,
         "test": 88,
         "mass": 31,
         "pedi": 0.248,
         "age": 26,
         "class": 1,
         "_deepnote_index_column": 6
        },
        {
         "preg": 2,
         "plas": 197,
         "pres": 70,
         "skin": 45,
         "test": 543,
         "mass": 30.5,
         "pedi": 0.158,
         "age": 53,
         "class": 1,
         "_deepnote_index_column": 8
        },
        {
         "preg": 8,
         "plas": 125,
         "pres": 96,
         "skin": 0,
         "test": 0,
         "mass": 0,
         "pedi": 0.232,
         "age": 54,
         "class": 1,
         "_deepnote_index_column": 9
        },
        {
         "preg": 10,
         "plas": 168,
         "pres": 74,
         "skin": 0,
         "test": 0,
         "mass": 38,
         "pedi": 0.537,
         "age": 34,
         "class": 1,
         "_deepnote_index_column": 11
        },
        {
         "preg": 1,
         "plas": 189,
         "pres": 60,
         "skin": 23,
         "test": 846,
         "mass": 30.1,
         "pedi": 0.398,
         "age": 59,
         "class": 1,
         "_deepnote_index_column": 13
        },
        {
         "preg": 5,
         "plas": 166,
         "pres": 72,
         "skin": 19,
         "test": 175,
         "mass": 25.8,
         "pedi": 0.587,
         "age": 51,
         "class": 1,
         "_deepnote_index_column": 14
        },
        {
         "preg": 7,
         "plas": 100,
         "pres": 0,
         "skin": 0,
         "test": 0,
         "mass": 30,
         "pedi": 0.484,
         "age": 32,
         "class": 1,
         "_deepnote_index_column": 15
        },
        {
         "preg": 0,
         "plas": 118,
         "pres": 84,
         "skin": 47,
         "test": 230,
         "mass": 45.8,
         "pedi": 0.551,
         "age": 31,
         "class": 1,
         "_deepnote_index_column": 16
        },
        {
         "preg": 7,
         "plas": 107,
         "pres": 74,
         "skin": 0,
         "test": 0,
         "mass": 29.6,
         "pedi": 0.254,
         "age": 31,
         "class": 1,
         "_deepnote_index_column": 17
        },
        {
         "preg": 1,
         "plas": 115,
         "pres": 70,
         "skin": 30,
         "test": 96,
         "mass": 34.6,
         "pedi": 0.529,
         "age": 32,
         "class": 1,
         "_deepnote_index_column": 19
        },
        {
         "preg": 7,
         "plas": 196,
         "pres": 90,
         "skin": 0,
         "test": 0,
         "mass": 39.8,
         "pedi": 0.451,
         "age": 41,
         "class": 1,
         "_deepnote_index_column": 22
        },
        {
         "preg": 9,
         "plas": 119,
         "pres": 80,
         "skin": 35,
         "test": 0,
         "mass": 29,
         "pedi": 0.263,
         "age": 29,
         "class": 1,
         "_deepnote_index_column": 23
        },
        {
         "preg": 11,
         "plas": 143,
         "pres": 94,
         "skin": 33,
         "test": 146,
         "mass": 36.6,
         "pedi": 0.254,
         "age": 51,
         "class": 1,
         "_deepnote_index_column": 24
        },
        {
         "preg": 10,
         "plas": 125,
         "pres": 70,
         "skin": 26,
         "test": 115,
         "mass": 31.1,
         "pedi": 0.205,
         "age": 41,
         "class": 1,
         "_deepnote_index_column": 25
        },
        {
         "preg": 7,
         "plas": 147,
         "pres": 76,
         "skin": 0,
         "test": 0,
         "mass": 39.4,
         "pedi": 0.257,
         "age": 43,
         "class": 1,
         "_deepnote_index_column": 26
        },
        {
         "preg": 3,
         "plas": 158,
         "pres": 76,
         "skin": 36,
         "test": 245,
         "mass": 31.6,
         "pedi": 0.851,
         "age": 28,
         "class": 1,
         "_deepnote_index_column": 31
        },
        {
         "preg": 9,
         "plas": 102,
         "pres": 76,
         "skin": 37,
         "test": 0,
         "mass": 32.9,
         "pedi": 0.665,
         "age": 46,
         "class": 1,
         "_deepnote_index_column": 37
        },
        {
         "preg": 2,
         "plas": 90,
         "pres": 68,
         "skin": 42,
         "test": 0,
         "mass": 38.2,
         "pedi": 0.503,
         "age": 27,
         "class": 1,
         "_deepnote_index_column": 38
        },
        {
         "preg": 4,
         "plas": 111,
         "pres": 72,
         "skin": 47,
         "test": 207,
         "mass": 37.1,
         "pedi": 1.39,
         "age": 56,
         "class": 1,
         "_deepnote_index_column": 39
        },
        {
         "preg": 9,
         "plas": 171,
         "pres": 110,
         "skin": 24,
         "test": 240,
         "mass": 45.4,
         "pedi": 0.721,
         "age": 54,
         "class": 1,
         "_deepnote_index_column": 43
        },
        {
         "preg": 0,
         "plas": 180,
         "pres": 66,
         "skin": 39,
         "test": 0,
         "mass": 42,
         "pedi": 1.893,
         "age": 25,
         "class": 1,
         "_deepnote_index_column": 45
        },
        {
         "preg": 7,
         "plas": 103,
         "pres": 66,
         "skin": 32,
         "test": 0,
         "mass": 39.1,
         "pedi": 0.344,
         "age": 31,
         "class": 1,
         "_deepnote_index_column": 48
        },
        {
         "preg": 8,
         "plas": 176,
         "pres": 90,
         "skin": 34,
         "test": 300,
         "mass": 33.7,
         "pedi": 0.467,
         "age": 58,
         "class": 1,
         "_deepnote_index_column": 53
        },
        {
         "preg": 7,
         "plas": 187,
         "pres": 68,
         "skin": 39,
         "test": 304,
         "mass": 37.7,
         "pedi": 0.254,
         "age": 41,
         "class": 1,
         "_deepnote_index_column": 56
        },
        {
         "preg": 8,
         "plas": 133,
         "pres": 72,
         "skin": 0,
         "test": 0,
         "mass": 32.9,
         "pedi": 0.27,
         "age": 39,
         "class": 1,
         "_deepnote_index_column": 61
        },
        {
         "preg": 7,
         "plas": 114,
         "pres": 66,
         "skin": 0,
         "test": 0,
         "mass": 32.8,
         "pedi": 0.258,
         "age": 42,
         "class": 1,
         "_deepnote_index_column": 64
        },
        {
         "preg": 0,
         "plas": 109,
         "pres": 88,
         "skin": 30,
         "test": 0,
         "mass": 32.5,
         "pedi": 0.855,
         "age": 38,
         "class": 1,
         "_deepnote_index_column": 66
        },
        {
         "preg": 2,
         "plas": 100,
         "pres": 66,
         "skin": 20,
         "test": 90,
         "mass": 32.9,
         "pedi": 0.867,
         "age": 28,
         "class": 1,
         "_deepnote_index_column": 70
        },
        {
         "preg": 13,
         "plas": 126,
         "pres": 90,
         "skin": 0,
         "test": 0,
         "mass": 43.4,
         "pedi": 0.583,
         "age": 42,
         "class": 1,
         "_deepnote_index_column": 72
        },
        {
         "preg": 0,
         "plas": 131,
         "pres": 0,
         "skin": 0,
         "test": 0,
         "mass": 43.2,
         "pedi": 0.27,
         "age": 26,
         "class": 1,
         "_deepnote_index_column": 78
        },
        {
         "preg": 5,
         "plas": 137,
         "pres": 108,
         "skin": 0,
         "test": 0,
         "mass": 48.8,
         "pedi": 0.227,
         "age": 37,
         "class": 1,
         "_deepnote_index_column": 84
        },
        {
         "preg": 15,
         "plas": 136,
         "pres": 70,
         "skin": 32,
         "test": 110,
         "mass": 37.1,
         "pedi": 0.153,
         "age": 43,
         "class": 1,
         "_deepnote_index_column": 88
        },
        {
         "preg": 4,
         "plas": 134,
         "pres": 72,
         "skin": 0,
         "test": 0,
         "mass": 23.8,
         "pedi": 0.277,
         "age": 60,
         "class": 1,
         "_deepnote_index_column": 93
        },
        {
         "preg": 1,
         "plas": 122,
         "pres": 90,
         "skin": 51,
         "test": 220,
         "mass": 49.7,
         "pedi": 0.325,
         "age": 31,
         "class": 1,
         "_deepnote_index_column": 99
        },
        {
         "preg": 1,
         "plas": 163,
         "pres": 72,
         "skin": 0,
         "test": 0,
         "mass": 39,
         "pedi": 1.222,
         "age": 33,
         "class": 1,
         "_deepnote_index_column": 100
        },
        {
         "preg": 0,
         "plas": 95,
         "pres": 85,
         "skin": 25,
         "test": 36,
         "mass": 37.4,
         "pedi": 0.247,
         "age": 24,
         "class": 1,
         "_deepnote_index_column": 109
        },
        {
         "preg": 3,
         "plas": 171,
         "pres": 72,
         "skin": 33,
         "test": 135,
         "mass": 33.3,
         "pedi": 0.199,
         "age": 24,
         "class": 1,
         "_deepnote_index_column": 110
        },
        {
         "preg": 8,
         "plas": 155,
         "pres": 62,
         "skin": 26,
         "test": 495,
         "mass": 34,
         "pedi": 0.543,
         "age": 46,
         "class": 1,
         "_deepnote_index_column": 111
        },
        {
         "preg": 7,
         "plas": 160,
         "pres": 54,
         "skin": 32,
         "test": 175,
         "mass": 30.5,
         "pedi": 0.588,
         "age": 39,
         "class": 1,
         "_deepnote_index_column": 114
        },
        {
         "preg": 4,
         "plas": 146,
         "pres": 92,
         "skin": 0,
         "test": 0,
         "mass": 31.2,
         "pedi": 0.539,
         "age": 61,
         "class": 1,
         "_deepnote_index_column": 115
        },
        {
         "preg": 5,
         "plas": 124,
         "pres": 74,
         "skin": 0,
         "test": 0,
         "mass": 34,
         "pedi": 0.22,
         "age": 38,
         "class": 1,
         "_deepnote_index_column": 116
        },
        {
         "preg": 0,
         "plas": 162,
         "pres": 76,
         "skin": 56,
         "test": 100,
         "mass": 53.2,
         "pedi": 0.759,
         "age": 25,
         "class": 1,
         "_deepnote_index_column": 120
        },
        {
         "preg": 0,
         "plas": 113,
         "pres": 76,
         "skin": 0,
         "test": 0,
         "mass": 33.3,
         "pedi": 0.278,
         "age": 23,
         "class": 1,
         "_deepnote_index_column": 124
        },
        {
         "preg": 1,
         "plas": 88,
         "pres": 30,
         "skin": 42,
         "test": 99,
         "mass": 55,
         "pedi": 0.496,
         "age": 26,
         "class": 1,
         "_deepnote_index_column": 125
        },
        {
         "preg": 1,
         "plas": 117,
         "pres": 88,
         "skin": 24,
         "test": 145,
         "mass": 34.5,
         "pedi": 0.403,
         "age": 40,
         "class": 1,
         "_deepnote_index_column": 128
        },
        {
         "preg": 0,
         "plas": 105,
         "pres": 84,
         "skin": 0,
         "test": 0,
         "mass": 27.9,
         "pedi": 0.741,
         "age": 62,
         "class": 1,
         "_deepnote_index_column": 129
        },
        {
         "preg": 4,
         "plas": 173,
         "pres": 70,
         "skin": 14,
         "test": 168,
         "mass": 29.7,
         "pedi": 0.361,
         "age": 33,
         "class": 1,
         "_deepnote_index_column": 130
        },
        {
         "preg": 9,
         "plas": 122,
         "pres": 56,
         "skin": 0,
         "test": 0,
         "mass": 33.3,
         "pedi": 1.114,
         "age": 33,
         "class": 1,
         "_deepnote_index_column": 131
        },
        {
         "preg": 3,
         "plas": 170,
         "pres": 64,
         "skin": 37,
         "test": 225,
         "mass": 34.5,
         "pedi": 0.356,
         "age": 30,
         "class": 1,
         "_deepnote_index_column": 132
        },
        {
         "preg": 10,
         "plas": 108,
         "pres": 66,
         "skin": 0,
         "test": 0,
         "mass": 32.4,
         "pedi": 0.272,
         "age": 42,
         "class": 1,
         "_deepnote_index_column": 143
        },
        {
         "preg": 9,
         "plas": 156,
         "pres": 86,
         "skin": 28,
         "test": 155,
         "mass": 34.3,
         "pedi": 1.189,
         "age": 42,
         "class": 1,
         "_deepnote_index_column": 152
        },
        {
         "preg": 8,
         "plas": 188,
         "pres": 78,
         "skin": 0,
         "test": 0,
         "mass": 47.9,
         "pedi": 0.137,
         "age": 43,
         "class": 1,
         "_deepnote_index_column": 154
        }
       ],
       "rows_bottom": [
        {
         "preg": 7,
         "plas": 168,
         "pres": 88,
         "skin": 42,
         "test": 321,
         "mass": 38.2,
         "pedi": 0.787,
         "age": 40,
         "class": 1,
         "_deepnote_index_column": 612
        },
        {
         "preg": 11,
         "plas": 138,
         "pres": 74,
         "skin": 26,
         "test": 144,
         "mass": 36.1,
         "pedi": 0.557,
         "age": 50,
         "class": 1,
         "_deepnote_index_column": 614
        },
        {
         "preg": 9,
         "plas": 112,
         "pres": 82,
         "skin": 24,
         "test": 0,
         "mass": 28.2,
         "pedi": 1.282,
         "age": 50,
         "class": 1,
         "_deepnote_index_column": 618
        },
        {
         "preg": 0,
         "plas": 119,
         "pres": 0,
         "skin": 0,
         "test": 0,
         "mass": 32.4,
         "pedi": 0.141,
         "age": 24,
         "class": 1,
         "_deepnote_index_column": 619
        },
        {
         "preg": 7,
         "plas": 114,
         "pres": 64,
         "skin": 0,
         "test": 0,
         "mass": 27.4,
         "pedi": 0.732,
         "age": 34,
         "class": 1,
         "_deepnote_index_column": 630
        },
        {
         "preg": 13,
         "plas": 104,
         "pres": 72,
         "skin": 0,
         "test": 0,
         "mass": 31.2,
         "pedi": 0.465,
         "age": 38,
         "class": 1,
         "_deepnote_index_column": 635
        },
        {
         "preg": 7,
         "plas": 97,
         "pres": 76,
         "skin": 32,
         "test": 91,
         "mass": 40.9,
         "pedi": 0.871,
         "age": 32,
         "class": 1,
         "_deepnote_index_column": 638
        },
        {
         "preg": 6,
         "plas": 147,
         "pres": 80,
         "skin": 0,
         "test": 0,
         "mass": 29.5,
         "pedi": 0.178,
         "age": 50,
         "class": 1,
         "_deepnote_index_column": 642
        },
        {
         "preg": 1,
         "plas": 167,
         "pres": 74,
         "skin": 17,
         "test": 144,
         "mass": 23.4,
         "pedi": 0.447,
         "age": 33,
         "class": 1,
         "_deepnote_index_column": 646
        },
        {
         "preg": 0,
         "plas": 179,
         "pres": 50,
         "skin": 36,
         "test": 159,
         "mass": 37.8,
         "pedi": 0.455,
         "age": 22,
         "class": 1,
         "_deepnote_index_column": 647
        },
        {
         "preg": 11,
         "plas": 136,
         "pres": 84,
         "skin": 35,
         "test": 130,
         "mass": 28.3,
         "pedi": 0.26,
         "age": 42,
         "class": 1,
         "_deepnote_index_column": 648
        },
        {
         "preg": 2,
         "plas": 155,
         "pres": 52,
         "skin": 27,
         "test": 540,
         "mass": 38.7,
         "pedi": 0.24,
         "age": 25,
         "class": 1,
         "_deepnote_index_column": 655
        },
        {
         "preg": 3,
         "plas": 80,
         "pres": 82,
         "skin": 31,
         "test": 70,
         "mass": 34.2,
         "pedi": 1.292,
         "age": 27,
         "class": 1,
         "_deepnote_index_column": 659
        },
        {
         "preg": 1,
         "plas": 199,
         "pres": 76,
         "skin": 43,
         "test": 0,
         "mass": 42.9,
         "pedi": 1.394,
         "age": 22,
         "class": 1,
         "_deepnote_index_column": 661
        },
        {
         "preg": 8,
         "plas": 167,
         "pres": 106,
         "skin": 46,
         "test": 231,
         "mass": 37.6,
         "pedi": 0.165,
         "age": 43,
         "class": 1,
         "_deepnote_index_column": 662
        },
        {
         "preg": 9,
         "plas": 145,
         "pres": 80,
         "skin": 46,
         "test": 130,
         "mass": 37.9,
         "pedi": 0.637,
         "age": 40,
         "class": 1,
         "_deepnote_index_column": 663
        },
        {
         "preg": 6,
         "plas": 115,
         "pres": 60,
         "skin": 39,
         "test": 0,
         "mass": 33.7,
         "pedi": 0.245,
         "age": 40,
         "class": 1,
         "_deepnote_index_column": 664
        },
        {
         "preg": 4,
         "plas": 145,
         "pres": 82,
         "skin": 18,
         "test": 0,
         "mass": 32.5,
         "pedi": 0.235,
         "age": 70,
         "class": 1,
         "_deepnote_index_column": 666
        },
        {
         "preg": 10,
         "plas": 111,
         "pres": 70,
         "skin": 27,
         "test": 0,
         "mass": 27.5,
         "pedi": 0.141,
         "age": 40,
         "class": 1,
         "_deepnote_index_column": 667
        },
        {
         "preg": 6,
         "plas": 195,
         "pres": 70,
         "skin": 0,
         "test": 0,
         "mass": 30.9,
         "pedi": 0.328,
         "age": 31,
         "class": 1,
         "_deepnote_index_column": 675
        },
        {
         "preg": 9,
         "plas": 156,
         "pres": 86,
         "skin": 0,
         "test": 0,
         "mass": 24.8,
         "pedi": 0.23,
         "age": 53,
         "class": 1,
         "_deepnote_index_column": 676
        },
        {
         "preg": 3,
         "plas": 121,
         "pres": 52,
         "skin": 0,
         "test": 0,
         "mass": 36,
         "pedi": 0.127,
         "age": 25,
         "class": 1,
         "_deepnote_index_column": 678
        },
        {
         "preg": 0,
         "plas": 162,
         "pres": 76,
         "skin": 36,
         "test": 0,
         "mass": 49.6,
         "pedi": 0.364,
         "age": 26,
         "class": 1,
         "_deepnote_index_column": 681
        },
        {
         "preg": 4,
         "plas": 125,
         "pres": 80,
         "skin": 0,
         "test": 0,
         "mass": 32.3,
         "pedi": 0.536,
         "age": 27,
         "class": 1,
         "_deepnote_index_column": 683
        },
        {
         "preg": 1,
         "plas": 144,
         "pres": 82,
         "skin": 46,
         "test": 180,
         "mass": 46.1,
         "pedi": 0.335,
         "age": 46,
         "class": 1,
         "_deepnote_index_column": 689
        },
        {
         "preg": 13,
         "plas": 158,
         "pres": 114,
         "skin": 0,
         "test": 0,
         "mass": 42.3,
         "pedi": 0.257,
         "age": 44,
         "class": 1,
         "_deepnote_index_column": 691
        },
        {
         "preg": 7,
         "plas": 129,
         "pres": 68,
         "skin": 49,
         "test": 125,
         "mass": 38.5,
         "pedi": 0.439,
         "age": 43,
         "class": 1,
         "_deepnote_index_column": 693
        },
        {
         "preg": 7,
         "plas": 142,
         "pres": 90,
         "skin": 24,
         "test": 480,
         "mass": 30.4,
         "pedi": 0.128,
         "age": 43,
         "class": 1,
         "_deepnote_index_column": 695
        },
        {
         "preg": 3,
         "plas": 169,
         "pres": 74,
         "skin": 19,
         "test": 125,
         "mass": 29.9,
         "pedi": 0.268,
         "age": 31,
         "class": 1,
         "_deepnote_index_column": 696
        },
        {
         "preg": 6,
         "plas": 125,
         "pres": 78,
         "skin": 31,
         "test": 0,
         "mass": 27.6,
         "pedi": 0.565,
         "age": 49,
         "class": 1,
         "_deepnote_index_column": 701
        },
        {
         "preg": 1,
         "plas": 168,
         "pres": 88,
         "skin": 29,
         "test": 0,
         "mass": 35,
         "pedi": 0.905,
         "age": 52,
         "class": 1,
         "_deepnote_index_column": 702
        },
        {
         "preg": 10,
         "plas": 115,
         "pres": 0,
         "skin": 0,
         "test": 0,
         "mass": 0,
         "pedi": 0.261,
         "age": 30,
         "class": 1,
         "_deepnote_index_column": 706
        },
        {
         "preg": 9,
         "plas": 164,
         "pres": 78,
         "skin": 0,
         "test": 0,
         "mass": 32.8,
         "pedi": 0.148,
         "age": 45,
         "class": 1,
         "_deepnote_index_column": 708
        },
        {
         "preg": 2,
         "plas": 93,
         "pres": 64,
         "skin": 32,
         "test": 160,
         "mass": 38,
         "pedi": 0.674,
         "age": 23,
         "class": 1,
         "_deepnote_index_column": 709
        },
        {
         "preg": 10,
         "plas": 129,
         "pres": 62,
         "skin": 36,
         "test": 0,
         "mass": 41.2,
         "pedi": 0.441,
         "age": 38,
         "class": 1,
         "_deepnote_index_column": 712
        },
        {
         "preg": 7,
         "plas": 187,
         "pres": 50,
         "skin": 33,
         "test": 392,
         "mass": 33.9,
         "pedi": 0.826,
         "age": 34,
         "class": 1,
         "_deepnote_index_column": 715
        },
        {
         "preg": 3,
         "plas": 173,
         "pres": 78,
         "skin": 39,
         "test": 185,
         "mass": 33.8,
         "pedi": 0.97,
         "age": 31,
         "class": 1,
         "_deepnote_index_column": 716
        },
        {
         "preg": 5,
         "plas": 97,
         "pres": 76,
         "skin": 27,
         "test": 0,
         "mass": 35.6,
         "pedi": 0.378,
         "age": 52,
         "class": 1,
         "_deepnote_index_column": 719
        },
        {
         "preg": 1,
         "plas": 149,
         "pres": 68,
         "skin": 29,
         "test": 127,
         "mass": 29.3,
         "pedi": 0.349,
         "age": 42,
         "class": 1,
         "_deepnote_index_column": 722
        },
        {
         "preg": 3,
         "plas": 130,
         "pres": 78,
         "skin": 23,
         "test": 79,
         "mass": 28.4,
         "pedi": 0.323,
         "age": 34,
         "class": 1,
         "_deepnote_index_column": 730
        },
        {
         "preg": 8,
         "plas": 120,
         "pres": 86,
         "skin": 0,
         "test": 0,
         "mass": 28.4,
         "pedi": 0.259,
         "age": 22,
         "class": 1,
         "_deepnote_index_column": 731
        },
        {
         "preg": 2,
         "plas": 174,
         "pres": 88,
         "skin": 37,
         "test": 120,
         "mass": 44.5,
         "pedi": 0.646,
         "age": 24,
         "class": 1,
         "_deepnote_index_column": 732
        },
        {
         "preg": 1,
         "plas": 102,
         "pres": 74,
         "skin": 0,
         "test": 0,
         "mass": 39.5,
         "pedi": 0.293,
         "age": 42,
         "class": 1,
         "_deepnote_index_column": 739
        },
        {
         "preg": 11,
         "plas": 120,
         "pres": 80,
         "skin": 37,
         "test": 150,
         "mass": 42.3,
         "pedi": 0.785,
         "age": 48,
         "class": 1,
         "_deepnote_index_column": 740
        },
        {
         "preg": 9,
         "plas": 140,
         "pres": 94,
         "skin": 0,
         "test": 0,
         "mass": 32.7,
         "pedi": 0.734,
         "age": 45,
         "class": 1,
         "_deepnote_index_column": 743
        },
        {
         "preg": 1,
         "plas": 147,
         "pres": 94,
         "skin": 41,
         "test": 0,
         "mass": 49.3,
         "pedi": 0.358,
         "age": 27,
         "class": 1,
         "_deepnote_index_column": 746
        },
        {
         "preg": 3,
         "plas": 187,
         "pres": 70,
         "skin": 22,
         "test": 200,
         "mass": 36.4,
         "pedi": 0.408,
         "age": 36,
         "class": 1,
         "_deepnote_index_column": 748
        },
        {
         "preg": 6,
         "plas": 162,
         "pres": 62,
         "skin": 0,
         "test": 0,
         "mass": 24.3,
         "pedi": 0.178,
         "age": 50,
         "class": 1,
         "_deepnote_index_column": 749
        },
        {
         "preg": 4,
         "plas": 136,
         "pres": 70,
         "skin": 0,
         "test": 0,
         "mass": 31.2,
         "pedi": 1.182,
         "age": 22,
         "class": 1,
         "_deepnote_index_column": 750
        },
        {
         "preg": 0,
         "plas": 181,
         "pres": 88,
         "skin": 44,
         "test": 510,
         "mass": 43.3,
         "pedi": 0.222,
         "age": 26,
         "class": 1,
         "_deepnote_index_column": 753
        },
        {
         "preg": 8,
         "plas": 154,
         "pres": 78,
         "skin": 32,
         "test": 0,
         "mass": 32.4,
         "pedi": 0.443,
         "age": 45,
         "class": 1,
         "_deepnote_index_column": 754
        },
        {
         "preg": 1,
         "plas": 128,
         "pres": 88,
         "skin": 39,
         "test": 110,
         "mass": 36.5,
         "pedi": 1.057,
         "age": 37,
         "class": 1,
         "_deepnote_index_column": 755
        },
        {
         "preg": 0,
         "plas": 123,
         "pres": 72,
         "skin": 0,
         "test": 0,
         "mass": 36.3,
         "pedi": 0.258,
         "age": 52,
         "class": 1,
         "_deepnote_index_column": 757
        },
        {
         "preg": 6,
         "plas": 190,
         "pres": 92,
         "skin": 0,
         "test": 0,
         "mass": 35.5,
         "pedi": 0.278,
         "age": 66,
         "class": 1,
         "_deepnote_index_column": 759
        },
        {
         "preg": 9,
         "plas": 170,
         "pres": 74,
         "skin": 31,
         "test": 0,
         "mass": 44,
         "pedi": 0.403,
         "age": 43,
         "class": 1,
         "_deepnote_index_column": 761
        },
        {
         "preg": 1,
         "plas": 126,
         "pres": 60,
         "skin": 0,
         "test": 0,
         "mass": 30.1,
         "pedi": 0.349,
         "age": 47,
         "class": 1,
         "_deepnote_index_column": 766
        }
       ]
      },
      "text/plain": "     preg  plas  pres  skin  test  mass   pedi  age  class\n0       6   148    72    35     0  33.6  0.627   50      1\n2       8   183    64     0     0  23.3  0.672   32      1\n4       0   137    40    35   168  43.1  2.288   33      1\n6       3    78    50    32    88  31.0  0.248   26      1\n8       2   197    70    45   543  30.5  0.158   53      1\n..    ...   ...   ...   ...   ...   ...    ...  ...    ...\n755     1   128    88    39   110  36.5  1.057   37      1\n757     0   123    72     0     0  36.3  0.258   52      1\n759     6   190    92     0     0  35.5  0.278   66      1\n761     9   170    74    31     0  44.0  0.403   43      1\n766     1   126    60     0     0  30.1  0.349   47      1\n\n[268 rows x 9 columns]",
      "text/html": "<div>\n<style scoped>\n    .dataframe tbody tr th:only-of-type {\n        vertical-align: middle;\n    }\n\n    .dataframe tbody tr th {\n        vertical-align: top;\n    }\n\n    .dataframe thead th {\n        text-align: right;\n    }\n</style>\n<table border=\"1\" class=\"dataframe\">\n  <thead>\n    <tr style=\"text-align: right;\">\n      <th></th>\n      <th>preg</th>\n      <th>plas</th>\n      <th>pres</th>\n      <th>skin</th>\n      <th>test</th>\n      <th>mass</th>\n      <th>pedi</th>\n      <th>age</th>\n      <th>class</th>\n    </tr>\n  </thead>\n  <tbody>\n    <tr>\n      <th>0</th>\n      <td>6</td>\n      <td>148</td>\n      <td>72</td>\n      <td>35</td>\n      <td>0</td>\n      <td>33.6</td>\n      <td>0.627</td>\n      <td>50</td>\n      <td>1</td>\n    </tr>\n    <tr>\n      <th>2</th>\n      <td>8</td>\n      <td>183</td>\n      <td>64</td>\n      <td>0</td>\n      <td>0</td>\n      <td>23.3</td>\n      <td>0.672</td>\n      <td>32</td>\n      <td>1</td>\n    </tr>\n    <tr>\n      <th>4</th>\n      <td>0</td>\n      <td>137</td>\n      <td>40</td>\n      <td>35</td>\n      <td>168</td>\n      <td>43.1</td>\n      <td>2.288</td>\n      <td>33</td>\n      <td>1</td>\n    </tr>\n    <tr>\n      <th>6</th>\n      <td>3</td>\n      <td>78</td>\n      <td>50</td>\n      <td>32</td>\n      <td>88</td>\n      <td>31.0</td>\n      <td>0.248</td>\n      <td>26</td>\n      <td>1</td>\n    </tr>\n    <tr>\n      <th>8</th>\n      <td>2</td>\n      <td>197</td>\n      <td>70</td>\n      <td>45</td>\n      <td>543</td>\n      <td>30.5</td>\n      <td>0.158</td>\n      <td>53</td>\n      <td>1</td>\n    </tr>\n    <tr>\n      <th>...</th>\n      <td>...</td>\n      <td>...</td>\n      <td>...</td>\n      <td>...</td>\n      <td>...</td>\n      <td>...</td>\n      <td>...</td>\n      <td>...</td>\n      <td>...</td>\n    </tr>\n    <tr>\n      <th>755</th>\n      <td>1</td>\n      <td>128</td>\n      <td>88</td>\n      <td>39</td>\n      <td>110</td>\n      <td>36.5</td>\n      <td>1.057</td>\n      <td>37</td>\n      <td>1</td>\n    </tr>\n    <tr>\n      <th>757</th>\n      <td>0</td>\n      <td>123</td>\n      <td>72</td>\n      <td>0</td>\n      <td>0</td>\n      <td>36.3</td>\n      <td>0.258</td>\n      <td>52</td>\n      <td>1</td>\n    </tr>\n    <tr>\n      <th>759</th>\n      <td>6</td>\n      <td>190</td>\n      <td>92</td>\n      <td>0</td>\n      <td>0</td>\n      <td>35.5</td>\n      <td>0.278</td>\n      <td>66</td>\n      <td>1</td>\n    </tr>\n    <tr>\n      <th>761</th>\n      <td>9</td>\n      <td>170</td>\n      <td>74</td>\n      <td>31</td>\n      <td>0</td>\n      <td>44.0</td>\n      <td>0.403</td>\n      <td>43</td>\n      <td>1</td>\n    </tr>\n    <tr>\n      <th>766</th>\n      <td>1</td>\n      <td>126</td>\n      <td>60</td>\n      <td>0</td>\n      <td>0</td>\n      <td>30.1</td>\n      <td>0.349</td>\n      <td>47</td>\n      <td>1</td>\n    </tr>\n  </tbody>\n</table>\n<p>268 rows × 9 columns</p>\n</div>"
     },
     "metadata": {}
    }
   ]
  },
  {
   "cell_type": "markdown",
   "source": "What percent of people have diabetes in the study",
   "metadata": {
    "colab_type": "text",
    "id": "oeFT7T9OnuSd",
    "cell_id": "00010-2c105475-36be-4cc7-8b48-2df2ede2042b",
    "deepnote_cell_type": "markdown"
   }
  },
  {
   "cell_type": "code",
   "metadata": {
    "colab_type": "code",
    "id": "zGGHptFYnwq0",
    "colab": {},
    "deepnote_to_be_reexecuted": false,
    "source_hash": "9a5f1254",
    "execution_start": 1625628246938,
    "execution_millis": 6,
    "cell_id": "00011-b3e14cb5-8e40-40ec-8c80-445c9a493046",
    "deepnote_cell_type": "code"
   },
   "source": "len(df[diabetic])/len(df)",
   "execution_count": null,
   "outputs": [
    {
     "output_type": "execute_result",
     "execution_count": 6,
     "data": {
      "text/plain": "0.3489583333333333"
     },
     "metadata": {}
    }
   ]
  },
  {
   "cell_type": "markdown",
   "source": "Print out the `\"pres\"` and `\"class\"` (no other columns) for the first 5 people",
   "metadata": {
    "colab_type": "text",
    "id": "nbrjnRPafs0p",
    "cell_id": "00012-0847557c-d475-4f4f-ac6d-978fb28439c5",
    "deepnote_cell_type": "markdown"
   }
  },
  {
   "cell_type": "code",
   "metadata": {
    "colab_type": "code",
    "id": "GiNCJ19KfHJQ",
    "colab": {},
    "deepnote_to_be_reexecuted": false,
    "source_hash": "e9a5c8a6",
    "execution_start": 1625628246939,
    "execution_millis": 6,
    "cell_id": "00013-0be1c6c0-9ee4-4e96-a9f5-5ff0b27e850d",
    "deepnote_cell_type": "code"
   },
   "source": "# YOUR CODE HERE\ndf[['pres','class']].head(5)",
   "execution_count": null,
   "outputs": [
    {
     "output_type": "execute_result",
     "execution_count": 7,
     "data": {
      "application/vnd.deepnote.dataframe.v2+json": {
       "row_count": 5,
       "column_count": 2,
       "columns": [
        {
         "name": "pres",
         "dtype": "int64",
         "stats": {
          "unique_count": 4,
          "nan_count": 0,
          "min": "40",
          "max": "72",
          "histogram": [
           {
            "bin_start": 40,
            "bin_end": 43.2,
            "count": 1
           },
           {
            "bin_start": 43.2,
            "bin_end": 46.4,
            "count": 0
           },
           {
            "bin_start": 46.4,
            "bin_end": 49.6,
            "count": 0
           },
           {
            "bin_start": 49.6,
            "bin_end": 52.8,
            "count": 0
           },
           {
            "bin_start": 52.8,
            "bin_end": 56,
            "count": 0
           },
           {
            "bin_start": 56,
            "bin_end": 59.2,
            "count": 0
           },
           {
            "bin_start": 59.2,
            "bin_end": 62.400000000000006,
            "count": 0
           },
           {
            "bin_start": 62.400000000000006,
            "bin_end": 65.6,
            "count": 1
           },
           {
            "bin_start": 65.6,
            "bin_end": 68.8,
            "count": 2
           },
           {
            "bin_start": 68.8,
            "bin_end": 72,
            "count": 1
           }
          ]
         }
        },
        {
         "name": "class",
         "dtype": "int64",
         "stats": {
          "unique_count": 2,
          "nan_count": 0,
          "min": "0",
          "max": "1",
          "histogram": [
           {
            "bin_start": 0,
            "bin_end": 0.1,
            "count": 2
           },
           {
            "bin_start": 0.1,
            "bin_end": 0.2,
            "count": 0
           },
           {
            "bin_start": 0.2,
            "bin_end": 0.30000000000000004,
            "count": 0
           },
           {
            "bin_start": 0.30000000000000004,
            "bin_end": 0.4,
            "count": 0
           },
           {
            "bin_start": 0.4,
            "bin_end": 0.5,
            "count": 0
           },
           {
            "bin_start": 0.5,
            "bin_end": 0.6000000000000001,
            "count": 0
           },
           {
            "bin_start": 0.6000000000000001,
            "bin_end": 0.7000000000000001,
            "count": 0
           },
           {
            "bin_start": 0.7000000000000001,
            "bin_end": 0.8,
            "count": 0
           },
           {
            "bin_start": 0.8,
            "bin_end": 0.9,
            "count": 0
           },
           {
            "bin_start": 0.9,
            "bin_end": 1,
            "count": 3
           }
          ]
         }
        },
        {
         "name": "_deepnote_index_column",
         "dtype": "int64"
        }
       ],
       "rows_top": [
        {
         "pres": 72,
         "class": 1,
         "_deepnote_index_column": 0
        },
        {
         "pres": 66,
         "class": 0,
         "_deepnote_index_column": 1
        },
        {
         "pres": 64,
         "class": 1,
         "_deepnote_index_column": 2
        },
        {
         "pres": 66,
         "class": 0,
         "_deepnote_index_column": 3
        },
        {
         "pres": 40,
         "class": 1,
         "_deepnote_index_column": 4
        }
       ],
       "rows_bottom": null
      },
      "text/plain": "   pres  class\n0    72      1\n1    66      0\n2    64      1\n3    66      0\n4    40      1",
      "text/html": "<div>\n<style scoped>\n    .dataframe tbody tr th:only-of-type {\n        vertical-align: middle;\n    }\n\n    .dataframe tbody tr th {\n        vertical-align: top;\n    }\n\n    .dataframe thead th {\n        text-align: right;\n    }\n</style>\n<table border=\"1\" class=\"dataframe\">\n  <thead>\n    <tr style=\"text-align: right;\">\n      <th></th>\n      <th>pres</th>\n      <th>class</th>\n    </tr>\n  </thead>\n  <tbody>\n    <tr>\n      <th>0</th>\n      <td>72</td>\n      <td>1</td>\n    </tr>\n    <tr>\n      <th>1</th>\n      <td>66</td>\n      <td>0</td>\n    </tr>\n    <tr>\n      <th>2</th>\n      <td>64</td>\n      <td>1</td>\n    </tr>\n    <tr>\n      <th>3</th>\n      <td>66</td>\n      <td>0</td>\n    </tr>\n    <tr>\n      <th>4</th>\n      <td>40</td>\n      <td>1</td>\n    </tr>\n  </tbody>\n</table>\n</div>"
     },
     "metadata": {}
    }
   ]
  },
  {
   "cell_type": "markdown",
   "source": "Run the cell below, it will print out the correlation among the columns",
   "metadata": {
    "colab_type": "text",
    "id": "O-CcsoqlhxUn",
    "cell_id": "00014-6948aefe-90e1-43df-b8ae-467dc03d1aab",
    "deepnote_cell_type": "markdown"
   }
  },
  {
   "cell_type": "code",
   "metadata": {
    "colab_type": "code",
    "id": "pXpVFt6MffQt",
    "colab": {},
    "deepnote_to_be_reexecuted": false,
    "source_hash": "1418132e",
    "execution_start": 1625628246941,
    "execution_millis": 56,
    "cell_id": "00015-67c5da75-4951-46d1-a8f4-593ca1ebdab1",
    "deepnote_cell_type": "code"
   },
   "source": "df.corr()\n",
   "execution_count": null,
   "outputs": [
    {
     "output_type": "execute_result",
     "execution_count": 8,
     "data": {
      "application/vnd.deepnote.dataframe.v2+json": {
       "row_count": 9,
       "column_count": 9,
       "columns": [
        {
         "name": "preg",
         "dtype": "float64",
         "stats": {
          "unique_count": 9,
          "nan_count": 0,
          "min": "-0.08167177444900726",
          "max": "1.0",
          "histogram": [
           {
            "bin_start": -0.08167177444900726,
            "bin_end": 0.026495402995893452,
            "count": 4
           },
           {
            "bin_start": 0.026495402995893452,
            "bin_end": 0.13466258044079416,
            "count": 1
           },
           {
            "bin_start": 0.13466258044079416,
            "bin_end": 0.24282975788569489,
            "count": 2
           },
           {
            "bin_start": 0.24282975788569489,
            "bin_end": 0.3509969353305956,
            "count": 0
           },
           {
            "bin_start": 0.3509969353305956,
            "bin_end": 0.45916411277549635,
            "count": 0
           },
           {
            "bin_start": 0.45916411277549635,
            "bin_end": 0.567331290220397,
            "count": 1
           },
           {
            "bin_start": 0.567331290220397,
            "bin_end": 0.6754984676652978,
            "count": 0
           },
           {
            "bin_start": 0.6754984676652978,
            "bin_end": 0.7836656451101984,
            "count": 0
           },
           {
            "bin_start": 0.7836656451101984,
            "bin_end": 0.8918328225550991,
            "count": 0
           },
           {
            "bin_start": 0.8918328225550991,
            "bin_end": 1,
            "count": 1
           }
          ]
         }
        },
        {
         "name": "plas",
         "dtype": "float64",
         "stats": {
          "unique_count": 9,
          "nan_count": 0,
          "min": "0.05732789073817692",
          "max": "1.0",
          "histogram": [
           {
            "bin_start": 0.05732789073817692,
            "bin_end": 0.15159510166435924,
            "count": 3
           },
           {
            "bin_start": 0.15159510166435924,
            "bin_end": 0.24586231259054156,
            "count": 2
           },
           {
            "bin_start": 0.24586231259054156,
            "bin_end": 0.3401295235167239,
            "count": 2
           },
           {
            "bin_start": 0.3401295235167239,
            "bin_end": 0.43439673444290616,
            "count": 0
           },
           {
            "bin_start": 0.43439673444290616,
            "bin_end": 0.5286639453690885,
            "count": 1
           },
           {
            "bin_start": 0.5286639453690885,
            "bin_end": 0.6229311562952708,
            "count": 0
           },
           {
            "bin_start": 0.6229311562952708,
            "bin_end": 0.7171983672214531,
            "count": 0
           },
           {
            "bin_start": 0.7171983672214531,
            "bin_end": 0.8114655781476354,
            "count": 0
           },
           {
            "bin_start": 0.8114655781476354,
            "bin_end": 0.9057327890738177,
            "count": 0
           },
           {
            "bin_start": 0.9057327890738177,
            "bin_end": 1,
            "count": 1
           }
          ]
         }
        },
        {
         "name": "pres",
         "dtype": "float64",
         "stats": {
          "unique_count": 9,
          "nan_count": 0,
          "min": "0.04126494793009856",
          "max": "1.0",
          "histogram": [
           {
            "bin_start": 0.04126494793009856,
            "bin_end": 0.1371384531370887,
            "count": 3
           },
           {
            "bin_start": 0.1371384531370887,
            "bin_end": 0.23301195834407884,
            "count": 3
           },
           {
            "bin_start": 0.23301195834407884,
            "bin_end": 0.328885463551069,
            "count": 2
           },
           {
            "bin_start": 0.328885463551069,
            "bin_end": 0.42475896875805913,
            "count": 0
           },
           {
            "bin_start": 0.42475896875805913,
            "bin_end": 0.5206324739650493,
            "count": 0
           },
           {
            "bin_start": 0.5206324739650493,
            "bin_end": 0.6165059791720395,
            "count": 0
           },
           {
            "bin_start": 0.6165059791720395,
            "bin_end": 0.7123794843790296,
            "count": 0
           },
           {
            "bin_start": 0.7123794843790296,
            "bin_end": 0.8082529895860198,
            "count": 0
           },
           {
            "bin_start": 0.8082529895860198,
            "bin_end": 0.9041264947930099,
            "count": 0
           },
           {
            "bin_start": 0.9041264947930099,
            "bin_end": 1,
            "count": 1
           }
          ]
         }
        },
        {
         "name": "skin",
         "dtype": "float64",
         "stats": {
          "unique_count": 9,
          "nan_count": 0,
          "min": "-0.11397026236774152",
          "max": "1.0",
          "histogram": [
           {
            "bin_start": -0.11397026236774152,
            "bin_end": -0.0025732361309673824,
            "count": 2
           },
           {
            "bin_start": -0.0025732361309673824,
            "bin_end": 0.10882379010580676,
            "count": 2
           },
           {
            "bin_start": 0.10882379010580676,
            "bin_end": 0.22022081634258087,
            "count": 2
           },
           {
            "bin_start": 0.22022081634258087,
            "bin_end": 0.331617842579355,
            "count": 0
           },
           {
            "bin_start": 0.331617842579355,
            "bin_end": 0.44301486881612917,
            "count": 2
           },
           {
            "bin_start": 0.44301486881612917,
            "bin_end": 0.5544118950529032,
            "count": 0
           },
           {
            "bin_start": 0.5544118950529032,
            "bin_end": 0.6658089212896774,
            "count": 0
           },
           {
            "bin_start": 0.6658089212896774,
            "bin_end": 0.7772059475264516,
            "count": 0
           },
           {
            "bin_start": 0.7772059475264516,
            "bin_end": 0.8886029737632256,
            "count": 0
           },
           {
            "bin_start": 0.8886029737632256,
            "bin_end": 1,
            "count": 1
           }
          ]
         }
        },
        {
         "name": "test",
         "dtype": "float64",
         "stats": {
          "unique_count": 9,
          "nan_count": 0,
          "min": "-0.07353461435162822",
          "max": "1.0",
          "histogram": [
           {
            "bin_start": -0.07353461435162822,
            "bin_end": 0.033818847083534595,
            "count": 2
           },
           {
            "bin_start": 0.033818847083534595,
            "bin_end": 0.14117230851869741,
            "count": 2
           },
           {
            "bin_start": 0.14117230851869741,
            "bin_end": 0.24852576995386022,
            "count": 2
           },
           {
            "bin_start": 0.24852576995386022,
            "bin_end": 0.35587923138902305,
            "count": 1
           },
           {
            "bin_start": 0.35587923138902305,
            "bin_end": 0.4632326928241859,
            "count": 1
           },
           {
            "bin_start": 0.4632326928241859,
            "bin_end": 0.5705861542593487,
            "count": 0
           },
           {
            "bin_start": 0.5705861542593487,
            "bin_end": 0.6779396156945116,
            "count": 0
           },
           {
            "bin_start": 0.6779396156945116,
            "bin_end": 0.7852930771296743,
            "count": 0
           },
           {
            "bin_start": 0.7852930771296743,
            "bin_end": 0.8926465385648371,
            "count": 0
           },
           {
            "bin_start": 0.8926465385648371,
            "bin_end": 1,
            "count": 1
           }
          ]
         }
        },
        {
         "name": "mass",
         "dtype": "float64",
         "stats": {
          "unique_count": 9,
          "nan_count": 0,
          "min": "0.017683090727830565",
          "max": "1.0",
          "histogram": [
           {
            "bin_start": 0.017683090727830565,
            "bin_end": 0.11591478165504751,
            "count": 2
           },
           {
            "bin_start": 0.11591478165504751,
            "bin_end": 0.21414647258226444,
            "count": 2
           },
           {
            "bin_start": 0.21414647258226444,
            "bin_end": 0.3123781635094814,
            "count": 3
           },
           {
            "bin_start": 0.3123781635094814,
            "bin_end": 0.41060985443669834,
            "count": 1
           },
           {
            "bin_start": 0.41060985443669834,
            "bin_end": 0.5088415453639152,
            "count": 0
           },
           {
            "bin_start": 0.5088415453639152,
            "bin_end": 0.6070732362911322,
            "count": 0
           },
           {
            "bin_start": 0.6070732362911322,
            "bin_end": 0.7053049272183491,
            "count": 0
           },
           {
            "bin_start": 0.7053049272183491,
            "bin_end": 0.8035366181455661,
            "count": 0
           },
           {
            "bin_start": 0.8035366181455661,
            "bin_end": 0.901768309072783,
            "count": 0
           },
           {
            "bin_start": 0.901768309072783,
            "bin_end": 1,
            "count": 1
           }
          ]
         }
        },
        {
         "name": "pedi",
         "dtype": "float64",
         "stats": {
          "unique_count": 9,
          "nan_count": 0,
          "min": "-0.03352267296261304",
          "max": "1.0",
          "histogram": [
           {
            "bin_start": -0.03352267296261304,
            "bin_end": 0.06982959433364827,
            "count": 3
           },
           {
            "bin_start": 0.06982959433364827,
            "bin_end": 0.17318186162990956,
            "count": 2
           },
           {
            "bin_start": 0.17318186162990956,
            "bin_end": 0.2765341289261709,
            "count": 3
           },
           {
            "bin_start": 0.2765341289261709,
            "bin_end": 0.3798863962224322,
            "count": 0
           },
           {
            "bin_start": 0.3798863962224322,
            "bin_end": 0.4832386635186935,
            "count": 0
           },
           {
            "bin_start": 0.4832386635186935,
            "bin_end": 0.5865909308149548,
            "count": 0
           },
           {
            "bin_start": 0.5865909308149548,
            "bin_end": 0.6899431981112161,
            "count": 0
           },
           {
            "bin_start": 0.6899431981112161,
            "bin_end": 0.7932954654074774,
            "count": 0
           },
           {
            "bin_start": 0.7932954654074774,
            "bin_end": 0.8966477327037388,
            "count": 0
           },
           {
            "bin_start": 0.8966477327037388,
            "bin_end": 1,
            "count": 1
           }
          ]
         }
        },
        {
         "name": "age",
         "dtype": "float64",
         "stats": {
          "unique_count": 9,
          "nan_count": 0,
          "min": "-0.11397026236774152",
          "max": "1.0",
          "histogram": [
           {
            "bin_start": -0.11397026236774152,
            "bin_end": -0.0025732361309673824,
            "count": 2
           },
           {
            "bin_start": -0.0025732361309673824,
            "bin_end": 0.10882379010580676,
            "count": 2
           },
           {
            "bin_start": 0.10882379010580676,
            "bin_end": 0.22022081634258087,
            "count": 0
           },
           {
            "bin_start": 0.22022081634258087,
            "bin_end": 0.331617842579355,
            "count": 3
           },
           {
            "bin_start": 0.331617842579355,
            "bin_end": 0.44301486881612917,
            "count": 0
           },
           {
            "bin_start": 0.44301486881612917,
            "bin_end": 0.5544118950529032,
            "count": 1
           },
           {
            "bin_start": 0.5544118950529032,
            "bin_end": 0.6658089212896774,
            "count": 0
           },
           {
            "bin_start": 0.6658089212896774,
            "bin_end": 0.7772059475264516,
            "count": 0
           },
           {
            "bin_start": 0.7772059475264516,
            "bin_end": 0.8886029737632256,
            "count": 0
           },
           {
            "bin_start": 0.8886029737632256,
            "bin_end": 1,
            "count": 1
           }
          ]
         }
        },
        {
         "name": "class",
         "dtype": "float64",
         "stats": {
          "unique_count": 9,
          "nan_count": 0,
          "min": "0.06506835955033277",
          "max": "1.0",
          "histogram": [
           {
            "bin_start": 0.06506835955033277,
            "bin_end": 0.15856152359529951,
            "count": 3
           },
           {
            "bin_start": 0.15856152359529951,
            "bin_end": 0.25205468764026623,
            "count": 3
           },
           {
            "bin_start": 0.25205468764026623,
            "bin_end": 0.34554785168523294,
            "count": 1
           },
           {
            "bin_start": 0.34554785168523294,
            "bin_end": 0.4390410157301997,
            "count": 0
           },
           {
            "bin_start": 0.4390410157301997,
            "bin_end": 0.5325341797751664,
            "count": 1
           },
           {
            "bin_start": 0.5325341797751664,
            "bin_end": 0.6260273438201331,
            "count": 0
           },
           {
            "bin_start": 0.6260273438201331,
            "bin_end": 0.7195205078650998,
            "count": 0
           },
           {
            "bin_start": 0.7195205078650998,
            "bin_end": 0.8130136719100666,
            "count": 0
           },
           {
            "bin_start": 0.8130136719100666,
            "bin_end": 0.9065068359550333,
            "count": 0
           },
           {
            "bin_start": 0.9065068359550333,
            "bin_end": 1,
            "count": 1
           }
          ]
         }
        },
        {
         "name": "_deepnote_index_column",
         "dtype": "object"
        }
       ],
       "rows_top": [
        {
         "preg": 1,
         "plas": 0.12945867149927248,
         "pres": 0.14128197740713966,
         "skin": -0.08167177444900726,
         "test": -0.07353461435162822,
         "mass": 0.017683090727830565,
         "pedi": -0.03352267296261304,
         "age": 0.5443412284023392,
         "class": 0.22189815303398636,
         "_deepnote_index_column": "preg"
        },
        {
         "preg": 0.12945867149927248,
         "plas": 1,
         "pres": 0.1525895865686646,
         "skin": 0.05732789073817692,
         "test": 0.3313571099202092,
         "mass": 0.2210710694589828,
         "pedi": 0.13733729982837092,
         "age": 0.26351431982433343,
         "class": 0.46658139830687373,
         "_deepnote_index_column": "plas"
        },
        {
         "preg": 0.14128197740713966,
         "plas": 0.1525895865686646,
         "pres": 1,
         "skin": 0.2073705384030709,
         "test": 0.08893337837319314,
         "mass": 0.2818052888499109,
         "pedi": 0.04126494793009856,
         "age": 0.23952794642136344,
         "class": 0.06506835955033277,
         "_deepnote_index_column": "pres"
        },
        {
         "preg": -0.08167177444900726,
         "plas": 0.05732789073817692,
         "pres": 0.2073705384030709,
         "skin": 1,
         "test": 0.43678257012001326,
         "mass": 0.39257320415903835,
         "pedi": 0.1839275729541631,
         "age": -0.11397026236774152,
         "class": 0.07475223191831946,
         "_deepnote_index_column": "skin"
        },
        {
         "preg": -0.07353461435162822,
         "plas": 0.3313571099202092,
         "pres": 0.08893337837319314,
         "skin": 0.43678257012001326,
         "test": 1,
         "mass": 0.19785905649310145,
         "pedi": 0.1850709291680993,
         "age": -0.04216295473537695,
         "class": 0.13054795488404794,
         "_deepnote_index_column": "test"
        },
        {
         "preg": 0.017683090727830565,
         "plas": 0.2210710694589828,
         "pres": 0.2818052888499109,
         "skin": 0.39257320415903835,
         "test": 0.19785905649310145,
         "mass": 1,
         "pedi": 0.14064695254510523,
         "age": 0.03624187009229395,
         "class": 0.2926946626444454,
         "_deepnote_index_column": "mass"
        },
        {
         "preg": -0.03352267296261304,
         "plas": 0.13733729982837092,
         "pres": 0.04126494793009856,
         "skin": 0.1839275729541631,
         "test": 0.1850709291680993,
         "mass": 0.14064695254510523,
         "pedi": 1,
         "age": 0.03356131243480539,
         "class": 0.17384406565296004,
         "_deepnote_index_column": "pedi"
        },
        {
         "preg": 0.5443412284023392,
         "plas": 0.26351431982433343,
         "pres": 0.23952794642136344,
         "skin": -0.11397026236774152,
         "test": -0.04216295473537695,
         "mass": 0.03624187009229395,
         "pedi": 0.03356131243480539,
         "age": 1,
         "class": 0.23835598302719757,
         "_deepnote_index_column": "age"
        },
        {
         "preg": 0.22189815303398636,
         "plas": 0.46658139830687373,
         "pres": 0.06506835955033277,
         "skin": 0.07475223191831946,
         "test": 0.13054795488404794,
         "mass": 0.2926946626444454,
         "pedi": 0.17384406565296004,
         "age": 0.23835598302719757,
         "class": 1,
         "_deepnote_index_column": "class"
        }
       ],
       "rows_bottom": null
      },
      "text/plain": "           preg      plas      pres      skin      test      mass      pedi  \\\npreg   1.000000  0.129459  0.141282 -0.081672 -0.073535  0.017683 -0.033523   \nplas   0.129459  1.000000  0.152590  0.057328  0.331357  0.221071  0.137337   \npres   0.141282  0.152590  1.000000  0.207371  0.088933  0.281805  0.041265   \nskin  -0.081672  0.057328  0.207371  1.000000  0.436783  0.392573  0.183928   \ntest  -0.073535  0.331357  0.088933  0.436783  1.000000  0.197859  0.185071   \nmass   0.017683  0.221071  0.281805  0.392573  0.197859  1.000000  0.140647   \npedi  -0.033523  0.137337  0.041265  0.183928  0.185071  0.140647  1.000000   \nage    0.544341  0.263514  0.239528 -0.113970 -0.042163  0.036242  0.033561   \nclass  0.221898  0.466581  0.065068  0.074752  0.130548  0.292695  0.173844   \n\n            age     class  \npreg   0.544341  0.221898  \nplas   0.263514  0.466581  \npres   0.239528  0.065068  \nskin  -0.113970  0.074752  \ntest  -0.042163  0.130548  \nmass   0.036242  0.292695  \npedi   0.033561  0.173844  \nage    1.000000  0.238356  \nclass  0.238356  1.000000  ",
      "text/html": "<div>\n<style scoped>\n    .dataframe tbody tr th:only-of-type {\n        vertical-align: middle;\n    }\n\n    .dataframe tbody tr th {\n        vertical-align: top;\n    }\n\n    .dataframe thead th {\n        text-align: right;\n    }\n</style>\n<table border=\"1\" class=\"dataframe\">\n  <thead>\n    <tr style=\"text-align: right;\">\n      <th></th>\n      <th>preg</th>\n      <th>plas</th>\n      <th>pres</th>\n      <th>skin</th>\n      <th>test</th>\n      <th>mass</th>\n      <th>pedi</th>\n      <th>age</th>\n      <th>class</th>\n    </tr>\n  </thead>\n  <tbody>\n    <tr>\n      <th>preg</th>\n      <td>1.000000</td>\n      <td>0.129459</td>\n      <td>0.141282</td>\n      <td>-0.081672</td>\n      <td>-0.073535</td>\n      <td>0.017683</td>\n      <td>-0.033523</td>\n      <td>0.544341</td>\n      <td>0.221898</td>\n    </tr>\n    <tr>\n      <th>plas</th>\n      <td>0.129459</td>\n      <td>1.000000</td>\n      <td>0.152590</td>\n      <td>0.057328</td>\n      <td>0.331357</td>\n      <td>0.221071</td>\n      <td>0.137337</td>\n      <td>0.263514</td>\n      <td>0.466581</td>\n    </tr>\n    <tr>\n      <th>pres</th>\n      <td>0.141282</td>\n      <td>0.152590</td>\n      <td>1.000000</td>\n      <td>0.207371</td>\n      <td>0.088933</td>\n      <td>0.281805</td>\n      <td>0.041265</td>\n      <td>0.239528</td>\n      <td>0.065068</td>\n    </tr>\n    <tr>\n      <th>skin</th>\n      <td>-0.081672</td>\n      <td>0.057328</td>\n      <td>0.207371</td>\n      <td>1.000000</td>\n      <td>0.436783</td>\n      <td>0.392573</td>\n      <td>0.183928</td>\n      <td>-0.113970</td>\n      <td>0.074752</td>\n    </tr>\n    <tr>\n      <th>test</th>\n      <td>-0.073535</td>\n      <td>0.331357</td>\n      <td>0.088933</td>\n      <td>0.436783</td>\n      <td>1.000000</td>\n      <td>0.197859</td>\n      <td>0.185071</td>\n      <td>-0.042163</td>\n      <td>0.130548</td>\n    </tr>\n    <tr>\n      <th>mass</th>\n      <td>0.017683</td>\n      <td>0.221071</td>\n      <td>0.281805</td>\n      <td>0.392573</td>\n      <td>0.197859</td>\n      <td>1.000000</td>\n      <td>0.140647</td>\n      <td>0.036242</td>\n      <td>0.292695</td>\n    </tr>\n    <tr>\n      <th>pedi</th>\n      <td>-0.033523</td>\n      <td>0.137337</td>\n      <td>0.041265</td>\n      <td>0.183928</td>\n      <td>0.185071</td>\n      <td>0.140647</td>\n      <td>1.000000</td>\n      <td>0.033561</td>\n      <td>0.173844</td>\n    </tr>\n    <tr>\n      <th>age</th>\n      <td>0.544341</td>\n      <td>0.263514</td>\n      <td>0.239528</td>\n      <td>-0.113970</td>\n      <td>-0.042163</td>\n      <td>0.036242</td>\n      <td>0.033561</td>\n      <td>1.000000</td>\n      <td>0.238356</td>\n    </tr>\n    <tr>\n      <th>class</th>\n      <td>0.221898</td>\n      <td>0.466581</td>\n      <td>0.065068</td>\n      <td>0.074752</td>\n      <td>0.130548</td>\n      <td>0.292695</td>\n      <td>0.173844</td>\n      <td>0.238356</td>\n      <td>1.000000</td>\n    </tr>\n  </tbody>\n</table>\n</div>"
     },
     "metadata": {}
    }
   ]
  },
  {
   "cell_type": "code",
   "metadata": {
    "tags": [],
    "deepnote_to_be_reexecuted": false,
    "source_hash": "f8453a83",
    "execution_start": 1625628297099,
    "execution_millis": 48,
    "cell_id": "00016-b5a00714-0a72-4d16-b52e-6d8fb459845e",
    "deepnote_cell_type": "code"
   },
   "source": "df.corr()",
   "execution_count": null,
   "outputs": [
    {
     "output_type": "execute_result",
     "execution_count": 17,
     "data": {
      "application/vnd.deepnote.dataframe.v2+json": {
       "row_count": 9,
       "column_count": 9,
       "columns": [
        {
         "name": "preg",
         "dtype": "float64",
         "stats": {
          "unique_count": 9,
          "nan_count": 0,
          "min": "-0.08167177444900726",
          "max": "1.0",
          "histogram": [
           {
            "bin_start": -0.08167177444900726,
            "bin_end": 0.026495402995893452,
            "count": 4
           },
           {
            "bin_start": 0.026495402995893452,
            "bin_end": 0.13466258044079416,
            "count": 1
           },
           {
            "bin_start": 0.13466258044079416,
            "bin_end": 0.24282975788569489,
            "count": 2
           },
           {
            "bin_start": 0.24282975788569489,
            "bin_end": 0.3509969353305956,
            "count": 0
           },
           {
            "bin_start": 0.3509969353305956,
            "bin_end": 0.45916411277549635,
            "count": 0
           },
           {
            "bin_start": 0.45916411277549635,
            "bin_end": 0.567331290220397,
            "count": 1
           },
           {
            "bin_start": 0.567331290220397,
            "bin_end": 0.6754984676652978,
            "count": 0
           },
           {
            "bin_start": 0.6754984676652978,
            "bin_end": 0.7836656451101984,
            "count": 0
           },
           {
            "bin_start": 0.7836656451101984,
            "bin_end": 0.8918328225550991,
            "count": 0
           },
           {
            "bin_start": 0.8918328225550991,
            "bin_end": 1,
            "count": 1
           }
          ]
         }
        },
        {
         "name": "plas",
         "dtype": "float64",
         "stats": {
          "unique_count": 9,
          "nan_count": 0,
          "min": "0.05732789073817692",
          "max": "1.0",
          "histogram": [
           {
            "bin_start": 0.05732789073817692,
            "bin_end": 0.15159510166435924,
            "count": 3
           },
           {
            "bin_start": 0.15159510166435924,
            "bin_end": 0.24586231259054156,
            "count": 2
           },
           {
            "bin_start": 0.24586231259054156,
            "bin_end": 0.3401295235167239,
            "count": 2
           },
           {
            "bin_start": 0.3401295235167239,
            "bin_end": 0.43439673444290616,
            "count": 0
           },
           {
            "bin_start": 0.43439673444290616,
            "bin_end": 0.5286639453690885,
            "count": 1
           },
           {
            "bin_start": 0.5286639453690885,
            "bin_end": 0.6229311562952708,
            "count": 0
           },
           {
            "bin_start": 0.6229311562952708,
            "bin_end": 0.7171983672214531,
            "count": 0
           },
           {
            "bin_start": 0.7171983672214531,
            "bin_end": 0.8114655781476354,
            "count": 0
           },
           {
            "bin_start": 0.8114655781476354,
            "bin_end": 0.9057327890738177,
            "count": 0
           },
           {
            "bin_start": 0.9057327890738177,
            "bin_end": 1,
            "count": 1
           }
          ]
         }
        },
        {
         "name": "pres",
         "dtype": "float64",
         "stats": {
          "unique_count": 9,
          "nan_count": 0,
          "min": "0.04126494793009856",
          "max": "1.0",
          "histogram": [
           {
            "bin_start": 0.04126494793009856,
            "bin_end": 0.1371384531370887,
            "count": 3
           },
           {
            "bin_start": 0.1371384531370887,
            "bin_end": 0.23301195834407884,
            "count": 3
           },
           {
            "bin_start": 0.23301195834407884,
            "bin_end": 0.328885463551069,
            "count": 2
           },
           {
            "bin_start": 0.328885463551069,
            "bin_end": 0.42475896875805913,
            "count": 0
           },
           {
            "bin_start": 0.42475896875805913,
            "bin_end": 0.5206324739650493,
            "count": 0
           },
           {
            "bin_start": 0.5206324739650493,
            "bin_end": 0.6165059791720395,
            "count": 0
           },
           {
            "bin_start": 0.6165059791720395,
            "bin_end": 0.7123794843790296,
            "count": 0
           },
           {
            "bin_start": 0.7123794843790296,
            "bin_end": 0.8082529895860198,
            "count": 0
           },
           {
            "bin_start": 0.8082529895860198,
            "bin_end": 0.9041264947930099,
            "count": 0
           },
           {
            "bin_start": 0.9041264947930099,
            "bin_end": 1,
            "count": 1
           }
          ]
         }
        },
        {
         "name": "skin",
         "dtype": "float64",
         "stats": {
          "unique_count": 9,
          "nan_count": 0,
          "min": "-0.11397026236774152",
          "max": "1.0",
          "histogram": [
           {
            "bin_start": -0.11397026236774152,
            "bin_end": -0.0025732361309673824,
            "count": 2
           },
           {
            "bin_start": -0.0025732361309673824,
            "bin_end": 0.10882379010580676,
            "count": 2
           },
           {
            "bin_start": 0.10882379010580676,
            "bin_end": 0.22022081634258087,
            "count": 2
           },
           {
            "bin_start": 0.22022081634258087,
            "bin_end": 0.331617842579355,
            "count": 0
           },
           {
            "bin_start": 0.331617842579355,
            "bin_end": 0.44301486881612917,
            "count": 2
           },
           {
            "bin_start": 0.44301486881612917,
            "bin_end": 0.5544118950529032,
            "count": 0
           },
           {
            "bin_start": 0.5544118950529032,
            "bin_end": 0.6658089212896774,
            "count": 0
           },
           {
            "bin_start": 0.6658089212896774,
            "bin_end": 0.7772059475264516,
            "count": 0
           },
           {
            "bin_start": 0.7772059475264516,
            "bin_end": 0.8886029737632256,
            "count": 0
           },
           {
            "bin_start": 0.8886029737632256,
            "bin_end": 1,
            "count": 1
           }
          ]
         }
        },
        {
         "name": "test",
         "dtype": "float64",
         "stats": {
          "unique_count": 9,
          "nan_count": 0,
          "min": "-0.07353461435162822",
          "max": "1.0",
          "histogram": [
           {
            "bin_start": -0.07353461435162822,
            "bin_end": 0.033818847083534595,
            "count": 2
           },
           {
            "bin_start": 0.033818847083534595,
            "bin_end": 0.14117230851869741,
            "count": 2
           },
           {
            "bin_start": 0.14117230851869741,
            "bin_end": 0.24852576995386022,
            "count": 2
           },
           {
            "bin_start": 0.24852576995386022,
            "bin_end": 0.35587923138902305,
            "count": 1
           },
           {
            "bin_start": 0.35587923138902305,
            "bin_end": 0.4632326928241859,
            "count": 1
           },
           {
            "bin_start": 0.4632326928241859,
            "bin_end": 0.5705861542593487,
            "count": 0
           },
           {
            "bin_start": 0.5705861542593487,
            "bin_end": 0.6779396156945116,
            "count": 0
           },
           {
            "bin_start": 0.6779396156945116,
            "bin_end": 0.7852930771296743,
            "count": 0
           },
           {
            "bin_start": 0.7852930771296743,
            "bin_end": 0.8926465385648371,
            "count": 0
           },
           {
            "bin_start": 0.8926465385648371,
            "bin_end": 1,
            "count": 1
           }
          ]
         }
        },
        {
         "name": "mass",
         "dtype": "float64",
         "stats": {
          "unique_count": 9,
          "nan_count": 0,
          "min": "0.017683090727830565",
          "max": "1.0",
          "histogram": [
           {
            "bin_start": 0.017683090727830565,
            "bin_end": 0.11591478165504751,
            "count": 2
           },
           {
            "bin_start": 0.11591478165504751,
            "bin_end": 0.21414647258226444,
            "count": 2
           },
           {
            "bin_start": 0.21414647258226444,
            "bin_end": 0.3123781635094814,
            "count": 3
           },
           {
            "bin_start": 0.3123781635094814,
            "bin_end": 0.41060985443669834,
            "count": 1
           },
           {
            "bin_start": 0.41060985443669834,
            "bin_end": 0.5088415453639152,
            "count": 0
           },
           {
            "bin_start": 0.5088415453639152,
            "bin_end": 0.6070732362911322,
            "count": 0
           },
           {
            "bin_start": 0.6070732362911322,
            "bin_end": 0.7053049272183491,
            "count": 0
           },
           {
            "bin_start": 0.7053049272183491,
            "bin_end": 0.8035366181455661,
            "count": 0
           },
           {
            "bin_start": 0.8035366181455661,
            "bin_end": 0.901768309072783,
            "count": 0
           },
           {
            "bin_start": 0.901768309072783,
            "bin_end": 1,
            "count": 1
           }
          ]
         }
        },
        {
         "name": "pedi",
         "dtype": "float64",
         "stats": {
          "unique_count": 9,
          "nan_count": 0,
          "min": "-0.03352267296261304",
          "max": "1.0",
          "histogram": [
           {
            "bin_start": -0.03352267296261304,
            "bin_end": 0.06982959433364827,
            "count": 3
           },
           {
            "bin_start": 0.06982959433364827,
            "bin_end": 0.17318186162990956,
            "count": 2
           },
           {
            "bin_start": 0.17318186162990956,
            "bin_end": 0.2765341289261709,
            "count": 3
           },
           {
            "bin_start": 0.2765341289261709,
            "bin_end": 0.3798863962224322,
            "count": 0
           },
           {
            "bin_start": 0.3798863962224322,
            "bin_end": 0.4832386635186935,
            "count": 0
           },
           {
            "bin_start": 0.4832386635186935,
            "bin_end": 0.5865909308149548,
            "count": 0
           },
           {
            "bin_start": 0.5865909308149548,
            "bin_end": 0.6899431981112161,
            "count": 0
           },
           {
            "bin_start": 0.6899431981112161,
            "bin_end": 0.7932954654074774,
            "count": 0
           },
           {
            "bin_start": 0.7932954654074774,
            "bin_end": 0.8966477327037388,
            "count": 0
           },
           {
            "bin_start": 0.8966477327037388,
            "bin_end": 1,
            "count": 1
           }
          ]
         }
        },
        {
         "name": "age",
         "dtype": "float64",
         "stats": {
          "unique_count": 9,
          "nan_count": 0,
          "min": "-0.11397026236774152",
          "max": "1.0",
          "histogram": [
           {
            "bin_start": -0.11397026236774152,
            "bin_end": -0.0025732361309673824,
            "count": 2
           },
           {
            "bin_start": -0.0025732361309673824,
            "bin_end": 0.10882379010580676,
            "count": 2
           },
           {
            "bin_start": 0.10882379010580676,
            "bin_end": 0.22022081634258087,
            "count": 0
           },
           {
            "bin_start": 0.22022081634258087,
            "bin_end": 0.331617842579355,
            "count": 3
           },
           {
            "bin_start": 0.331617842579355,
            "bin_end": 0.44301486881612917,
            "count": 0
           },
           {
            "bin_start": 0.44301486881612917,
            "bin_end": 0.5544118950529032,
            "count": 1
           },
           {
            "bin_start": 0.5544118950529032,
            "bin_end": 0.6658089212896774,
            "count": 0
           },
           {
            "bin_start": 0.6658089212896774,
            "bin_end": 0.7772059475264516,
            "count": 0
           },
           {
            "bin_start": 0.7772059475264516,
            "bin_end": 0.8886029737632256,
            "count": 0
           },
           {
            "bin_start": 0.8886029737632256,
            "bin_end": 1,
            "count": 1
           }
          ]
         }
        },
        {
         "name": "class",
         "dtype": "float64",
         "stats": {
          "unique_count": 9,
          "nan_count": 0,
          "min": "0.06506835955033277",
          "max": "1.0",
          "histogram": [
           {
            "bin_start": 0.06506835955033277,
            "bin_end": 0.15856152359529951,
            "count": 3
           },
           {
            "bin_start": 0.15856152359529951,
            "bin_end": 0.25205468764026623,
            "count": 3
           },
           {
            "bin_start": 0.25205468764026623,
            "bin_end": 0.34554785168523294,
            "count": 1
           },
           {
            "bin_start": 0.34554785168523294,
            "bin_end": 0.4390410157301997,
            "count": 0
           },
           {
            "bin_start": 0.4390410157301997,
            "bin_end": 0.5325341797751664,
            "count": 1
           },
           {
            "bin_start": 0.5325341797751664,
            "bin_end": 0.6260273438201331,
            "count": 0
           },
           {
            "bin_start": 0.6260273438201331,
            "bin_end": 0.7195205078650998,
            "count": 0
           },
           {
            "bin_start": 0.7195205078650998,
            "bin_end": 0.8130136719100666,
            "count": 0
           },
           {
            "bin_start": 0.8130136719100666,
            "bin_end": 0.9065068359550333,
            "count": 0
           },
           {
            "bin_start": 0.9065068359550333,
            "bin_end": 1,
            "count": 1
           }
          ]
         }
        },
        {
         "name": "_deepnote_index_column",
         "dtype": "object"
        }
       ],
       "rows_top": [
        {
         "preg": 1,
         "plas": 0.12945867149927248,
         "pres": 0.14128197740713966,
         "skin": -0.08167177444900726,
         "test": -0.07353461435162822,
         "mass": 0.017683090727830565,
         "pedi": -0.03352267296261304,
         "age": 0.5443412284023392,
         "class": 0.22189815303398636,
         "_deepnote_index_column": "preg"
        },
        {
         "preg": 0.12945867149927248,
         "plas": 1,
         "pres": 0.1525895865686646,
         "skin": 0.05732789073817692,
         "test": 0.3313571099202092,
         "mass": 0.2210710694589828,
         "pedi": 0.13733729982837092,
         "age": 0.26351431982433343,
         "class": 0.46658139830687373,
         "_deepnote_index_column": "plas"
        },
        {
         "preg": 0.14128197740713966,
         "plas": 0.1525895865686646,
         "pres": 1,
         "skin": 0.2073705384030709,
         "test": 0.08893337837319314,
         "mass": 0.2818052888499109,
         "pedi": 0.04126494793009856,
         "age": 0.23952794642136344,
         "class": 0.06506835955033277,
         "_deepnote_index_column": "pres"
        },
        {
         "preg": -0.08167177444900726,
         "plas": 0.05732789073817692,
         "pres": 0.2073705384030709,
         "skin": 1,
         "test": 0.43678257012001326,
         "mass": 0.39257320415903835,
         "pedi": 0.1839275729541631,
         "age": -0.11397026236774152,
         "class": 0.07475223191831946,
         "_deepnote_index_column": "skin"
        },
        {
         "preg": -0.07353461435162822,
         "plas": 0.3313571099202092,
         "pres": 0.08893337837319314,
         "skin": 0.43678257012001326,
         "test": 1,
         "mass": 0.19785905649310145,
         "pedi": 0.1850709291680993,
         "age": -0.04216295473537695,
         "class": 0.13054795488404794,
         "_deepnote_index_column": "test"
        },
        {
         "preg": 0.017683090727830565,
         "plas": 0.2210710694589828,
         "pres": 0.2818052888499109,
         "skin": 0.39257320415903835,
         "test": 0.19785905649310145,
         "mass": 1,
         "pedi": 0.14064695254510523,
         "age": 0.03624187009229395,
         "class": 0.2926946626444454,
         "_deepnote_index_column": "mass"
        },
        {
         "preg": -0.03352267296261304,
         "plas": 0.13733729982837092,
         "pres": 0.04126494793009856,
         "skin": 0.1839275729541631,
         "test": 0.1850709291680993,
         "mass": 0.14064695254510523,
         "pedi": 1,
         "age": 0.03356131243480539,
         "class": 0.17384406565296004,
         "_deepnote_index_column": "pedi"
        },
        {
         "preg": 0.5443412284023392,
         "plas": 0.26351431982433343,
         "pres": 0.23952794642136344,
         "skin": -0.11397026236774152,
         "test": -0.04216295473537695,
         "mass": 0.03624187009229395,
         "pedi": 0.03356131243480539,
         "age": 1,
         "class": 0.23835598302719757,
         "_deepnote_index_column": "age"
        },
        {
         "preg": 0.22189815303398636,
         "plas": 0.46658139830687373,
         "pres": 0.06506835955033277,
         "skin": 0.07475223191831946,
         "test": 0.13054795488404794,
         "mass": 0.2926946626444454,
         "pedi": 0.17384406565296004,
         "age": 0.23835598302719757,
         "class": 1,
         "_deepnote_index_column": "class"
        }
       ],
       "rows_bottom": null
      },
      "text/plain": "           preg      plas      pres      skin      test      mass      pedi  \\\npreg   1.000000  0.129459  0.141282 -0.081672 -0.073535  0.017683 -0.033523   \nplas   0.129459  1.000000  0.152590  0.057328  0.331357  0.221071  0.137337   \npres   0.141282  0.152590  1.000000  0.207371  0.088933  0.281805  0.041265   \nskin  -0.081672  0.057328  0.207371  1.000000  0.436783  0.392573  0.183928   \ntest  -0.073535  0.331357  0.088933  0.436783  1.000000  0.197859  0.185071   \nmass   0.017683  0.221071  0.281805  0.392573  0.197859  1.000000  0.140647   \npedi  -0.033523  0.137337  0.041265  0.183928  0.185071  0.140647  1.000000   \nage    0.544341  0.263514  0.239528 -0.113970 -0.042163  0.036242  0.033561   \nclass  0.221898  0.466581  0.065068  0.074752  0.130548  0.292695  0.173844   \n\n            age     class  \npreg   0.544341  0.221898  \nplas   0.263514  0.466581  \npres   0.239528  0.065068  \nskin  -0.113970  0.074752  \ntest  -0.042163  0.130548  \nmass   0.036242  0.292695  \npedi   0.033561  0.173844  \nage    1.000000  0.238356  \nclass  0.238356  1.000000  ",
      "text/html": "<div>\n<style scoped>\n    .dataframe tbody tr th:only-of-type {\n        vertical-align: middle;\n    }\n\n    .dataframe tbody tr th {\n        vertical-align: top;\n    }\n\n    .dataframe thead th {\n        text-align: right;\n    }\n</style>\n<table border=\"1\" class=\"dataframe\">\n  <thead>\n    <tr style=\"text-align: right;\">\n      <th></th>\n      <th>preg</th>\n      <th>plas</th>\n      <th>pres</th>\n      <th>skin</th>\n      <th>test</th>\n      <th>mass</th>\n      <th>pedi</th>\n      <th>age</th>\n      <th>class</th>\n    </tr>\n  </thead>\n  <tbody>\n    <tr>\n      <th>preg</th>\n      <td>1.000000</td>\n      <td>0.129459</td>\n      <td>0.141282</td>\n      <td>-0.081672</td>\n      <td>-0.073535</td>\n      <td>0.017683</td>\n      <td>-0.033523</td>\n      <td>0.544341</td>\n      <td>0.221898</td>\n    </tr>\n    <tr>\n      <th>plas</th>\n      <td>0.129459</td>\n      <td>1.000000</td>\n      <td>0.152590</td>\n      <td>0.057328</td>\n      <td>0.331357</td>\n      <td>0.221071</td>\n      <td>0.137337</td>\n      <td>0.263514</td>\n      <td>0.466581</td>\n    </tr>\n    <tr>\n      <th>pres</th>\n      <td>0.141282</td>\n      <td>0.152590</td>\n      <td>1.000000</td>\n      <td>0.207371</td>\n      <td>0.088933</td>\n      <td>0.281805</td>\n      <td>0.041265</td>\n      <td>0.239528</td>\n      <td>0.065068</td>\n    </tr>\n    <tr>\n      <th>skin</th>\n      <td>-0.081672</td>\n      <td>0.057328</td>\n      <td>0.207371</td>\n      <td>1.000000</td>\n      <td>0.436783</td>\n      <td>0.392573</td>\n      <td>0.183928</td>\n      <td>-0.113970</td>\n      <td>0.074752</td>\n    </tr>\n    <tr>\n      <th>test</th>\n      <td>-0.073535</td>\n      <td>0.331357</td>\n      <td>0.088933</td>\n      <td>0.436783</td>\n      <td>1.000000</td>\n      <td>0.197859</td>\n      <td>0.185071</td>\n      <td>-0.042163</td>\n      <td>0.130548</td>\n    </tr>\n    <tr>\n      <th>mass</th>\n      <td>0.017683</td>\n      <td>0.221071</td>\n      <td>0.281805</td>\n      <td>0.392573</td>\n      <td>0.197859</td>\n      <td>1.000000</td>\n      <td>0.140647</td>\n      <td>0.036242</td>\n      <td>0.292695</td>\n    </tr>\n    <tr>\n      <th>pedi</th>\n      <td>-0.033523</td>\n      <td>0.137337</td>\n      <td>0.041265</td>\n      <td>0.183928</td>\n      <td>0.185071</td>\n      <td>0.140647</td>\n      <td>1.000000</td>\n      <td>0.033561</td>\n      <td>0.173844</td>\n    </tr>\n    <tr>\n      <th>age</th>\n      <td>0.544341</td>\n      <td>0.263514</td>\n      <td>0.239528</td>\n      <td>-0.113970</td>\n      <td>-0.042163</td>\n      <td>0.036242</td>\n      <td>0.033561</td>\n      <td>1.000000</td>\n      <td>0.238356</td>\n    </tr>\n    <tr>\n      <th>class</th>\n      <td>0.221898</td>\n      <td>0.466581</td>\n      <td>0.065068</td>\n      <td>0.074752</td>\n      <td>0.130548</td>\n      <td>0.292695</td>\n      <td>0.173844</td>\n      <td>0.238356</td>\n      <td>1.000000</td>\n    </tr>\n  </tbody>\n</table>\n</div>"
     },
     "metadata": {}
    }
   ]
  },
  {
   "cell_type": "markdown",
   "source": "What column has the highest correlation with class? Find the mean() value of that column",
   "metadata": {
    "colab_type": "text",
    "id": "P_7xRF11h4Uf",
    "cell_id": "00017-e1480dbb-2eb9-4e94-a939-e04ab2ce0b08",
    "deepnote_cell_type": "markdown"
   }
  },
  {
   "cell_type": "code",
   "metadata": {
    "colab_type": "code",
    "id": "clb2Gh8Mn9d4",
    "colab": {},
    "deepnote_to_be_reexecuted": false,
    "source_hash": "873ade66",
    "execution_start": 1625628381503,
    "execution_millis": 10,
    "cell_id": "00018-98d0e704-05c1-4485-b118-aaee2bfc0f6a",
    "deepnote_cell_type": "code"
   },
   "source": "df.corr()['plas'].mean()",
   "execution_count": null,
   "outputs": [
    {
     "output_type": "execute_result",
     "execution_count": 21,
     "data": {
      "text/plain": "0.3065819273494316"
     },
     "metadata": {}
    }
   ]
  },
  {
   "cell_type": "markdown",
   "source": "Create a new dataframe with only people that are above the mean found in the above cell.",
   "metadata": {
    "colab_type": "text",
    "id": "64yWhAARoWw-",
    "cell_id": "00019-4d60e9ad-0292-4d6f-b94d-c05346ba917b",
    "deepnote_cell_type": "markdown"
   }
  },
  {
   "cell_type": "code",
   "metadata": {
    "colab_type": "code",
    "id": "HRLjs3agkdPY",
    "colab": {},
    "deepnote_to_be_reexecuted": false,
    "source_hash": "227751c",
    "execution_start": 1625628247049,
    "execution_millis": 42,
    "cell_id": "00020-d71f7128-ba79-40be-a6a4-519020413fa8",
    "deepnote_cell_type": "code"
   },
   "source": "# YOUR CODE HERE\nabove_plas_mean = df['plas'] > df['plas'].mean()\nabove_plas_mean_df = df[above_plas_mean]\nabove_plas_mean_df",
   "execution_count": null,
   "outputs": [
    {
     "output_type": "execute_result",
     "execution_count": 11,
     "data": {
      "application/vnd.deepnote.dataframe.v2+json": {
       "row_count": 349,
       "column_count": 9,
       "columns": [
        {
         "name": "preg",
         "dtype": "int64",
         "stats": {
          "unique_count": 17,
          "nan_count": 0,
          "min": "0",
          "max": "17",
          "histogram": [
           {
            "bin_start": 0,
            "bin_end": 1.7,
            "count": 100
           },
           {
            "bin_start": 1.7,
            "bin_end": 3.4,
            "count": 68
           },
           {
            "bin_start": 3.4,
            "bin_end": 5.1,
            "count": 62
           },
           {
            "bin_start": 5.1,
            "bin_end": 6.8,
            "count": 22
           },
           {
            "bin_start": 6.8,
            "bin_end": 8.5,
            "count": 47
           },
           {
            "bin_start": 8.5,
            "bin_end": 10.2,
            "count": 30
           },
           {
            "bin_start": 10.2,
            "bin_end": 11.9,
            "count": 7
           },
           {
            "bin_start": 11.9,
            "bin_end": 13.6,
            "count": 10
           },
           {
            "bin_start": 13.6,
            "bin_end": 15.299999999999999,
            "count": 2
           },
           {
            "bin_start": 15.299999999999999,
            "bin_end": 17,
            "count": 1
           }
          ]
         }
        },
        {
         "name": "plas",
         "dtype": "int64",
         "stats": {
          "unique_count": 77,
          "nan_count": 0,
          "min": "121",
          "max": "199",
          "histogram": [
           {
            "bin_start": 121,
            "bin_end": 128.8,
            "count": 77
           },
           {
            "bin_start": 128.8,
            "bin_end": 136.6,
            "count": 54
           },
           {
            "bin_start": 136.6,
            "bin_end": 144.4,
            "count": 49
           },
           {
            "bin_start": 144.4,
            "bin_end": 152.2,
            "count": 39
           },
           {
            "bin_start": 152.2,
            "bin_end": 160,
            "count": 28
           },
           {
            "bin_start": 160,
            "bin_end": 167.8,
            "count": 26
           },
           {
            "bin_start": 167.8,
            "bin_end": 175.6,
            "count": 21
           },
           {
            "bin_start": 175.6,
            "bin_end": 183.4,
            "count": 23
           },
           {
            "bin_start": 183.4,
            "bin_end": 191.2,
            "count": 16
           },
           {
            "bin_start": 191.2,
            "bin_end": 199,
            "count": 16
           }
          ]
         }
        },
        {
         "name": "pres",
         "dtype": "int64",
         "stats": {
          "unique_count": 41,
          "nan_count": 0,
          "min": "0",
          "max": "114",
          "histogram": [
           {
            "bin_start": 0,
            "bin_end": 11.4,
            "count": 13
           },
           {
            "bin_start": 11.4,
            "bin_end": 22.8,
            "count": 0
           },
           {
            "bin_start": 22.8,
            "bin_end": 34.2,
            "count": 0
           },
           {
            "bin_start": 34.2,
            "bin_end": 45.6,
            "count": 1
           },
           {
            "bin_start": 45.6,
            "bin_end": 57,
            "count": 20
           },
           {
            "bin_start": 57,
            "bin_end": 68.4,
            "count": 71
           },
           {
            "bin_start": 68.4,
            "bin_end": 79.8,
            "count": 122
           },
           {
            "bin_start": 79.8,
            "bin_end": 91.2,
            "count": 98
           },
           {
            "bin_start": 91.2,
            "bin_end": 102.60000000000001,
            "count": 15
           },
           {
            "bin_start": 102.60000000000001,
            "bin_end": 114,
            "count": 9
           }
          ]
         }
        },
        {
         "name": "skin",
         "dtype": "int64",
         "stats": {
          "unique_count": 46,
          "nan_count": 0,
          "min": "0",
          "max": "99",
          "histogram": [
           {
            "bin_start": 0,
            "bin_end": 9.9,
            "count": 114
           },
           {
            "bin_start": 9.9,
            "bin_end": 19.8,
            "count": 30
           },
           {
            "bin_start": 19.8,
            "bin_end": 29.700000000000003,
            "count": 68
           },
           {
            "bin_start": 29.700000000000003,
            "bin_end": 39.6,
            "count": 87
           },
           {
            "bin_start": 39.6,
            "bin_end": 49.5,
            "count": 44
           },
           {
            "bin_start": 49.5,
            "bin_end": 59.400000000000006,
            "count": 4
           },
           {
            "bin_start": 59.400000000000006,
            "bin_end": 69.3,
            "count": 1
           },
           {
            "bin_start": 69.3,
            "bin_end": 79.2,
            "count": 0
           },
           {
            "bin_start": 79.2,
            "bin_end": 89.10000000000001,
            "count": 0
           },
           {
            "bin_start": 89.10000000000001,
            "bin_end": 99,
            "count": 1
           }
          ]
         }
        },
        {
         "name": "test",
         "dtype": "int64",
         "stats": {
          "unique_count": 129,
          "nan_count": 0,
          "min": "0",
          "max": "846",
          "histogram": [
           {
            "bin_start": 0,
            "bin_end": 84.6,
            "count": 174
           },
           {
            "bin_start": 84.6,
            "bin_end": 169.2,
            "count": 78
           },
           {
            "bin_start": 169.2,
            "bin_end": 253.79999999999998,
            "count": 46
           },
           {
            "bin_start": 253.79999999999998,
            "bin_end": 338.4,
            "count": 25
           },
           {
            "bin_start": 338.4,
            "bin_end": 423,
            "count": 8
           },
           {
            "bin_start": 423,
            "bin_end": 507.59999999999997,
            "count": 9
           },
           {
            "bin_start": 507.59999999999997,
            "bin_end": 592.1999999999999,
            "count": 5
           },
           {
            "bin_start": 592.1999999999999,
            "bin_end": 676.8,
            "count": 1
           },
           {
            "bin_start": 676.8,
            "bin_end": 761.4,
            "count": 2
           },
           {
            "bin_start": 761.4,
            "bin_end": 846,
            "count": 1
           }
          ]
         }
        },
        {
         "name": "mass",
         "dtype": "float64",
         "stats": {
          "unique_count": 178,
          "nan_count": 0,
          "min": "0.0",
          "max": "67.1",
          "histogram": [
           {
            "bin_start": 0,
            "bin_end": 6.709999999999999,
            "count": 2
           },
           {
            "bin_start": 6.709999999999999,
            "bin_end": 13.419999999999998,
            "count": 0
           },
           {
            "bin_start": 13.419999999999998,
            "bin_end": 20.129999999999995,
            "count": 1
           },
           {
            "bin_start": 20.129999999999995,
            "bin_end": 26.839999999999996,
            "count": 50
           },
           {
            "bin_start": 26.839999999999996,
            "bin_end": 33.55,
            "count": 122
           },
           {
            "bin_start": 33.55,
            "bin_end": 40.25999999999999,
            "count": 115
           },
           {
            "bin_start": 40.25999999999999,
            "bin_end": 46.96999999999999,
            "count": 45
           },
           {
            "bin_start": 46.96999999999999,
            "bin_end": 53.67999999999999,
            "count": 11
           },
           {
            "bin_start": 53.67999999999999,
            "bin_end": 60.38999999999999,
            "count": 2
           },
           {
            "bin_start": 60.38999999999999,
            "bin_end": 67.1,
            "count": 1
           }
          ]
         }
        },
        {
         "name": "pedi",
         "dtype": "float64",
         "stats": {
          "unique_count": 281,
          "nan_count": 0,
          "min": "0.088",
          "max": "2.42",
          "histogram": [
           {
            "bin_start": 0.088,
            "bin_end": 0.3212,
            "count": 135
           },
           {
            "bin_start": 0.3212,
            "bin_end": 0.5544,
            "count": 94
           },
           {
            "bin_start": 0.5544,
            "bin_end": 0.7876,
            "count": 65
           },
           {
            "bin_start": 0.7876,
            "bin_end": 1.0208,
            "count": 25
           },
           {
            "bin_start": 1.0208,
            "bin_end": 1.254,
            "count": 16
           },
           {
            "bin_start": 1.254,
            "bin_end": 1.4872,
            "count": 7
           },
           {
            "bin_start": 1.4872,
            "bin_end": 1.7204,
            "count": 1
           },
           {
            "bin_start": 1.7204,
            "bin_end": 1.9536,
            "count": 2
           },
           {
            "bin_start": 1.9536,
            "bin_end": 2.1868,
            "count": 1
           },
           {
            "bin_start": 2.1868,
            "bin_end": 2.42,
            "count": 3
           }
          ]
         }
        },
        {
         "name": "age",
         "dtype": "int64",
         "stats": {
          "unique_count": 47,
          "nan_count": 0,
          "min": "21",
          "max": "81",
          "histogram": [
           {
            "bin_start": 21,
            "bin_end": 27,
            "count": 94
           },
           {
            "bin_start": 27,
            "bin_end": 33,
            "count": 70
           },
           {
            "bin_start": 33,
            "bin_end": 39,
            "count": 51
           },
           {
            "bin_start": 39,
            "bin_end": 45,
            "count": 47
           },
           {
            "bin_start": 45,
            "bin_end": 51,
            "count": 29
           },
           {
            "bin_start": 51,
            "bin_end": 57,
            "count": 25
           },
           {
            "bin_start": 57,
            "bin_end": 63,
            "count": 19
           },
           {
            "bin_start": 63,
            "bin_end": 69,
            "count": 10
           },
           {
            "bin_start": 69,
            "bin_end": 75,
            "count": 3
           },
           {
            "bin_start": 75,
            "bin_end": 81,
            "count": 1
           }
          ]
         }
        },
        {
         "name": "class",
         "dtype": "int64",
         "stats": {
          "unique_count": 2,
          "nan_count": 0,
          "min": "0",
          "max": "1",
          "histogram": [
           {
            "bin_start": 0,
            "bin_end": 0.1,
            "count": 154
           },
           {
            "bin_start": 0.1,
            "bin_end": 0.2,
            "count": 0
           },
           {
            "bin_start": 0.2,
            "bin_end": 0.30000000000000004,
            "count": 0
           },
           {
            "bin_start": 0.30000000000000004,
            "bin_end": 0.4,
            "count": 0
           },
           {
            "bin_start": 0.4,
            "bin_end": 0.5,
            "count": 0
           },
           {
            "bin_start": 0.5,
            "bin_end": 0.6000000000000001,
            "count": 0
           },
           {
            "bin_start": 0.6000000000000001,
            "bin_end": 0.7000000000000001,
            "count": 0
           },
           {
            "bin_start": 0.7000000000000001,
            "bin_end": 0.8,
            "count": 0
           },
           {
            "bin_start": 0.8,
            "bin_end": 0.9,
            "count": 0
           },
           {
            "bin_start": 0.9,
            "bin_end": 1,
            "count": 195
           }
          ]
         }
        },
        {
         "name": "_deepnote_index_column",
         "dtype": "int64"
        }
       ],
       "rows_top": [
        {
         "preg": 6,
         "plas": 148,
         "pres": 72,
         "skin": 35,
         "test": 0,
         "mass": 33.6,
         "pedi": 0.627,
         "age": 50,
         "class": 1,
         "_deepnote_index_column": 0
        },
        {
         "preg": 8,
         "plas": 183,
         "pres": 64,
         "skin": 0,
         "test": 0,
         "mass": 23.3,
         "pedi": 0.672,
         "age": 32,
         "class": 1,
         "_deepnote_index_column": 2
        },
        {
         "preg": 0,
         "plas": 137,
         "pres": 40,
         "skin": 35,
         "test": 168,
         "mass": 43.1,
         "pedi": 2.288,
         "age": 33,
         "class": 1,
         "_deepnote_index_column": 4
        },
        {
         "preg": 2,
         "plas": 197,
         "pres": 70,
         "skin": 45,
         "test": 543,
         "mass": 30.5,
         "pedi": 0.158,
         "age": 53,
         "class": 1,
         "_deepnote_index_column": 8
        },
        {
         "preg": 8,
         "plas": 125,
         "pres": 96,
         "skin": 0,
         "test": 0,
         "mass": 0,
         "pedi": 0.232,
         "age": 54,
         "class": 1,
         "_deepnote_index_column": 9
        },
        {
         "preg": 10,
         "plas": 168,
         "pres": 74,
         "skin": 0,
         "test": 0,
         "mass": 38,
         "pedi": 0.537,
         "age": 34,
         "class": 1,
         "_deepnote_index_column": 11
        },
        {
         "preg": 10,
         "plas": 139,
         "pres": 80,
         "skin": 0,
         "test": 0,
         "mass": 27.1,
         "pedi": 1.441,
         "age": 57,
         "class": 0,
         "_deepnote_index_column": 12
        },
        {
         "preg": 1,
         "plas": 189,
         "pres": 60,
         "skin": 23,
         "test": 846,
         "mass": 30.1,
         "pedi": 0.398,
         "age": 59,
         "class": 1,
         "_deepnote_index_column": 13
        },
        {
         "preg": 5,
         "plas": 166,
         "pres": 72,
         "skin": 19,
         "test": 175,
         "mass": 25.8,
         "pedi": 0.587,
         "age": 51,
         "class": 1,
         "_deepnote_index_column": 14
        },
        {
         "preg": 3,
         "plas": 126,
         "pres": 88,
         "skin": 41,
         "test": 235,
         "mass": 39.3,
         "pedi": 0.704,
         "age": 27,
         "class": 0,
         "_deepnote_index_column": 20
        },
        {
         "preg": 7,
         "plas": 196,
         "pres": 90,
         "skin": 0,
         "test": 0,
         "mass": 39.8,
         "pedi": 0.451,
         "age": 41,
         "class": 1,
         "_deepnote_index_column": 22
        },
        {
         "preg": 11,
         "plas": 143,
         "pres": 94,
         "skin": 33,
         "test": 146,
         "mass": 36.6,
         "pedi": 0.254,
         "age": 51,
         "class": 1,
         "_deepnote_index_column": 24
        },
        {
         "preg": 10,
         "plas": 125,
         "pres": 70,
         "skin": 26,
         "test": 115,
         "mass": 31.1,
         "pedi": 0.205,
         "age": 41,
         "class": 1,
         "_deepnote_index_column": 25
        },
        {
         "preg": 7,
         "plas": 147,
         "pres": 76,
         "skin": 0,
         "test": 0,
         "mass": 39.4,
         "pedi": 0.257,
         "age": 43,
         "class": 1,
         "_deepnote_index_column": 26
        },
        {
         "preg": 13,
         "plas": 145,
         "pres": 82,
         "skin": 19,
         "test": 110,
         "mass": 22.2,
         "pedi": 0.245,
         "age": 57,
         "class": 0,
         "_deepnote_index_column": 28
        },
        {
         "preg": 3,
         "plas": 158,
         "pres": 76,
         "skin": 36,
         "test": 245,
         "mass": 31.6,
         "pedi": 0.851,
         "age": 28,
         "class": 1,
         "_deepnote_index_column": 31
        },
        {
         "preg": 10,
         "plas": 122,
         "pres": 78,
         "skin": 31,
         "test": 0,
         "mass": 27.6,
         "pedi": 0.512,
         "age": 45,
         "class": 0,
         "_deepnote_index_column": 34
        },
        {
         "preg": 11,
         "plas": 138,
         "pres": 76,
         "skin": 0,
         "test": 0,
         "mass": 33.2,
         "pedi": 0.42,
         "age": 35,
         "class": 0,
         "_deepnote_index_column": 36
        },
        {
         "preg": 3,
         "plas": 180,
         "pres": 64,
         "skin": 25,
         "test": 70,
         "mass": 34,
         "pedi": 0.271,
         "age": 26,
         "class": 0,
         "_deepnote_index_column": 40
        },
        {
         "preg": 7,
         "plas": 133,
         "pres": 84,
         "skin": 0,
         "test": 0,
         "mass": 40.2,
         "pedi": 0.696,
         "age": 37,
         "class": 0,
         "_deepnote_index_column": 41
        },
        {
         "preg": 9,
         "plas": 171,
         "pres": 110,
         "skin": 24,
         "test": 240,
         "mass": 45.4,
         "pedi": 0.721,
         "age": 54,
         "class": 1,
         "_deepnote_index_column": 43
        },
        {
         "preg": 7,
         "plas": 159,
         "pres": 64,
         "skin": 0,
         "test": 0,
         "mass": 27.4,
         "pedi": 0.294,
         "age": 40,
         "class": 0,
         "_deepnote_index_column": 44
        },
        {
         "preg": 0,
         "plas": 180,
         "pres": 66,
         "skin": 39,
         "test": 0,
         "mass": 42,
         "pedi": 1.893,
         "age": 25,
         "class": 1,
         "_deepnote_index_column": 45
        },
        {
         "preg": 1,
         "plas": 146,
         "pres": 56,
         "skin": 0,
         "test": 0,
         "mass": 29.7,
         "pedi": 0.564,
         "age": 29,
         "class": 0,
         "_deepnote_index_column": 46
        },
        {
         "preg": 8,
         "plas": 176,
         "pres": 90,
         "skin": 34,
         "test": 300,
         "mass": 33.7,
         "pedi": 0.467,
         "age": 58,
         "class": 1,
         "_deepnote_index_column": 53
        },
        {
         "preg": 7,
         "plas": 150,
         "pres": 66,
         "skin": 42,
         "test": 342,
         "mass": 34.7,
         "pedi": 0.718,
         "age": 42,
         "class": 0,
         "_deepnote_index_column": 54
        },
        {
         "preg": 7,
         "plas": 187,
         "pres": 68,
         "skin": 39,
         "test": 304,
         "mass": 37.7,
         "pedi": 0.254,
         "age": 41,
         "class": 1,
         "_deepnote_index_column": 56
        },
        {
         "preg": 0,
         "plas": 146,
         "pres": 82,
         "skin": 0,
         "test": 0,
         "mass": 40.5,
         "pedi": 1.781,
         "age": 44,
         "class": 0,
         "_deepnote_index_column": 58
        },
        {
         "preg": 8,
         "plas": 133,
         "pres": 72,
         "skin": 0,
         "test": 0,
         "mass": 32.9,
         "pedi": 0.27,
         "age": 39,
         "class": 1,
         "_deepnote_index_column": 61
        },
        {
         "preg": 2,
         "plas": 141,
         "pres": 58,
         "skin": 34,
         "test": 128,
         "mass": 25.4,
         "pedi": 0.699,
         "age": 24,
         "class": 0,
         "_deepnote_index_column": 63
        },
        {
         "preg": 4,
         "plas": 146,
         "pres": 85,
         "skin": 27,
         "test": 100,
         "mass": 28.9,
         "pedi": 0.189,
         "age": 27,
         "class": 0,
         "_deepnote_index_column": 69
        },
        {
         "preg": 5,
         "plas": 139,
         "pres": 64,
         "skin": 35,
         "test": 140,
         "mass": 28.6,
         "pedi": 0.411,
         "age": 26,
         "class": 0,
         "_deepnote_index_column": 71
        },
        {
         "preg": 13,
         "plas": 126,
         "pres": 90,
         "skin": 0,
         "test": 0,
         "mass": 43.4,
         "pedi": 0.583,
         "age": 42,
         "class": 1,
         "_deepnote_index_column": 72
        },
        {
         "preg": 4,
         "plas": 129,
         "pres": 86,
         "skin": 20,
         "test": 270,
         "mass": 35.1,
         "pedi": 0.231,
         "age": 23,
         "class": 0,
         "_deepnote_index_column": 73
        },
        {
         "preg": 0,
         "plas": 131,
         "pres": 0,
         "skin": 0,
         "test": 0,
         "mass": 43.2,
         "pedi": 0.27,
         "age": 26,
         "class": 1,
         "_deepnote_index_column": 78
        },
        {
         "preg": 5,
         "plas": 137,
         "pres": 108,
         "skin": 0,
         "test": 0,
         "mass": 48.8,
         "pedi": 0.227,
         "age": 37,
         "class": 1,
         "_deepnote_index_column": 84
        },
        {
         "preg": 15,
         "plas": 136,
         "pres": 70,
         "skin": 32,
         "test": 110,
         "mass": 37.1,
         "pedi": 0.153,
         "age": 43,
         "class": 1,
         "_deepnote_index_column": 88
        },
        {
         "preg": 4,
         "plas": 123,
         "pres": 80,
         "skin": 15,
         "test": 176,
         "mass": 32,
         "pedi": 0.443,
         "age": 34,
         "class": 0,
         "_deepnote_index_column": 91
        },
        {
         "preg": 4,
         "plas": 134,
         "pres": 72,
         "skin": 0,
         "test": 0,
         "mass": 23.8,
         "pedi": 0.277,
         "age": 60,
         "class": 1,
         "_deepnote_index_column": 93
        },
        {
         "preg": 2,
         "plas": 142,
         "pres": 82,
         "skin": 18,
         "test": 64,
         "mass": 24.7,
         "pedi": 0.761,
         "age": 21,
         "class": 0,
         "_deepnote_index_column": 94
        },
        {
         "preg": 6,
         "plas": 144,
         "pres": 72,
         "skin": 27,
         "test": 228,
         "mass": 33.9,
         "pedi": 0.255,
         "age": 40,
         "class": 0,
         "_deepnote_index_column": 95
        },
        {
         "preg": 1,
         "plas": 122,
         "pres": 90,
         "skin": 51,
         "test": 220,
         "mass": 49.7,
         "pedi": 0.325,
         "age": 31,
         "class": 1,
         "_deepnote_index_column": 99
        },
        {
         "preg": 1,
         "plas": 163,
         "pres": 72,
         "skin": 0,
         "test": 0,
         "mass": 39,
         "pedi": 1.222,
         "age": 33,
         "class": 1,
         "_deepnote_index_column": 100
        },
        {
         "preg": 1,
         "plas": 151,
         "pres": 60,
         "skin": 0,
         "test": 0,
         "mass": 26.1,
         "pedi": 0.179,
         "age": 22,
         "class": 0,
         "_deepnote_index_column": 101
        },
        {
         "preg": 0,
         "plas": 125,
         "pres": 96,
         "skin": 0,
         "test": 0,
         "mass": 22.5,
         "pedi": 0.262,
         "age": 21,
         "class": 0,
         "_deepnote_index_column": 102
        },
        {
         "preg": 1,
         "plas": 126,
         "pres": 56,
         "skin": 29,
         "test": 152,
         "mass": 28.7,
         "pedi": 0.801,
         "age": 21,
         "class": 0,
         "_deepnote_index_column": 105
        },
        {
         "preg": 4,
         "plas": 144,
         "pres": 58,
         "skin": 28,
         "test": 140,
         "mass": 29.5,
         "pedi": 0.287,
         "age": 37,
         "class": 0,
         "_deepnote_index_column": 107
        },
        {
         "preg": 3,
         "plas": 171,
         "pres": 72,
         "skin": 33,
         "test": 135,
         "mass": 33.3,
         "pedi": 0.199,
         "age": 24,
         "class": 1,
         "_deepnote_index_column": 110
        },
        {
         "preg": 8,
         "plas": 155,
         "pres": 62,
         "skin": 26,
         "test": 495,
         "mass": 34,
         "pedi": 0.543,
         "age": 46,
         "class": 1,
         "_deepnote_index_column": 111
        },
        {
         "preg": 7,
         "plas": 160,
         "pres": 54,
         "skin": 32,
         "test": 175,
         "mass": 30.5,
         "pedi": 0.588,
         "age": 39,
         "class": 1,
         "_deepnote_index_column": 114
        },
        {
         "preg": 4,
         "plas": 146,
         "pres": 92,
         "skin": 0,
         "test": 0,
         "mass": 31.2,
         "pedi": 0.539,
         "age": 61,
         "class": 1,
         "_deepnote_index_column": 115
        },
        {
         "preg": 5,
         "plas": 124,
         "pres": 74,
         "skin": 0,
         "test": 0,
         "mass": 34,
         "pedi": 0.22,
         "age": 38,
         "class": 1,
         "_deepnote_index_column": 116
        },
        {
         "preg": 0,
         "plas": 162,
         "pres": 76,
         "skin": 56,
         "test": 100,
         "mass": 53.2,
         "pedi": 0.759,
         "age": 25,
         "class": 1,
         "_deepnote_index_column": 120
        },
        {
         "preg": 5,
         "plas": 132,
         "pres": 80,
         "skin": 0,
         "test": 0,
         "mass": 26.8,
         "pedi": 0.186,
         "age": 69,
         "class": 0,
         "_deepnote_index_column": 123
        },
        {
         "preg": 4,
         "plas": 173,
         "pres": 70,
         "skin": 14,
         "test": 168,
         "mass": 29.7,
         "pedi": 0.361,
         "age": 33,
         "class": 1,
         "_deepnote_index_column": 130
        }
       ],
       "rows_bottom": [
        {
         "preg": 9,
         "plas": 145,
         "pres": 80,
         "skin": 46,
         "test": 130,
         "mass": 37.9,
         "pedi": 0.637,
         "age": 40,
         "class": 1,
         "_deepnote_index_column": 663
        },
        {
         "preg": 4,
         "plas": 145,
         "pres": 82,
         "skin": 18,
         "test": 0,
         "mass": 32.5,
         "pedi": 0.235,
         "age": 70,
         "class": 1,
         "_deepnote_index_column": 666
        },
        {
         "preg": 9,
         "plas": 154,
         "pres": 78,
         "skin": 30,
         "test": 100,
         "mass": 30.9,
         "pedi": 0.164,
         "age": 45,
         "class": 0,
         "_deepnote_index_column": 669
        },
        {
         "preg": 6,
         "plas": 165,
         "pres": 68,
         "skin": 26,
         "test": 168,
         "mass": 33.6,
         "pedi": 0.631,
         "age": 49,
         "class": 0,
         "_deepnote_index_column": 670
        },
        {
         "preg": 3,
         "plas": 123,
         "pres": 100,
         "skin": 35,
         "test": 240,
         "mass": 57.3,
         "pedi": 0.88,
         "age": 22,
         "class": 0,
         "_deepnote_index_column": 673
        },
        {
         "preg": 6,
         "plas": 195,
         "pres": 70,
         "skin": 0,
         "test": 0,
         "mass": 30.9,
         "pedi": 0.328,
         "age": 31,
         "class": 1,
         "_deepnote_index_column": 675
        },
        {
         "preg": 9,
         "plas": 156,
         "pres": 86,
         "skin": 0,
         "test": 0,
         "mass": 24.8,
         "pedi": 0.23,
         "age": 53,
         "class": 1,
         "_deepnote_index_column": 676
        },
        {
         "preg": 3,
         "plas": 121,
         "pres": 52,
         "skin": 0,
         "test": 0,
         "mass": 36,
         "pedi": 0.127,
         "age": 25,
         "class": 1,
         "_deepnote_index_column": 678
        },
        {
         "preg": 0,
         "plas": 162,
         "pres": 76,
         "skin": 36,
         "test": 0,
         "mass": 49.6,
         "pedi": 0.364,
         "age": 26,
         "class": 1,
         "_deepnote_index_column": 681
        },
        {
         "preg": 4,
         "plas": 125,
         "pres": 80,
         "skin": 0,
         "test": 0,
         "mass": 32.3,
         "pedi": 0.536,
         "age": 27,
         "class": 1,
         "_deepnote_index_column": 683
        },
        {
         "preg": 5,
         "plas": 136,
         "pres": 82,
         "skin": 0,
         "test": 0,
         "mass": 0,
         "pedi": 0.64,
         "age": 69,
         "class": 0,
         "_deepnote_index_column": 684
        },
        {
         "preg": 2,
         "plas": 129,
         "pres": 74,
         "skin": 26,
         "test": 205,
         "mass": 33.2,
         "pedi": 0.591,
         "age": 25,
         "class": 0,
         "_deepnote_index_column": 685
        },
        {
         "preg": 3,
         "plas": 130,
         "pres": 64,
         "skin": 0,
         "test": 0,
         "mass": 23.1,
         "pedi": 0.314,
         "age": 22,
         "class": 0,
         "_deepnote_index_column": 686
        },
        {
         "preg": 1,
         "plas": 140,
         "pres": 74,
         "skin": 26,
         "test": 180,
         "mass": 24.1,
         "pedi": 0.828,
         "age": 23,
         "class": 0,
         "_deepnote_index_column": 688
        },
        {
         "preg": 1,
         "plas": 144,
         "pres": 82,
         "skin": 46,
         "test": 180,
         "mass": 46.1,
         "pedi": 0.335,
         "age": 46,
         "class": 1,
         "_deepnote_index_column": 689
        },
        {
         "preg": 13,
         "plas": 158,
         "pres": 114,
         "skin": 0,
         "test": 0,
         "mass": 42.3,
         "pedi": 0.257,
         "age": 44,
         "class": 1,
         "_deepnote_index_column": 691
        },
        {
         "preg": 2,
         "plas": 121,
         "pres": 70,
         "skin": 32,
         "test": 95,
         "mass": 39.1,
         "pedi": 0.886,
         "age": 23,
         "class": 0,
         "_deepnote_index_column": 692
        },
        {
         "preg": 7,
         "plas": 129,
         "pres": 68,
         "skin": 49,
         "test": 125,
         "mass": 38.5,
         "pedi": 0.439,
         "age": 43,
         "class": 1,
         "_deepnote_index_column": 693
        },
        {
         "preg": 7,
         "plas": 142,
         "pres": 90,
         "skin": 24,
         "test": 480,
         "mass": 30.4,
         "pedi": 0.128,
         "age": 43,
         "class": 1,
         "_deepnote_index_column": 695
        },
        {
         "preg": 3,
         "plas": 169,
         "pres": 74,
         "skin": 19,
         "test": 125,
         "mass": 29.9,
         "pedi": 0.268,
         "age": 31,
         "class": 1,
         "_deepnote_index_column": 696
        },
        {
         "preg": 4,
         "plas": 127,
         "pres": 88,
         "skin": 11,
         "test": 155,
         "mass": 34.5,
         "pedi": 0.598,
         "age": 28,
         "class": 0,
         "_deepnote_index_column": 698
        },
        {
         "preg": 2,
         "plas": 122,
         "pres": 76,
         "skin": 27,
         "test": 200,
         "mass": 35.9,
         "pedi": 0.483,
         "age": 26,
         "class": 0,
         "_deepnote_index_column": 700
        },
        {
         "preg": 6,
         "plas": 125,
         "pres": 78,
         "skin": 31,
         "test": 0,
         "mass": 27.6,
         "pedi": 0.565,
         "age": 49,
         "class": 1,
         "_deepnote_index_column": 701
        },
        {
         "preg": 1,
         "plas": 168,
         "pres": 88,
         "skin": 29,
         "test": 0,
         "mass": 35,
         "pedi": 0.905,
         "age": 52,
         "class": 1,
         "_deepnote_index_column": 702
        },
        {
         "preg": 2,
         "plas": 129,
         "pres": 0,
         "skin": 0,
         "test": 0,
         "mass": 38.5,
         "pedi": 0.304,
         "age": 41,
         "class": 0,
         "_deepnote_index_column": 703
        },
        {
         "preg": 2,
         "plas": 127,
         "pres": 46,
         "skin": 21,
         "test": 335,
         "mass": 34.4,
         "pedi": 0.176,
         "age": 22,
         "class": 0,
         "_deepnote_index_column": 707
        },
        {
         "preg": 9,
         "plas": 164,
         "pres": 78,
         "skin": 0,
         "test": 0,
         "mass": 32.8,
         "pedi": 0.148,
         "age": 45,
         "class": 1,
         "_deepnote_index_column": 708
        },
        {
         "preg": 3,
         "plas": 158,
         "pres": 64,
         "skin": 13,
         "test": 387,
         "mass": 31.2,
         "pedi": 0.295,
         "age": 24,
         "class": 0,
         "_deepnote_index_column": 710
        },
        {
         "preg": 5,
         "plas": 126,
         "pres": 78,
         "skin": 27,
         "test": 22,
         "mass": 29.6,
         "pedi": 0.439,
         "age": 40,
         "class": 0,
         "_deepnote_index_column": 711
        },
        {
         "preg": 10,
         "plas": 129,
         "pres": 62,
         "skin": 36,
         "test": 0,
         "mass": 41.2,
         "pedi": 0.441,
         "age": 38,
         "class": 1,
         "_deepnote_index_column": 712
        },
        {
         "preg": 0,
         "plas": 134,
         "pres": 58,
         "skin": 20,
         "test": 291,
         "mass": 26.4,
         "pedi": 0.352,
         "age": 21,
         "class": 0,
         "_deepnote_index_column": 713
        },
        {
         "preg": 7,
         "plas": 187,
         "pres": 50,
         "skin": 33,
         "test": 392,
         "mass": 33.9,
         "pedi": 0.826,
         "age": 34,
         "class": 1,
         "_deepnote_index_column": 715
        },
        {
         "preg": 3,
         "plas": 173,
         "pres": 78,
         "skin": 39,
         "test": 185,
         "mass": 33.8,
         "pedi": 0.97,
         "age": 31,
         "class": 1,
         "_deepnote_index_column": 716
        },
        {
         "preg": 1,
         "plas": 149,
         "pres": 68,
         "skin": 29,
         "test": 127,
         "mass": 29.3,
         "pedi": 0.349,
         "age": 42,
         "class": 1,
         "_deepnote_index_column": 722
        },
        {
         "preg": 0,
         "plas": 141,
         "pres": 84,
         "skin": 26,
         "test": 0,
         "mass": 32.4,
         "pedi": 0.433,
         "age": 22,
         "class": 0,
         "_deepnote_index_column": 727
        },
        {
         "preg": 2,
         "plas": 175,
         "pres": 88,
         "skin": 0,
         "test": 0,
         "mass": 22.9,
         "pedi": 0.326,
         "age": 22,
         "class": 0,
         "_deepnote_index_column": 728
        },
        {
         "preg": 3,
         "plas": 130,
         "pres": 78,
         "skin": 23,
         "test": 79,
         "mass": 28.4,
         "pedi": 0.323,
         "age": 34,
         "class": 1,
         "_deepnote_index_column": 730
        },
        {
         "preg": 2,
         "plas": 174,
         "pres": 88,
         "skin": 37,
         "test": 120,
         "mass": 44.5,
         "pedi": 0.646,
         "age": 24,
         "class": 1,
         "_deepnote_index_column": 732
        },
        {
         "preg": 0,
         "plas": 126,
         "pres": 86,
         "skin": 27,
         "test": 120,
         "mass": 27.4,
         "pedi": 0.515,
         "age": 21,
         "class": 0,
         "_deepnote_index_column": 736
        },
        {
         "preg": 9,
         "plas": 140,
         "pres": 94,
         "skin": 0,
         "test": 0,
         "mass": 32.7,
         "pedi": 0.734,
         "age": 45,
         "class": 1,
         "_deepnote_index_column": 743
        },
        {
         "preg": 13,
         "plas": 153,
         "pres": 88,
         "skin": 37,
         "test": 140,
         "mass": 40.6,
         "pedi": 1.174,
         "age": 39,
         "class": 0,
         "_deepnote_index_column": 744
        },
        {
         "preg": 1,
         "plas": 147,
         "pres": 94,
         "skin": 41,
         "test": 0,
         "mass": 49.3,
         "pedi": 0.358,
         "age": 27,
         "class": 1,
         "_deepnote_index_column": 746
        },
        {
         "preg": 3,
         "plas": 187,
         "pres": 70,
         "skin": 22,
         "test": 200,
         "mass": 36.4,
         "pedi": 0.408,
         "age": 36,
         "class": 1,
         "_deepnote_index_column": 748
        },
        {
         "preg": 6,
         "plas": 162,
         "pres": 62,
         "skin": 0,
         "test": 0,
         "mass": 24.3,
         "pedi": 0.178,
         "age": 50,
         "class": 1,
         "_deepnote_index_column": 749
        },
        {
         "preg": 4,
         "plas": 136,
         "pres": 70,
         "skin": 0,
         "test": 0,
         "mass": 31.2,
         "pedi": 1.182,
         "age": 22,
         "class": 1,
         "_deepnote_index_column": 750
        },
        {
         "preg": 1,
         "plas": 121,
         "pres": 78,
         "skin": 39,
         "test": 74,
         "mass": 39,
         "pedi": 0.261,
         "age": 28,
         "class": 0,
         "_deepnote_index_column": 751
        },
        {
         "preg": 0,
         "plas": 181,
         "pres": 88,
         "skin": 44,
         "test": 510,
         "mass": 43.3,
         "pedi": 0.222,
         "age": 26,
         "class": 1,
         "_deepnote_index_column": 753
        },
        {
         "preg": 8,
         "plas": 154,
         "pres": 78,
         "skin": 32,
         "test": 0,
         "mass": 32.4,
         "pedi": 0.443,
         "age": 45,
         "class": 1,
         "_deepnote_index_column": 754
        },
        {
         "preg": 1,
         "plas": 128,
         "pres": 88,
         "skin": 39,
         "test": 110,
         "mass": 36.5,
         "pedi": 1.057,
         "age": 37,
         "class": 1,
         "_deepnote_index_column": 755
        },
        {
         "preg": 7,
         "plas": 137,
         "pres": 90,
         "skin": 41,
         "test": 0,
         "mass": 32,
         "pedi": 0.391,
         "age": 39,
         "class": 0,
         "_deepnote_index_column": 756
        },
        {
         "preg": 0,
         "plas": 123,
         "pres": 72,
         "skin": 0,
         "test": 0,
         "mass": 36.3,
         "pedi": 0.258,
         "age": 52,
         "class": 1,
         "_deepnote_index_column": 757
        },
        {
         "preg": 6,
         "plas": 190,
         "pres": 92,
         "skin": 0,
         "test": 0,
         "mass": 35.5,
         "pedi": 0.278,
         "age": 66,
         "class": 1,
         "_deepnote_index_column": 759
        },
        {
         "preg": 9,
         "plas": 170,
         "pres": 74,
         "skin": 31,
         "test": 0,
         "mass": 44,
         "pedi": 0.403,
         "age": 43,
         "class": 1,
         "_deepnote_index_column": 761
        },
        {
         "preg": 2,
         "plas": 122,
         "pres": 70,
         "skin": 27,
         "test": 0,
         "mass": 36.8,
         "pedi": 0.34,
         "age": 27,
         "class": 0,
         "_deepnote_index_column": 764
        },
        {
         "preg": 5,
         "plas": 121,
         "pres": 72,
         "skin": 23,
         "test": 112,
         "mass": 26.2,
         "pedi": 0.245,
         "age": 30,
         "class": 0,
         "_deepnote_index_column": 765
        },
        {
         "preg": 1,
         "plas": 126,
         "pres": 60,
         "skin": 0,
         "test": 0,
         "mass": 30.1,
         "pedi": 0.349,
         "age": 47,
         "class": 1,
         "_deepnote_index_column": 766
        }
       ]
      },
      "text/plain": "     preg  plas  pres  skin  test  mass   pedi  age  class\n0       6   148    72    35     0  33.6  0.627   50      1\n2       8   183    64     0     0  23.3  0.672   32      1\n4       0   137    40    35   168  43.1  2.288   33      1\n8       2   197    70    45   543  30.5  0.158   53      1\n9       8   125    96     0     0   0.0  0.232   54      1\n..    ...   ...   ...   ...   ...   ...    ...  ...    ...\n759     6   190    92     0     0  35.5  0.278   66      1\n761     9   170    74    31     0  44.0  0.403   43      1\n764     2   122    70    27     0  36.8  0.340   27      0\n765     5   121    72    23   112  26.2  0.245   30      0\n766     1   126    60     0     0  30.1  0.349   47      1\n\n[349 rows x 9 columns]",
      "text/html": "<div>\n<style scoped>\n    .dataframe tbody tr th:only-of-type {\n        vertical-align: middle;\n    }\n\n    .dataframe tbody tr th {\n        vertical-align: top;\n    }\n\n    .dataframe thead th {\n        text-align: right;\n    }\n</style>\n<table border=\"1\" class=\"dataframe\">\n  <thead>\n    <tr style=\"text-align: right;\">\n      <th></th>\n      <th>preg</th>\n      <th>plas</th>\n      <th>pres</th>\n      <th>skin</th>\n      <th>test</th>\n      <th>mass</th>\n      <th>pedi</th>\n      <th>age</th>\n      <th>class</th>\n    </tr>\n  </thead>\n  <tbody>\n    <tr>\n      <th>0</th>\n      <td>6</td>\n      <td>148</td>\n      <td>72</td>\n      <td>35</td>\n      <td>0</td>\n      <td>33.6</td>\n      <td>0.627</td>\n      <td>50</td>\n      <td>1</td>\n    </tr>\n    <tr>\n      <th>2</th>\n      <td>8</td>\n      <td>183</td>\n      <td>64</td>\n      <td>0</td>\n      <td>0</td>\n      <td>23.3</td>\n      <td>0.672</td>\n      <td>32</td>\n      <td>1</td>\n    </tr>\n    <tr>\n      <th>4</th>\n      <td>0</td>\n      <td>137</td>\n      <td>40</td>\n      <td>35</td>\n      <td>168</td>\n      <td>43.1</td>\n      <td>2.288</td>\n      <td>33</td>\n      <td>1</td>\n    </tr>\n    <tr>\n      <th>8</th>\n      <td>2</td>\n      <td>197</td>\n      <td>70</td>\n      <td>45</td>\n      <td>543</td>\n      <td>30.5</td>\n      <td>0.158</td>\n      <td>53</td>\n      <td>1</td>\n    </tr>\n    <tr>\n      <th>9</th>\n      <td>8</td>\n      <td>125</td>\n      <td>96</td>\n      <td>0</td>\n      <td>0</td>\n      <td>0.0</td>\n      <td>0.232</td>\n      <td>54</td>\n      <td>1</td>\n    </tr>\n    <tr>\n      <th>...</th>\n      <td>...</td>\n      <td>...</td>\n      <td>...</td>\n      <td>...</td>\n      <td>...</td>\n      <td>...</td>\n      <td>...</td>\n      <td>...</td>\n      <td>...</td>\n    </tr>\n    <tr>\n      <th>759</th>\n      <td>6</td>\n      <td>190</td>\n      <td>92</td>\n      <td>0</td>\n      <td>0</td>\n      <td>35.5</td>\n      <td>0.278</td>\n      <td>66</td>\n      <td>1</td>\n    </tr>\n    <tr>\n      <th>761</th>\n      <td>9</td>\n      <td>170</td>\n      <td>74</td>\n      <td>31</td>\n      <td>0</td>\n      <td>44.0</td>\n      <td>0.403</td>\n      <td>43</td>\n      <td>1</td>\n    </tr>\n    <tr>\n      <th>764</th>\n      <td>2</td>\n      <td>122</td>\n      <td>70</td>\n      <td>27</td>\n      <td>0</td>\n      <td>36.8</td>\n      <td>0.340</td>\n      <td>27</td>\n      <td>0</td>\n    </tr>\n    <tr>\n      <th>765</th>\n      <td>5</td>\n      <td>121</td>\n      <td>72</td>\n      <td>23</td>\n      <td>112</td>\n      <td>26.2</td>\n      <td>0.245</td>\n      <td>30</td>\n      <td>0</td>\n    </tr>\n    <tr>\n      <th>766</th>\n      <td>1</td>\n      <td>126</td>\n      <td>60</td>\n      <td>0</td>\n      <td>0</td>\n      <td>30.1</td>\n      <td>0.349</td>\n      <td>47</td>\n      <td>1</td>\n    </tr>\n  </tbody>\n</table>\n<p>349 rows × 9 columns</p>\n</div>"
     },
     "metadata": {}
    }
   ]
  },
  {
   "cell_type": "markdown",
   "source": "Create a new dataframe that only includes people who are above the average value for each column in the dataset. In other words, find the average value for each column, and then find which users have values above all of these average column values.",
   "metadata": {
    "colab_type": "text",
    "id": "RxGIQp0JrUnq",
    "cell_id": "00021-1a546195-972f-44ec-9fc1-83979273571c",
    "deepnote_cell_type": "markdown"
   }
  },
  {
   "cell_type": "code",
   "metadata": {
    "colab_type": "code",
    "id": "Ylf4p6NNrfME",
    "colab": {},
    "deepnote_to_be_reexecuted": false,
    "source_hash": "4eae9623",
    "execution_start": 1625628247142,
    "execution_millis": 50,
    "cell_id": "00022-d0b3d4e8-b542-4dc4-b334-65d09993364d",
    "deepnote_cell_type": "code"
   },
   "source": "above_mean = True\nfor header in df.columns:\n    above_mean &= df[header] > df[header].mean()\n    \nabove_mean_df = df[above_mean]\nprint(df.mean())\nabove_mean_df",
   "execution_count": null,
   "outputs": [
    {
     "name": "stdout",
     "text": "preg       3.845052\nplas     120.894531\npres      69.105469\nskin      20.536458\ntest      79.799479\nmass      31.992578\npedi       0.471876\nage       33.240885\nclass      0.348958\ndtype: float64\n",
     "output_type": "stream"
    },
    {
     "output_type": "execute_result",
     "execution_count": 12,
     "data": {
      "application/vnd.deepnote.dataframe.v2+json": {
       "row_count": 16,
       "column_count": 9,
       "columns": [
        {
         "name": "preg",
         "dtype": "int64",
         "stats": {
          "unique_count": 8,
          "nan_count": 0,
          "min": "5",
          "max": "17",
          "histogram": [
           {
            "bin_start": 5,
            "bin_end": 6.2,
            "count": 1
           },
           {
            "bin_start": 6.2,
            "bin_end": 7.4,
            "count": 3
           },
           {
            "bin_start": 7.4,
            "bin_end": 8.6,
            "count": 3
           },
           {
            "bin_start": 8.6,
            "bin_end": 9.8,
            "count": 3
           },
           {
            "bin_start": 9.8,
            "bin_end": 11,
            "count": 1
           },
           {
            "bin_start": 11,
            "bin_end": 12.2,
            "count": 4
           },
           {
            "bin_start": 12.2,
            "bin_end": 13.4,
            "count": 0
           },
           {
            "bin_start": 13.4,
            "bin_end": 14.6,
            "count": 0
           },
           {
            "bin_start": 14.6,
            "bin_end": 15.799999999999999,
            "count": 0
           },
           {
            "bin_start": 15.799999999999999,
            "bin_end": 17,
            "count": 1
           }
          ]
         }
        },
        {
         "name": "plas",
         "dtype": "int64",
         "stats": {
          "unique_count": 15,
          "nan_count": 0,
          "min": "138",
          "max": "196",
          "histogram": [
           {
            "bin_start": 138,
            "bin_end": 143.8,
            "count": 2
           },
           {
            "bin_start": 143.8,
            "bin_end": 149.6,
            "count": 2
           },
           {
            "bin_start": 149.6,
            "bin_end": 155.4,
            "count": 4
           },
           {
            "bin_start": 155.4,
            "bin_end": 161.2,
            "count": 1
           },
           {
            "bin_start": 161.2,
            "bin_end": 167,
            "count": 1
           },
           {
            "bin_start": 167,
            "bin_end": 172.8,
            "count": 2
           },
           {
            "bin_start": 172.8,
            "bin_end": 178.6,
            "count": 0
           },
           {
            "bin_start": 178.6,
            "bin_end": 184.4,
            "count": 2
           },
           {
            "bin_start": 184.4,
            "bin_end": 190.2,
            "count": 1
           },
           {
            "bin_start": 190.2,
            "bin_end": 196,
            "count": 1
           }
          ]
         }
        },
        {
         "name": "pres",
         "dtype": "int64",
         "stats": {
          "unique_count": 11,
          "nan_count": 0,
          "min": "70",
          "max": "110",
          "histogram": [
           {
            "bin_start": 70,
            "bin_end": 74,
            "count": 3
           },
           {
            "bin_start": 74,
            "bin_end": 78,
            "count": 4
           },
           {
            "bin_start": 78,
            "bin_end": 82,
            "count": 3
           },
           {
            "bin_start": 82,
            "bin_end": 86,
            "count": 3
           },
           {
            "bin_start": 86,
            "bin_end": 90,
            "count": 2
           },
           {
            "bin_start": 90,
            "bin_end": 94,
            "count": 0
           },
           {
            "bin_start": 94,
            "bin_end": 98,
            "count": 0
           },
           {
            "bin_start": 98,
            "bin_end": 102,
            "count": 0
           },
           {
            "bin_start": 102,
            "bin_end": 106,
            "count": 0
           },
           {
            "bin_start": 106,
            "bin_end": 110,
            "count": 1
           }
          ]
         }
        },
        {
         "name": "skin",
         "dtype": "int64",
         "stats": {
          "unique_count": 13,
          "nan_count": 0,
          "min": "21",
          "max": "48",
          "histogram": [
           {
            "bin_start": 21,
            "bin_end": 23.7,
            "count": 1
           },
           {
            "bin_start": 23.7,
            "bin_end": 26.4,
            "count": 2
           },
           {
            "bin_start": 26.4,
            "bin_end": 29.1,
            "count": 5
           },
           {
            "bin_start": 29.1,
            "bin_end": 31.8,
            "count": 0
           },
           {
            "bin_start": 31.8,
            "bin_end": 34.5,
            "count": 1
           },
           {
            "bin_start": 34.5,
            "bin_end": 37.2,
            "count": 0
           },
           {
            "bin_start": 37.2,
            "bin_end": 39.900000000000006,
            "count": 0
           },
           {
            "bin_start": 39.900000000000006,
            "bin_end": 42.6,
            "count": 4
           },
           {
            "bin_start": 42.6,
            "bin_end": 45.3,
            "count": 1
           },
           {
            "bin_start": 45.3,
            "bin_end": 48,
            "count": 2
           }
          ]
         }
        },
        {
         "name": "test",
         "dtype": "int64",
         "stats": {
          "unique_count": 15,
          "nan_count": 0,
          "min": "114",
          "max": "325",
          "histogram": [
           {
            "bin_start": 114,
            "bin_end": 135.1,
            "count": 4
           },
           {
            "bin_start": 135.1,
            "bin_end": 156.2,
            "count": 3
           },
           {
            "bin_start": 156.2,
            "bin_end": 177.3,
            "count": 0
           },
           {
            "bin_start": 177.3,
            "bin_end": 198.4,
            "count": 1
           },
           {
            "bin_start": 198.4,
            "bin_end": 219.5,
            "count": 2
           },
           {
            "bin_start": 219.5,
            "bin_end": 240.60000000000002,
            "count": 2
           },
           {
            "bin_start": 240.60000000000002,
            "bin_end": 261.70000000000005,
            "count": 0
           },
           {
            "bin_start": 261.70000000000005,
            "bin_end": 282.8,
            "count": 2
           },
           {
            "bin_start": 282.8,
            "bin_end": 303.9,
            "count": 0
           },
           {
            "bin_start": 303.9,
            "bin_end": 325,
            "count": 2
           }
          ]
         }
        },
        {
         "name": "mass",
         "dtype": "float64",
         "stats": {
          "unique_count": 16,
          "nan_count": 0,
          "min": "32.7",
          "max": "45.4",
          "histogram": [
           {
            "bin_start": 32.7,
            "bin_end": 33.97,
            "count": 2
           },
           {
            "bin_start": 33.97,
            "bin_end": 35.24,
            "count": 2
           },
           {
            "bin_start": 35.24,
            "bin_end": 36.510000000000005,
            "count": 2
           },
           {
            "bin_start": 36.510000000000005,
            "bin_end": 37.78,
            "count": 2
           },
           {
            "bin_start": 37.78,
            "bin_end": 39.05,
            "count": 2
           },
           {
            "bin_start": 39.05,
            "bin_end": 40.32,
            "count": 1
           },
           {
            "bin_start": 40.32,
            "bin_end": 41.59,
            "count": 1
           },
           {
            "bin_start": 41.59,
            "bin_end": 42.86,
            "count": 1
           },
           {
            "bin_start": 42.86,
            "bin_end": 44.129999999999995,
            "count": 2
           },
           {
            "bin_start": 44.129999999999995,
            "bin_end": 45.4,
            "count": 1
           }
          ]
         }
        },
        {
         "name": "pedi",
         "dtype": "float64",
         "stats": {
          "unique_count": 16,
          "nan_count": 0,
          "min": "0.516",
          "max": "1.353",
          "histogram": [
           {
            "bin_start": 0.516,
            "bin_end": 0.5997,
            "count": 4
           },
           {
            "bin_start": 0.5997,
            "bin_end": 0.6834,
            "count": 2
           },
           {
            "bin_start": 0.6834,
            "bin_end": 0.7671,
            "count": 4
           },
           {
            "bin_start": 0.7671,
            "bin_end": 0.8508,
            "count": 2
           },
           {
            "bin_start": 0.8508,
            "bin_end": 0.9345,
            "count": 0
           },
           {
            "bin_start": 0.9345,
            "bin_end": 1.0182,
            "count": 1
           },
           {
            "bin_start": 1.0182,
            "bin_end": 1.1019,
            "count": 1
           },
           {
            "bin_start": 1.1019,
            "bin_end": 1.1856,
            "count": 0
           },
           {
            "bin_start": 1.1856,
            "bin_end": 1.2692999999999999,
            "count": 1
           },
           {
            "bin_start": 1.2692999999999999,
            "bin_end": 1.353,
            "count": 1
           }
          ]
         }
        },
        {
         "name": "age",
         "dtype": "int64",
         "stats": {
          "unique_count": 11,
          "nan_count": 0,
          "min": "36",
          "max": "58",
          "histogram": [
           {
            "bin_start": 36,
            "bin_end": 38.2,
            "count": 3
           },
           {
            "bin_start": 38.2,
            "bin_end": 40.4,
            "count": 2
           },
           {
            "bin_start": 40.4,
            "bin_end": 42.6,
            "count": 1
           },
           {
            "bin_start": 42.6,
            "bin_end": 44.8,
            "count": 0
           },
           {
            "bin_start": 44.8,
            "bin_end": 47,
            "count": 0
           },
           {
            "bin_start": 47,
            "bin_end": 49.2,
            "count": 1
           },
           {
            "bin_start": 49.2,
            "bin_end": 51.400000000000006,
            "count": 4
           },
           {
            "bin_start": 51.400000000000006,
            "bin_end": 53.6,
            "count": 1
           },
           {
            "bin_start": 53.6,
            "bin_end": 55.8,
            "count": 2
           },
           {
            "bin_start": 55.8,
            "bin_end": 58,
            "count": 2
           }
          ]
         }
        },
        {
         "name": "class",
         "dtype": "int64",
         "stats": {
          "unique_count": 1,
          "nan_count": 0,
          "min": "1",
          "max": "1",
          "histogram": [
           {
            "bin_start": 0.5,
            "bin_end": 0.6,
            "count": 0
           },
           {
            "bin_start": 0.6,
            "bin_end": 0.7,
            "count": 0
           },
           {
            "bin_start": 0.7,
            "bin_end": 0.8,
            "count": 0
           },
           {
            "bin_start": 0.8,
            "bin_end": 0.9,
            "count": 0
           },
           {
            "bin_start": 0.9,
            "bin_end": 1,
            "count": 0
           },
           {
            "bin_start": 1,
            "bin_end": 1.1,
            "count": 16
           },
           {
            "bin_start": 1.1,
            "bin_end": 1.2000000000000002,
            "count": 0
           },
           {
            "bin_start": 1.2000000000000002,
            "bin_end": 1.3,
            "count": 0
           },
           {
            "bin_start": 1.3,
            "bin_end": 1.4,
            "count": 0
           },
           {
            "bin_start": 1.4,
            "bin_end": 1.5,
            "count": 0
           }
          ]
         }
        },
        {
         "name": "_deepnote_index_column",
         "dtype": "int64"
        }
       ],
       "rows_top": [
        {
         "preg": 9,
         "plas": 171,
         "pres": 110,
         "skin": 24,
         "test": 240,
         "mass": 45.4,
         "pedi": 0.721,
         "age": 54,
         "class": 1,
         "_deepnote_index_column": 43
        },
        {
         "preg": 9,
         "plas": 156,
         "pres": 86,
         "skin": 28,
         "test": 155,
         "mass": 34.3,
         "pedi": 1.189,
         "age": 42,
         "class": 1,
         "_deepnote_index_column": 152
        },
        {
         "preg": 17,
         "plas": 163,
         "pres": 72,
         "skin": 41,
         "test": 114,
         "mass": 40.9,
         "pedi": 0.817,
         "age": 47,
         "class": 1,
         "_deepnote_index_column": 159
        },
        {
         "preg": 8,
         "plas": 179,
         "pres": 72,
         "skin": 42,
         "test": 130,
         "mass": 32.7,
         "pedi": 0.719,
         "age": 36,
         "class": 1,
         "_deepnote_index_column": 175
        },
        {
         "preg": 8,
         "plas": 196,
         "pres": 76,
         "skin": 29,
         "test": 280,
         "mass": 37.5,
         "pedi": 0.605,
         "age": 57,
         "class": 1,
         "_deepnote_index_column": 206
        },
        {
         "preg": 12,
         "plas": 151,
         "pres": 70,
         "skin": 40,
         "test": 271,
         "mass": 41.8,
         "pedi": 0.742,
         "age": 38,
         "class": 1,
         "_deepnote_index_column": 215
        },
        {
         "preg": 7,
         "plas": 181,
         "pres": 84,
         "skin": 21,
         "test": 192,
         "mass": 35.9,
         "pedi": 0.586,
         "age": 51,
         "class": 1,
         "_deepnote_index_column": 236
        },
        {
         "preg": 11,
         "plas": 155,
         "pres": 76,
         "skin": 28,
         "test": 150,
         "mass": 33.3,
         "pedi": 1.353,
         "age": 51,
         "class": 1,
         "_deepnote_index_column": 259
        },
        {
         "preg": 12,
         "plas": 140,
         "pres": 82,
         "skin": 43,
         "test": 325,
         "mass": 39.2,
         "pedi": 0.528,
         "age": 58,
         "class": 1,
         "_deepnote_index_column": 375
        },
        {
         "preg": 8,
         "plas": 151,
         "pres": 78,
         "skin": 32,
         "test": 210,
         "mass": 42.9,
         "pedi": 0.516,
         "age": 36,
         "class": 1,
         "_deepnote_index_column": 424
        },
        {
         "preg": 10,
         "plas": 148,
         "pres": 84,
         "skin": 48,
         "test": 237,
         "mass": 37.6,
         "pedi": 1.001,
         "age": 51,
         "class": 1,
         "_deepnote_index_column": 458
        },
        {
         "preg": 5,
         "plas": 187,
         "pres": 76,
         "skin": 27,
         "test": 207,
         "mass": 43.6,
         "pedi": 1.034,
         "age": 53,
         "class": 1,
         "_deepnote_index_column": 546
        },
        {
         "preg": 7,
         "plas": 150,
         "pres": 78,
         "skin": 29,
         "test": 126,
         "mass": 35.2,
         "pedi": 0.692,
         "age": 54,
         "class": 1,
         "_deepnote_index_column": 603
        },
        {
         "preg": 7,
         "plas": 168,
         "pres": 88,
         "skin": 42,
         "test": 321,
         "mass": 38.2,
         "pedi": 0.787,
         "age": 40,
         "class": 1,
         "_deepnote_index_column": 612
        },
        {
         "preg": 11,
         "plas": 138,
         "pres": 74,
         "skin": 26,
         "test": 144,
         "mass": 36.1,
         "pedi": 0.557,
         "age": 50,
         "class": 1,
         "_deepnote_index_column": 614
        },
        {
         "preg": 9,
         "plas": 145,
         "pres": 80,
         "skin": 46,
         "test": 130,
         "mass": 37.9,
         "pedi": 0.637,
         "age": 40,
         "class": 1,
         "_deepnote_index_column": 663
        }
       ],
       "rows_bottom": null
      },
      "text/plain": "     preg  plas  pres  skin  test  mass   pedi  age  class\n43      9   171   110    24   240  45.4  0.721   54      1\n152     9   156    86    28   155  34.3  1.189   42      1\n159    17   163    72    41   114  40.9  0.817   47      1\n175     8   179    72    42   130  32.7  0.719   36      1\n206     8   196    76    29   280  37.5  0.605   57      1\n215    12   151    70    40   271  41.8  0.742   38      1\n236     7   181    84    21   192  35.9  0.586   51      1\n259    11   155    76    28   150  33.3  1.353   51      1\n375    12   140    82    43   325  39.2  0.528   58      1\n424     8   151    78    32   210  42.9  0.516   36      1\n458    10   148    84    48   237  37.6  1.001   51      1\n546     5   187    76    27   207  43.6  1.034   53      1\n603     7   150    78    29   126  35.2  0.692   54      1\n612     7   168    88    42   321  38.2  0.787   40      1\n614    11   138    74    26   144  36.1  0.557   50      1\n663     9   145    80    46   130  37.9  0.637   40      1",
      "text/html": "<div>\n<style scoped>\n    .dataframe tbody tr th:only-of-type {\n        vertical-align: middle;\n    }\n\n    .dataframe tbody tr th {\n        vertical-align: top;\n    }\n\n    .dataframe thead th {\n        text-align: right;\n    }\n</style>\n<table border=\"1\" class=\"dataframe\">\n  <thead>\n    <tr style=\"text-align: right;\">\n      <th></th>\n      <th>preg</th>\n      <th>plas</th>\n      <th>pres</th>\n      <th>skin</th>\n      <th>test</th>\n      <th>mass</th>\n      <th>pedi</th>\n      <th>age</th>\n      <th>class</th>\n    </tr>\n  </thead>\n  <tbody>\n    <tr>\n      <th>43</th>\n      <td>9</td>\n      <td>171</td>\n      <td>110</td>\n      <td>24</td>\n      <td>240</td>\n      <td>45.4</td>\n      <td>0.721</td>\n      <td>54</td>\n      <td>1</td>\n    </tr>\n    <tr>\n      <th>152</th>\n      <td>9</td>\n      <td>156</td>\n      <td>86</td>\n      <td>28</td>\n      <td>155</td>\n      <td>34.3</td>\n      <td>1.189</td>\n      <td>42</td>\n      <td>1</td>\n    </tr>\n    <tr>\n      <th>159</th>\n      <td>17</td>\n      <td>163</td>\n      <td>72</td>\n      <td>41</td>\n      <td>114</td>\n      <td>40.9</td>\n      <td>0.817</td>\n      <td>47</td>\n      <td>1</td>\n    </tr>\n    <tr>\n      <th>175</th>\n      <td>8</td>\n      <td>179</td>\n      <td>72</td>\n      <td>42</td>\n      <td>130</td>\n      <td>32.7</td>\n      <td>0.719</td>\n      <td>36</td>\n      <td>1</td>\n    </tr>\n    <tr>\n      <th>206</th>\n      <td>8</td>\n      <td>196</td>\n      <td>76</td>\n      <td>29</td>\n      <td>280</td>\n      <td>37.5</td>\n      <td>0.605</td>\n      <td>57</td>\n      <td>1</td>\n    </tr>\n    <tr>\n      <th>215</th>\n      <td>12</td>\n      <td>151</td>\n      <td>70</td>\n      <td>40</td>\n      <td>271</td>\n      <td>41.8</td>\n      <td>0.742</td>\n      <td>38</td>\n      <td>1</td>\n    </tr>\n    <tr>\n      <th>236</th>\n      <td>7</td>\n      <td>181</td>\n      <td>84</td>\n      <td>21</td>\n      <td>192</td>\n      <td>35.9</td>\n      <td>0.586</td>\n      <td>51</td>\n      <td>1</td>\n    </tr>\n    <tr>\n      <th>259</th>\n      <td>11</td>\n      <td>155</td>\n      <td>76</td>\n      <td>28</td>\n      <td>150</td>\n      <td>33.3</td>\n      <td>1.353</td>\n      <td>51</td>\n      <td>1</td>\n    </tr>\n    <tr>\n      <th>375</th>\n      <td>12</td>\n      <td>140</td>\n      <td>82</td>\n      <td>43</td>\n      <td>325</td>\n      <td>39.2</td>\n      <td>0.528</td>\n      <td>58</td>\n      <td>1</td>\n    </tr>\n    <tr>\n      <th>424</th>\n      <td>8</td>\n      <td>151</td>\n      <td>78</td>\n      <td>32</td>\n      <td>210</td>\n      <td>42.9</td>\n      <td>0.516</td>\n      <td>36</td>\n      <td>1</td>\n    </tr>\n    <tr>\n      <th>458</th>\n      <td>10</td>\n      <td>148</td>\n      <td>84</td>\n      <td>48</td>\n      <td>237</td>\n      <td>37.6</td>\n      <td>1.001</td>\n      <td>51</td>\n      <td>1</td>\n    </tr>\n    <tr>\n      <th>546</th>\n      <td>5</td>\n      <td>187</td>\n      <td>76</td>\n      <td>27</td>\n      <td>207</td>\n      <td>43.6</td>\n      <td>1.034</td>\n      <td>53</td>\n      <td>1</td>\n    </tr>\n    <tr>\n      <th>603</th>\n      <td>7</td>\n      <td>150</td>\n      <td>78</td>\n      <td>29</td>\n      <td>126</td>\n      <td>35.2</td>\n      <td>0.692</td>\n      <td>54</td>\n      <td>1</td>\n    </tr>\n    <tr>\n      <th>612</th>\n      <td>7</td>\n      <td>168</td>\n      <td>88</td>\n      <td>42</td>\n      <td>321</td>\n      <td>38.2</td>\n      <td>0.787</td>\n      <td>40</td>\n      <td>1</td>\n    </tr>\n    <tr>\n      <th>614</th>\n      <td>11</td>\n      <td>138</td>\n      <td>74</td>\n      <td>26</td>\n      <td>144</td>\n      <td>36.1</td>\n      <td>0.557</td>\n      <td>50</td>\n      <td>1</td>\n    </tr>\n    <tr>\n      <th>663</th>\n      <td>9</td>\n      <td>145</td>\n      <td>80</td>\n      <td>46</td>\n      <td>130</td>\n      <td>37.9</td>\n      <td>0.637</td>\n      <td>40</td>\n      <td>1</td>\n    </tr>\n  </tbody>\n</table>\n</div>"
     },
     "metadata": {}
    }
   ]
  },
  {
   "cell_type": "markdown",
   "source": "*Note: the next 3 problems were not explicitly shown in our tutorial—being able to effectively google and look through documentation is a very important coding tool!* ¯\\\\\\_(ツ)_/¯",
   "metadata": {
    "id": "Cy_6ce7_8qAB",
    "colab_type": "text",
    "cell_id": "00023-4137f6d7-3ce8-487c-a6da-569dfec14d77",
    "deepnote_cell_type": "markdown"
   }
  },
  {
   "cell_type": "markdown",
   "source": "Ignoring the index (resetting the index to 0) and using the dataframe from the cell above, sort the values based on `\"skin\"`, `\"test\"`, and `\"pedi\"` values in ascending order. Please write this in one line.",
   "metadata": {
    "colab_type": "text",
    "id": "24pCgP2xbCwZ",
    "cell_id": "00024-bfc978be-f4a0-4c4d-b967-ab480f4f8306",
    "deepnote_cell_type": "markdown"
   }
  },
  {
   "cell_type": "code",
   "metadata": {
    "colab_type": "code",
    "id": "wXZysbVwa7i5",
    "colab": {},
    "deepnote_to_be_reexecuted": false,
    "source_hash": "d48b17f6",
    "execution_start": 1625628247184,
    "execution_millis": 159,
    "cell_id": "00025-49188419-1e40-44f4-9d63-dec6def72f6b",
    "deepnote_cell_type": "code"
   },
   "source": "# YOUR CODE HERE\nabove_mean_df.sort_values(['skin', 'test', 'pedi'])\n",
   "execution_count": null,
   "outputs": [
    {
     "output_type": "execute_result",
     "execution_count": 13,
     "data": {
      "application/vnd.deepnote.dataframe.v2+json": {
       "row_count": 16,
       "column_count": 9,
       "columns": [
        {
         "name": "preg",
         "dtype": "int64",
         "stats": {
          "unique_count": 8,
          "nan_count": 0,
          "min": "5",
          "max": "17",
          "histogram": [
           {
            "bin_start": 5,
            "bin_end": 6.2,
            "count": 1
           },
           {
            "bin_start": 6.2,
            "bin_end": 7.4,
            "count": 3
           },
           {
            "bin_start": 7.4,
            "bin_end": 8.6,
            "count": 3
           },
           {
            "bin_start": 8.6,
            "bin_end": 9.8,
            "count": 3
           },
           {
            "bin_start": 9.8,
            "bin_end": 11,
            "count": 1
           },
           {
            "bin_start": 11,
            "bin_end": 12.2,
            "count": 4
           },
           {
            "bin_start": 12.2,
            "bin_end": 13.4,
            "count": 0
           },
           {
            "bin_start": 13.4,
            "bin_end": 14.6,
            "count": 0
           },
           {
            "bin_start": 14.6,
            "bin_end": 15.799999999999999,
            "count": 0
           },
           {
            "bin_start": 15.799999999999999,
            "bin_end": 17,
            "count": 1
           }
          ]
         }
        },
        {
         "name": "plas",
         "dtype": "int64",
         "stats": {
          "unique_count": 15,
          "nan_count": 0,
          "min": "138",
          "max": "196",
          "histogram": [
           {
            "bin_start": 138,
            "bin_end": 143.8,
            "count": 2
           },
           {
            "bin_start": 143.8,
            "bin_end": 149.6,
            "count": 2
           },
           {
            "bin_start": 149.6,
            "bin_end": 155.4,
            "count": 4
           },
           {
            "bin_start": 155.4,
            "bin_end": 161.2,
            "count": 1
           },
           {
            "bin_start": 161.2,
            "bin_end": 167,
            "count": 1
           },
           {
            "bin_start": 167,
            "bin_end": 172.8,
            "count": 2
           },
           {
            "bin_start": 172.8,
            "bin_end": 178.6,
            "count": 0
           },
           {
            "bin_start": 178.6,
            "bin_end": 184.4,
            "count": 2
           },
           {
            "bin_start": 184.4,
            "bin_end": 190.2,
            "count": 1
           },
           {
            "bin_start": 190.2,
            "bin_end": 196,
            "count": 1
           }
          ]
         }
        },
        {
         "name": "pres",
         "dtype": "int64",
         "stats": {
          "unique_count": 11,
          "nan_count": 0,
          "min": "70",
          "max": "110",
          "histogram": [
           {
            "bin_start": 70,
            "bin_end": 74,
            "count": 3
           },
           {
            "bin_start": 74,
            "bin_end": 78,
            "count": 4
           },
           {
            "bin_start": 78,
            "bin_end": 82,
            "count": 3
           },
           {
            "bin_start": 82,
            "bin_end": 86,
            "count": 3
           },
           {
            "bin_start": 86,
            "bin_end": 90,
            "count": 2
           },
           {
            "bin_start": 90,
            "bin_end": 94,
            "count": 0
           },
           {
            "bin_start": 94,
            "bin_end": 98,
            "count": 0
           },
           {
            "bin_start": 98,
            "bin_end": 102,
            "count": 0
           },
           {
            "bin_start": 102,
            "bin_end": 106,
            "count": 0
           },
           {
            "bin_start": 106,
            "bin_end": 110,
            "count": 1
           }
          ]
         }
        },
        {
         "name": "skin",
         "dtype": "int64",
         "stats": {
          "unique_count": 13,
          "nan_count": 0,
          "min": "21",
          "max": "48",
          "histogram": [
           {
            "bin_start": 21,
            "bin_end": 23.7,
            "count": 1
           },
           {
            "bin_start": 23.7,
            "bin_end": 26.4,
            "count": 2
           },
           {
            "bin_start": 26.4,
            "bin_end": 29.1,
            "count": 5
           },
           {
            "bin_start": 29.1,
            "bin_end": 31.8,
            "count": 0
           },
           {
            "bin_start": 31.8,
            "bin_end": 34.5,
            "count": 1
           },
           {
            "bin_start": 34.5,
            "bin_end": 37.2,
            "count": 0
           },
           {
            "bin_start": 37.2,
            "bin_end": 39.900000000000006,
            "count": 0
           },
           {
            "bin_start": 39.900000000000006,
            "bin_end": 42.6,
            "count": 4
           },
           {
            "bin_start": 42.6,
            "bin_end": 45.3,
            "count": 1
           },
           {
            "bin_start": 45.3,
            "bin_end": 48,
            "count": 2
           }
          ]
         }
        },
        {
         "name": "test",
         "dtype": "int64",
         "stats": {
          "unique_count": 15,
          "nan_count": 0,
          "min": "114",
          "max": "325",
          "histogram": [
           {
            "bin_start": 114,
            "bin_end": 135.1,
            "count": 4
           },
           {
            "bin_start": 135.1,
            "bin_end": 156.2,
            "count": 3
           },
           {
            "bin_start": 156.2,
            "bin_end": 177.3,
            "count": 0
           },
           {
            "bin_start": 177.3,
            "bin_end": 198.4,
            "count": 1
           },
           {
            "bin_start": 198.4,
            "bin_end": 219.5,
            "count": 2
           },
           {
            "bin_start": 219.5,
            "bin_end": 240.60000000000002,
            "count": 2
           },
           {
            "bin_start": 240.60000000000002,
            "bin_end": 261.70000000000005,
            "count": 0
           },
           {
            "bin_start": 261.70000000000005,
            "bin_end": 282.8,
            "count": 2
           },
           {
            "bin_start": 282.8,
            "bin_end": 303.9,
            "count": 0
           },
           {
            "bin_start": 303.9,
            "bin_end": 325,
            "count": 2
           }
          ]
         }
        },
        {
         "name": "mass",
         "dtype": "float64",
         "stats": {
          "unique_count": 16,
          "nan_count": 0,
          "min": "32.7",
          "max": "45.4",
          "histogram": [
           {
            "bin_start": 32.7,
            "bin_end": 33.97,
            "count": 2
           },
           {
            "bin_start": 33.97,
            "bin_end": 35.24,
            "count": 2
           },
           {
            "bin_start": 35.24,
            "bin_end": 36.510000000000005,
            "count": 2
           },
           {
            "bin_start": 36.510000000000005,
            "bin_end": 37.78,
            "count": 2
           },
           {
            "bin_start": 37.78,
            "bin_end": 39.05,
            "count": 2
           },
           {
            "bin_start": 39.05,
            "bin_end": 40.32,
            "count": 1
           },
           {
            "bin_start": 40.32,
            "bin_end": 41.59,
            "count": 1
           },
           {
            "bin_start": 41.59,
            "bin_end": 42.86,
            "count": 1
           },
           {
            "bin_start": 42.86,
            "bin_end": 44.129999999999995,
            "count": 2
           },
           {
            "bin_start": 44.129999999999995,
            "bin_end": 45.4,
            "count": 1
           }
          ]
         }
        },
        {
         "name": "pedi",
         "dtype": "float64",
         "stats": {
          "unique_count": 16,
          "nan_count": 0,
          "min": "0.516",
          "max": "1.353",
          "histogram": [
           {
            "bin_start": 0.516,
            "bin_end": 0.5997,
            "count": 4
           },
           {
            "bin_start": 0.5997,
            "bin_end": 0.6834,
            "count": 2
           },
           {
            "bin_start": 0.6834,
            "bin_end": 0.7671,
            "count": 4
           },
           {
            "bin_start": 0.7671,
            "bin_end": 0.8508,
            "count": 2
           },
           {
            "bin_start": 0.8508,
            "bin_end": 0.9345,
            "count": 0
           },
           {
            "bin_start": 0.9345,
            "bin_end": 1.0182,
            "count": 1
           },
           {
            "bin_start": 1.0182,
            "bin_end": 1.1019,
            "count": 1
           },
           {
            "bin_start": 1.1019,
            "bin_end": 1.1856,
            "count": 0
           },
           {
            "bin_start": 1.1856,
            "bin_end": 1.2692999999999999,
            "count": 1
           },
           {
            "bin_start": 1.2692999999999999,
            "bin_end": 1.353,
            "count": 1
           }
          ]
         }
        },
        {
         "name": "age",
         "dtype": "int64",
         "stats": {
          "unique_count": 11,
          "nan_count": 0,
          "min": "36",
          "max": "58",
          "histogram": [
           {
            "bin_start": 36,
            "bin_end": 38.2,
            "count": 3
           },
           {
            "bin_start": 38.2,
            "bin_end": 40.4,
            "count": 2
           },
           {
            "bin_start": 40.4,
            "bin_end": 42.6,
            "count": 1
           },
           {
            "bin_start": 42.6,
            "bin_end": 44.8,
            "count": 0
           },
           {
            "bin_start": 44.8,
            "bin_end": 47,
            "count": 0
           },
           {
            "bin_start": 47,
            "bin_end": 49.2,
            "count": 1
           },
           {
            "bin_start": 49.2,
            "bin_end": 51.400000000000006,
            "count": 4
           },
           {
            "bin_start": 51.400000000000006,
            "bin_end": 53.6,
            "count": 1
           },
           {
            "bin_start": 53.6,
            "bin_end": 55.8,
            "count": 2
           },
           {
            "bin_start": 55.8,
            "bin_end": 58,
            "count": 2
           }
          ]
         }
        },
        {
         "name": "class",
         "dtype": "int64",
         "stats": {
          "unique_count": 1,
          "nan_count": 0,
          "min": "1",
          "max": "1",
          "histogram": [
           {
            "bin_start": 0.5,
            "bin_end": 0.6,
            "count": 0
           },
           {
            "bin_start": 0.6,
            "bin_end": 0.7,
            "count": 0
           },
           {
            "bin_start": 0.7,
            "bin_end": 0.8,
            "count": 0
           },
           {
            "bin_start": 0.8,
            "bin_end": 0.9,
            "count": 0
           },
           {
            "bin_start": 0.9,
            "bin_end": 1,
            "count": 0
           },
           {
            "bin_start": 1,
            "bin_end": 1.1,
            "count": 16
           },
           {
            "bin_start": 1.1,
            "bin_end": 1.2000000000000002,
            "count": 0
           },
           {
            "bin_start": 1.2000000000000002,
            "bin_end": 1.3,
            "count": 0
           },
           {
            "bin_start": 1.3,
            "bin_end": 1.4,
            "count": 0
           },
           {
            "bin_start": 1.4,
            "bin_end": 1.5,
            "count": 0
           }
          ]
         }
        },
        {
         "name": "_deepnote_index_column",
         "dtype": "int64"
        }
       ],
       "rows_top": [
        {
         "preg": 7,
         "plas": 181,
         "pres": 84,
         "skin": 21,
         "test": 192,
         "mass": 35.9,
         "pedi": 0.586,
         "age": 51,
         "class": 1,
         "_deepnote_index_column": 236
        },
        {
         "preg": 9,
         "plas": 171,
         "pres": 110,
         "skin": 24,
         "test": 240,
         "mass": 45.4,
         "pedi": 0.721,
         "age": 54,
         "class": 1,
         "_deepnote_index_column": 43
        },
        {
         "preg": 11,
         "plas": 138,
         "pres": 74,
         "skin": 26,
         "test": 144,
         "mass": 36.1,
         "pedi": 0.557,
         "age": 50,
         "class": 1,
         "_deepnote_index_column": 614
        },
        {
         "preg": 5,
         "plas": 187,
         "pres": 76,
         "skin": 27,
         "test": 207,
         "mass": 43.6,
         "pedi": 1.034,
         "age": 53,
         "class": 1,
         "_deepnote_index_column": 546
        },
        {
         "preg": 11,
         "plas": 155,
         "pres": 76,
         "skin": 28,
         "test": 150,
         "mass": 33.3,
         "pedi": 1.353,
         "age": 51,
         "class": 1,
         "_deepnote_index_column": 259
        },
        {
         "preg": 9,
         "plas": 156,
         "pres": 86,
         "skin": 28,
         "test": 155,
         "mass": 34.3,
         "pedi": 1.189,
         "age": 42,
         "class": 1,
         "_deepnote_index_column": 152
        },
        {
         "preg": 7,
         "plas": 150,
         "pres": 78,
         "skin": 29,
         "test": 126,
         "mass": 35.2,
         "pedi": 0.692,
         "age": 54,
         "class": 1,
         "_deepnote_index_column": 603
        },
        {
         "preg": 8,
         "plas": 196,
         "pres": 76,
         "skin": 29,
         "test": 280,
         "mass": 37.5,
         "pedi": 0.605,
         "age": 57,
         "class": 1,
         "_deepnote_index_column": 206
        },
        {
         "preg": 8,
         "plas": 151,
         "pres": 78,
         "skin": 32,
         "test": 210,
         "mass": 42.9,
         "pedi": 0.516,
         "age": 36,
         "class": 1,
         "_deepnote_index_column": 424
        },
        {
         "preg": 12,
         "plas": 151,
         "pres": 70,
         "skin": 40,
         "test": 271,
         "mass": 41.8,
         "pedi": 0.742,
         "age": 38,
         "class": 1,
         "_deepnote_index_column": 215
        },
        {
         "preg": 17,
         "plas": 163,
         "pres": 72,
         "skin": 41,
         "test": 114,
         "mass": 40.9,
         "pedi": 0.817,
         "age": 47,
         "class": 1,
         "_deepnote_index_column": 159
        },
        {
         "preg": 8,
         "plas": 179,
         "pres": 72,
         "skin": 42,
         "test": 130,
         "mass": 32.7,
         "pedi": 0.719,
         "age": 36,
         "class": 1,
         "_deepnote_index_column": 175
        },
        {
         "preg": 7,
         "plas": 168,
         "pres": 88,
         "skin": 42,
         "test": 321,
         "mass": 38.2,
         "pedi": 0.787,
         "age": 40,
         "class": 1,
         "_deepnote_index_column": 612
        },
        {
         "preg": 12,
         "plas": 140,
         "pres": 82,
         "skin": 43,
         "test": 325,
         "mass": 39.2,
         "pedi": 0.528,
         "age": 58,
         "class": 1,
         "_deepnote_index_column": 375
        },
        {
         "preg": 9,
         "plas": 145,
         "pres": 80,
         "skin": 46,
         "test": 130,
         "mass": 37.9,
         "pedi": 0.637,
         "age": 40,
         "class": 1,
         "_deepnote_index_column": 663
        },
        {
         "preg": 10,
         "plas": 148,
         "pres": 84,
         "skin": 48,
         "test": 237,
         "mass": 37.6,
         "pedi": 1.001,
         "age": 51,
         "class": 1,
         "_deepnote_index_column": 458
        }
       ],
       "rows_bottom": null
      },
      "text/plain": "     preg  plas  pres  skin  test  mass   pedi  age  class\n236     7   181    84    21   192  35.9  0.586   51      1\n43      9   171   110    24   240  45.4  0.721   54      1\n614    11   138    74    26   144  36.1  0.557   50      1\n546     5   187    76    27   207  43.6  1.034   53      1\n259    11   155    76    28   150  33.3  1.353   51      1\n152     9   156    86    28   155  34.3  1.189   42      1\n603     7   150    78    29   126  35.2  0.692   54      1\n206     8   196    76    29   280  37.5  0.605   57      1\n424     8   151    78    32   210  42.9  0.516   36      1\n215    12   151    70    40   271  41.8  0.742   38      1\n159    17   163    72    41   114  40.9  0.817   47      1\n175     8   179    72    42   130  32.7  0.719   36      1\n612     7   168    88    42   321  38.2  0.787   40      1\n375    12   140    82    43   325  39.2  0.528   58      1\n663     9   145    80    46   130  37.9  0.637   40      1\n458    10   148    84    48   237  37.6  1.001   51      1",
      "text/html": "<div>\n<style scoped>\n    .dataframe tbody tr th:only-of-type {\n        vertical-align: middle;\n    }\n\n    .dataframe tbody tr th {\n        vertical-align: top;\n    }\n\n    .dataframe thead th {\n        text-align: right;\n    }\n</style>\n<table border=\"1\" class=\"dataframe\">\n  <thead>\n    <tr style=\"text-align: right;\">\n      <th></th>\n      <th>preg</th>\n      <th>plas</th>\n      <th>pres</th>\n      <th>skin</th>\n      <th>test</th>\n      <th>mass</th>\n      <th>pedi</th>\n      <th>age</th>\n      <th>class</th>\n    </tr>\n  </thead>\n  <tbody>\n    <tr>\n      <th>236</th>\n      <td>7</td>\n      <td>181</td>\n      <td>84</td>\n      <td>21</td>\n      <td>192</td>\n      <td>35.9</td>\n      <td>0.586</td>\n      <td>51</td>\n      <td>1</td>\n    </tr>\n    <tr>\n      <th>43</th>\n      <td>9</td>\n      <td>171</td>\n      <td>110</td>\n      <td>24</td>\n      <td>240</td>\n      <td>45.4</td>\n      <td>0.721</td>\n      <td>54</td>\n      <td>1</td>\n    </tr>\n    <tr>\n      <th>614</th>\n      <td>11</td>\n      <td>138</td>\n      <td>74</td>\n      <td>26</td>\n      <td>144</td>\n      <td>36.1</td>\n      <td>0.557</td>\n      <td>50</td>\n      <td>1</td>\n    </tr>\n    <tr>\n      <th>546</th>\n      <td>5</td>\n      <td>187</td>\n      <td>76</td>\n      <td>27</td>\n      <td>207</td>\n      <td>43.6</td>\n      <td>1.034</td>\n      <td>53</td>\n      <td>1</td>\n    </tr>\n    <tr>\n      <th>259</th>\n      <td>11</td>\n      <td>155</td>\n      <td>76</td>\n      <td>28</td>\n      <td>150</td>\n      <td>33.3</td>\n      <td>1.353</td>\n      <td>51</td>\n      <td>1</td>\n    </tr>\n    <tr>\n      <th>152</th>\n      <td>9</td>\n      <td>156</td>\n      <td>86</td>\n      <td>28</td>\n      <td>155</td>\n      <td>34.3</td>\n      <td>1.189</td>\n      <td>42</td>\n      <td>1</td>\n    </tr>\n    <tr>\n      <th>603</th>\n      <td>7</td>\n      <td>150</td>\n      <td>78</td>\n      <td>29</td>\n      <td>126</td>\n      <td>35.2</td>\n      <td>0.692</td>\n      <td>54</td>\n      <td>1</td>\n    </tr>\n    <tr>\n      <th>206</th>\n      <td>8</td>\n      <td>196</td>\n      <td>76</td>\n      <td>29</td>\n      <td>280</td>\n      <td>37.5</td>\n      <td>0.605</td>\n      <td>57</td>\n      <td>1</td>\n    </tr>\n    <tr>\n      <th>424</th>\n      <td>8</td>\n      <td>151</td>\n      <td>78</td>\n      <td>32</td>\n      <td>210</td>\n      <td>42.9</td>\n      <td>0.516</td>\n      <td>36</td>\n      <td>1</td>\n    </tr>\n    <tr>\n      <th>215</th>\n      <td>12</td>\n      <td>151</td>\n      <td>70</td>\n      <td>40</td>\n      <td>271</td>\n      <td>41.8</td>\n      <td>0.742</td>\n      <td>38</td>\n      <td>1</td>\n    </tr>\n    <tr>\n      <th>159</th>\n      <td>17</td>\n      <td>163</td>\n      <td>72</td>\n      <td>41</td>\n      <td>114</td>\n      <td>40.9</td>\n      <td>0.817</td>\n      <td>47</td>\n      <td>1</td>\n    </tr>\n    <tr>\n      <th>175</th>\n      <td>8</td>\n      <td>179</td>\n      <td>72</td>\n      <td>42</td>\n      <td>130</td>\n      <td>32.7</td>\n      <td>0.719</td>\n      <td>36</td>\n      <td>1</td>\n    </tr>\n    <tr>\n      <th>612</th>\n      <td>7</td>\n      <td>168</td>\n      <td>88</td>\n      <td>42</td>\n      <td>321</td>\n      <td>38.2</td>\n      <td>0.787</td>\n      <td>40</td>\n      <td>1</td>\n    </tr>\n    <tr>\n      <th>375</th>\n      <td>12</td>\n      <td>140</td>\n      <td>82</td>\n      <td>43</td>\n      <td>325</td>\n      <td>39.2</td>\n      <td>0.528</td>\n      <td>58</td>\n      <td>1</td>\n    </tr>\n    <tr>\n      <th>663</th>\n      <td>9</td>\n      <td>145</td>\n      <td>80</td>\n      <td>46</td>\n      <td>130</td>\n      <td>37.9</td>\n      <td>0.637</td>\n      <td>40</td>\n      <td>1</td>\n    </tr>\n    <tr>\n      <th>458</th>\n      <td>10</td>\n      <td>148</td>\n      <td>84</td>\n      <td>48</td>\n      <td>237</td>\n      <td>37.6</td>\n      <td>1.001</td>\n      <td>51</td>\n      <td>1</td>\n    </tr>\n  </tbody>\n</table>\n</div>"
     },
     "metadata": {}
    }
   ]
  },
  {
   "cell_type": "markdown",
   "source": "Now let's find the 4 largest values for `\"age\"`",
   "metadata": {
    "colab_type": "text",
    "id": "BIJkXsK4ch-u",
    "cell_id": "00026-640a1996-b056-4044-8e90-a7c09a97d2e7",
    "deepnote_cell_type": "markdown"
   }
  },
  {
   "cell_type": "code",
   "metadata": {
    "colab_type": "code",
    "id": "kSl28jLLdAF9",
    "colab": {},
    "deepnote_to_be_reexecuted": false,
    "source_hash": "94dfc6d8",
    "execution_start": 1625628247253,
    "execution_millis": 101,
    "cell_id": "00027-3cb09e13-afea-4038-846f-b525f74c5708",
    "deepnote_cell_type": "code"
   },
   "source": "above_mean_df.sort_values('age', ascending=False).head(4)\n",
   "execution_count": null,
   "outputs": [
    {
     "output_type": "execute_result",
     "execution_count": 14,
     "data": {
      "application/vnd.deepnote.dataframe.v2+json": {
       "row_count": 4,
       "column_count": 9,
       "columns": [
        {
         "name": "preg",
         "dtype": "int64",
         "stats": {
          "unique_count": 4,
          "nan_count": 0,
          "min": "7",
          "max": "12",
          "histogram": [
           {
            "bin_start": 7,
            "bin_end": 7.5,
            "count": 1
           },
           {
            "bin_start": 7.5,
            "bin_end": 8,
            "count": 0
           },
           {
            "bin_start": 8,
            "bin_end": 8.5,
            "count": 1
           },
           {
            "bin_start": 8.5,
            "bin_end": 9,
            "count": 0
           },
           {
            "bin_start": 9,
            "bin_end": 9.5,
            "count": 1
           },
           {
            "bin_start": 9.5,
            "bin_end": 10,
            "count": 0
           },
           {
            "bin_start": 10,
            "bin_end": 10.5,
            "count": 0
           },
           {
            "bin_start": 10.5,
            "bin_end": 11,
            "count": 0
           },
           {
            "bin_start": 11,
            "bin_end": 11.5,
            "count": 0
           },
           {
            "bin_start": 11.5,
            "bin_end": 12,
            "count": 1
           }
          ]
         }
        },
        {
         "name": "plas",
         "dtype": "int64",
         "stats": {
          "unique_count": 4,
          "nan_count": 0,
          "min": "140",
          "max": "196",
          "histogram": [
           {
            "bin_start": 140,
            "bin_end": 145.6,
            "count": 1
           },
           {
            "bin_start": 145.6,
            "bin_end": 151.2,
            "count": 1
           },
           {
            "bin_start": 151.2,
            "bin_end": 156.8,
            "count": 0
           },
           {
            "bin_start": 156.8,
            "bin_end": 162.4,
            "count": 0
           },
           {
            "bin_start": 162.4,
            "bin_end": 168,
            "count": 0
           },
           {
            "bin_start": 168,
            "bin_end": 173.6,
            "count": 1
           },
           {
            "bin_start": 173.6,
            "bin_end": 179.2,
            "count": 0
           },
           {
            "bin_start": 179.2,
            "bin_end": 184.8,
            "count": 0
           },
           {
            "bin_start": 184.8,
            "bin_end": 190.4,
            "count": 0
           },
           {
            "bin_start": 190.4,
            "bin_end": 196,
            "count": 1
           }
          ]
         }
        },
        {
         "name": "pres",
         "dtype": "int64",
         "stats": {
          "unique_count": 4,
          "nan_count": 0,
          "min": "76",
          "max": "110",
          "histogram": [
           {
            "bin_start": 76,
            "bin_end": 79.4,
            "count": 2
           },
           {
            "bin_start": 79.4,
            "bin_end": 82.8,
            "count": 1
           },
           {
            "bin_start": 82.8,
            "bin_end": 86.2,
            "count": 0
           },
           {
            "bin_start": 86.2,
            "bin_end": 89.6,
            "count": 0
           },
           {
            "bin_start": 89.6,
            "bin_end": 93,
            "count": 0
           },
           {
            "bin_start": 93,
            "bin_end": 96.4,
            "count": 0
           },
           {
            "bin_start": 96.4,
            "bin_end": 99.8,
            "count": 0
           },
           {
            "bin_start": 99.8,
            "bin_end": 103.2,
            "count": 0
           },
           {
            "bin_start": 103.2,
            "bin_end": 106.6,
            "count": 0
           },
           {
            "bin_start": 106.6,
            "bin_end": 110,
            "count": 1
           }
          ]
         }
        },
        {
         "name": "skin",
         "dtype": "int64",
         "stats": {
          "unique_count": 3,
          "nan_count": 0,
          "min": "24",
          "max": "43",
          "histogram": [
           {
            "bin_start": 24,
            "bin_end": 25.9,
            "count": 1
           },
           {
            "bin_start": 25.9,
            "bin_end": 27.8,
            "count": 0
           },
           {
            "bin_start": 27.8,
            "bin_end": 29.7,
            "count": 2
           },
           {
            "bin_start": 29.7,
            "bin_end": 31.6,
            "count": 0
           },
           {
            "bin_start": 31.6,
            "bin_end": 33.5,
            "count": 0
           },
           {
            "bin_start": 33.5,
            "bin_end": 35.4,
            "count": 0
           },
           {
            "bin_start": 35.4,
            "bin_end": 37.3,
            "count": 0
           },
           {
            "bin_start": 37.3,
            "bin_end": 39.2,
            "count": 0
           },
           {
            "bin_start": 39.2,
            "bin_end": 41.099999999999994,
            "count": 0
           },
           {
            "bin_start": 41.099999999999994,
            "bin_end": 43,
            "count": 1
           }
          ]
         }
        },
        {
         "name": "test",
         "dtype": "int64",
         "stats": {
          "unique_count": 4,
          "nan_count": 0,
          "min": "126",
          "max": "325",
          "histogram": [
           {
            "bin_start": 126,
            "bin_end": 145.9,
            "count": 1
           },
           {
            "bin_start": 145.9,
            "bin_end": 165.8,
            "count": 0
           },
           {
            "bin_start": 165.8,
            "bin_end": 185.7,
            "count": 0
           },
           {
            "bin_start": 185.7,
            "bin_end": 205.6,
            "count": 0
           },
           {
            "bin_start": 205.6,
            "bin_end": 225.5,
            "count": 0
           },
           {
            "bin_start": 225.5,
            "bin_end": 245.39999999999998,
            "count": 1
           },
           {
            "bin_start": 245.39999999999998,
            "bin_end": 265.29999999999995,
            "count": 0
           },
           {
            "bin_start": 265.29999999999995,
            "bin_end": 285.2,
            "count": 1
           },
           {
            "bin_start": 285.2,
            "bin_end": 305.1,
            "count": 0
           },
           {
            "bin_start": 305.1,
            "bin_end": 325,
            "count": 1
           }
          ]
         }
        },
        {
         "name": "mass",
         "dtype": "float64",
         "stats": {
          "unique_count": 4,
          "nan_count": 0,
          "min": "35.2",
          "max": "45.4",
          "histogram": [
           {
            "bin_start": 35.2,
            "bin_end": 36.22,
            "count": 1
           },
           {
            "bin_start": 36.22,
            "bin_end": 37.24,
            "count": 0
           },
           {
            "bin_start": 37.24,
            "bin_end": 38.260000000000005,
            "count": 1
           },
           {
            "bin_start": 38.260000000000005,
            "bin_end": 39.28,
            "count": 1
           },
           {
            "bin_start": 39.28,
            "bin_end": 40.3,
            "count": 0
           },
           {
            "bin_start": 40.3,
            "bin_end": 41.32,
            "count": 0
           },
           {
            "bin_start": 41.32,
            "bin_end": 42.34,
            "count": 0
           },
           {
            "bin_start": 42.34,
            "bin_end": 43.36,
            "count": 0
           },
           {
            "bin_start": 43.36,
            "bin_end": 44.379999999999995,
            "count": 0
           },
           {
            "bin_start": 44.379999999999995,
            "bin_end": 45.4,
            "count": 1
           }
          ]
         }
        },
        {
         "name": "pedi",
         "dtype": "float64",
         "stats": {
          "unique_count": 4,
          "nan_count": 0,
          "min": "0.528",
          "max": "0.721",
          "histogram": [
           {
            "bin_start": 0.528,
            "bin_end": 0.5473,
            "count": 1
           },
           {
            "bin_start": 0.5473,
            "bin_end": 0.5666,
            "count": 0
           },
           {
            "bin_start": 0.5666,
            "bin_end": 0.5859,
            "count": 0
           },
           {
            "bin_start": 0.5859,
            "bin_end": 0.6052,
            "count": 1
           },
           {
            "bin_start": 0.6052,
            "bin_end": 0.6245,
            "count": 0
           },
           {
            "bin_start": 0.6245,
            "bin_end": 0.6437999999999999,
            "count": 0
           },
           {
            "bin_start": 0.6437999999999999,
            "bin_end": 0.6631,
            "count": 0
           },
           {
            "bin_start": 0.6631,
            "bin_end": 0.6824,
            "count": 0
           },
           {
            "bin_start": 0.6824,
            "bin_end": 0.7017,
            "count": 1
           },
           {
            "bin_start": 0.7017,
            "bin_end": 0.721,
            "count": 1
           }
          ]
         }
        },
        {
         "name": "age",
         "dtype": "int64",
         "stats": {
          "unique_count": 3,
          "nan_count": 0,
          "min": "54",
          "max": "58",
          "histogram": [
           {
            "bin_start": 54,
            "bin_end": 54.4,
            "count": 2
           },
           {
            "bin_start": 54.4,
            "bin_end": 54.8,
            "count": 0
           },
           {
            "bin_start": 54.8,
            "bin_end": 55.2,
            "count": 0
           },
           {
            "bin_start": 55.2,
            "bin_end": 55.6,
            "count": 0
           },
           {
            "bin_start": 55.6,
            "bin_end": 56,
            "count": 0
           },
           {
            "bin_start": 56,
            "bin_end": 56.4,
            "count": 0
           },
           {
            "bin_start": 56.4,
            "bin_end": 56.8,
            "count": 0
           },
           {
            "bin_start": 56.8,
            "bin_end": 57.2,
            "count": 1
           },
           {
            "bin_start": 57.2,
            "bin_end": 57.6,
            "count": 0
           },
           {
            "bin_start": 57.6,
            "bin_end": 58,
            "count": 1
           }
          ]
         }
        },
        {
         "name": "class",
         "dtype": "int64",
         "stats": {
          "unique_count": 1,
          "nan_count": 0,
          "min": "1",
          "max": "1",
          "histogram": [
           {
            "bin_start": 0.5,
            "bin_end": 0.6,
            "count": 0
           },
           {
            "bin_start": 0.6,
            "bin_end": 0.7,
            "count": 0
           },
           {
            "bin_start": 0.7,
            "bin_end": 0.8,
            "count": 0
           },
           {
            "bin_start": 0.8,
            "bin_end": 0.9,
            "count": 0
           },
           {
            "bin_start": 0.9,
            "bin_end": 1,
            "count": 0
           },
           {
            "bin_start": 1,
            "bin_end": 1.1,
            "count": 4
           },
           {
            "bin_start": 1.1,
            "bin_end": 1.2000000000000002,
            "count": 0
           },
           {
            "bin_start": 1.2000000000000002,
            "bin_end": 1.3,
            "count": 0
           },
           {
            "bin_start": 1.3,
            "bin_end": 1.4,
            "count": 0
           },
           {
            "bin_start": 1.4,
            "bin_end": 1.5,
            "count": 0
           }
          ]
         }
        },
        {
         "name": "_deepnote_index_column",
         "dtype": "int64"
        }
       ],
       "rows_top": [
        {
         "preg": 12,
         "plas": 140,
         "pres": 82,
         "skin": 43,
         "test": 325,
         "mass": 39.2,
         "pedi": 0.528,
         "age": 58,
         "class": 1,
         "_deepnote_index_column": 375
        },
        {
         "preg": 8,
         "plas": 196,
         "pres": 76,
         "skin": 29,
         "test": 280,
         "mass": 37.5,
         "pedi": 0.605,
         "age": 57,
         "class": 1,
         "_deepnote_index_column": 206
        },
        {
         "preg": 9,
         "plas": 171,
         "pres": 110,
         "skin": 24,
         "test": 240,
         "mass": 45.4,
         "pedi": 0.721,
         "age": 54,
         "class": 1,
         "_deepnote_index_column": 43
        },
        {
         "preg": 7,
         "plas": 150,
         "pres": 78,
         "skin": 29,
         "test": 126,
         "mass": 35.2,
         "pedi": 0.692,
         "age": 54,
         "class": 1,
         "_deepnote_index_column": 603
        }
       ],
       "rows_bottom": null
      },
      "text/plain": "     preg  plas  pres  skin  test  mass   pedi  age  class\n375    12   140    82    43   325  39.2  0.528   58      1\n206     8   196    76    29   280  37.5  0.605   57      1\n43      9   171   110    24   240  45.4  0.721   54      1\n603     7   150    78    29   126  35.2  0.692   54      1",
      "text/html": "<div>\n<style scoped>\n    .dataframe tbody tr th:only-of-type {\n        vertical-align: middle;\n    }\n\n    .dataframe tbody tr th {\n        vertical-align: top;\n    }\n\n    .dataframe thead th {\n        text-align: right;\n    }\n</style>\n<table border=\"1\" class=\"dataframe\">\n  <thead>\n    <tr style=\"text-align: right;\">\n      <th></th>\n      <th>preg</th>\n      <th>plas</th>\n      <th>pres</th>\n      <th>skin</th>\n      <th>test</th>\n      <th>mass</th>\n      <th>pedi</th>\n      <th>age</th>\n      <th>class</th>\n    </tr>\n  </thead>\n  <tbody>\n    <tr>\n      <th>375</th>\n      <td>12</td>\n      <td>140</td>\n      <td>82</td>\n      <td>43</td>\n      <td>325</td>\n      <td>39.2</td>\n      <td>0.528</td>\n      <td>58</td>\n      <td>1</td>\n    </tr>\n    <tr>\n      <th>206</th>\n      <td>8</td>\n      <td>196</td>\n      <td>76</td>\n      <td>29</td>\n      <td>280</td>\n      <td>37.5</td>\n      <td>0.605</td>\n      <td>57</td>\n      <td>1</td>\n    </tr>\n    <tr>\n      <th>43</th>\n      <td>9</td>\n      <td>171</td>\n      <td>110</td>\n      <td>24</td>\n      <td>240</td>\n      <td>45.4</td>\n      <td>0.721</td>\n      <td>54</td>\n      <td>1</td>\n    </tr>\n    <tr>\n      <th>603</th>\n      <td>7</td>\n      <td>150</td>\n      <td>78</td>\n      <td>29</td>\n      <td>126</td>\n      <td>35.2</td>\n      <td>0.692</td>\n      <td>54</td>\n      <td>1</td>\n    </tr>\n  </tbody>\n</table>\n</div>"
     },
     "metadata": {}
    }
   ]
  },
  {
   "cell_type": "markdown",
   "source": "Now find the smallest 4 values for `\"pedi\"` and `\"plas\"` in reverse order (smallest to largest).",
   "metadata": {
    "colab_type": "text",
    "id": "fJRwe8UfqvNG",
    "cell_id": "00028-3da3d25f-5918-444f-afa5-7623842794cb",
    "deepnote_cell_type": "markdown"
   }
  },
  {
   "cell_type": "code",
   "metadata": {
    "colab_type": "code",
    "id": "icQcbPg1quNI",
    "colab": {},
    "deepnote_to_be_reexecuted": false,
    "source_hash": "34493a6a",
    "execution_start": 1625628247344,
    "execution_millis": 12,
    "cell_id": "00029-f2497e5c-7d1d-492e-ace8-ba777d4254b8",
    "deepnote_cell_type": "code"
   },
   "source": "# YOUR CODE HERE\nabove_mean_df.sort_values(['pedi', 'plas']).head(4)",
   "execution_count": null,
   "outputs": [
    {
     "output_type": "execute_result",
     "execution_count": 15,
     "data": {
      "application/vnd.deepnote.dataframe.v2+json": {
       "row_count": 4,
       "column_count": 9,
       "columns": [
        {
         "name": "preg",
         "dtype": "int64",
         "stats": {
          "unique_count": 4,
          "nan_count": 0,
          "min": "7",
          "max": "12",
          "histogram": [
           {
            "bin_start": 7,
            "bin_end": 7.5,
            "count": 1
           },
           {
            "bin_start": 7.5,
            "bin_end": 8,
            "count": 0
           },
           {
            "bin_start": 8,
            "bin_end": 8.5,
            "count": 1
           },
           {
            "bin_start": 8.5,
            "bin_end": 9,
            "count": 0
           },
           {
            "bin_start": 9,
            "bin_end": 9.5,
            "count": 0
           },
           {
            "bin_start": 9.5,
            "bin_end": 10,
            "count": 0
           },
           {
            "bin_start": 10,
            "bin_end": 10.5,
            "count": 0
           },
           {
            "bin_start": 10.5,
            "bin_end": 11,
            "count": 0
           },
           {
            "bin_start": 11,
            "bin_end": 11.5,
            "count": 1
           },
           {
            "bin_start": 11.5,
            "bin_end": 12,
            "count": 1
           }
          ]
         }
        },
        {
         "name": "plas",
         "dtype": "int64",
         "stats": {
          "unique_count": 4,
          "nan_count": 0,
          "min": "138",
          "max": "181",
          "histogram": [
           {
            "bin_start": 138,
            "bin_end": 142.3,
            "count": 2
           },
           {
            "bin_start": 142.3,
            "bin_end": 146.6,
            "count": 0
           },
           {
            "bin_start": 146.6,
            "bin_end": 150.9,
            "count": 0
           },
           {
            "bin_start": 150.9,
            "bin_end": 155.2,
            "count": 1
           },
           {
            "bin_start": 155.2,
            "bin_end": 159.5,
            "count": 0
           },
           {
            "bin_start": 159.5,
            "bin_end": 163.8,
            "count": 0
           },
           {
            "bin_start": 163.8,
            "bin_end": 168.1,
            "count": 0
           },
           {
            "bin_start": 168.1,
            "bin_end": 172.4,
            "count": 0
           },
           {
            "bin_start": 172.4,
            "bin_end": 176.7,
            "count": 0
           },
           {
            "bin_start": 176.7,
            "bin_end": 181,
            "count": 1
           }
          ]
         }
        },
        {
         "name": "pres",
         "dtype": "int64",
         "stats": {
          "unique_count": 4,
          "nan_count": 0,
          "min": "74",
          "max": "84",
          "histogram": [
           {
            "bin_start": 74,
            "bin_end": 75,
            "count": 1
           },
           {
            "bin_start": 75,
            "bin_end": 76,
            "count": 0
           },
           {
            "bin_start": 76,
            "bin_end": 77,
            "count": 0
           },
           {
            "bin_start": 77,
            "bin_end": 78,
            "count": 0
           },
           {
            "bin_start": 78,
            "bin_end": 79,
            "count": 1
           },
           {
            "bin_start": 79,
            "bin_end": 80,
            "count": 0
           },
           {
            "bin_start": 80,
            "bin_end": 81,
            "count": 0
           },
           {
            "bin_start": 81,
            "bin_end": 82,
            "count": 0
           },
           {
            "bin_start": 82,
            "bin_end": 83,
            "count": 1
           },
           {
            "bin_start": 83,
            "bin_end": 84,
            "count": 1
           }
          ]
         }
        },
        {
         "name": "skin",
         "dtype": "int64",
         "stats": {
          "unique_count": 4,
          "nan_count": 0,
          "min": "21",
          "max": "43",
          "histogram": [
           {
            "bin_start": 21,
            "bin_end": 23.2,
            "count": 1
           },
           {
            "bin_start": 23.2,
            "bin_end": 25.4,
            "count": 0
           },
           {
            "bin_start": 25.4,
            "bin_end": 27.6,
            "count": 1
           },
           {
            "bin_start": 27.6,
            "bin_end": 29.8,
            "count": 0
           },
           {
            "bin_start": 29.8,
            "bin_end": 32,
            "count": 0
           },
           {
            "bin_start": 32,
            "bin_end": 34.2,
            "count": 1
           },
           {
            "bin_start": 34.2,
            "bin_end": 36.400000000000006,
            "count": 0
           },
           {
            "bin_start": 36.400000000000006,
            "bin_end": 38.6,
            "count": 0
           },
           {
            "bin_start": 38.6,
            "bin_end": 40.8,
            "count": 0
           },
           {
            "bin_start": 40.8,
            "bin_end": 43,
            "count": 1
           }
          ]
         }
        },
        {
         "name": "test",
         "dtype": "int64",
         "stats": {
          "unique_count": 4,
          "nan_count": 0,
          "min": "144",
          "max": "325",
          "histogram": [
           {
            "bin_start": 144,
            "bin_end": 162.1,
            "count": 1
           },
           {
            "bin_start": 162.1,
            "bin_end": 180.2,
            "count": 0
           },
           {
            "bin_start": 180.2,
            "bin_end": 198.3,
            "count": 1
           },
           {
            "bin_start": 198.3,
            "bin_end": 216.4,
            "count": 1
           },
           {
            "bin_start": 216.4,
            "bin_end": 234.5,
            "count": 0
           },
           {
            "bin_start": 234.5,
            "bin_end": 252.60000000000002,
            "count": 0
           },
           {
            "bin_start": 252.60000000000002,
            "bin_end": 270.70000000000005,
            "count": 0
           },
           {
            "bin_start": 270.70000000000005,
            "bin_end": 288.8,
            "count": 0
           },
           {
            "bin_start": 288.8,
            "bin_end": 306.9,
            "count": 0
           },
           {
            "bin_start": 306.9,
            "bin_end": 325,
            "count": 1
           }
          ]
         }
        },
        {
         "name": "mass",
         "dtype": "float64",
         "stats": {
          "unique_count": 4,
          "nan_count": 0,
          "min": "35.9",
          "max": "42.9",
          "histogram": [
           {
            "bin_start": 35.9,
            "bin_end": 36.6,
            "count": 2
           },
           {
            "bin_start": 36.6,
            "bin_end": 37.3,
            "count": 0
           },
           {
            "bin_start": 37.3,
            "bin_end": 38,
            "count": 0
           },
           {
            "bin_start": 38,
            "bin_end": 38.699999999999996,
            "count": 0
           },
           {
            "bin_start": 38.699999999999996,
            "bin_end": 39.4,
            "count": 1
           },
           {
            "bin_start": 39.4,
            "bin_end": 40.099999999999994,
            "count": 0
           },
           {
            "bin_start": 40.099999999999994,
            "bin_end": 40.8,
            "count": 0
           },
           {
            "bin_start": 40.8,
            "bin_end": 41.5,
            "count": 0
           },
           {
            "bin_start": 41.5,
            "bin_end": 42.199999999999996,
            "count": 0
           },
           {
            "bin_start": 42.199999999999996,
            "bin_end": 42.9,
            "count": 1
           }
          ]
         }
        },
        {
         "name": "pedi",
         "dtype": "float64",
         "stats": {
          "unique_count": 4,
          "nan_count": 0,
          "min": "0.516",
          "max": "0.586",
          "histogram": [
           {
            "bin_start": 0.516,
            "bin_end": 0.523,
            "count": 1
           },
           {
            "bin_start": 0.523,
            "bin_end": 0.53,
            "count": 1
           },
           {
            "bin_start": 0.53,
            "bin_end": 0.537,
            "count": 0
           },
           {
            "bin_start": 0.537,
            "bin_end": 0.544,
            "count": 0
           },
           {
            "bin_start": 0.544,
            "bin_end": 0.5509999999999999,
            "count": 0
           },
           {
            "bin_start": 0.5509999999999999,
            "bin_end": 0.5579999999999999,
            "count": 1
           },
           {
            "bin_start": 0.5579999999999999,
            "bin_end": 0.565,
            "count": 0
           },
           {
            "bin_start": 0.565,
            "bin_end": 0.572,
            "count": 0
           },
           {
            "bin_start": 0.572,
            "bin_end": 0.579,
            "count": 0
           },
           {
            "bin_start": 0.579,
            "bin_end": 0.586,
            "count": 1
           }
          ]
         }
        },
        {
         "name": "age",
         "dtype": "int64",
         "stats": {
          "unique_count": 4,
          "nan_count": 0,
          "min": "36",
          "max": "58",
          "histogram": [
           {
            "bin_start": 36,
            "bin_end": 38.2,
            "count": 1
           },
           {
            "bin_start": 38.2,
            "bin_end": 40.4,
            "count": 0
           },
           {
            "bin_start": 40.4,
            "bin_end": 42.6,
            "count": 0
           },
           {
            "bin_start": 42.6,
            "bin_end": 44.8,
            "count": 0
           },
           {
            "bin_start": 44.8,
            "bin_end": 47,
            "count": 0
           },
           {
            "bin_start": 47,
            "bin_end": 49.2,
            "count": 0
           },
           {
            "bin_start": 49.2,
            "bin_end": 51.400000000000006,
            "count": 2
           },
           {
            "bin_start": 51.400000000000006,
            "bin_end": 53.6,
            "count": 0
           },
           {
            "bin_start": 53.6,
            "bin_end": 55.8,
            "count": 0
           },
           {
            "bin_start": 55.8,
            "bin_end": 58,
            "count": 1
           }
          ]
         }
        },
        {
         "name": "class",
         "dtype": "int64",
         "stats": {
          "unique_count": 1,
          "nan_count": 0,
          "min": "1",
          "max": "1",
          "histogram": [
           {
            "bin_start": 0.5,
            "bin_end": 0.6,
            "count": 0
           },
           {
            "bin_start": 0.6,
            "bin_end": 0.7,
            "count": 0
           },
           {
            "bin_start": 0.7,
            "bin_end": 0.8,
            "count": 0
           },
           {
            "bin_start": 0.8,
            "bin_end": 0.9,
            "count": 0
           },
           {
            "bin_start": 0.9,
            "bin_end": 1,
            "count": 0
           },
           {
            "bin_start": 1,
            "bin_end": 1.1,
            "count": 4
           },
           {
            "bin_start": 1.1,
            "bin_end": 1.2000000000000002,
            "count": 0
           },
           {
            "bin_start": 1.2000000000000002,
            "bin_end": 1.3,
            "count": 0
           },
           {
            "bin_start": 1.3,
            "bin_end": 1.4,
            "count": 0
           },
           {
            "bin_start": 1.4,
            "bin_end": 1.5,
            "count": 0
           }
          ]
         }
        },
        {
         "name": "_deepnote_index_column",
         "dtype": "int64"
        }
       ],
       "rows_top": [
        {
         "preg": 8,
         "plas": 151,
         "pres": 78,
         "skin": 32,
         "test": 210,
         "mass": 42.9,
         "pedi": 0.516,
         "age": 36,
         "class": 1,
         "_deepnote_index_column": 424
        },
        {
         "preg": 12,
         "plas": 140,
         "pres": 82,
         "skin": 43,
         "test": 325,
         "mass": 39.2,
         "pedi": 0.528,
         "age": 58,
         "class": 1,
         "_deepnote_index_column": 375
        },
        {
         "preg": 11,
         "plas": 138,
         "pres": 74,
         "skin": 26,
         "test": 144,
         "mass": 36.1,
         "pedi": 0.557,
         "age": 50,
         "class": 1,
         "_deepnote_index_column": 614
        },
        {
         "preg": 7,
         "plas": 181,
         "pres": 84,
         "skin": 21,
         "test": 192,
         "mass": 35.9,
         "pedi": 0.586,
         "age": 51,
         "class": 1,
         "_deepnote_index_column": 236
        }
       ],
       "rows_bottom": null
      },
      "text/plain": "     preg  plas  pres  skin  test  mass   pedi  age  class\n424     8   151    78    32   210  42.9  0.516   36      1\n375    12   140    82    43   325  39.2  0.528   58      1\n614    11   138    74    26   144  36.1  0.557   50      1\n236     7   181    84    21   192  35.9  0.586   51      1",
      "text/html": "<div>\n<style scoped>\n    .dataframe tbody tr th:only-of-type {\n        vertical-align: middle;\n    }\n\n    .dataframe tbody tr th {\n        vertical-align: top;\n    }\n\n    .dataframe thead th {\n        text-align: right;\n    }\n</style>\n<table border=\"1\" class=\"dataframe\">\n  <thead>\n    <tr style=\"text-align: right;\">\n      <th></th>\n      <th>preg</th>\n      <th>plas</th>\n      <th>pres</th>\n      <th>skin</th>\n      <th>test</th>\n      <th>mass</th>\n      <th>pedi</th>\n      <th>age</th>\n      <th>class</th>\n    </tr>\n  </thead>\n  <tbody>\n    <tr>\n      <th>424</th>\n      <td>8</td>\n      <td>151</td>\n      <td>78</td>\n      <td>32</td>\n      <td>210</td>\n      <td>42.9</td>\n      <td>0.516</td>\n      <td>36</td>\n      <td>1</td>\n    </tr>\n    <tr>\n      <th>375</th>\n      <td>12</td>\n      <td>140</td>\n      <td>82</td>\n      <td>43</td>\n      <td>325</td>\n      <td>39.2</td>\n      <td>0.528</td>\n      <td>58</td>\n      <td>1</td>\n    </tr>\n    <tr>\n      <th>614</th>\n      <td>11</td>\n      <td>138</td>\n      <td>74</td>\n      <td>26</td>\n      <td>144</td>\n      <td>36.1</td>\n      <td>0.557</td>\n      <td>50</td>\n      <td>1</td>\n    </tr>\n    <tr>\n      <th>236</th>\n      <td>7</td>\n      <td>181</td>\n      <td>84</td>\n      <td>21</td>\n      <td>192</td>\n      <td>35.9</td>\n      <td>0.586</td>\n      <td>51</td>\n      <td>1</td>\n    </tr>\n  </tbody>\n</table>\n</div>"
     },
     "metadata": {}
    }
   ]
  },
  {
   "cell_type": "code",
   "metadata": {
    "tags": [],
    "deepnote_to_be_reexecuted": false,
    "source_hash": "b623e53d",
    "execution_start": 1625628247346,
    "cell_id": "00030-f5f9717c-246b-48b0-9043-f1eb386a586f",
    "execution_millis": 0,
    "deepnote_cell_type": "code"
   },
   "source": "",
   "execution_count": null,
   "outputs": []
  },
  {
   "cell_type": "markdown",
   "source": "<a style='text-decoration:none;line-height:16px;display:flex;color:#5B5B62;padding:10px;justify-content:end;' href='https://deepnote.com?utm_source=created-in-deepnote-cell&projectId=867a077d-cc4a-444a-b148-d2ffaf2ad44b' target=\"_blank\">\n<img alt='Created in deepnote.com' style='display:inline;max-height:16px;margin:0px;margin-right:7.5px;' src='data:image/svg+xml;base64,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' > </img>\nCreated in <span style='font-weight:600;margin-left:4px;'>Deepnote</span></a>",
   "metadata": {
    "tags": [],
    "created_in_deepnote_cell": true,
    "deepnote_cell_type": "markdown"
   }
  }
 ],
 "nbformat": 4,
 "nbformat_minor": 0,
 "metadata": {
  "colab": {
   "name": "Pandas_Exercises",
   "provenance": [],
   "collapsed_sections": []
  },
  "kernelspec": {
   "display_name": "Python 3",
   "language": "python",
   "name": "python3"
  },
  "language_info": {
   "codemirror_mode": {
    "name": "ipython",
    "version": 3
   },
   "file_extension": ".py",
   "mimetype": "text/x-python",
   "name": "python",
   "nbconvert_exporter": "python",
   "pygments_lexer": "ipython3",
   "version": "3.7.3"
  },
  "deepnote_notebook_id": "c90875d5-751c-46b7-b4fb-672764d5e27b",
  "deepnote": {},
  "deepnote_execution_queue": []
 }
}