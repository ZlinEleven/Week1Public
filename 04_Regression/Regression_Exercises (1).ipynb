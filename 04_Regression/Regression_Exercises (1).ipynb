{
 "cells": [
  {
   "cell_type": "markdown",
   "source": "# Regression Exercises",
   "metadata": {
    "colab_type": "text",
    "id": "xTfQvqbXr9G1",
    "cell_id": "00000-9e74e71d-2ff2-4300-aa3f-95ea5f7a8afd",
    "deepnote_cell_type": "markdown"
   }
  },
  {
   "cell_type": "markdown",
   "source": "## Linear",
   "metadata": {
    "id": "RAgvxOf_qm9m",
    "colab_type": "text",
    "cell_id": "00001-0a6a4a13-c822-4edb-a8c6-4e15af92fcd7",
    "deepnote_cell_type": "markdown"
   }
  },
  {
   "cell_type": "code",
   "metadata": {
    "colab_type": "code",
    "id": "VohVqdqmr9G3",
    "colab": {},
    "deepnote_to_be_reexecuted": false,
    "source_hash": "660a1a5e",
    "execution_start": 1625670745680,
    "execution_millis": 1357,
    "cell_id": "00002-3fb0be83-25ef-4378-8883-6df7d321a34e",
    "deepnote_cell_type": "code"
   },
   "source": "# Loading data\nimport pandas as pd\nimport numpy as np\nfrom matplotlib import pyplot as plt\n\n# Read data from Github\ndata_url = \"https://raw.githubusercontent.com/BeaverWorksMedlytics2020/Data_Public/master/NotebookExampleData/Week1/ex1data2.txt\"\ndata_array = np.genfromtxt(data_url, delimiter=',')\n\n# The columns in this data set are define as folows:\n\"\"\"\n    0 = floor area\n    1 = number of bedrooms\n    2 = sale price\n\"\"\"\n    \n# Store the relevant columns in more descriptive variables\nx_sqft = data_array[:,0]\ny_value = data_array[:,2]\n\nlen(x_sqft)",
   "execution_count": null,
   "outputs": []
  },
  {
   "cell_type": "markdown",
   "source": "Here we'll build off of the tutorial exercise, first finding the best linear fit for floor area (sqft) vs valued price (USD). Recall that setting the derivative = 0 and solving for 𝑏 & 𝑚 produces formula for the best fit trend:\n$$ m = \\frac{\\sum^n_{i=1} (x_i-x_{mean})(y_i-y_{mean})}{\\sum^n_{i=1} (x_i-x_{mean})^2} $$\n$$ b = y_{mean}-m*x_{mean} $$",
   "metadata": {
    "colab_type": "text",
    "id": "bubHPtJ5r9G-",
    "cell_id": "00003-759f19ff-77c4-4cd1-aa6f-60a81163b739",
    "deepnote_cell_type": "markdown"
   }
  },
  {
   "cell_type": "code",
   "metadata": {
    "colab_type": "code",
    "id": "HaPeEPN8r9HA",
    "colab": {},
    "deepnote_to_be_reexecuted": false,
    "source_hash": "9bb63eb8",
    "execution_start": 1625670747091,
    "execution_millis": 4,
    "cell_id": "00004-2e1c7472-ce1a-4086-95b8-048cd4442a08",
    "deepnote_cell_type": "code"
   },
   "source": "def find_best_fit(xx,yy):\n    '''\n      This function finds the best linear fit for yy vs xx\n    '''\n  \n    # YOUR CODE HERE\n    x_bar = xx.mean()\n    y_bar = yy.mean()\n\n    n = 0\n    d = 0\n    for i in range(len(xx)):\n      n += (xx[i] - x_bar) * (yy[i] - y_bar)\n      d += (xx[i] - x_bar) ** 2\n\n    m = n / d\n    b = y_bar - m * x_bar \n\n    return (m, b)",
   "execution_count": null,
   "outputs": []
  },
  {
   "cell_type": "code",
   "metadata": {
    "colab_type": "code",
    "id": "mfZ7t4F9r9HH",
    "colab": {},
    "deepnote_to_be_reexecuted": false,
    "source_hash": "9b2b15d2",
    "execution_start": 1625670747104,
    "execution_millis": 31,
    "cell_id": "00005-d7bca117-7caa-4856-9be4-7a6b2097d94e",
    "deepnote_cell_type": "code"
   },
   "source": "# Use your function to show the best fit values for our data\n(mm, bb) = find_best_fit(x_sqft, y_value)\nfit_str = 'y = {aa:.1f}x + {bb:.1f}'\nprint(fit_str.format(aa=mm,bb=bb))",
   "execution_count": null,
   "outputs": [
    {
     "name": "stdout",
     "text": "y = 134.5x + 71270.5\n",
     "output_type": "stream"
    }
   ]
  },
  {
   "cell_type": "markdown",
   "source": "Now we have the best fit trend line that minimizes total error for our data, let's try plotting it and see what it looks like. Since its just an equation, we need to *sample* the curve in order to plot it. To do this, we'll find the difference between the largest and smallest floor area, and divide it into 100 sample points.",
   "metadata": {
    "colab_type": "text",
    "id": "jVYEfrpsr9HN",
    "cell_id": "00006-4d5ced02-fb07-4d6e-8a70-a9598e569dc1",
    "deepnote_cell_type": "markdown"
   }
  },
  {
   "cell_type": "code",
   "metadata": {
    "colab_type": "code",
    "id": "dZARuzL7r9HO",
    "colab": {},
    "deepnote_to_be_reexecuted": false,
    "source_hash": "7c214051",
    "execution_start": 1625670747119,
    "execution_millis": 273,
    "cell_id": "00007-eb4a8996-1f1d-4440-b052-ee068205165e",
    "deepnote_cell_type": "code"
   },
   "source": "# Plot the data\nplt.scatter(x_sqft, y_value)\n\n# Sample the range from minimum to maximum sqft to get 100 points\n\nx_sample = np.linspace(min(x_sqft), max(x_sqft), num = 100)\n# Apply the best fit equation to each sample point and plot the result\n\ny_sample = mm * x_sample + bb \nplt.plot(x_sample, y_sample, 'r')",
   "execution_count": null,
   "outputs": [
    {
     "output_type": "execute_result",
     "execution_count": 4,
     "data": {
      "text/plain": "[<matplotlib.lines.Line2D at 0x7fa21d1857d0>]"
     },
     "metadata": {}
    },
    {
     "data": {
      "text/plain": "<Figure size 432x288 with 1 Axes>",
      "image/png": "[encoded data removed]"
     },
     "metadata": {
      "needs_background": "light",
      "image/png": {
       "width": 393,
       "height": 248
      }
     },
     "output_type": "display_data"
    }
   ]
  },
  {
   "cell_type": "markdown",
   "source": "1: Given these parameters, how much should a house with 1600 sqft cost?\n\n(YOUR ANSWER HERE)",
   "metadata": {
    "colab_type": "text",
    "id": "ywlWE2xtr9HU",
    "cell_id": "00008-874d20db-9f9a-404c-b2e9-c51cbf1b5bfa",
    "deepnote_cell_type": "markdown"
   }
  },
  {
   "cell_type": "code",
   "metadata": {
    "tags": [],
    "deepnote_to_be_reexecuted": false,
    "source_hash": "fab9cf36",
    "execution_start": 1625670747427,
    "execution_millis": 27,
    "cell_id": "00009-7c9286cd-ffc0-47ac-9773-dbca54ab3728",
    "deepnote_cell_type": "code"
   },
   "source": "predicted = mm * (1600) + bb\nprint(predicted)",
   "execution_count": null,
   "outputs": [
    {
     "name": "stdout",
     "text": "286510.9528011152\n",
     "output_type": "stream"
    }
   ]
  },
  {
   "cell_type": "markdown",
   "source": "2: From the dataset, how much did a house with 1600 sqft actually cost?\n\n(YOUR ANSWER HERE)",
   "metadata": {
    "colab_type": "text",
    "id": "J4rZ9L_Rr9HV",
    "cell_id": "00010-045f33a0-cd6c-4ff4-8070-4a4af857e0cc",
    "deepnote_cell_type": "markdown"
   }
  },
  {
   "cell_type": "code",
   "metadata": {
    "tags": [],
    "deepnote_to_be_reexecuted": false,
    "source_hash": "2472494b",
    "execution_start": 1625670747427,
    "execution_millis": 27,
    "cell_id": "00011-37803584-ab8b-4d11-8711-255df923c7c3",
    "deepnote_cell_type": "code"
   },
   "source": "res = {x_sqft[i]: y_value[i] for i in range(len(y_value))}\nreal = res[1600]\nprint(real)\nres",
   "execution_count": null,
   "outputs": [
    {
     "name": "stdout",
     "text": "329900.0\n",
     "output_type": "stream"
    },
    {
     "output_type": "execute_result",
     "execution_count": 6,
     "data": {
      "text/plain": "{2104.0: 399900.0,\n 1600.0: 329900.0,\n 2400.0: 369000.0,\n 1416.0: 232000.0,\n 3000.0: 539900.0,\n 1985.0: 299900.0,\n 1534.0: 314900.0,\n 1427.0: 198999.0,\n 1380.0: 212000.0,\n 1494.0: 242500.0,\n 1940.0: 239999.0,\n 2000.0: 347000.0,\n 1890.0: 329999.0,\n 4478.0: 699900.0,\n 1268.0: 259900.0,\n 2300.0: 449900.0,\n 1320.0: 299900.0,\n 1236.0: 199900.0,\n 2609.0: 499998.0,\n 3031.0: 599000.0,\n 1767.0: 252900.0,\n 1888.0: 255000.0,\n 1604.0: 242900.0,\n 1962.0: 259900.0,\n 3890.0: 573900.0,\n 1100.0: 249900.0,\n 1458.0: 464500.0,\n 2526.0: 469000.0,\n 2200.0: 475000.0,\n 2637.0: 299900.0,\n 1839.0: 349900.0,\n 1000.0: 169900.0,\n 2040.0: 314900.0,\n 3137.0: 579900.0,\n 1811.0: 285900.0,\n 1437.0: 249900.0,\n 1239.0: 229900.0,\n 2132.0: 345000.0,\n 4215.0: 549000.0,\n 2162.0: 287000.0,\n 1664.0: 368500.0,\n 2238.0: 329900.0,\n 2567.0: 314000.0,\n 1200.0: 299000.0,\n 852.0: 179900.0,\n 1852.0: 299900.0,\n 1203.0: 239500.0}"
     },
     "metadata": {}
    }
   ]
  },
  {
   "cell_type": "markdown",
   "source": "3: Assuming the current 1600 sqft house would sell for as much as the historical one, how much money would we have lost? What percentage of the total price is this?\n\n(YOUR ANSWER HERE)",
   "metadata": {
    "colab_type": "text",
    "id": "KTZMjw7rr9HW",
    "cell_id": "00012-09bb2663-493f-4a5f-97f6-f2543c4fca85",
    "deepnote_cell_type": "markdown"
   }
  },
  {
   "cell_type": "code",
   "metadata": {
    "tags": [],
    "deepnote_to_be_reexecuted": false,
    "source_hash": "fa2ad0a",
    "execution_start": 1625670747428,
    "execution_millis": 26,
    "cell_id": "00013-d5270dde-679d-4af7-a7bd-f366caf42314",
    "deepnote_cell_type": "code"
   },
   "source": "loss = real - predicted\nprecent = loss/real * 100\n\n\nprint(loss, precent)",
   "execution_count": null,
   "outputs": [
    {
     "name": "stdout",
     "text": "43389.04719888477 13.152181630459161\n",
     "output_type": "stream"
    }
   ]
  },
  {
   "cell_type": "markdown",
   "source": "Now compare the values for 𝑚 and 𝑏 that sklearn generated in the tutorial notebook with the values that you found just now with your function. Hopefully they match.",
   "metadata": {
    "colab_type": "text",
    "id": "UN9zGe6Mr9HY",
    "cell_id": "00014-e3b6449a-27be-4155-8472-02c25fd9f2c9",
    "deepnote_cell_type": "markdown"
   }
  },
  {
   "cell_type": "code",
   "metadata": {
    "colab_type": "code",
    "id": "CDw75BJrr9HZ",
    "colab": {},
    "deepnote_to_be_reexecuted": false,
    "source_hash": "87c966f2",
    "execution_start": 1625670747439,
    "execution_millis": 1,
    "cell_id": "00015-88dd4144-ac63-4088-8ac6-2eb06e401a03",
    "deepnote_cell_type": "code"
   },
   "source": "print(\"Sklearn:\",134.52528772, 71270.492448729)\nprint(\"My function:\",mm,bb)",
   "execution_count": null,
   "outputs": [
    {
     "name": "stdout",
     "text": "Sklearn: 134.52528772 71270.492448729\nMy function: 134.52528772024135 71270.49244872906\n",
     "output_type": "stream"
    }
   ]
  },
  {
   "cell_type": "markdown",
   "source": "---\nRemember how despite adding an entire new variable, the $R^2$ value barely increased? Let's investigate this further by finding the correlation ($R^2$) value for a regression of square footage vs. number of bedrooms.",
   "metadata": {
    "colab_type": "text",
    "id": "L5R8SjF9r9Hf",
    "cell_id": "00016-795895c5-bb9a-4861-ad04-deed20fe27c0",
    "deepnote_cell_type": "markdown"
   }
  },
  {
   "cell_type": "code",
   "metadata": {
    "colab_type": "code",
    "id": "gMPm_HXgr9Hg",
    "colab": {},
    "deepnote_to_be_reexecuted": false,
    "source_hash": "a2dd98c",
    "execution_start": 1625670747505,
    "execution_millis": 1408,
    "cell_id": "00017-5c0214ea-1f09-4992-a535-5dab983d0127",
    "deepnote_cell_type": "code"
   },
   "source": "import sklearn.linear_model as lm\n\n# YOUR CODE HERE\nmodel = lm.LinearRegression()\n\nx_sqft_shaped = x_sqft.reshape(-1,1)\ny_bedrooms = data_array[:,1]\n\n# Fit onto the results\nhousepredictor = model.fit(x_sqft_shaped,y_bedrooms)\nhousepredictor.score(x_sqft_shaped,y_bedrooms)",
   "execution_count": null,
   "outputs": [
    {
     "output_type": "execute_result",
     "execution_count": 9,
     "data": {
      "text/plain": "0.3135632699338188"
     },
     "metadata": {}
    }
   ]
  },
  {
   "cell_type": "markdown",
   "source": "Do 2 variables have to be verry correlated to reduce their effectiveness together?\n\n(YOUR ANSWER HERE)",
   "metadata": {
    "colab_type": "text",
    "id": "7QT8aPEQr9Hl",
    "cell_id": "00018-7719c7f9-16e5-480b-9d2d-2902773e58e7",
    "deepnote_cell_type": "markdown"
   }
  },
  {
   "cell_type": "markdown",
   "source": "## Logistic",
   "metadata": {
    "colab_type": "text",
    "id": "HY_jT1uksAYu",
    "cell_id": "00019-6321dcca-6f6a-4df5-96e8-0aca5e810c19",
    "deepnote_cell_type": "markdown"
   }
  },
  {
   "cell_type": "markdown",
   "source": "We are going to predict wheter or not someone has breast cancer using Logistic Regression on sklearn's breast cancer dataset. It is up to you to decide what features to get the best results.",
   "metadata": {
    "id": "bTR7FOhdqm_e",
    "colab_type": "text",
    "cell_id": "00020-e8dc4b41-f9be-434d-989b-8a9202c8715d",
    "deepnote_cell_type": "markdown"
   }
  },
  {
   "cell_type": "code",
   "metadata": {
    "colab_type": "code",
    "id": "Pg6kfm6VAdhN",
    "colab": {},
    "deepnote_to_be_reexecuted": false,
    "source_hash": "9aae1c",
    "execution_start": 1625670748917,
    "execution_millis": 847,
    "cell_id": "00021-83a5bc7b-a708-4dd4-a6e5-2d70d1e2f147",
    "deepnote_cell_type": "code"
   },
   "source": "from sklearn.datasets import load_breast_cancer\nfrom sklearn.model_selection import train_test_split\nfrom sklearn.linear_model import LogisticRegression\nfrom sklearn.metrics import accuracy_score\n\ndata = load_breast_cancer()\ndf= pd.DataFrame(data=data['data'], columns=data['feature_names'])\n\nfor i in range(len(data['feature_names'])):\n\n    X_cols = [data['feature_names'][i]]\n    y_col = 'target'\n\n    print(X_cols)\n\n    # YOUR CODE HERE\n    test_size = 0.15\n    X_train, X_val, y_train, y_val = train_test_split(df[X_cols], data[y_col], test_size=test_size, random_state=1)\n\n    logreg = LogisticRegression()\n    logreg.fit(X_train, y_train)\n\n    y_train_pred=logreg.predict(X_train)\n    print(\"Training Accuracy is \", accuracy_score(y_train, y_train_pred)*100)\n    y_val_pred=logreg.predict(X_val)\n    print(\"Validation Accuracy is \", accuracy_score(y_val,y_val_pred)*100)",
   "execution_count": null,
   "outputs": [
    {
     "name": "stdout",
     "text": "['mean radius']\nTraining Accuracy is  87.5776397515528\nValidation Accuracy is  89.53488372093024\n['mean texture']\nTraining Accuracy is  69.77225672877847\nValidation Accuracy is  68.6046511627907\n['mean perimeter']\nTraining Accuracy is  88.81987577639751\nValidation Accuracy is  87.20930232558139\n['mean area']\nTraining Accuracy is  88.40579710144928\nValidation Accuracy is  89.53488372093024\n['mean smoothness']\nTraining Accuracy is  63.14699792960663\nValidation Accuracy is  60.46511627906976\n['mean compactness']\nTraining Accuracy is  68.32298136645963\nValidation Accuracy is  66.27906976744185\n['mean concavity']\nTraining Accuracy is  79.5031055900621\nValidation Accuracy is  72.09302325581395\n['mean concave points']\nTraining Accuracy is  66.87370600414079\nValidation Accuracy is  63.95348837209303\n['mean symmetry']\nTraining Accuracy is  63.14699792960663\nValidation Accuracy is  60.46511627906976\n['mean fractal dimension']\nTraining Accuracy is  63.14699792960663\nValidation Accuracy is  60.46511627906976\n['radius error']\nTraining Accuracy is  81.15942028985508\nValidation Accuracy is  74.4186046511628\n['texture error']\nTraining Accuracy is  63.14699792960663\nValidation Accuracy is  60.46511627906976\n['perimeter error']\nTraining Accuracy is  81.36645962732919\nValidation Accuracy is  72.09302325581395\n['area error']\nTraining Accuracy is  87.5776397515528\nValidation Accuracy is  81.3953488372093\n['smoothness error']\nTraining Accuracy is  63.14699792960663\nValidation Accuracy is  60.46511627906976\n['compactness error']\nTraining Accuracy is  63.14699792960663\nValidation Accuracy is  60.46511627906976\n['concavity error']\nTraining Accuracy is  62.939958592132506\nValidation Accuracy is  60.46511627906976\n['concave points error']\nTraining Accuracy is  63.14699792960663\nValidation Accuracy is  60.46511627906976\n['symmetry error']\nTraining Accuracy is  63.14699792960663\nValidation Accuracy is  60.46511627906976\n['fractal dimension error']\nTraining Accuracy is  63.14699792960663\nValidation Accuracy is  60.46511627906976\n['worst radius']\nTraining Accuracy is  91.30434782608695\nValidation Accuracy is  93.02325581395348\n['worst texture']\nTraining Accuracy is  72.67080745341616\nValidation Accuracy is  74.4186046511628\n['worst perimeter']\nTraining Accuracy is  91.92546583850931\nValidation Accuracy is  90.69767441860465\n['worst area']\nTraining Accuracy is  91.09730848861284\nValidation Accuracy is  91.86046511627907\n['worst smoothness']\nTraining Accuracy is  63.14699792960663\nValidation Accuracy is  60.46511627906976\n['worst compactness']\nTraining Accuracy is  80.33126293995859\nValidation Accuracy is  70.93023255813954\n['worst concavity']\nTraining Accuracy is  84.472049689441\nValidation Accuracy is  77.90697674418605\n['worst concave points']\nTraining Accuracy is  81.78053830227742\nValidation Accuracy is  73.25581395348837\n['worst symmetry']\nTraining Accuracy is  66.45962732919256\nValidation Accuracy is  66.27906976744185\n['worst fractal dimension']\nTraining Accuracy is  63.14699792960663\nValidation Accuracy is  60.46511627906976\n",
     "output_type": "stream"
    }
   ]
  },
  {
   "cell_type": "markdown",
   "source": "Test your logistical regression! You must get an accuracy of > 80%",
   "metadata": {
    "colab_type": "text",
    "id": "kUZXPX46CUS9",
    "cell_id": "00022-51493e0c-5b5b-4494-8ebe-7ffbad5ea6d6",
    "deepnote_cell_type": "markdown"
   }
  },
  {
   "cell_type": "markdown",
   "source": "<a style='text-decoration:none;line-height:16px;display:flex;color:#5B5B62;padding:10px;justify-content:end;' href='https://deepnote.com?utm_source=created-in-deepnote-cell&projectId=867a077d-cc4a-444a-b148-d2ffaf2ad44b' target=\"_blank\">\n<img alt='Created in deepnote.com' style='display:inline;max-height:16px;margin:0px;margin-right:7.5px;' src='data:image/svg+xml;base64,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' > </img>\nCreated in <span style='font-weight:600;margin-left:4px;'>Deepnote</span></a>",
   "metadata": {
    "tags": [],
    "created_in_deepnote_cell": true,
    "deepnote_cell_type": "markdown"
   }
  }
 ],
 "nbformat": 4,
 "nbformat_minor": 0,
 "metadata": {
  "colab": {
   "name": "Regression_Exercises",
   "provenance": []
  },
  "kernelspec": {
   "display_name": "Python 3",
   "language": "python",
   "name": "python3"
  },
  "language_info": {
   "codemirror_mode": {
    "name": "ipython",
    "version": 3
   },
   "file_extension": ".py",
   "mimetype": "text/x-python",
   "name": "python",
   "nbconvert_exporter": "python",
   "pygments_lexer": "ipython3",
   "version": "3.7.3"
  },
  "deepnote_notebook_id": "2c257e7f-ce0e-4976-afb2-38093d1de5c8",
  "deepnote": {},
  "deepnote_execution_queue": []
 }
}