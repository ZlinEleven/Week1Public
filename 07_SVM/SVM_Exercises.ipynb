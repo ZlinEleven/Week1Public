{
 "cells": [
  {
   "cell_type": "markdown",
   "source": "# SVM Exercises",
   "metadata": {
    "colab_type": "text",
    "id": "-UimMCmGe19F",
    "cell_id": "00000-5fb60405-7278-4857-8f1c-83bb20c68574",
    "deepnote_cell_type": "markdown"
   }
  },
  {
   "cell_type": "code",
   "metadata": {
    "colab_type": "code",
    "id": "kedW02LgKjVL",
    "colab": {},
    "cell_id": "00001-e1a4c03d-1183-4e13-9038-a7bab56993a8",
    "deepnote_to_be_reexecuted": false,
    "source_hash": "e026d9ad",
    "execution_start": 1625685191660,
    "execution_millis": 3298,
    "deepnote_cell_type": "code"
   },
   "source": "import numpy as np\nimport pandas as pd\nfrom sklearn.model_selection import train_test_split\nimport matplotlib.pyplot as plt\n\nfrom sklearn import svm\nfrom sklearn.metrics import accuracy_score\nfrom sklearn.svm import SVC\nfrom sklearn import metrics",
   "outputs": [],
   "execution_count": null
  },
  {
   "cell_type": "markdown",
   "source": "Load Pima diabetes dataset",
   "metadata": {
    "id": "RxeCyhoaTAQC",
    "colab_type": "text",
    "cell_id": "00002-6549e6ea-d8ee-496c-9ca2-d38022789760",
    "deepnote_cell_type": "markdown"
   }
  },
  {
   "cell_type": "code",
   "metadata": {
    "colab_type": "code",
    "id": "Ydh9gmDkMGmu",
    "colab": {},
    "cell_id": "00003-87baad52-5175-4fb5-ae95-5c4802dd342d",
    "deepnote_to_be_reexecuted": false,
    "source_hash": "4429987",
    "execution_start": 1625685194974,
    "execution_millis": 168,
    "deepnote_cell_type": "code"
   },
   "source": "url = \"https://raw.githubusercontent.com/BeaverWorksMedlytics2020/Data_Public/master/NotebookExampleData/Week1/diabetes.csv\"\nnames = ['preg', 'plas', 'pres', 'skin', 'test', 'mass', 'pedi', 'age', 'class']\n\ndata = pd.read_csv(url, names=names)\n\n# Dropping NaN rows\ninvalid = ['plas', 'pres', 'skin', 'test', 'mass']\n\nfor i in invalid:\n    data[i].replace(to_replace=0, value=np.nan, inplace=True)\n    \ndata = data.dropna(axis=0).reset_index(drop=True)\n\ndata.head()",
   "outputs": [
    {
     "output_type": "execute_result",
     "execution_count": 2,
     "data": {
      "application/vnd.deepnote.dataframe.v2+json": {
       "row_count": 5,
       "column_count": 9,
       "columns": [
        {
         "name": "preg",
         "dtype": "int64",
         "stats": {
          "unique_count": 4,
          "nan_count": 0,
          "min": "0",
          "max": "3",
          "histogram": [
           {
            "bin_start": 0,
            "bin_end": 0.3,
            "count": 1
           },
           {
            "bin_start": 0.3,
            "bin_end": 0.6,
            "count": 0
           },
           {
            "bin_start": 0.6,
            "bin_end": 0.8999999999999999,
            "count": 0
           },
           {
            "bin_start": 0.8999999999999999,
            "bin_end": 1.2,
            "count": 2
           },
           {
            "bin_start": 1.2,
            "bin_end": 1.5,
            "count": 0
           },
           {
            "bin_start": 1.5,
            "bin_end": 1.7999999999999998,
            "count": 0
           },
           {
            "bin_start": 1.7999999999999998,
            "bin_end": 2.1,
            "count": 1
           },
           {
            "bin_start": 2.1,
            "bin_end": 2.4,
            "count": 0
           },
           {
            "bin_start": 2.4,
            "bin_end": 2.6999999999999997,
            "count": 0
           },
           {
            "bin_start": 2.6999999999999997,
            "bin_end": 3,
            "count": 1
           }
          ]
         }
        },
        {
         "name": "plas",
         "dtype": "float64",
         "stats": {
          "unique_count": 5,
          "nan_count": 0,
          "min": "78.0",
          "max": "197.0",
          "histogram": [
           {
            "bin_start": 78,
            "bin_end": 89.9,
            "count": 2
           },
           {
            "bin_start": 89.9,
            "bin_end": 101.8,
            "count": 0
           },
           {
            "bin_start": 101.8,
            "bin_end": 113.7,
            "count": 0
           },
           {
            "bin_start": 113.7,
            "bin_end": 125.6,
            "count": 0
           },
           {
            "bin_start": 125.6,
            "bin_end": 137.5,
            "count": 1
           },
           {
            "bin_start": 137.5,
            "bin_end": 149.4,
            "count": 0
           },
           {
            "bin_start": 149.4,
            "bin_end": 161.3,
            "count": 0
           },
           {
            "bin_start": 161.3,
            "bin_end": 173.2,
            "count": 0
           },
           {
            "bin_start": 173.2,
            "bin_end": 185.10000000000002,
            "count": 0
           },
           {
            "bin_start": 185.10000000000002,
            "bin_end": 197,
            "count": 2
           }
          ]
         }
        },
        {
         "name": "pres",
         "dtype": "float64",
         "stats": {
          "unique_count": 5,
          "nan_count": 0,
          "min": "40.0",
          "max": "70.0",
          "histogram": [
           {
            "bin_start": 40,
            "bin_end": 43,
            "count": 1
           },
           {
            "bin_start": 43,
            "bin_end": 46,
            "count": 0
           },
           {
            "bin_start": 46,
            "bin_end": 49,
            "count": 0
           },
           {
            "bin_start": 49,
            "bin_end": 52,
            "count": 1
           },
           {
            "bin_start": 52,
            "bin_end": 55,
            "count": 0
           },
           {
            "bin_start": 55,
            "bin_end": 58,
            "count": 0
           },
           {
            "bin_start": 58,
            "bin_end": 61,
            "count": 1
           },
           {
            "bin_start": 61,
            "bin_end": 64,
            "count": 0
           },
           {
            "bin_start": 64,
            "bin_end": 67,
            "count": 1
           },
           {
            "bin_start": 67,
            "bin_end": 70,
            "count": 1
           }
          ]
         }
        },
        {
         "name": "skin",
         "dtype": "float64",
         "stats": {
          "unique_count": 4,
          "nan_count": 0,
          "min": "23.0",
          "max": "45.0",
          "histogram": [
           {
            "bin_start": 23,
            "bin_end": 25.2,
            "count": 2
           },
           {
            "bin_start": 25.2,
            "bin_end": 27.4,
            "count": 0
           },
           {
            "bin_start": 27.4,
            "bin_end": 29.6,
            "count": 0
           },
           {
            "bin_start": 29.6,
            "bin_end": 31.8,
            "count": 0
           },
           {
            "bin_start": 31.8,
            "bin_end": 34,
            "count": 1
           },
           {
            "bin_start": 34,
            "bin_end": 36.2,
            "count": 1
           },
           {
            "bin_start": 36.2,
            "bin_end": 38.400000000000006,
            "count": 0
           },
           {
            "bin_start": 38.400000000000006,
            "bin_end": 40.6,
            "count": 0
           },
           {
            "bin_start": 40.6,
            "bin_end": 42.8,
            "count": 0
           },
           {
            "bin_start": 42.8,
            "bin_end": 45,
            "count": 1
           }
          ]
         }
        },
        {
         "name": "test",
         "dtype": "float64",
         "stats": {
          "unique_count": 5,
          "nan_count": 0,
          "min": "88.0",
          "max": "846.0",
          "histogram": [
           {
            "bin_start": 88,
            "bin_end": 163.8,
            "count": 2
           },
           {
            "bin_start": 163.8,
            "bin_end": 239.6,
            "count": 1
           },
           {
            "bin_start": 239.6,
            "bin_end": 315.4,
            "count": 0
           },
           {
            "bin_start": 315.4,
            "bin_end": 391.2,
            "count": 0
           },
           {
            "bin_start": 391.2,
            "bin_end": 467,
            "count": 0
           },
           {
            "bin_start": 467,
            "bin_end": 542.8,
            "count": 0
           },
           {
            "bin_start": 542.8,
            "bin_end": 618.6,
            "count": 1
           },
           {
            "bin_start": 618.6,
            "bin_end": 694.4,
            "count": 0
           },
           {
            "bin_start": 694.4,
            "bin_end": 770.1999999999999,
            "count": 0
           },
           {
            "bin_start": 770.1999999999999,
            "bin_end": 846,
            "count": 1
           }
          ]
         }
        },
        {
         "name": "mass",
         "dtype": "float64",
         "stats": {
          "unique_count": 5,
          "nan_count": 0,
          "min": "28.1",
          "max": "43.1",
          "histogram": [
           {
            "bin_start": 28.1,
            "bin_end": 29.6,
            "count": 1
           },
           {
            "bin_start": 29.6,
            "bin_end": 31.1,
            "count": 3
           },
           {
            "bin_start": 31.1,
            "bin_end": 32.6,
            "count": 0
           },
           {
            "bin_start": 32.6,
            "bin_end": 34.1,
            "count": 0
           },
           {
            "bin_start": 34.1,
            "bin_end": 35.6,
            "count": 0
           },
           {
            "bin_start": 35.6,
            "bin_end": 37.1,
            "count": 0
           },
           {
            "bin_start": 37.1,
            "bin_end": 38.6,
            "count": 0
           },
           {
            "bin_start": 38.6,
            "bin_end": 40.1,
            "count": 0
           },
           {
            "bin_start": 40.1,
            "bin_end": 41.6,
            "count": 0
           },
           {
            "bin_start": 41.6,
            "bin_end": 43.1,
            "count": 1
           }
          ]
         }
        },
        {
         "name": "pedi",
         "dtype": "float64",
         "stats": {
          "unique_count": 5,
          "nan_count": 0,
          "min": "0.158",
          "max": "2.288",
          "histogram": [
           {
            "bin_start": 0.158,
            "bin_end": 0.371,
            "count": 3
           },
           {
            "bin_start": 0.371,
            "bin_end": 0.584,
            "count": 1
           },
           {
            "bin_start": 0.584,
            "bin_end": 0.797,
            "count": 0
           },
           {
            "bin_start": 0.797,
            "bin_end": 1.01,
            "count": 0
           },
           {
            "bin_start": 1.01,
            "bin_end": 1.2229999999999999,
            "count": 0
           },
           {
            "bin_start": 1.2229999999999999,
            "bin_end": 1.436,
            "count": 0
           },
           {
            "bin_start": 1.436,
            "bin_end": 1.6489999999999998,
            "count": 0
           },
           {
            "bin_start": 1.6489999999999998,
            "bin_end": 1.8619999999999999,
            "count": 0
           },
           {
            "bin_start": 1.8619999999999999,
            "bin_end": 2.075,
            "count": 0
           },
           {
            "bin_start": 2.075,
            "bin_end": 2.288,
            "count": 1
           }
          ]
         }
        },
        {
         "name": "age",
         "dtype": "int64",
         "stats": {
          "unique_count": 5,
          "nan_count": 0,
          "min": "21",
          "max": "59",
          "histogram": [
           {
            "bin_start": 21,
            "bin_end": 24.8,
            "count": 1
           },
           {
            "bin_start": 24.8,
            "bin_end": 28.6,
            "count": 1
           },
           {
            "bin_start": 28.6,
            "bin_end": 32.4,
            "count": 0
           },
           {
            "bin_start": 32.4,
            "bin_end": 36.2,
            "count": 1
           },
           {
            "bin_start": 36.2,
            "bin_end": 40,
            "count": 0
           },
           {
            "bin_start": 40,
            "bin_end": 43.8,
            "count": 0
           },
           {
            "bin_start": 43.8,
            "bin_end": 47.599999999999994,
            "count": 0
           },
           {
            "bin_start": 47.599999999999994,
            "bin_end": 51.4,
            "count": 0
           },
           {
            "bin_start": 51.4,
            "bin_end": 55.199999999999996,
            "count": 1
           },
           {
            "bin_start": 55.199999999999996,
            "bin_end": 59,
            "count": 1
           }
          ]
         }
        },
        {
         "name": "class",
         "dtype": "int64",
         "stats": {
          "unique_count": 2,
          "nan_count": 0,
          "min": "0",
          "max": "1",
          "histogram": [
           {
            "bin_start": 0,
            "bin_end": 0.1,
            "count": 1
           },
           {
            "bin_start": 0.1,
            "bin_end": 0.2,
            "count": 0
           },
           {
            "bin_start": 0.2,
            "bin_end": 0.30000000000000004,
            "count": 0
           },
           {
            "bin_start": 0.30000000000000004,
            "bin_end": 0.4,
            "count": 0
           },
           {
            "bin_start": 0.4,
            "bin_end": 0.5,
            "count": 0
           },
           {
            "bin_start": 0.5,
            "bin_end": 0.6000000000000001,
            "count": 0
           },
           {
            "bin_start": 0.6000000000000001,
            "bin_end": 0.7000000000000001,
            "count": 0
           },
           {
            "bin_start": 0.7000000000000001,
            "bin_end": 0.8,
            "count": 0
           },
           {
            "bin_start": 0.8,
            "bin_end": 0.9,
            "count": 0
           },
           {
            "bin_start": 0.9,
            "bin_end": 1,
            "count": 4
           }
          ]
         }
        },
        {
         "name": "_deepnote_index_column",
         "dtype": "int64"
        }
       ],
       "rows_top": [
        {
         "preg": 1,
         "plas": 89,
         "pres": 66,
         "skin": 23,
         "test": 94,
         "mass": 28.1,
         "pedi": 0.167,
         "age": 21,
         "class": 0,
         "_deepnote_index_column": 0
        },
        {
         "preg": 0,
         "plas": 137,
         "pres": 40,
         "skin": 35,
         "test": 168,
         "mass": 43.1,
         "pedi": 2.288,
         "age": 33,
         "class": 1,
         "_deepnote_index_column": 1
        },
        {
         "preg": 3,
         "plas": 78,
         "pres": 50,
         "skin": 32,
         "test": 88,
         "mass": 31,
         "pedi": 0.248,
         "age": 26,
         "class": 1,
         "_deepnote_index_column": 2
        },
        {
         "preg": 2,
         "plas": 197,
         "pres": 70,
         "skin": 45,
         "test": 543,
         "mass": 30.5,
         "pedi": 0.158,
         "age": 53,
         "class": 1,
         "_deepnote_index_column": 3
        },
        {
         "preg": 1,
         "plas": 189,
         "pres": 60,
         "skin": 23,
         "test": 846,
         "mass": 30.1,
         "pedi": 0.398,
         "age": 59,
         "class": 1,
         "_deepnote_index_column": 4
        }
       ],
       "rows_bottom": null
      },
      "text/plain": "   preg   plas  pres  skin   test  mass   pedi  age  class\n0     1   89.0  66.0  23.0   94.0  28.1  0.167   21      0\n1     0  137.0  40.0  35.0  168.0  43.1  2.288   33      1\n2     3   78.0  50.0  32.0   88.0  31.0  0.248   26      1\n3     2  197.0  70.0  45.0  543.0  30.5  0.158   53      1\n4     1  189.0  60.0  23.0  846.0  30.1  0.398   59      1",
      "text/html": "<div>\n<style scoped>\n    .dataframe tbody tr th:only-of-type {\n        vertical-align: middle;\n    }\n\n    .dataframe tbody tr th {\n        vertical-align: top;\n    }\n\n    .dataframe thead th {\n        text-align: right;\n    }\n</style>\n<table border=\"1\" class=\"dataframe\">\n  <thead>\n    <tr style=\"text-align: right;\">\n      <th></th>\n      <th>preg</th>\n      <th>plas</th>\n      <th>pres</th>\n      <th>skin</th>\n      <th>test</th>\n      <th>mass</th>\n      <th>pedi</th>\n      <th>age</th>\n      <th>class</th>\n    </tr>\n  </thead>\n  <tbody>\n    <tr>\n      <th>0</th>\n      <td>1</td>\n      <td>89.0</td>\n      <td>66.0</td>\n      <td>23.0</td>\n      <td>94.0</td>\n      <td>28.1</td>\n      <td>0.167</td>\n      <td>21</td>\n      <td>0</td>\n    </tr>\n    <tr>\n      <th>1</th>\n      <td>0</td>\n      <td>137.0</td>\n      <td>40.0</td>\n      <td>35.0</td>\n      <td>168.0</td>\n      <td>43.1</td>\n      <td>2.288</td>\n      <td>33</td>\n      <td>1</td>\n    </tr>\n    <tr>\n      <th>2</th>\n      <td>3</td>\n      <td>78.0</td>\n      <td>50.0</td>\n      <td>32.0</td>\n      <td>88.0</td>\n      <td>31.0</td>\n      <td>0.248</td>\n      <td>26</td>\n      <td>1</td>\n    </tr>\n    <tr>\n      <th>3</th>\n      <td>2</td>\n      <td>197.0</td>\n      <td>70.0</td>\n      <td>45.0</td>\n      <td>543.0</td>\n      <td>30.5</td>\n      <td>0.158</td>\n      <td>53</td>\n      <td>1</td>\n    </tr>\n    <tr>\n      <th>4</th>\n      <td>1</td>\n      <td>189.0</td>\n      <td>60.0</td>\n      <td>23.0</td>\n      <td>846.0</td>\n      <td>30.1</td>\n      <td>0.398</td>\n      <td>59</td>\n      <td>1</td>\n    </tr>\n  </tbody>\n</table>\n</div>"
     },
     "metadata": {}
    }
   ],
   "execution_count": null
  },
  {
   "cell_type": "markdown",
   "source": "Split data into training, colidation, and test sets with a test size of 25%",
   "metadata": {
    "id": "1O5s3G_ncGmw",
    "colab_type": "text",
    "cell_id": "00004-4d7332bf-55df-4f12-824d-67105e182eb8",
    "deepnote_cell_type": "markdown"
   }
  },
  {
   "cell_type": "code",
   "metadata": {
    "id": "LfmYBpMicLdi",
    "colab_type": "code",
    "colab": {},
    "cell_id": "00005-48bbf6f0-23fd-4a50-a174-b677aa4b794f",
    "deepnote_to_be_reexecuted": false,
    "source_hash": "ef1bd665",
    "execution_start": 1625685195190,
    "execution_millis": 0,
    "deepnote_cell_type": "code"
   },
   "source": "X_cols = ['preg', 'plas', 'pres', 'skin', 'test', 'mass', 'pedi', 'age']\n\ny_col = 'class'\n\ntest_size = 0.25\nX_train, X_test, y_train, y_test = train_test_split(data[X_cols], data[y_col], test_size=test_size, random_state=0)\n\n# Further split X and y of training into training and validation sets\nX_train, X_val, y_train, y_val = train_test_split(X_train, y_train, test_size=test_size, random_state=0)",
   "outputs": [],
   "execution_count": null
  },
  {
   "cell_type": "markdown",
   "source": "Create a model with sklearn's SVC and a high gamma value (perhaps 1.0)",
   "metadata": {
    "id": "uluFKd1hTAQK",
    "colab_type": "text",
    "cell_id": "00006-44f6e42e-9cc2-4319-9d43-e90162df91ff",
    "deepnote_cell_type": "markdown"
   }
  },
  {
   "cell_type": "code",
   "metadata": {
    "colab_type": "code",
    "id": "9rYQecrQ8yjn",
    "colab": {},
    "cell_id": "00007-d0d2df7f-7bfb-4521-b0c5-e26a253c49cc",
    "deepnote_to_be_reexecuted": false,
    "source_hash": "2da58d94",
    "execution_start": 1625685195191,
    "execution_millis": 50,
    "deepnote_cell_type": "code"
   },
   "source": "# YOUR CODE HERE\nsvm = SVC(gamma = 1.0, C = 1)\n\nsvm.fit(X_train, y_train)",
   "outputs": [
    {
     "output_type": "execute_result",
     "execution_count": 4,
     "data": {
      "text/plain": "SVC(C=1, gamma=1.0)"
     },
     "metadata": {}
    }
   ],
   "execution_count": null
  },
  {
   "cell_type": "markdown",
   "source": "Print accuracy of training and validation data",
   "metadata": {
    "colab_type": "text",
    "id": "qdiqjUje4ll-",
    "cell_id": "00008-de3bdbfb-3102-4479-9ea0-6e6aebd95461",
    "deepnote_cell_type": "markdown"
   }
  },
  {
   "cell_type": "code",
   "metadata": {
    "colab_type": "code",
    "id": "O5LqepHk9S0M",
    "colab": {},
    "cell_id": "00009-a6920f62-16b9-4475-b658-9b716b0ee910",
    "deepnote_to_be_reexecuted": false,
    "source_hash": "7ece0f1d",
    "execution_start": 1625685195235,
    "execution_millis": 8,
    "deepnote_cell_type": "code"
   },
   "source": "# YOUR CODE HERE\ny_train_pred=svm.predict(X_train)\nprint(\"Training Accuracy is \", accuracy_score(y_train, y_train_pred)*100)\ny_val_pred=svm.predict(X_val)\nprint(\"Validation Accuracy is \", accuracy_score(y_val,y_val_pred)*100)",
   "outputs": [
    {
     "name": "stdout",
     "text": "Training Accuracy is  100.0\nValidation Accuracy is  67.56756756756756\n",
     "output_type": "stream"
    }
   ],
   "execution_count": null
  },
  {
   "cell_type": "markdown",
   "source": "Create a model with sklearn's SVC and a low gamma value (perhaps .001)",
   "metadata": {
    "colab_type": "text",
    "id": "fC7VlLtI3ZjQ",
    "cell_id": "00010-c4c59621-414c-4bf8-a2cb-952a956589e2",
    "deepnote_cell_type": "markdown"
   }
  },
  {
   "cell_type": "code",
   "metadata": {
    "colab_type": "code",
    "id": "3vVHnWuY9pFN",
    "colab": {},
    "cell_id": "00011-37f1e332-6c75-44ea-8d6e-2e56129afc42",
    "deepnote_to_be_reexecuted": false,
    "source_hash": "c8bddc7e",
    "execution_start": 1625685195238,
    "execution_millis": 19,
    "deepnote_cell_type": "code"
   },
   "source": "# YOUR CODE HERE\nsvm2 = SVC(gamma = 0.001, C = 1)\n\nsvm2.fit(X_train, y_train)",
   "outputs": [
    {
     "output_type": "execute_result",
     "execution_count": 6,
     "data": {
      "text/plain": "SVC(C=1, gamma=0.001)"
     },
     "metadata": {}
    }
   ],
   "execution_count": null
  },
  {
   "cell_type": "markdown",
   "source": "Print accuracy of training and validation data",
   "metadata": {
    "colab_type": "text",
    "id": "JQB-U50H4mIx",
    "cell_id": "00012-9d51de56-c59b-4c67-93ca-ded038549dde",
    "deepnote_cell_type": "markdown"
   }
  },
  {
   "cell_type": "code",
   "metadata": {
    "colab_type": "code",
    "id": "tr4DGB309s9a",
    "colab": {},
    "cell_id": "00013-1686ba5a-984e-4bb7-8e14-3cf4595286fe",
    "deepnote_to_be_reexecuted": false,
    "source_hash": "9a04ffde",
    "execution_start": 1625685195270,
    "execution_millis": 20,
    "deepnote_cell_type": "code"
   },
   "source": "# YOUR CODE HERE\ny_train_pred2=svm2.predict(X_train)\nprint(\"Training Accuracy is \", accuracy_score(y_train, y_train_pred2)*100)\ny_val_pred2=svm2.predict(X_val)\nprint(\"Validation Accuracy is \", accuracy_score(y_val,y_val_pred2)*100)",
   "outputs": [
    {
     "name": "stdout",
     "text": "Training Accuracy is  87.27272727272727\nValidation Accuracy is  74.32432432432432\n",
     "output_type": "stream"
    }
   ],
   "execution_count": null
  },
  {
   "cell_type": "markdown",
   "source": "Explain the accuracy results below. ",
   "metadata": {
    "colab_type": "text",
    "id": "TA9xLHAEIKXY",
    "cell_id": "00014-75e189cf-f617-40c8-b066-b058c6625cae",
    "deepnote_cell_type": "markdown"
   }
  },
  {
   "cell_type": "markdown",
   "source": "As the gamma decreased, more points were considered and generated a better overall fit. As a result, the decision boundary did not overfit the testing datas.",
   "metadata": {
    "id": "0IKjiKigeeKp",
    "colab_type": "text",
    "cell_id": "00015-c60f1422-df6e-4e9f-aef4-ba8a8cbf9465",
    "deepnote_cell_type": "markdown"
   }
  },
  {
   "cell_type": "markdown",
   "source": "Print the confusion matrices for your high and low gamma models (both numeric and visualized)",
   "metadata": {
    "id": "DxF6fUTvTAQk",
    "colab_type": "text",
    "cell_id": "00016-7b0a5607-4791-44dd-ad32-62f16f6c166f",
    "deepnote_cell_type": "markdown"
   }
  },
  {
   "cell_type": "code",
   "source": "def plot_cmatrix(cm,labels,title='Confusion Matrix'):\n  fig = plt.figure()\n  ax = fig.add_subplot(111)\n  cax = ax.matshow(cm,cmap='Reds')\n  plt.title('\\n'+title+'\\n', fontsize=20)\n  fig.colorbar(cax)\n  ax.set_xticklabels([''] + labels, fontsize=16)\n  ax.set_yticklabels([''] + labels, fontsize=16)\n  plt.xlabel('Predicted', fontsize=16)\n  plt.ylabel('True', fontsize=16)\n  plt.show()",
   "metadata": {
    "tags": [],
    "cell_id": "00017-186a4c41-dd2e-4775-b9e0-47f0673a89bd",
    "deepnote_to_be_reexecuted": false,
    "source_hash": "eb3b3275",
    "execution_start": 1625685195303,
    "execution_millis": 1,
    "deepnote_cell_type": "code"
   },
   "outputs": [],
   "execution_count": null
  },
  {
   "cell_type": "code",
   "metadata": {
    "id": "zxZeR4haTAQk",
    "colab_type": "code",
    "colab": {},
    "cell_id": "00017-eca6862f-1926-4d9e-92ca-04b168df9833",
    "deepnote_to_be_reexecuted": false,
    "source_hash": "aaceca84",
    "execution_start": 1625685433520,
    "execution_millis": 2099,
    "deepnote_cell_type": "code"
   },
   "source": "# YOUR CODE HERE\n# High gamma\nprint('High Gamma Confusion Matrix:')\nlabels = [0,1]\ncm = metrics.confusion_matrix(y_val, y_val_pred, labels)\nprint(cm)\n\n# Normalized confusion matrix\nprint('\\nHigh Gamma Normalized Confusion Matrix:')\ncm_norm = cm.astype('float') / cm.sum(axis=1)[:, np.newaxis]\nprint(cm_norm)\n\n# Low gamma\nprint('Low Gamma Confusion Matrix:')\nlabels = [0,1]\ncm2 = metrics.confusion_matrix(y_val, y_val_pred2, labels)\nprint(cm2)\n\n# Normalized confusion matrix\nprint('\\nLow GammaNormalized Confusion Matrix:')\ncm_norm2 = cm2.astype('float') / cm2.sum(axis=1)[:, np.newaxis]\nprint(cm_norm2)\n\n#Visual High Gamma\nplot_cmatrix(cm,labels, title = 'High Gamma Confusion Matrix')\nplot_cmatrix(cm_norm,labels,title='High Gamma Normalized Confusion Matrix')\n\n#Visual Low Gamma\nplot_cmatrix(cm2,labels, title = 'Low Gamma confusion Matrix')\nplot_cmatrix(cm_norm2,labels,title='Low Gamma Normalized Confusion Matrix')\n",
   "outputs": [
    {
     "name": "stdout",
     "text": "High Gamma Confusion Matrix:\n[[50  0]\n [24  0]]\n\nHigh Gamma Normalized Confusion Matrix:\n[[1. 0.]\n [1. 0.]]\nLow Gamma Confusion Matrix:\n[[48  2]\n [17  7]]\n\nLow GammaNormalized Confusion Matrix:\n[[0.96       0.04      ]\n [0.70833333 0.29166667]]\n/shared-libs/python3.7/py/lib/python3.7/site-packages/sklearn/utils/validation.py:72: FutureWarning: Pass labels=[0, 1] as keyword args. From version 1.0 (renaming of 0.25) passing these as positional arguments will result in an error\n  \"will result in an error\", FutureWarning)\n/shared-libs/python3.7/py/lib/python3.7/site-packages/sklearn/utils/validation.py:72: FutureWarning: Pass labels=[0, 1] as keyword args. From version 1.0 (renaming of 0.25) passing these as positional arguments will result in an error\n  \"will result in an error\", FutureWarning)\n/shared-libs/python3.7/py-core/lib/python3.7/site-packages/ipykernel_launcher.py:7: UserWarning: FixedFormatter should only be used together with FixedLocator\n  import sys\n/shared-libs/python3.7/py-core/lib/python3.7/site-packages/ipykernel_launcher.py:8: UserWarning: FixedFormatter should only be used together with FixedLocator\n  \n",
     "output_type": "stream"
    },
    {
     "data": {
      "text/plain": "<Figure size 432x288 with 2 Axes>",
      "image/png": "[encoded data removed]"
     },
     "metadata": {
      "needs_background": "light",
      "image/png": {
       "width": 324,
       "height": 337
      }
     },
     "output_type": "display_data"
    },
    {
     "data": {
      "text/plain": "<Figure size 432x288 with 2 Axes>",
      "image/png": "[encoded data removed]"
     },
     "metadata": {
      "needs_background": "light",
      "image/png": {
       "width": 442,
       "height": 337
      }
     },
     "output_type": "display_data"
    },
    {
     "data": {
      "text/plain": "<Figure size 432x288 with 2 Axes>",
      "image/png": "[encoded data removed]"
     },
     "metadata": {
      "needs_background": "light",
      "image/png": {
       "width": 319,
       "height": 337
      }
     },
     "output_type": "display_data"
    },
    {
     "data": {
      "text/plain": "<Figure size 432x288 with 2 Axes>",
      "image/png": "[encoded data removed]"
     },
     "metadata": {
      "needs_background": "light",
      "image/png": {
       "width": 435,
       "height": 337
      }
     },
     "output_type": "display_data"
    }
   ],
   "execution_count": null
  },
  {
   "cell_type": "code",
   "source": "",
   "metadata": {
    "tags": [],
    "cell_id": "00018-1dbe5f5b-721a-4b15-b25c-f8de4300a779",
    "deepnote_to_be_reexecuted": false,
    "source_hash": "b623e53d",
    "execution_start": 1625685196290,
    "execution_millis": 0,
    "deepnote_cell_type": "code"
   },
   "outputs": [],
   "execution_count": null
  },
  {
   "cell_type": "markdown",
   "source": "<a style='text-decoration:none;line-height:16px;display:flex;color:#5B5B62;padding:10px;justify-content:end;' href='https://deepnote.com?utm_source=created-in-deepnote-cell&projectId=867a077d-cc4a-444a-b148-d2ffaf2ad44b' target=\"_blank\">\n<img alt='Created in deepnote.com' style='display:inline;max-height:16px;margin:0px;margin-right:7.5px;' src='data:image/svg+xml;base64,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' > </img>\nCreated in <span style='font-weight:600;margin-left:4px;'>Deepnote</span></a>",
   "metadata": {
    "tags": [],
    "created_in_deepnote_cell": true,
    "deepnote_cell_type": "markdown"
   }
  }
 ],
 "nbformat": 4,
 "nbformat_minor": 0,
 "metadata": {
  "colab": {
   "name": "SVM_Exercises",
   "provenance": [],
   "collapsed_sections": []
  },
  "kernelspec": {
   "display_name": "Python 3",
   "language": "python",
   "name": "python3"
  },
  "language_info": {
   "codemirror_mode": {
    "name": "ipython",
    "version": 3
   },
   "file_extension": ".py",
   "mimetype": "text/x-python",
   "name": "python",
   "nbconvert_exporter": "python",
   "pygments_lexer": "ipython3",
   "version": "3.7.3"
  },
  "deepnote_notebook_id": "4e8b1758-74d0-49e4-b831-b29a236d2816",
  "deepnote": {},
  "deepnote_execution_queue": []
 }
}